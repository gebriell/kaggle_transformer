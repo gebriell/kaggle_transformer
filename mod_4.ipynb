{
 "metadata": {
  "kernelspec": {
   "language": "python",
   "display_name": "Python 3",
   "name": "python3"
  },
  "language_info": {
   "name": "python",
   "version": "3.10.13",
   "mimetype": "text/x-python",
   "codemirror_mode": {
    "name": "ipython",
    "version": 3
   },
   "pygments_lexer": "ipython3",
   "nbconvert_exporter": "python",
   "file_extension": ".py"
  },
  "kaggle": {
   "accelerator": "gpu",
   "dataSources": [
    {
     "sourceId": 2415872,
     "sourceType": "datasetVersion",
     "datasetId": 1461623
    }
   ],
   "dockerImageVersionId": 30665,
   "isInternetEnabled": true,
   "language": "python",
   "sourceType": "notebook",
   "isGpuEnabled": true
  }
 },
 "nbformat_minor": 4,
 "nbformat": 4,
 "cells": [
  {
   "cell_type": "markdown",
   "source": [
    "<h1 align=\"center\" style=\"color:blue;font-size: 3em;\" >Sentiment Analysis of Amazon Reviews using Transformers</h1>\n",
    "\n",
    "## This program is broken down into 3 sections:\n",
    "\n",
    "**1. We will work on data cleaning and preprocessing.**\n",
    "\n",
    "**2. We will then work on creating the sentiment analyzer and train it on the data we have preprocessed.**\n",
    "\n",
    "**3. Finally, we will evauate our model and visualize the results.**\n",
    "\n",
    "***Heads Up: Some of the cells might not have an output after they finish running. This is completely normal. You can always hover over the play button you click to run them and it will let you know if the cell has been executed and how long the process took. If there ever is an error, the cell will print out the stack trace and the issue it encountered.***"
   ],
   "metadata": {}
  },
  {
   "cell_type": "markdown",
   "source": [
    "## Let us begin by importing the necessary libraries\n",
    "\n",
    "***Heads Up: You might see a warning when importing the packages, but you may ignore this, as it won't cause any issues for our needs.***"
   ],
   "metadata": {}
  },
  {
   "cell_type": "code",
   "source": [
    "# For viewing and manipulating data\n",
    "import numpy as np # linear algebra\n",
    "import pandas as pd # data processing, CSV file I/O (e.g. pd.read_csv)\n",
    "\n",
    "# Importing the necessary libraries\n",
    "import re\n",
    "import math\n",
    "import string\n",
    "import nltk\n",
    "import torch\n",
    "import torch.nn as nn\n",
    "import torch.optim as optim\n",
    "import torch.nn.functional as F\n",
    "import gensim.downloader as api\n",
    "import matplotlib.pyplot as plt\n",
    "\n",
    "# Getting particular functions from these libraries \n",
    "from torch import Tensor\n",
    "from sklearn.utils import resample\n",
    "from gensim.models import KeyedVectors\n",
    "from sklearn.model_selection import train_test_split\n",
    "from sklearn.feature_extraction.text import CountVectorizer\n",
    "from torch.utils.data import random_split, DataLoader, TensorDataset, Dataset\n",
    "\n",
    "# Using the NLTK to tokenize the text\n",
    "from nltk.corpus import stopwords\n",
    "from nltk.stem import WordNetLemmatizer\n",
    "\n",
    "# This Python 3 environment comes with many helpful analytics libraries installed\n",
    "# It is defined by the kaggle/python Docker image: https://github.com/kaggle/docker-python\n",
    "# For example, here's several helpful packages to load\n",
    "\n",
    "# Input data files are available in the read-only \"../input/\" directory\n",
    "# For example, running this (by clicking run or pressing Shift+Enter) will list all files under the input directory\n",
    "\n",
    "import os\n",
    "for dirname, _, filenames in os.walk('/kaggle/input'):\n",
    "    for filename in filenames:\n",
    "        print(os.path.join(dirname, filename))\n",
    "\n",
    "# You can write up to 20GB to the current directory (/kaggle/working/) that gets preserved as output when you create a version using \"Save & Run All\" \n",
    "# You can also write temporary files to /kaggle/temp/, but they won't be saved outside of the current session\n",
    "VERBOSE = True\n",
    "def printv(text):\n",
    "    if VERBOSE: print('VERBOSE:', text)\n",
    "    return\n",
    "\n",
    "def showV(text):\n",
    "    '''unconditional verbose output'''\n",
    "    print('VERBOSE:', text)\n",
    "    return\n",
    "\n",
    "DEV = False # do not pring dev output\n",
    "def printd(text):\n",
    "    if DEV: print('DEV:', text)\n",
    "    return\n",
    "\n",
    "def showD(text):\n",
    "    #unconditional dev output#\n",
    "    print('DEV:', text)\n",
    "    return"
   ],
   "metadata": {
    "execution": {
     "iopub.status.busy": "2024-03-14T19:32:17.467136Z",
     "iopub.execute_input": "2024-03-14T19:32:17.468087Z",
     "iopub.status.idle": "2024-03-14T19:32:35.126011Z",
     "shell.execute_reply.started": "2024-03-14T19:32:17.468045Z",
     "shell.execute_reply": "2024-03-14T19:32:35.124805Z"
    },
    "trusted": true
   },
   "execution_count": 3,
   "outputs": [
    {
     "name": "stdout",
     "text": "/kaggle/input/Reviews.csv\n",
     "output_type": "stream"
    }
   ]
  },
  {
   "cell_type": "markdown",
   "source": [
    "**This magic command we are running below gives the notebook access to parts of the NLTK library. When ran correctly, it should unzip the wordnet file and copy over its contents.**\n",
    "\n",
    "**Please only run this command once when you start the notebook. If you run it again, it will prompt you to replace the existing files. After you run it once, you may comment it out. If you happen to run it again, and you are prompted for a response, simply stop the cell and move on to the next section.** \n"
   ],
   "metadata": {}
  },
  {
   "cell_type": "code",
   "source": [
    "## Only run once\n",
    "#>> Seems to need to be rerun after every Kaggle timeout.\n",
    "!unzip /usr/share/nltk_data/corpora/wordnet.zip -d /usr/share/nltk_data/corpora/"
   ],
   "metadata": {
    "execution": {
     "iopub.status.busy": "2024-03-14T19:32:47.958250Z",
     "iopub.execute_input": "2024-03-14T19:32:47.958941Z",
     "iopub.status.idle": "2024-03-14T19:32:49.265632Z",
     "shell.execute_reply.started": "2024-03-14T19:32:47.958907Z",
     "shell.execute_reply": "2024-03-14T19:32:49.264651Z"
    },
    "trusted": true
   },
   "execution_count": 4,
   "outputs": [
    {
     "name": "stdout",
     "text": "Archive:  /usr/share/nltk_data/corpora/wordnet.zip\n   creating: /usr/share/nltk_data/corpora/wordnet/\n  inflating: /usr/share/nltk_data/corpora/wordnet/lexnames  \n  inflating: /usr/share/nltk_data/corpora/wordnet/data.verb  \n  inflating: /usr/share/nltk_data/corpora/wordnet/index.adv  \n  inflating: /usr/share/nltk_data/corpora/wordnet/adv.exc  \n  inflating: /usr/share/nltk_data/corpora/wordnet/index.verb  \n  inflating: /usr/share/nltk_data/corpora/wordnet/cntlist.rev  \n  inflating: /usr/share/nltk_data/corpora/wordnet/data.adj  \n  inflating: /usr/share/nltk_data/corpora/wordnet/index.adj  \n  inflating: /usr/share/nltk_data/corpora/wordnet/LICENSE  \n  inflating: /usr/share/nltk_data/corpora/wordnet/citation.bib  \n  inflating: /usr/share/nltk_data/corpora/wordnet/noun.exc  \n  inflating: /usr/share/nltk_data/corpora/wordnet/verb.exc  \n  inflating: /usr/share/nltk_data/corpora/wordnet/README  \n  inflating: /usr/share/nltk_data/corpora/wordnet/index.sense  \n  inflating: /usr/share/nltk_data/corpora/wordnet/data.noun  \n  inflating: /usr/share/nltk_data/corpora/wordnet/data.adv  \n  inflating: /usr/share/nltk_data/corpora/wordnet/index.noun  \n  inflating: /usr/share/nltk_data/corpora/wordnet/adj.exc  \n",
     "output_type": "stream"
    }
   ]
  },
  {
   "cell_type": "markdown",
   "source": [
    "# Section 1: Data Cleaning and Preprocessing\n",
    "\n",
    "**One thing you will hear often when working with data is that preprocessing is the most important part. If the data is not cleaned and prepared for the model, you will always get sub-par results.**\n",
    "\n",
    "**The image below illustrate our goals for this section. It may look confusing now, but things will be clearer as we go through the section.**\n",
    "\n",
    "**For this project, we will be using over 568,000 reviews collected from Amazon. The cell below the image contains the code that will give us access to the dataset. You can also find the dataset linked here.**\n",
    "\n",
    "(Note that a word embedding is a representation of a word in an n-dimensonal vector space, n ≥ 2)\n",
    "\n",
    "[Amazon Reviews](https://www.kaggle.com/datasets/arhamrumi/amazon-product-reviews)"
   ],
   "metadata": {}
  },
  {
   "cell_type": "markdown",
   "source": [
    "![Example of Embeddings](https://www.researchgate.net/publication/340825443/figure/fig6/AS:882927785238529@1587517796128/Word-embeddings-map-words-in-a-corpus-of-text-to-vector-space-Linear-combinations-of.png)\n",
    "\n",
    "* Source: [Word embeddings map words in a corpus of text to vector space](https://figshare.com/articles/figure/Word_embeddings_map_words_in_a_corpus_of_text_to_vector_space_/12169047/1)"
   ],
   "metadata": {}
  },
  {
   "cell_type": "markdown",
   "source": [
    "**Let's access the dataset and see how many reviews we actually have.**"
   ],
   "metadata": {}
  },
  {
   "cell_type": "code",
   "source": [
    "# Load data from CSV\n",
    "#>>  3/13 needed to change the path as below\n",
    "path ='/kaggle/input/Reviews.csv'#\"/kaggle/input/amazon-product-reviews/Reviews.csv\"\n",
    "data = pd.read_csv(path) # Use pandas to analyze data\n",
    "showD('Amazon reviews loaded into Panda')"
   ],
   "metadata": {
    "execution": {
     "iopub.status.busy": "2024-03-14T19:32:55.691347Z",
     "iopub.execute_input": "2024-03-14T19:32:55.692242Z",
     "iopub.status.idle": "2024-03-14T19:33:03.912540Z",
     "shell.execute_reply.started": "2024-03-14T19:32:55.692205Z",
     "shell.execute_reply": "2024-03-14T19:33:03.911574Z"
    },
    "trusted": true
   },
   "execution_count": 5,
   "outputs": [
    {
     "name": "stdout",
     "text": "DEV: Amazon reviews loaded into Panda\n",
     "output_type": "stream"
    }
   ]
  },
  {
   "cell_type": "markdown",
   "source": [
    "**We can use the pandas object methods and fields to explore the Amazon reviews.**"
   ],
   "metadata": {}
  },
  {
   "cell_type": "code",
   "source": [
    "# print number of rows in our ratings column\n",
    "printv(f'Number of reviews: {len(data[\"Score\"])}')\n",
    "printv(f'Column names -\\n {data.columns}\\n') \n",
    "printv(f'First five rows -\\n{data.head()}')"
   ],
   "metadata": {
    "execution": {
     "iopub.status.busy": "2024-03-14T19:33:23.859500Z",
     "iopub.execute_input": "2024-03-14T19:33:23.859893Z",
     "iopub.status.idle": "2024-03-14T19:33:23.869585Z",
     "shell.execute_reply.started": "2024-03-14T19:33:23.859862Z",
     "shell.execute_reply": "2024-03-14T19:33:23.868423Z"
    },
    "trusted": true
   },
   "execution_count": 7,
   "outputs": [
    {
     "name": "stdout",
     "text": "VERBOSE: Number of reviews: 568454\nVERBOSE: Column names -\n Index(['Id', 'ProductId', 'UserId', 'ProfileName', 'HelpfulnessNumerator',\n       'HelpfulnessDenominator', 'Score', 'Time', 'Summary', 'Text'],\n      dtype='object')\n\nVERBOSE: First five rows -\n   Id   ProductId          UserId                      ProfileName  \\\n0   1  B001E4KFG0  A3SGXH7AUHU8GW                       delmartian   \n1   2  B00813GRG4  A1D87F6ZCVE5NK                           dll pa   \n2   3  B000LQOCH0   ABXLMWJIXXAIN  Natalia Corres \"Natalia Corres\"   \n3   4  B000UA0QIQ  A395BORC6FGVXV                             Karl   \n4   5  B006K2ZZ7K  A1UQRSCLF8GW1T    Michael D. Bigham \"M. Wassir\"   \n\n   HelpfulnessNumerator  HelpfulnessDenominator  Score        Time  \\\n0                     1                       1      5  1303862400   \n1                     0                       0      1  1346976000   \n2                     1                       1      4  1219017600   \n3                     3                       3      2  1307923200   \n4                     0                       0      5  1350777600   \n\n                 Summary                                               Text  \n0  Good Quality Dog Food  I have bought several of the Vitality canned d...  \n1      Not as Advertised  Product arrived labeled as Jumbo Salted Peanut...  \n2  \"Delight\" says it all  This is a confection that has been around a fe...  \n3         Cough Medicine  If you are looking for the secret ingredient i...  \n4            Great taffy  Great taffy at a great price.  There was a wid...  \n",
     "output_type": "stream"
    }
   ]
  },
  {
   "cell_type": "markdown",
   "source": [
    "**The data has 1O columns, including \"Score,\" indicating the review's sentiment, and \"Text,\" the product review the score is based on. In Machine Learning, Text would be called the FEATURE, the term for the column(s) used for inference.**\n",
    "\n",
    "\n",
    "**There is far too much data to print, but we can print the total number of reviews per rating and use the functions provided to us by matplotlib to visualize the distribution as a bar graph.**"
   ],
   "metadata": {}
  },
  {
   "cell_type": "code",
   "source": [
    "# Get count of ratings \n",
    "rating_counts = data['Score'].value_counts()\n",
    "\n",
    "# Sort counts by index ascending\n",
    "rating_counts = rating_counts.sort_index()  \n",
    "\n",
    "# Print number of reviews per rating\n",
    "#for rating, count in rating_counts.items():\n",
    "#    print(f\"{count:,} reviews with a rating score of {rating}\", \"\\n\")\n",
    "\n",
    "# Get count of ratings\n",
    "#>> Seems to work even if we do not redefine rating_count\n",
    "#>> rating_counts = data['Score'].value_counts().sort_index() \n",
    "\n",
    "# Create bar plot\n",
    "ax = rating_counts.plot(kind = 'bar')\n",
    "\n",
    "ax.set_title(\"Ratings Distribution\")\n",
    "ax.set_xlabel(\"Rating\")\n",
    "ax.set_ylabel(\"Number of Occurrences\")\n",
    "\n",
    "# Fix x-axis tick labels\n",
    "ax.set_xticklabels(ax.get_xticklabels(), rotation = 0) \n",
    "\n",
    "for rating, count in rating_counts.items():\n",
    "        print(f\"{count:,} samples from balanced data with rating {rating}\\n\")\n",
    "\n",
    "plt.show() #<< show the rating in each of the 5 categories"
   ],
   "metadata": {
    "execution": {
     "iopub.status.busy": "2024-03-14T19:33:36.706298Z",
     "iopub.execute_input": "2024-03-14T19:33:36.707006Z",
     "iopub.status.idle": "2024-03-14T19:33:37.064256Z",
     "shell.execute_reply.started": "2024-03-14T19:33:36.706974Z",
     "shell.execute_reply": "2024-03-14T19:33:37.063286Z"
    },
    "trusted": true
   },
   "execution_count": 8,
   "outputs": [
    {
     "name": "stdout",
     "text": "52,268 samples from balanced data with rating 1\n\n29,769 samples from balanced data with rating 2\n\n42,640 samples from balanced data with rating 3\n\n80,655 samples from balanced data with rating 4\n\n363,122 samples from balanced data with rating 5\n\n",
     "output_type": "stream"
    },
    {
     "output_type": "display_data",
     "data": {
      "text/plain": "<Figure size 640x480 with 1 Axes>",
      "image/png": "[encoded data removed]"
     },
     "metadata": {}
    }
   ]
  },
  {
   "cell_type": "markdown",
   "source": [
    "**The distribution is heavily skewed to the positive side, with 5 star reviews making up more than half of our dataset. While that's great for Amazon and its customers, it could bias our model and starve it of adequate negative and neutral reviews to train on.**\n",
    "\n",
    "**To work around this we balance the data. 29,769 reviewers gave products a 2, the fewest for any rating, so that is the maximum numbers of reviews we can use in each category.  Fret not, that is still a vast amount of data to work with, but we may need to reduce it even futher during development to reduce the processing load.**"
   ],
   "metadata": {}
  },
  {
   "cell_type": "code",
   "source": [
    "balanced_data_size = 1000 #<< number of reviews in each rating category\n",
    "# Specify the column for sorting and balancing\n",
    "sort_column = 'Score'  # This is one the rating column\n",
    "\n",
    "# Sort the data by the rating values\n",
    "sorted_data = data.sort_values(by = sort_column)\n",
    "\n",
    "# Create a balanced dataset with 25,000 samples from each class\n",
    "#balanced_data = sorted_data.groupby(sort_column).apply(lambda x: x.sample(n=25000))\n",
    "\n",
    "#>> DeprecationWarning: DataFrameGroupBy.apply operated on the grouping columns. \n",
    "#>> This behavior is deprecated, and in a future version of pandas the grouping \n",
    "#>> columns will be excluded from the operation. \n",
    "#>> Either pass `include_groups=False` to exclude the groupings or \n",
    "#>> explicitly select the grouping columns after groupby to silence this warning.\n",
    "#\n",
    "balanced_data = sorted_data.groupby(sort_column).apply(lambda x: x.sample(n = balanced_data_size))\n",
    "\n",
    "#>> Does this mean to reset the row numbers?? ##Columns Numbers\n",
    "balanced_data.reset_index(drop = True, inplace = True)\n",
    "\n",
    "printv(f\"The number of reviews equally distributed across all ratings is {len(balanced_data['Score'])}\")"
   ],
   "metadata": {
    "execution": {
     "iopub.status.busy": "2024-03-14T19:33:51.828478Z",
     "iopub.execute_input": "2024-03-14T19:33:51.829142Z",
     "iopub.status.idle": "2024-03-14T19:33:52.104613Z",
     "shell.execute_reply.started": "2024-03-14T19:33:51.829110Z",
     "shell.execute_reply": "2024-03-14T19:33:52.103555Z"
    },
    "trusted": true
   },
   "execution_count": 9,
   "outputs": [
    {
     "name": "stdout",
     "text": "VERBOSE: The number of reviews equally distributed across all ratings is 5000\n",
     "output_type": "stream"
    },
    {
     "name": "stderr",
     "text": "/tmp/ipykernel_34/3150970972.py:17: DeprecationWarning: DataFrameGroupBy.apply operated on the grouping columns. This behavior is deprecated, and in a future version of pandas the grouping columns will be excluded from the operation. Either pass `include_groups=False` to exclude the groupings or explicitly select the grouping columns after groupby to silence this warning.\n  balanced_data = sorted_data.groupby(sort_column).apply(lambda x: x.sample(n = balanced_data_size))\n",
     "output_type": "stream"
    }
   ]
  },
  {
   "cell_type": "markdown",
   "source": [
    "**We can use matplotlib to see that reviews are equally distributed across all rating categories in the balanced data.**"
   ],
   "metadata": {}
  },
  {
   "cell_type": "code",
   "source": [
    "# Get count of ratings\n",
    "rating_counts = balanced_data['Score'].value_counts()\n",
    "\n",
    "# Create bar plot\n",
    "ax = rating_counts.plot(kind='bar')\n",
    "\n",
    "ax.set_title(\"Ratings Distribution After Balancing\")\n",
    "ax.set_xlabel(\"Rating\")\n",
    "ax.set_ylabel(\"Number of Samples\")\n",
    "\n",
    "# Fix x-axis ticks  \n",
    "ax.set_xticklabels(ax.get_xticklabels(), rotation = 0)\n",
    "\n",
    "# Print number of reviews per rating\n",
    "\n",
    "if DEV:\n",
    "    for rating, count in rating_counts.items():\n",
    "        print(f\"{count:,} samples from balanced data with rating {rating}\\n\")\n",
    "\n",
    "plt.show()"
   ],
   "metadata": {
    "execution": {
     "iopub.status.busy": "2024-03-14T19:34:02.027376Z",
     "iopub.execute_input": "2024-03-14T19:34:02.028222Z",
     "iopub.status.idle": "2024-03-14T19:34:02.292155Z",
     "shell.execute_reply.started": "2024-03-14T19:34:02.028185Z",
     "shell.execute_reply": "2024-03-14T19:34:02.291146Z"
    },
    "trusted": true
   },
   "execution_count": 10,
   "outputs": [
    {
     "output_type": "display_data",
     "data": {
      "text/plain": "<Figure size 640x480 with 1 Axes>",
      "image/png": "[encoded data removed]"
     },
     "metadata": {}
    }
   ]
  },
  {
   "cell_type": "markdown",
   "source": [
    "**That looks much better. We see that each rating class is sufficiently represented, and we can expect to get a more well-rounded analyzer. While this is a good way to even things out, our model can still be biased due to the reviews themselves. People leave comments when they have stronger opinions about a product. This is why balancing the types of reviews we give our model is necessary, so that the model can get a complete representation of the range of opinions**\n",
    "\n",
    "**We will also encounter things like typos, improper punctuation and spacing, along with other grammatical issues. While we will leave the dataset as is for now, it is important to try other approaches to identify these issues and filter them out.**\n",
    "\n",
    "**Now that we have our dataset ready, let's get to work on preprocessing it. Our reviews contain things like punctuations that we don't need to work with. To get rid of these, we use regular expressions to filter them out, and convert every character to lowercase to achieve uniformity.**\n",
    "\n",
    "**Something else we can do is a process called Lemmatization. This is the process of replacing variants of a word by the base word itself. An example of this would be to change the words knew, knowing, and known to their base word: know. This will help us achieve better uniformity by avoiding the misplacement of a word's variants.** <span style=\"color:blue\">Do you actually use the lemmatizer?"
   ],
   "metadata": {}
  },
  {
   "cell_type": "code",
   "source": [
    "stop = stopwords.words('english') # Imported from nltk.corpus\n",
    "lem = WordNetLemmatizer()         # Imported from nltk.stem"
   ],
   "metadata": {
    "_kg_hide-input": true,
    "execution": {
     "iopub.status.busy": "2024-03-14T19:34:09.816897Z",
     "iopub.execute_input": "2024-03-14T19:34:09.817617Z",
     "iopub.status.idle": "2024-03-14T19:34:09.825828Z",
     "shell.execute_reply.started": "2024-03-14T19:34:09.817584Z",
     "shell.execute_reply": "2024-03-14T19:34:09.824928Z"
    },
    "trusted": true
   },
   "execution_count": 11,
   "outputs": []
  },
  {
   "cell_type": "code",
   "source": [
    "stop = sorted(stop) #it's easier to use if it's sorted\n",
    "showD (f'{stop}\\n')\n",
    "# No need printd (f'{lem}\\n')\n",
    "\n",
    "# test lemmatizer\n",
    "word = \"dogs\"\n",
    "lemmatized_word = lem.lemmatize(word)\n",
    "showD(f'The lemmatized version of \"{word}\" is \"{lemmatized_word}\".')"
   ],
   "metadata": {
    "execution": {
     "iopub.status.busy": "2024-03-14T19:34:38.797969Z",
     "iopub.execute_input": "2024-03-14T19:34:38.798355Z",
     "iopub.status.idle": "2024-03-14T19:34:38.804138Z",
     "shell.execute_reply.started": "2024-03-14T19:34:38.798326Z",
     "shell.execute_reply": "2024-03-14T19:34:38.803215Z"
    },
    "trusted": true
   },
   "execution_count": 13,
   "outputs": [
    {
     "name": "stdout",
     "text": "DEV: ['a', 'about', 'above', 'after', 'again', 'against', 'ain', 'all', 'am', 'an', 'and', 'any', 'are', 'aren', \"aren't\", 'as', 'at', 'be', 'because', 'been', 'before', 'being', 'below', 'between', 'both', 'but', 'by', 'can', 'couldn', \"couldn't\", 'd', 'did', 'didn', \"didn't\", 'do', 'does', 'doesn', \"doesn't\", 'doing', 'don', \"don't\", 'down', 'during', 'each', 'few', 'for', 'from', 'further', 'had', 'hadn', \"hadn't\", 'has', 'hasn', \"hasn't\", 'have', 'haven', \"haven't\", 'having', 'he', 'her', 'here', 'hers', 'herself', 'him', 'himself', 'his', 'how', 'i', 'if', 'in', 'into', 'is', 'isn', \"isn't\", 'it', \"it's\", 'its', 'itself', 'just', 'll', 'm', 'ma', 'me', 'mightn', \"mightn't\", 'more', 'most', 'mustn', \"mustn't\", 'my', 'myself', 'needn', \"needn't\", 'no', 'nor', 'not', 'now', 'o', 'of', 'off', 'on', 'once', 'only', 'or', 'other', 'our', 'ours', 'ourselves', 'out', 'over', 'own', 're', 's', 'same', 'shan', \"shan't\", 'she', \"she's\", 'should', \"should've\", 'shouldn', \"shouldn't\", 'so', 'some', 'such', 't', 'than', 'that', \"that'll\", 'the', 'their', 'theirs', 'them', 'themselves', 'then', 'there', 'these', 'they', 'this', 'those', 'through', 'to', 'too', 'under', 'until', 'up', 've', 'very', 'was', 'wasn', \"wasn't\", 'we', 'were', 'weren', \"weren't\", 'what', 'when', 'where', 'which', 'while', 'who', 'whom', 'why', 'will', 'with', 'won', \"won't\", 'wouldn', \"wouldn't\", 'y', 'you', \"you'd\", \"you'll\", \"you're\", \"you've\", 'your', 'yours', 'yourself', 'yourselves']\n\nDEV: The lemmatized version of \"dogs\" is \"dog\".\n",
     "output_type": "stream"
    }
   ]
  },
  {
   "cell_type": "markdown",
   "source": [
    "**Let's create a function that takes our reviews and returns a lemmanized, lower-case, punctuation-free version of it.** **We can then store this new version in a new column called 'CleanedReview' for easy access.**\n",
    "\n",
    "***Heads up: This cell takes a little longer to execute.***"
   ],
   "metadata": {}
  },
  {
   "cell_type": "code",
   "source": [
    "# Takes some time to run\n",
    "\n",
    "def tokenizer(text):\n",
    "    \"\"\"\n",
    "    Tokenizes a text string and removes stop words.\n",
    "\n",
    "    Args:\n",
    "        text (str): The text string to tokenize.\n",
    "\n",
    "    Returns:\n",
    "        list: The tokenized text string.\n",
    "    \"\"\"\n",
    "    text = text.lower()  # Convert text to lowercase.\n",
    "    text = re.sub(\"<.*?>\", \"\", text)  # Remove HTML tags.\n",
    "    text = re.sub('[^\\w\\s\\']+', \"\", text)  # Remove punctuation and symbols.\n",
    "    # text = text.split('\\n')  # Split text on new lines.\n",
    "    \n",
    "    #>> Have we decided not to use stop words?\n",
    "    text = [lem.lemmatize(word) for word in text.split()]#if word not in stop]  # Remove stop words. \n",
    "\n",
    "    return text\n",
    "\n",
    "# Apply the function to the Text column and store it in a new column\n",
    "balanced_data['CleanedReview'] = balanced_data['Text'].apply(tokenizer)\n",
    "\n",
    "# show that cell has finished executing\n",
    "showD(f'{tokenizer} defined, and then used to create CleanedReview column')"
   ],
   "metadata": {
    "execution": {
     "iopub.status.busy": "2024-03-14T19:34:51.165191Z",
     "iopub.execute_input": "2024-03-14T19:34:51.165952Z",
     "iopub.status.idle": "2024-03-14T19:34:53.745124Z",
     "shell.execute_reply.started": "2024-03-14T19:34:51.165920Z",
     "shell.execute_reply": "2024-03-14T19:34:53.743981Z"
    },
    "trusted": true
   },
   "execution_count": 14,
   "outputs": [
    {
     "name": "stdout",
     "text": "DEV: <function tokenizer at 0x7b018fa4f490> defined, and then used to create CleanedReview column\n",
     "output_type": "stream"
    }
   ]
  },
  {
   "cell_type": "markdown",
   "source": [
    "**Another look at the data after the addition of the CleanedReview column.**"
   ],
   "metadata": {}
  },
  {
   "cell_type": "code",
   "source": [
    "# Store the Rating column\n",
    "rating = balanced_data['Score']  \n",
    "\n",
    "# Store the CleanedReview column\n",
    "tokenized_review = balanced_data['CleanedReview']\n",
    "showD(f'specify the columns that will be used to train the classifier')"
   ],
   "metadata": {
    "execution": {
     "iopub.status.busy": "2024-03-14T19:35:03.420640Z",
     "iopub.execute_input": "2024-03-14T19:35:03.421005Z",
     "iopub.status.idle": "2024-03-14T19:35:03.426687Z",
     "shell.execute_reply.started": "2024-03-14T19:35:03.420979Z",
     "shell.execute_reply": "2024-03-14T19:35:03.425693Z"
    },
    "trusted": true
   },
   "execution_count": 15,
   "outputs": [
    {
     "name": "stdout",
     "text": "DEV: specify the columns that will be used to train the classifier\n",
     "output_type": "stream"
    }
   ]
  },
  {
   "cell_type": "markdown",
   "source": [
    "**We can see that our data now has 11 columns, with the addition of CleanReview, and that the CleanedReview column is the product review mapped to a sequence of standardized words.**"
   ],
   "metadata": {}
  },
  {
   "cell_type": "markdown",
   "source": [
    "**There are just a few more steps remaining before we can load the data. We have to tokenize the words from the reviews because neural networks, much like computers, don't really understand words. Instead, our tokenizer is going to associate every word with a number that can be used to look up the word's embeddings.**\n",
    "\n",
    "**Think of embeddings as vector representations of the word in space.**\n",
    "\n",
    "**There are many approaches we can take to vectorizing our reviews, so much so in fact that word embeddings are a big part of Natural Language Processing. Without getting too bogged down in details, some approaches use statistical approaches like bag-of-words to figure out context, and others can use neural network-based models that are trained to find features themselves.** \n",
    "\n",
    "**The quickest way would be to take an already trained tokenizer made for established transformer-based models. For example, the BertTokenizer is a tokenizer that was trained and used by BERT. BERT is a massive Transformer-based model created by Google in 2018. It was a significant achievement because it was able to perform up to 11 NLP tasks, including summarization, text-generation(think ChatGPT), and even sentiment analysis.**\n",
    "\n",
    "**Word2vec-google-news-300 is a pre-trained deep-learning word embedding model that was trained on a massive dataset of 100 billion words from the Google News corpus. The model contains 300-dimensional vectors for 3 million words and phrases. That is what we will be using for this project**\n",
    "\n",
    "**Word2Vec extracts both semantic and contextual representations of words. The semantic representation of a word captures the meaning of the word itself, while the contextual representation captures the meaning of the word in the context of the surrounding words.**\n",
    "\n",
    "**To explain what's happening in the Word2Vec embedding process:**\n",
    "\n",
    "1. **The tokenizer splits the raw text into tokens/words.**\n",
    "2. **Word2Vec has IDs that serve as indices into a lookup table that stores the vector representations, meaning that each ID corresponds to a unique vector representation in the table.**\n",
    "3. **For each token, we lookup the corresponding ID in the Word2Vec vocabulary using .key_to_index.**\n",
    "4. **This maps the tokens to existing Word2Vec IDs.**\n",
    "5. **We pass these IDs into the embedding layer.**\n",
    "6. **The embedding layer has a 300-dim vector for each ID.**\n",
    "7. **So each token gets replaced by its pre-trained 300-dim Word2Vec vector.**\n",
    "\n",
    "**To summarize:**\n",
    "\n",
    "* **Tokenizer splits text into words.**\n",
    "* **Word2Vec vocab provides ID for each word.**\n",
    "* **Embedding layer maps IDs to 300-dim vectors.**\n",
    "* **So tokens are replaced by 300-dim pretrained embeddings.**"
   ],
   "metadata": {}
  },
  {
   "cell_type": "markdown",
   "source": [
    "**Let's start by downloading our word2vec model and set a variable we will use to limit the number of out tokens per review to 100 tokens. We will later zero-pad these reviews so we can have a uniform number of tokens per review.**\n",
    "\n",
    "\n",
    "***Heads up: This cell will take some time to execute.***"
   ],
   "metadata": {}
  },
  {
   "cell_type": "code",
   "source": [
    "# Load Word2Vec model\n",
    "w2v = api.load('word2vec-google-news-300')\n",
    "\n",
    "# Define the maximum sequence length (adjust as needed)\n",
    "#>> Will increasing max_sequence_length impact performance?\n",
    "max_sequence_length = 100\n",
    "\n",
    "showD(f'{w2v} can map words onto vectors with 300 dimensions')"
   ],
   "metadata": {
    "execution": {
     "iopub.status.busy": "2024-03-14T19:35:15.156269Z",
     "iopub.execute_input": "2024-03-14T19:35:15.156667Z"
    },
    "trusted": true
   },
   "execution_count": null,
   "outputs": [
    {
     "name": "stdout",
     "text": "[--------------------------------------------------] 0.1% 1.2/1662.8MB downloaded",
     "output_type": "stream"
    }
   ]
  },
  {
   "cell_type": "markdown",
   "source": [
    "**Now that we have downloaded our model, let's use our CUDA-enabled GPU to take our token and look for its corresponding vector from our model. Once we find it, we swap it out with the new vector and if we don't, we pad that token with zeros.**"
   ],
   "metadata": {}
  },
  {
   "cell_type": "code",
   "source": [
    "# Checks if a CUDA enabled GPU is available and prints out its information\n",
    "if torch.cuda.is_available():\n",
    "    print(\"CUDA is available!\")\n",
    "    for i in range(torch.cuda.device_count()):\n",
    "        print(f\"GPU {i}: {torch.cuda.get_device_name(i)}\")\n",
    "        \n",
    "    device = torch.device(\"cuda:0\")\n",
    "\n",
    "else:\n",
    "    print(\"CUDA is not available.\")\n",
    "    device = torch.device(\"cpu\")"
   ],
   "metadata": {
    "trusted": true
   },
   "execution_count": null,
   "outputs": []
  },
  {
   "cell_type": "markdown",
   "source": [
    "**After ensuring that we have our GPUs available, we can go onto the next step. The code continues even if a CUDA is not available.**\n",
    "\n",
    "**In the cell below, we will do the following:**\n",
    "\n",
    "* **Create a new tensor and populate it with zeros**\n",
    "* **Compare the length of our review to the maximum length we allow (100) and take the minimum of the two**\n",
    "* **We lookup the token against what's in the w2v model. If we find it, we replace it with the embedding.**\n",
    "* **If we can't find it, we leave it as is (zero vectors).**"
   ],
   "metadata": {}
  },
  {
   "cell_type": "markdown",
   "source": [
    "***Heads Up: Cell below takes about 5 minutes to run***"
   ],
   "metadata": {}
  },
  {
   "cell_type": "code",
   "source": [
    "# Assume you have a list of tokenized review called tokenized_review\n",
    "# Each element in tokenized_review is a list of tokens for a single review\n",
    "\n",
    "# Initialize an empty tensor for padded reviews on the GPU\n",
    "padded_reviews = torch.zeros((len(tokenized_review), max_sequence_length, 300))#, device = device\n",
    "\n",
    "# Pad shorter reviews and convert tokens to Word2Vec embeddings\n",
    "for i, review_tokens in enumerate(tokenized_review):\n",
    "    review_length = min(len(review_tokens), max_sequence_length)\n",
    "    for j in range(review_length):\n",
    "        word = review_tokens[j]\n",
    "        if word in w2v:\n",
    "            # Use Word2Vec vector if available and move to GPU\n",
    "            padded_reviews[i, j, :] = torch.tensor(w2v[word])#, device = device\n",
    "        # Otherwise, it remains as zeros (padding)\n",
    "\n",
    "# Apply max pooling to aggregate embeddings along the sequence dimension\n",
    "# review_embeddings = torch.max(padded_reviews, dim=1)[0]\n",
    "\n",
    "# Now,review_embeddings contains the aggregated Word2Vec \n",
    "# embeddings for each review on the GPU\n",
    "\n",
    "print(\"Cell has finished!\")"
   ],
   "metadata": {
    "execution": {
     "iopub.status.busy": "2024-03-14T08:55:55.783780Z",
     "iopub.execute_input": "2024-03-14T08:55:55.784125Z",
     "iopub.status.idle": "2024-03-14T08:56:02.988753Z",
     "shell.execute_reply.started": "2024-03-14T08:55:55.784097Z",
     "shell.execute_reply": "2024-03-14T08:56:02.987591Z"
    },
    "trusted": true
   },
   "execution_count": 24,
   "outputs": [
    {
     "name": "stdout",
     "text": "Cell has finished!\n",
     "output_type": "stream"
    }
   ]
  },
  {
   "cell_type": "markdown",
   "source": [
    "**Once we have our embeddings ready, we can prepare them as inputs for the model. The next step is to convert our inputs, now converted to embedding-rich vectors, to tensors. Tensors are a kind of data structure that store information in multidimensional space. They are a generalization of vectors and matrices, and can have any number of dimensions.**\n",
    "\n",
    "**Converting vectors to tensors is computationally expensive, which is one of the reasons why GPUs are the main processors used in AI. GPUs are specialized for performing parallel computations, which makes them ideal for tasks such as tensor conversion.**\n",
    "\n",
    "**But first, a quick introduction to PyTorch. PyTorch is a popular deep learning framework that provides a lot of resources for building deep learning architectures, including popular pretrained models. It has become prevalent in academia, research, and industry, being utilized by Tesla, Uber, Hugging Face, and many more.**\n",
    "\n",
    "**PyTorch will help us convert our vectors to tensors. It also support GPU acceleration. CUDA is a firmware developed by NVIDIA that allows GPUs to be used for general-purpose computing, such as tensor conversion.**\n",
    "\n",
    "**Once the embeddings have been converted to tensors, we can print out the dimensions of our new dataset. This will tell us how many data points we have and how many features each data point has. We can then load the dataset to our data loaders, which will prepare it for training the neural network.**"
   ],
   "metadata": {}
  },
  {
   "cell_type": "markdown",
   "source": [
    "![Tensors](https://hkilter.com/images/7/7a/Tensors.png)\n",
    "\n",
    "* Source: [What is Tensor](https://hkilter.com/index.php?title=What_is_Tensor%3F)"
   ],
   "metadata": {}
  },
  {
   "cell_type": "markdown",
   "source": [
    "**When we utilize tokenization and convert them to their embeddings, we are only doing this for one instance of them to avoid redundancy. So for example, if the word \"the\" appears 2000 times, it would only count once for unique tokens.**\n",
    "\n",
    "*Thus, a total of 39,753 unique tokens were converted to vectors and 9,373,966 was the total number of tokens including duplicates were converted into tensors and stored in our GPU.*\n",
    "\n",
    "**Since this Word2Vec model is trained on a huge corpus, it likely has vectors for the vast majority of tokens we extracted. The only ones missing would be very rare or irregular words.**\n",
    "\n",
    "***Note: It is imporant to remember that we are not just using this vocabulary as a look-up dictionary. That's just a small part of the step. What we are doing is far more advanced. The embeddings are rich contextual vectors that will highlight the relationships between words in different ways. For example, lexicographically speaking, the word 'car' is more similar to 'cat', but when viewed semantically, and/or in terms of its context, it is far more similar to 'dog'. Same goes for the word 'bank', which can be used to refer to a financial institution or the side of a river. These kinds of relationships are the foundation for our model and will serve as the basis for how it perceives them.***"
   ],
   "metadata": {}
  },
  {
   "cell_type": "code",
   "source": [
    "print(torch.cuda.memory_summary())\n",
    "print(f\"Total allocated memory: {torch.cuda.memory_allocated()} bytes\")"
   ],
   "metadata": {
    "execution": {
     "iopub.status.busy": "2024-03-14T08:56:35.673590Z",
     "iopub.execute_input": "2024-03-14T08:56:35.674305Z",
     "iopub.status.idle": "2024-03-14T08:56:35.680472Z",
     "shell.execute_reply.started": "2024-03-14T08:56:35.674271Z",
     "shell.execute_reply": "2024-03-14T08:56:35.679482Z"
    },
    "trusted": true
   },
   "execution_count": 26,
   "outputs": [
    {
     "name": "stdout",
     "text": "|===========================================================================|\n|                  PyTorch CUDA memory summary, device ID 0                 |\n|---------------------------------------------------------------------------|\n|            CUDA OOMs: 0            |        cudaMalloc retries: 0         |\n|===========================================================================|\n|        Metric         | Cur Usage  | Peak Usage | Tot Alloc  | Tot Freed  |\n|---------------------------------------------------------------------------|\n| Allocated memory      |      0 B   |      0 B   |      0 B   |      0 B   |\n|       from large pool |      0 B   |      0 B   |      0 B   |      0 B   |\n|       from small pool |      0 B   |      0 B   |      0 B   |      0 B   |\n|---------------------------------------------------------------------------|\n| Active memory         |      0 B   |      0 B   |      0 B   |      0 B   |\n|       from large pool |      0 B   |      0 B   |      0 B   |      0 B   |\n|       from small pool |      0 B   |      0 B   |      0 B   |      0 B   |\n|---------------------------------------------------------------------------|\n| Requested memory      |      0 B   |      0 B   |      0 B   |      0 B   |\n|       from large pool |      0 B   |      0 B   |      0 B   |      0 B   |\n|       from small pool |      0 B   |      0 B   |      0 B   |      0 B   |\n|---------------------------------------------------------------------------|\n| GPU reserved memory   |      0 B   |      0 B   |      0 B   |      0 B   |\n|       from large pool |      0 B   |      0 B   |      0 B   |      0 B   |\n|       from small pool |      0 B   |      0 B   |      0 B   |      0 B   |\n|---------------------------------------------------------------------------|\n| Non-releasable memory |      0 B   |      0 B   |      0 B   |      0 B   |\n|       from large pool |      0 B   |      0 B   |      0 B   |      0 B   |\n|       from small pool |      0 B   |      0 B   |      0 B   |      0 B   |\n|---------------------------------------------------------------------------|\n| Allocations           |       0    |       0    |       0    |       0    |\n|       from large pool |       0    |       0    |       0    |       0    |\n|       from small pool |       0    |       0    |       0    |       0    |\n|---------------------------------------------------------------------------|\n| Active allocs         |       0    |       0    |       0    |       0    |\n|       from large pool |       0    |       0    |       0    |       0    |\n|       from small pool |       0    |       0    |       0    |       0    |\n|---------------------------------------------------------------------------|\n| GPU reserved segments |       0    |       0    |       0    |       0    |\n|       from large pool |       0    |       0    |       0    |       0    |\n|       from small pool |       0    |       0    |       0    |       0    |\n|---------------------------------------------------------------------------|\n| Non-releasable allocs |       0    |       0    |       0    |       0    |\n|       from large pool |       0    |       0    |       0    |       0    |\n|       from small pool |       0    |       0    |       0    |       0    |\n|---------------------------------------------------------------------------|\n| Oversize allocations  |       0    |       0    |       0    |       0    |\n|---------------------------------------------------------------------------|\n| Oversize GPU segments |       0    |       0    |       0    |       0    |\n|===========================================================================|\n\nTotal allocated memory: 0 bytes\n",
     "output_type": "stream"
    }
   ]
  },
  {
   "cell_type": "code",
   "source": [
    "#>> padded_reviews are 100 x 300 tensors, zero padded if necessary\n",
    "#>> to get the standard lenth\n",
    "text_embeddings_tensors = padded_reviews.to(device)\n",
    "\n",
    "# Rating labels\n",
    "rating_labels_tensors = torch.tensor(rating.values).to(device)\n",
    "\n",
    "# Dataset\n",
    "dataset = TensorDataset(text_embeddings_tensors, rating_labels_tensors)"
   ],
   "metadata": {
    "execution": {
     "iopub.status.busy": "2024-03-14T08:56:50.493336Z",
     "iopub.execute_input": "2024-03-14T08:56:50.494147Z",
     "iopub.status.idle": "2024-03-14T08:56:50.791600Z",
     "shell.execute_reply.started": "2024-03-14T08:56:50.494098Z",
     "shell.execute_reply": "2024-03-14T08:56:50.790699Z"
    },
    "trusted": true
   },
   "execution_count": 27,
   "outputs": []
  },
  {
   "cell_type": "code",
   "source": [
    "print(f\"Total allocated memory: {torch.cuda.memory_allocated()} bytes\")\n",
    "!nvidia-smi\n",
    "print('\\n\\n\\n\\n\\n\\n\\n\\n\\n\\n')\n",
    "print(torch.cuda.memory_summary())"
   ],
   "metadata": {
    "execution": {
     "iopub.status.busy": "2024-03-14T08:56:57.626300Z",
     "iopub.execute_input": "2024-03-14T08:56:57.627003Z",
     "iopub.status.idle": "2024-03-14T08:56:58.867202Z",
     "shell.execute_reply.started": "2024-03-14T08:56:57.626974Z",
     "shell.execute_reply": "2024-03-14T08:56:58.865961Z"
    },
    "trusted": true
   },
   "execution_count": 28,
   "outputs": [
    {
     "name": "stdout",
     "text": "Total allocated memory: 600040448 bytes\nThu Mar 14 08:56:58 2024       \n+---------------------------------------------------------------------------------------+\n| NVIDIA-SMI 535.129.03             Driver Version: 535.129.03   CUDA Version: 12.2     |\n|-----------------------------------------+----------------------+----------------------+\n| GPU  Name                 Persistence-M | Bus-Id        Disp.A | Volatile Uncorr. ECC |\n| Fan  Temp   Perf          Pwr:Usage/Cap |         Memory-Usage | GPU-Util  Compute M. |\n|                                         |                      |               MIG M. |\n|=========================================+======================+======================|\n|   0  Tesla T4                       Off | 00000000:00:04.0 Off |                    0 |\n| N/A   39C    P0              26W /  70W |    679MiB / 15360MiB |      0%      Default |\n|                                         |                      |                  N/A |\n+-----------------------------------------+----------------------+----------------------+\n|   1  Tesla T4                       Off | 00000000:00:05.0 Off |                    0 |\n| N/A   38C    P8               9W /  70W |      3MiB / 15360MiB |      0%      Default |\n|                                         |                      |                  N/A |\n+-----------------------------------------+----------------------+----------------------+\n                                                                                         \n+---------------------------------------------------------------------------------------+\n| Processes:                                                                            |\n|  GPU   GI   CI        PID   Type   Process name                            GPU Memory |\n|        ID   ID                                                             Usage      |\n|=======================================================================================|\n+---------------------------------------------------------------------------------------+\n\n\n\n\n\n\n\n\n\n\n\n|===========================================================================|\n|                  PyTorch CUDA memory summary, device ID 0                 |\n|---------------------------------------------------------------------------|\n|            CUDA OOMs: 0            |        cudaMalloc retries: 0         |\n|===========================================================================|\n|        Metric         | Cur Usage  | Peak Usage | Tot Alloc  | Tot Freed  |\n|---------------------------------------------------------------------------|\n| Allocated memory      | 585977 KiB | 585977 KiB | 585977 KiB |      0 B   |\n|       from large pool | 585937 KiB | 585937 KiB | 585937 KiB |      0 B   |\n|       from small pool |     39 KiB |     39 KiB |     39 KiB |      0 B   |\n|---------------------------------------------------------------------------|\n| Active memory         | 585977 KiB | 585977 KiB | 585977 KiB |      0 B   |\n|       from large pool | 585937 KiB | 585937 KiB | 585937 KiB |      0 B   |\n|       from small pool |     39 KiB |     39 KiB |     39 KiB |      0 B   |\n|---------------------------------------------------------------------------|\n| Requested memory      | 585976 KiB | 585976 KiB | 585976 KiB |      0 B   |\n|       from large pool | 585937 KiB | 585937 KiB | 585937 KiB |      0 B   |\n|       from small pool |     39 KiB |     39 KiB |     39 KiB |      0 B   |\n|---------------------------------------------------------------------------|\n| GPU reserved memory   | 589824 KiB | 589824 KiB | 589824 KiB |      0 B   |\n|       from large pool | 587776 KiB | 587776 KiB | 587776 KiB |      0 B   |\n|       from small pool |   2048 KiB |   2048 KiB |   2048 KiB |      0 B   |\n|---------------------------------------------------------------------------|\n| Non-releasable memory |   3847 KiB |   3847 KiB |   3847 KiB |      0 B   |\n|       from large pool |   1838 KiB |   1838 KiB |   1838 KiB |      0 B   |\n|       from small pool |   2008 KiB |   2008 KiB |   2008 KiB |      0 B   |\n|---------------------------------------------------------------------------|\n| Allocations           |       2    |       2    |       2    |       0    |\n|       from large pool |       1    |       1    |       1    |       0    |\n|       from small pool |       1    |       1    |       1    |       0    |\n|---------------------------------------------------------------------------|\n| Active allocs         |       2    |       2    |       2    |       0    |\n|       from large pool |       1    |       1    |       1    |       0    |\n|       from small pool |       1    |       1    |       1    |       0    |\n|---------------------------------------------------------------------------|\n| GPU reserved segments |       2    |       2    |       2    |       0    |\n|       from large pool |       1    |       1    |       1    |       0    |\n|       from small pool |       1    |       1    |       1    |       0    |\n|---------------------------------------------------------------------------|\n| Non-releasable allocs |       2    |       2    |       2    |       0    |\n|       from large pool |       1    |       1    |       1    |       0    |\n|       from small pool |       1    |       1    |       1    |       0    |\n|---------------------------------------------------------------------------|\n| Oversize allocations  |       0    |       0    |       0    |       0    |\n|---------------------------------------------------------------------------|\n| Oversize GPU segments |       0    |       0    |       0    |       0    |\n|===========================================================================|\n\n",
     "output_type": "stream"
    }
   ]
  },
  {
   "cell_type": "markdown",
   "source": [
    "**Our output confirms that we have successfully converted our data to tensors and is now loaded on our GPU. The output shows that CUDA is available and the GPU name is Tesla P100-PCIE-16GB. The text_tensor and rating_tensor are both on the GPU (device='cuda:0'). The shape of the text_tensor is torch.Size([125000, 100, 300]), which means that it has 125000 rows, 100 columns, with 300 embeddings per column. The shape of the rating_tensor is torch.Size([125000]), which means that it has 125000 rows (ratings). The mean of the rating_tensor is 3 meaning that the we have perfectly divided all our ratings.**"
   ],
   "metadata": {}
  },
  {
   "cell_type": "markdown",
   "source": [
    "![numeric_tensors](https://miro.medium.com/v2/resize:fit:1400/1*Shsgt3h9yxlQwjkfIptfYQ.png)\n",
    "\n",
    "* Source: [From Vectors to Tensors: Exploring the Mathematics of Tensor Algebra](https://towardsdatascience.com/what-are-tensors-in-machine-learning-5671814646ff)"
   ],
   "metadata": {}
  },
  {
   "cell_type": "markdown",
   "source": [
    "**We can now split our dataset into training and validation sets. When working on machine learning or deep learning models, we want to train the model on a subset of the data, and then test the accuracy of the model's predictions on the remaining data. This is called data splitting. We typically split the data into an 80/20 split, where we train the model on 80% of the data and test it on the remaining 20%.**"
   ],
   "metadata": {}
  },
  {
   "cell_type": "markdown",
   "source": [
    "**And there we have it! It looks like we have successfully split our data 80/20, and are now going to load the tensors in batches to our training and validation loaders. We will use these to load our data into the model once we have finished building it. We have also stored the data in batches of 32. This will make it easier to process the data instead of dealing with the whole thing at once. To confirm that it is all loaded, we can see that the number of batches, 3,125, multiplied by the batch size, 32, will indeed return 125,000**"
   ],
   "metadata": {}
  },
  {
   "cell_type": "markdown",
   "source": [
    "**We have successfully completed the preprocessing, splitting, and loading of our data. This section may have felt overwhelming, but it is important to remember that preparing the data properly is just as important as building the model. In fact, it is often said that 80% of the work in machine learning is in data preparation. This is because the quality of the data will have a significant impact on the performance of the model.**"
   ],
   "metadata": {}
  },
  {
   "cell_type": "markdown",
   "source": [
    "**And now for the really exciting part: the Transformer, the T in Chat-GPT. Arguably one of the most impactful architectures in recent history, the Transformer has been the state of the art in natural language processing (NLP) and other sequence-to-sequence tasks. In this section, we will break down and build on the individual components of this architecture, and use it to create our sentiment analyzer.**"
   ],
   "metadata": {}
  },
  {
   "cell_type": "markdown",
   "source": [
    "# Section 2: The Sentiment Analyzer"
   ],
   "metadata": {}
  },
  {
   "cell_type": "markdown",
   "source": [
    "![Detailed Architecture Diagram](https://lena-voita.github.io/resources/lectures/seq2seq/transformer/model-min.png)\n",
    "\n",
    "* Source: [Sequence to Sequence (seq2seq) and Attention](https://lena-voita.github.io/nlp_course/seq2seq_and_attention.html)"
   ],
   "metadata": {}
  },
  {
   "cell_type": "markdown",
   "source": [
    "**Above is a diagram of what the Transformer architecture looks like. It might look complicated, but each cell will work on one component of the layer so we can isolate and understand the various sections of our model.**\n",
    "\n",
    "***Heads Up: Since we are building a sentiment analyzer, we will not be generating any outputs. Instead we will just use a simple classifier to make our classifications. Thus, we will not be using the decoder layer (the longer section on the right side of the diagram). But do note that, while most of the components are indeed similar, the two layers function somewhat differently.***\n",
    "\n",
    "## Here is a quick rundown of what our Transformer model will contain the following:\n",
    "\n",
    "## 1. Embedding Layer:\n",
    "\n",
    "### a. Word Embeddings: \n",
    "**These are the learned dense vectors that represent each word in \n",
    "your vocabulary. These vectors capture the semantic meaning of words. Of course, for our use case, we are utilizing the embeddings from word2vec**\n",
    "\n",
    "### b. Positional Encodings: \n",
    "**These are vectors that encode the position of each word in the \n",
    "sequence. They help the attention mechanism also take the positoning of the words when factoring in the attention scores.**\n",
    "\n",
    "## 2. Encoder Layer:\n",
    "\n",
    "### a. Multi-Head Attention: \n",
    "**This mechanism allows the model to attend to different parts of the\n",
    "input sequence while capturing various relationships between words.**\n",
    "\n",
    "### b. Addition (Residual) and Normalization Layer: \n",
    "**After multi-head attention, you typically have a residual connection \n",
    "(addition) followed by layer normalization. This helps with stable \n",
    "training and information flow.**\n",
    "\n",
    "### c. Feed-Forward Neural Network (Pointwise Feed-Forward Layer): \n",
    "**This network applies a simple feed-forward transformation to each \n",
    "position separately, allowing the model to capture non-linear \n",
    "relationships between words.**\n",
    "\n",
    "## 3. Classifier Layer:\n",
    "\n",
    "### a. Linear Layer: \n",
    "**This layer maps the output of the encoder to the number of classes \n",
    "you have in your sentiment analysis task. For example, if you have \n",
    "three sentiment classes (negative, neutral, positive), this layer\n",
    "will output logits for each class.**\n",
    "\n",
    "### b. Softmax Activation: \n",
    "**This activation function is applied to the logits to convert them \n",
    "into probabilities for each class. It makes the model's output \n",
    "interpretable as class probabilities.**"
   ],
   "metadata": {}
  },
  {
   "cell_type": "markdown",
   "source": [
    "**When following the diagram as a pipeline, we see that the first thing we do with the inputs is include the embedding. The embedding is layer involves replacing the tokens from our reviews with their vectors. SInce we have used Word2Vec to create the embeddings from our tokens, we just need may proceed to the next step.** **The next step in our diagram is the Positional Encoding. This is a clever approach that the creaters of the Transformer architecture utilized to include even more information into our input embeddings. While the first set of vectors helped give our tokens their contextual vectors, the positional encoder assigns a sin or cosine value to these vectors depending on whether they are located in odd of even positions. This adds to our vectors by highlighting the location of the token on top of its meaning, thus further enriching the information it carries.**\n",
    "\n",
    "**We will wrap all this up in one function and call that Embeddings.**"
   ],
   "metadata": {}
  },
  {
   "cell_type": "markdown",
   "source": [
    "**Now we delve into what truly makes the Transformer architecture exceptional: the Attention mechanism. This mechanism, often referred to as self-attention, has been a transformative development in NLP. It serves as a way to allocate \"focus\" or \"attention\" values to the different embedded vectors that pass through the model's embedding layer. This allocation is achieved by segmenting the input vectors into three key components: queries, keys, and values.**\n",
    "\n",
    "**The process begins with the transformation of the input embeddings into three distinct matrices: the Query matrix (Q), Key matrix (K), and Value matrix (V). These matrices are obtained through linear transformations of the original embeddings.**\n",
    "\n",
    "**The heart of the attention mechanism involves calculating dot products between the Query matrix and the Transposed Key matrix. The resulting dot products are then scaled by the square root of the dimension of the key vectors. This scaling factor plays a crucial role in maintaining stable gradients during training.**\n",
    "\n",
    "**The next step in the process employs a softmax operation on the scaled dot products. The softmax function normalizes the values, converting them into attention weights. These attention weights indicate the \"importance\" or \"weight\" assigned to each word in relation to the others. The summation of the attention weights for each query-key pair ensures that the model focuses on the most relevant information.**\n",
    "\n",
    "**The weighted sum of the Value matrix, determined by the attention weights, generates an attended representation. In essence, the attention mechanism enables the model to capture the contextual relationships between words, determining how much each word contributes to the overall understanding of the sequence.**\n",
    "\n",
    "**One innovation that distinguishes the Transformer architecture is multi-head attention. Instead of relying on a single attention mechanism, multiple parallel attention mechanisms, or \"heads,\" are employed. Each head attends to the input independently and learns different aspects of the relationships between words. The outputs of the different heads are concatenated and linearly transformed, resulting in a comprehensive representation that encompasses various perspectives on the input data.**\n",
    "\n",
    "**Example:**\n",
    "\n",
    "**Consider the sentence: \"Diana wanted to visit Seattle in the Winter, but was ill-prepared for the cold, Pacific Northwest weather.\"**\n",
    "\n",
    "**In this sentence, the attention mechanism discerns connections between words, prioritizing specific words when analyzing others. For instance, in the context of \"visit Seattle,\" the word \"Seattle\" would attract more attention when considering the word \"visit.\" Similarly, the words \"ill-prepared\" and \"cold\" would stand out in the presence of the term \"Winter.\"**"
   ],
   "metadata": {}
  },
  {
   "cell_type": "markdown",
   "source": [
    "# Positional Encoding"
   ],
   "metadata": {}
  },
  {
   "cell_type": "code",
   "source": [
    "# pytorch implementation\n",
    "\n",
    "class PositionalEncoding(nn.Module):\n",
    "\n",
    "    def __init__(self, d_model: int, dropout: float, seq_len: int):\n",
    "        super().__init__()\n",
    "        self.dropout = nn.Dropout(p = dropout)\n",
    "\n",
    "        position = torch.arange(seq_len).unsqueeze(1)\n",
    "        div_term = torch.exp(torch.arange(0, d_model, 2) * (-math.log(10000.0) / d_model))\n",
    "        pe = torch.zeros(seq_len, 1, d_model)\n",
    "        pe[:, 0, 0::2] = torch.sin(position * div_term)\n",
    "        pe[:, 0, 1::2] = torch.cos(position * div_term)\n",
    "        self.register_buffer('pe', pe)\n",
    "\n",
    "    def forward(self, x: Tensor) -> Tensor:\n",
    "        \"\"\"\n",
    "        Arguments:\n",
    "            x: Tensor, shape ``[seq_len, batch_size, embedding_dim]``\n",
    "        \"\"\"\n",
    "        x = x + self.pe[:x.size(0)]\n",
    "        return self.dropout(x)\n",
    "\n",
    "#>> Show what happened\n",
    "printd(f'{PositionalEncoding} defined')"
   ],
   "metadata": {
    "execution": {
     "iopub.status.busy": "2024-03-14T09:00:06.700004Z",
     "iopub.execute_input": "2024-03-14T09:00:06.700424Z",
     "iopub.status.idle": "2024-03-14T09:00:06.710586Z",
     "shell.execute_reply.started": "2024-03-14T09:00:06.700393Z",
     "shell.execute_reply": "2024-03-14T09:00:06.709559Z"
    },
    "trusted": true
   },
   "execution_count": 31,
   "outputs": [
    {
     "name": "stdout",
     "text": "DEV: <class '__main__.PositionalEncoding'> defined\n",
     "output_type": "stream"
    }
   ]
  },
  {
   "cell_type": "markdown",
   "source": [
    "![image.png](attachment:dcbbcd14-b671-403b-903f-86a9c94add2b.png)\n",
    "\n",
    "* Source: [Transformer Tutorial - Tensorflow](https://www.tensorflow.org/text/tutorials/transformer)"
   ],
   "metadata": {},
   "attachments": {
    "dcbbcd14-b671-403b-903f-86a9c94add2b.png": {
     "image/png": "[encoded data removed]"
    }
   }
  },
  {
   "cell_type": "code",
   "source": [
    "def scaled_dot_product_attention(query, key, value, attn_mask = None, dropout_p = float, is_causal = False, scale = None) -> torch.Tensor:\n",
    "    # Efficient implementation equivalent to the following:\n",
    "    L, S = query.size(-2), key.size(-2)\n",
    "    scale_factor = 1 / math.sqrt(query.size(-1)) if scale is None else scale\n",
    "    attn_bias = torch.zeros(L, S, dtype=query.dtype).to(device)\n",
    "    if is_causal:\n",
    "        assert attn_mask is None\n",
    "        temp_mask = torch.ones(L, S, dtype=torch.bool).tril(diagonal = 0)\n",
    "        attn_bias.masked_fill_(temp_mask.logical_not(), float(\"-inf\"))\n",
    "        attn_bias.to(query.dtype)\n",
    "\n",
    "    if attn_mask is not None:\n",
    "        if attn_mask.dtype == torch.bool:\n",
    "            attn_mask.masked_fill_(attn_mask.logical_not(), float(\"-inf\"))\n",
    "        else:\n",
    "            attn_bias += attn_mask\n",
    "    attn_weight = query @ key.transpose(-2, -1) * scale_factor\n",
    "    attn_weight += attn_bias\n",
    "    attn_weight = torch.softmax(attn_weight, dim =- 1)\n",
    "    attn_weight = torch.dropout(attn_weight, dropout_p, train = True)\n",
    "    return attn_weight @ value\n",
    "\n",
    "#>> Show what happened\n",
    "printd(f'{scaled_dot_product_attention} defined')"
   ],
   "metadata": {
    "execution": {
     "iopub.status.busy": "2024-03-14T09:01:25.750195Z",
     "iopub.execute_input": "2024-03-14T09:01:25.750525Z",
     "iopub.status.idle": "2024-03-14T09:01:25.761080Z",
     "shell.execute_reply.started": "2024-03-14T09:01:25.750503Z",
     "shell.execute_reply": "2024-03-14T09:01:25.760120Z"
    },
    "trusted": true
   },
   "execution_count": 33,
   "outputs": [
    {
     "name": "stdout",
     "text": "DEV: <function scaled_dot_product_attention at 0x7aadf11f7d90> defined\n",
     "output_type": "stream"
    }
   ]
  },
  {
   "cell_type": "markdown",
   "source": [
    "# Attention + Multi-head"
   ],
   "metadata": {}
  },
  {
   "cell_type": "code",
   "source": [
    "class MultiHeadedAttention(nn.Module):\n",
    "    def __init__(self, h, d_model, dropout = 0.1):\n",
    "        super().__init__()\n",
    "\n",
    "        self.h = h\n",
    "        self.d_k = d_model // h\n",
    "        self.attention_heads = [nn.Linear(d_model, d_model // h).to(device) for _ in range(self.h)]\n",
    "\n",
    "        \n",
    "    def forward(self, query, key, value, attn_mask = None, dropout_p=0.0):\n",
    "        attention_outputs = []\n",
    "        for attention_head in self.attention_heads:\n",
    "            attention_output = scaled_dot_product_attention(\n",
    "                attention_head(query),\n",
    "                attention_head(key),\n",
    "                attention_head(value),\n",
    "                attn_mask = attn_mask,\n",
    "                dropout_p = dropout_p,\n",
    "            )\n",
    "            attention_outputs.append(attention_output)\n",
    "            \n",
    "        seq_len = query.size(1)\n",
    "        attention_output = torch.cat(attention_outputs, dim =- 1).view(query.size(0), seq_len, d_model)\n",
    "        return attention_output"
   ],
   "metadata": {
    "execution": {
     "iopub.status.busy": "2024-03-10T23:07:30.116825Z",
     "iopub.execute_input": "2024-03-10T23:07:30.117235Z",
     "iopub.status.idle": "2024-03-10T23:07:30.127220Z",
     "shell.execute_reply.started": "2024-03-10T23:07:30.117200Z",
     "shell.execute_reply": "2024-03-10T23:07:30.126204Z"
    },
    "trusted": true
   },
   "execution_count": 30,
   "outputs": []
  },
  {
   "cell_type": "markdown",
   "source": [
    "![Self-Attention Diagram](https://lena-voita.github.io/resources/lectures/seq2seq/transformer/qkv_explained-min.png)\n",
    "\n",
    "![Components of Self-Attention](https://lena-voita.github.io/resources/lectures/seq2seq/transformer/qkv_attention_formula-min.png)\n",
    "\n",
    "* Source: [Sequence to Sequence (seq2seq) and Attention](https://lena-voita.github.io/nlp_course/seq2seq_and_attention.html)"
   ],
   "metadata": {}
  },
  {
   "cell_type": "markdown",
   "source": [
    "# Add/Residual layer + Normalization Layer"
   ],
   "metadata": {}
  },
  {
   "cell_type": "code",
   "source": [
    "def add_layer(x, y):\n",
    "    \"\"\"Adds two tensors together.\n",
    "\n",
    "    Args:\n",
    "    x: A torch.Tensor of shape (batch_size, seq_len, hidden_size).\n",
    "    y: A torch.Tensor of the same shape as x.\n",
    "\n",
    "    Returns:\n",
    "    A torch.Tensor of the same shape as x and y, containing the sum of the two tensors.\n",
    "    \"\"\"\n",
    "\n",
    "    return torch.add(x, y)"
   ],
   "metadata": {
    "execution": {
     "iopub.status.busy": "2024-03-10T23:07:30.128678Z",
     "iopub.execute_input": "2024-03-10T23:07:30.129077Z",
     "iopub.status.idle": "2024-03-10T23:07:30.140994Z",
     "shell.execute_reply.started": "2024-03-10T23:07:30.129041Z",
     "shell.execute_reply": "2024-03-10T23:07:30.140014Z"
    },
    "trusted": true
   },
   "execution_count": 31,
   "outputs": []
  },
  {
   "cell_type": "code",
   "source": [
    "class LayerNorm(nn.Module):\n",
    "    \"Construct a layernorm module (See citation for details).\"\n",
    "\n",
    "    def __init__(self, features, eps = float):\n",
    "        super(LayerNorm, self).__init__()\n",
    "        self.a_2 = nn.Parameter(torch.ones(features))\n",
    "        self.b_2 = nn.Parameter(torch.zeros(features))\n",
    "        self.eps = eps\n",
    "\n",
    "    def forward(self, x):\n",
    "        mean = x.mean(-1, keepdim = True)\n",
    "        std = x.std(-1, keepdim = True)\n",
    "        return self.a_2 * (x - mean) / (std + self.eps) + self.b_2"
   ],
   "metadata": {
    "execution": {
     "iopub.status.busy": "2024-03-10T23:07:30.142187Z",
     "iopub.execute_input": "2024-03-10T23:07:30.142486Z",
     "iopub.status.idle": "2024-03-10T23:07:30.152030Z",
     "shell.execute_reply.started": "2024-03-10T23:07:30.142444Z",
     "shell.execute_reply": "2024-03-10T23:07:30.150893Z"
    },
    "trusted": true
   },
   "execution_count": 32,
   "outputs": []
  },
  {
   "cell_type": "markdown",
   "source": [
    "# Position-wise Feed Forward Network"
   ],
   "metadata": {}
  },
  {
   "cell_type": "code",
   "source": [
    "class PositionwiseFeedForward(nn.Module):\n",
    "    def __init__(self, d_model: int, d_ffn: int, dropout: float):\n",
    "        \"\"\"\n",
    "        Args:\n",
    "            d_model:      dimension of embeddings\n",
    "            d_ffn:        dimension of feed-forward network\n",
    "            dropout:      probability of dropout occurring\n",
    "        \"\"\"\n",
    "        super().__init__()\n",
    "\n",
    "        self.w_1 = nn.Linear(d_model, d_ffn)\n",
    "        self.w_2 = nn.Linear(d_ffn, d_model)\n",
    "        self.dropout = nn.Dropout(dropout)\n",
    "\n",
    "    def forward(self, x):\n",
    "        \"\"\"\n",
    "        Args:\n",
    "            x:            output from attention (batch_size, seq_length, d_model)\n",
    "\n",
    "        Returns:\n",
    "            expanded-and-contracted representation (batch_size, seq_length, d_model)\n",
    "        \"\"\"\n",
    "        \n",
    "        return self.w_2(self.dropout(self.w_1(x).relu()))"
   ],
   "metadata": {
    "execution": {
     "iopub.status.busy": "2024-03-10T23:07:30.153202Z",
     "iopub.execute_input": "2024-03-10T23:07:30.153483Z",
     "iopub.status.idle": "2024-03-10T23:07:30.162586Z",
     "shell.execute_reply.started": "2024-03-10T23:07:30.153453Z",
     "shell.execute_reply": "2024-03-10T23:07:30.161476Z"
    },
    "trusted": true
   },
   "execution_count": 33,
   "outputs": []
  },
  {
   "cell_type": "markdown",
   "source": [
    "# Hyperparameters"
   ],
   "metadata": {}
  },
  {
   "cell_type": "code",
   "source": [
    "# HyperParameters for the module\n",
    "d_model = 300  # Should match the embedding dimension of your word embeddings\n",
    "seq_len = 100  # Maximum sequence length\n",
    "dropout = 0.1  # Adjust the dropout if needed\n",
    "\n",
    "h       = 4    # number of attention head\n",
    "num_heads = 4    # number of attention head\n",
    "\n",
    "d_ffn   = 1024 # dimension of the feedforward layer\n",
    "eps     = 1e-6 # epsilon value to prevent the standard deviation from becoming zero\n",
    "num_classes = 5  # Replace with your number of classes\n",
    "epochs = 100\n",
    "learning_rate = 0.01\n",
    "num_layers = 6\n",
    "\n",
    "input_size = d_model  # Adjust this based on the output size of your feed-forward network\n",
    "# input_size = len(train_data[0])  # Adjust based on your input size (should match the output size of your model)"
   ],
   "metadata": {
    "execution": {
     "iopub.status.busy": "2024-03-10T23:07:30.163818Z",
     "iopub.execute_input": "2024-03-10T23:07:30.164100Z",
     "iopub.status.idle": "2024-03-10T23:07:30.176604Z",
     "shell.execute_reply.started": "2024-03-10T23:07:30.164076Z",
     "shell.execute_reply": "2024-03-10T23:07:30.175485Z"
    },
    "trusted": true
   },
   "execution_count": 34,
   "outputs": []
  },
  {
   "cell_type": "code",
   "source": [
    "!nvidia-smi\n",
    "#print('\\n\\n\\n\\n\\n\\n\\n\\n\\n\\n')\n",
    "#print(torch.cuda.memory_summary())"
   ],
   "metadata": {
    "execution": {
     "iopub.status.busy": "2024-03-10T23:07:30.177823Z",
     "iopub.execute_input": "2024-03-10T23:07:30.178121Z",
     "iopub.status.idle": "2024-03-10T23:07:31.285811Z",
     "shell.execute_reply.started": "2024-03-10T23:07:30.178097Z",
     "shell.execute_reply": "2024-03-10T23:07:31.284507Z"
    },
    "trusted": true
   },
   "execution_count": 35,
   "outputs": [
    {
     "name": "stdout",
     "text": "Sun Mar 10 23:07:31 2024       \n+---------------------------------------------------------------------------------------+\n| NVIDIA-SMI 535.129.03             Driver Version: 535.129.03   CUDA Version: 12.2     |\n|-----------------------------------------+----------------------+----------------------+\n| GPU  Name                 Persistence-M | Bus-Id        Disp.A | Volatile Uncorr. ECC |\n| Fan  Temp   Perf          Pwr:Usage/Cap |         Memory-Usage | GPU-Util  Compute M. |\n|                                         |                      |               MIG M. |\n|=========================================+======================+======================|\n|   0  Tesla P100-PCIE-16GB           Off | 00000000:00:04.0 Off |                    0 |\n| N/A   39C    P0              32W / 250W |    832MiB / 16384MiB |      0%      Default |\n|                                         |                      |                  N/A |\n+-----------------------------------------+----------------------+----------------------+\n                                                                                         \n+---------------------------------------------------------------------------------------+\n| Processes:                                                                            |\n|  GPU   GI   CI        PID   Type   Process name                            GPU Memory |\n|        ID   ID                                                             Usage      |\n|=======================================================================================|\n+---------------------------------------------------------------------------------------+\n",
     "output_type": "stream"
    }
   ]
  },
  {
   "cell_type": "markdown",
   "source": [
    "# Encoder Layer"
   ],
   "metadata": {}
  },
  {
   "cell_type": "code",
   "source": [
    "class StackedEncoder(nn.Module):\n",
    "    def __init__(self, num_layers, d_model, seq_len, dropout, num_heads, d_ffn):\n",
    "        super(StackedEncoder, self).__init__()\n",
    "\n",
    "        self.layers = nn.ModuleList([\n",
    "            EncoderLayer(d_model, seq_len, dropout, num_heads, d_ffn) for _ in range(num_layers)\n",
    "        ])\n",
    "\n",
    "    def forward(self, x):\n",
    "        for layer in self.layers:\n",
    "            x = layer(x)\n",
    "        return x\n",
    "\n",
    "class EncoderLayer(nn.Module):\n",
    "    def __init__(self, d_model, seq_len, dropout, num_heads, d_ffn):\n",
    "        super().__init__()\n",
    "\n",
    "        self.positional_encoding = PositionalEncoding(d_model, dropout, seq_len)\n",
    "        self.multihead_attention = MultiHeadedAttention(num_heads, d_model, dropout)\n",
    "        self.norm1 = LayerNorm(d_model, eps)\n",
    "        self.feed_forward = PositionwiseFeedForward(d_model, d_ffn, dropout)\n",
    "        self.norm2 = LayerNorm(d_model, eps)\n",
    "\n",
    "    def forward(self, x):\n",
    "        x_pe = self.positional_encoding(x)\n",
    "        attn_output = self.multihead_attention(x_pe, x_pe, x_pe)\n",
    "        x_attn = x + attn_output # Residual connection from multi-head attention\n",
    "        x_norm1 = self.norm1(x_attn)\n",
    "        ff_output = self.feed_forward(x_norm1)\n",
    "        x_ff = x_attn + ff_output # Residual connection from feed-forward network\n",
    "        x_norm2 = self.norm2(x_ff)\n",
    "\n",
    "        return x_norm2 # Return the normalized output"
   ],
   "metadata": {
    "execution": {
     "iopub.status.busy": "2024-03-10T23:07:31.287614Z",
     "iopub.execute_input": "2024-03-10T23:07:31.287967Z",
     "iopub.status.idle": "2024-03-10T23:07:31.298744Z",
     "shell.execute_reply.started": "2024-03-10T23:07:31.287936Z",
     "shell.execute_reply": "2024-03-10T23:07:31.297771Z"
    },
    "trusted": true
   },
   "execution_count": 36,
   "outputs": []
  },
  {
   "cell_type": "markdown",
   "source": [
    "# Encoder Test"
   ],
   "metadata": {}
  },
  {
   "cell_type": "code",
   "source": [
    "###################################### TEST ##########################################\n",
    "###################################### TEST ##########################################\n",
    "###################################### TEST ##########################################\n",
    "\n",
    "##################################### hyperparam #####################################\n",
    "##################################### hyperparam #####################################\n",
    "##################################### hyperparam #####################################\n",
    "\n",
    "# HyperParameters for the module\n",
    "d_model = 300  # Should match the embedding dimension of your word embeddings\n",
    "seq_len = 100  # Maximum sequence length\\ndropout = 0.1  # You can adjust the dropout if needed\n",
    "h       = 4    # number of attention head\\nd_ffn   = 1024 # dimension of the feedforward layer\n",
    "eps     = 1e-6 # epsilon value to prevent the standard deviation from becoming zero\n",
    "num_classes = 3  # Replace with your number of classes\n",
    "input_size = d_model  # Adjust this based on the output size of your feed-forward network\\n\\n\n",
    "epochs = 10\n",
    "learning_rate = 0.01\n",
    "\n",
    "## Dropout - During training, randomly zeroes some of the elements of the input\n",
    "## tensor with probability p using samples from a Bernoulli distribution. Each\n",
    "## channel will be zeroed out independently on every forward call.\n",
    "\n",
    "###################################### embedding #####################################\n",
    "###################################### embedding #####################################\n",
    "###################################### embedding #####################################\n",
    "\n",
    "word_embeddings = torch.randn(32, 100, 300).to(device)\n",
    "\n",
    "print (f\"Word Embedding Shape: {word_embeddings.size}\")\n",
    "print (f\"Word Embedding Shape: {word_embeddings.shape}\")\n",
    "print(f\"The Word Embeddings are on: {word_embeddings.device}\")\n",
    "print(f\"Total allocated memory: {torch.cuda.memory_allocated()} bytes\")\n",
    "!nvidia-smi\n",
    "      \n",
    "####################################### p.e. #########################################\n",
    "####################################### p.e. #########################################\n",
    "####################################### p.e. #########################################\n",
    "\n",
    "# Instantiate the PositionalEncoding module\n",
    "positional_encoder = PositionalEncoding(d_model, dropout, seq_len).to(device)\n",
    "\n",
    "# Apply the positional encoding to your word embeddings\n",
    "encoded_embeddings = positional_encoder(word_embeddings)\n",
    "      \n",
    "# Print the dimensions of the encoded embeddings\n",
    "print(f\"Encoded Embeddings Shape: {encoded_embeddings.shape}\")\n",
    "print(f\"The Encoded Embeddings are on: {encoded_embeddings.device}\")\n",
    "print(f\"Total allocated memory: {torch.cuda.memory_allocated()} bytes\")\n",
    "!nvidia-smi\n",
    "    \n",
    "####################################### attn ##########################################\n",
    "####################################### attn ##########################################\n",
    "####################################### attn ##########################################\n",
    "      \n",
    "# Create an instance of the MultiHeadedAttention class\n",
    "multi_head_attention = MultiHeadedAttention(h, d_model, dropout).to(device)\n",
    "      \n",
    "# Define your query, key, and value tensors (they can be the same for self-attention)\n",
    "query = encoded_embeddings.to(device)\n",
    "key = encoded_embeddings.to(device)\n",
    "value = encoded_embeddings.to(device)\n",
    "\n",
    "print(f\"The Query Tensor is on: {query.device}\")\n",
    "print(f\"The Key Tensor is on: {key.device}\")\n",
    "print(f\"The Value Tensor is on: {value.device}\")\n",
    "\n",
    "# Optional: Define an attention mask or use None if not needed\n",
    "attn_mask = None\n",
    "\n",
    "# Apply the MultiHeadedAttention\\n\n",
    "attention_output = multi_head_attention(query, key, value, attn_mask = attn_mask)\n",
    "\n",
    "# Print the dimensions of the attention output\\n\n",
    "print(f\"Attention Output Shape: {attention_output.shape}\")\n",
    "print(f\"The Attention Output is on: {attention_output.device}\")\n",
    "print(f\"Total allocated memory: {torch.cuda.memory_allocated()} bytes\")\n",
    "!nvidia-smi\n",
    "\n",
    "######################################## add ##########################################\n",
    "######################################## add ##########################################\n",
    "######################################## add ##########################################\n",
    "\n",
    "residual_connection = add_layer(attention_output, encoded_embeddings)\n",
    "\n",
    "print(f\"Residual Connection Shape: {residual_connection.shape}\")\n",
    "print(f\"The Residual Connection is on: {residual_connection.device}\")\n",
    "print(f\"Total allocated memory: {torch.cuda.memory_allocated()} bytes\")\n",
    "!nvidia-smi\n",
    "\n",
    "######################################## norm #########################################\n",
    "######################################## norm #########################################\n",
    "######################################## norm #########################################\n",
    "\n",
    "norm = LayerNorm(d_model, eps).to(device)\n",
    "normalized_values = norm(residual_connection)\n",
    "      \n",
    "print(f\"Normalized Values Shape: {normalized_values.shape}\")\n",
    "print(f\"The Normalized Values are on: {normalized_values.device}\")\n",
    "print(f\"Total allocated memory: {torch.cuda.memory_allocated()} bytes\")\n",
    "!nvidia-smi\n",
    "\n",
    "######################################## fc ##########################################\n",
    "######################################## fc ##########################################\n",
    "######################################## fc ##########################################\n",
    "      \n",
    "feedforward = PositionwiseFeedForward(d_model, d_ffn, dropout).to(device)\n",
    "ff_output = feedforward(normalized_values)\n",
    "\n",
    "print(f\"FF Output Shape: {ff_output.shape}\")\n",
    "print(f\"The Output is on: {ff_output.device}\")\n",
    "print(f\"Total allocated memory: {torch.cuda.memory_allocated()} bytes\")\n",
    "!nvidia-smi"
   ],
   "metadata": {
    "execution": {
     "iopub.status.busy": "2024-03-10T23:07:31.300481Z",
     "iopub.execute_input": "2024-03-10T23:07:31.300866Z",
     "iopub.status.idle": "2024-03-10T23:07:38.293061Z",
     "shell.execute_reply.started": "2024-03-10T23:07:31.300830Z",
     "shell.execute_reply": "2024-03-10T23:07:38.291954Z"
    },
    "trusted": true
   },
   "execution_count": 37,
   "outputs": [
    {
     "name": "stdout",
     "text": "Word Embedding Shape: <built-in method size of Tensor object at 0x7c2586f2cf40>\nWord Embedding Shape: torch.Size([32, 100, 300])\nThe Word Embeddings are on: cuda:0\nTotal allocated memory: 603880448 bytes\nSun Mar 10 23:07:32 2024       \n+---------------------------------------------------------------------------------------+\n| NVIDIA-SMI 535.129.03             Driver Version: 535.129.03   CUDA Version: 12.2     |\n|-----------------------------------------+----------------------+----------------------+\n| GPU  Name                 Persistence-M | Bus-Id        Disp.A | Volatile Uncorr. ECC |\n| Fan  Temp   Perf          Pwr:Usage/Cap |         Memory-Usage | GPU-Util  Compute M. |\n|                                         |                      |               MIG M. |\n|=========================================+======================+======================|\n|   0  Tesla P100-PCIE-16GB           Off | 00000000:00:04.0 Off |                    0 |\n| N/A   39C    P0              32W / 250W |    852MiB / 16384MiB |      0%      Default |\n|                                         |                      |                  N/A |\n+-----------------------------------------+----------------------+----------------------+\n                                                                                         \n+---------------------------------------------------------------------------------------+\n| Processes:                                                                            |\n|  GPU   GI   CI        PID   Type   Process name                            GPU Memory |\n|        ID   ID                                                             Usage      |\n|=======================================================================================|\n+---------------------------------------------------------------------------------------+\nEncoded Embeddings Shape: torch.Size([32, 100, 300])\nThe Encoded Embeddings are on: cuda:0\nTotal allocated memory: 607840768 bytes\nSun Mar 10 23:07:33 2024       \n+---------------------------------------------------------------------------------------+\n| NVIDIA-SMI 535.129.03             Driver Version: 535.129.03   CUDA Version: 12.2     |\n|-----------------------------------------+----------------------+----------------------+\n| GPU  Name                 Persistence-M | Bus-Id        Disp.A | Volatile Uncorr. ECC |\n| Fan  Temp   Perf          Pwr:Usage/Cap |         Memory-Usage | GPU-Util  Compute M. |\n|                                         |                      |               MIG M. |\n|=========================================+======================+======================|\n|   0  Tesla P100-PCIE-16GB           Off | 00000000:00:04.0 Off |                    0 |\n| N/A   39C    P0              32W / 250W |    882MiB / 16384MiB |      0%      Default |\n|                                         |                      |                  N/A |\n+-----------------------------------------+----------------------+----------------------+\n                                                                                         \n+---------------------------------------------------------------------------------------+\n| Processes:                                                                            |\n|  GPU   GI   CI        PID   Type   Process name                            GPU Memory |\n|        ID   ID                                                             Usage      |\n|=======================================================================================|\n+---------------------------------------------------------------------------------------+\nThe Query Tensor is on: cuda:0\nThe Key Tensor is on: cuda:0\nThe Value Tensor is on: cuda:0\nAttention Output Shape: torch.Size([32, 100, 300])\nThe Attention Output is on: cuda:0\nTotal allocated memory: 638737408 bytes\nSun Mar 10 23:07:34 2024       \n+---------------------------------------------------------------------------------------+\n| NVIDIA-SMI 535.129.03             Driver Version: 535.129.03   CUDA Version: 12.2     |\n|-----------------------------------------+----------------------+----------------------+\n| GPU  Name                 Persistence-M | Bus-Id        Disp.A | Volatile Uncorr. ECC |\n| Fan  Temp   Perf          Pwr:Usage/Cap |         Memory-Usage | GPU-Util  Compute M. |\n|                                         |                      |               MIG M. |\n|=========================================+======================+======================|\n|   0  Tesla P100-PCIE-16GB           Off | 00000000:00:04.0 Off |                    0 |\n| N/A   39C    P0              32W / 250W |    928MiB / 16384MiB |      0%      Default |\n|                                         |                      |                  N/A |\n+-----------------------------------------+----------------------+----------------------+\n                                                                                         \n+---------------------------------------------------------------------------------------+\n| Processes:                                                                            |\n|  GPU   GI   CI        PID   Type   Process name                            GPU Memory |\n|        ID   ID                                                             Usage      |\n|=======================================================================================|\n+---------------------------------------------------------------------------------------+\nResidual Connection Shape: torch.Size([32, 100, 300])\nThe Residual Connection is on: cuda:0\nTotal allocated memory: 642577408 bytes\nSun Mar 10 23:07:35 2024       \n+---------------------------------------------------------------------------------------+\n| NVIDIA-SMI 535.129.03             Driver Version: 535.129.03   CUDA Version: 12.2     |\n|-----------------------------------------+----------------------+----------------------+\n| GPU  Name                 Persistence-M | Bus-Id        Disp.A | Volatile Uncorr. ECC |\n| Fan  Temp   Perf          Pwr:Usage/Cap |         Memory-Usage | GPU-Util  Compute M. |\n|                                         |                      |               MIG M. |\n|=========================================+======================+======================|\n|   0  Tesla P100-PCIE-16GB           Off | 00000000:00:04.0 Off |                    0 |\n| N/A   39C    P0              32W / 250W |    928MiB / 16384MiB |      0%      Default |\n|                                         |                      |                  N/A |\n+-----------------------------------------+----------------------+----------------------+\n                                                                                         \n+---------------------------------------------------------------------------------------+\n| Processes:                                                                            |\n|  GPU   GI   CI        PID   Type   Process name                            GPU Memory |\n|        ID   ID                                                             Usage      |\n|=======================================================================================|\n+---------------------------------------------------------------------------------------+\nNormalized Values Shape: torch.Size([32, 100, 300])\nThe Normalized Values are on: cuda:0\nTotal allocated memory: 654126080 bytes\nSun Mar 10 23:07:37 2024       \n+---------------------------------------------------------------------------------------+\n| NVIDIA-SMI 535.129.03             Driver Version: 535.129.03   CUDA Version: 12.2     |\n|-----------------------------------------+----------------------+----------------------+\n| GPU  Name                 Persistence-M | Bus-Id        Disp.A | Volatile Uncorr. ECC |\n| Fan  Temp   Perf          Pwr:Usage/Cap |         Memory-Usage | GPU-Util  Compute M. |\n|                                         |                      |               MIG M. |\n|=========================================+======================+======================|\n|   0  Tesla P100-PCIE-16GB           Off | 00000000:00:04.0 Off |                    0 |\n| N/A   39C    P0              32W / 250W |    948MiB / 16384MiB |      0%      Default |\n|                                         |                      |                  N/A |\n+-----------------------------------------+----------------------+----------------------+\n                                                                                         \n+---------------------------------------------------------------------------------------+\n| Processes:                                                                            |\n|  GPU   GI   CI        PID   Type   Process name                            GPU Memory |\n|        ID   ID                                                             Usage      |\n|=======================================================================================|\n+---------------------------------------------------------------------------------------+\nFF Output Shape: torch.Size([32, 100, 300])\nThe Output is on: cuda:0\nTotal allocated memory: 690668032 bytes\nSun Mar 10 23:07:38 2024       \n+---------------------------------------------------------------------------------------+\n| NVIDIA-SMI 535.129.03             Driver Version: 535.129.03   CUDA Version: 12.2     |\n|-----------------------------------------+----------------------+----------------------+\n| GPU  Name                 Persistence-M | Bus-Id        Disp.A | Volatile Uncorr. ECC |\n| Fan  Temp   Perf          Pwr:Usage/Cap |         Memory-Usage | GPU-Util  Compute M. |\n|                                         |                      |               MIG M. |\n|=========================================+======================+======================|\n|   0  Tesla P100-PCIE-16GB           Off | 00000000:00:04.0 Off |                    0 |\n| N/A   39C    P0              32W / 250W |    982MiB / 16384MiB |      0%      Default |\n|                                         |                      |                  N/A |\n+-----------------------------------------+----------------------+----------------------+\n                                                                                         \n+---------------------------------------------------------------------------------------+\n| Processes:                                                                            |\n|  GPU   GI   CI        PID   Type   Process name                            GPU Memory |\n|        ID   ID                                                             Usage      |\n|=======================================================================================|\n+---------------------------------------------------------------------------------------+\n",
     "output_type": "stream"
    }
   ]
  },
  {
   "cell_type": "markdown",
   "source": [
    "**We can now split our dataset into training and validation sets. When working on machine learning or deep learning models, we want to train the model on a subset of the data, and then test the accuracy of the model's predictions on the remaining data. This is called data splitting. We typically split the data into an 80/20 split, where we train the model on 80% of the data and test it on the remaining 20%.**"
   ],
   "metadata": {}
  },
  {
   "cell_type": "code",
   "source": [
    "print(f\"Total allocated memory: {torch.cuda.memory_allocated()} bytes\")\n",
    "!nvidia-smi\n",
    "#print('\\n\\n\\n\\n\\n\\n\\n\\n\\n\\n')\n",
    "#print(torch.cuda.memory_summary())"
   ],
   "metadata": {
    "execution": {
     "iopub.status.busy": "2024-03-10T23:07:38.300083Z",
     "iopub.execute_input": "2024-03-10T23:07:38.300437Z",
     "iopub.status.idle": "2024-03-10T23:07:39.401991Z",
     "shell.execute_reply.started": "2024-03-10T23:07:38.300405Z",
     "shell.execute_reply": "2024-03-10T23:07:39.400928Z"
    },
    "trusted": true
   },
   "execution_count": 38,
   "outputs": [
    {
     "name": "stdout",
     "text": "Total allocated memory: 690668032 bytes\nSun Mar 10 23:07:39 2024       \n+---------------------------------------------------------------------------------------+\n| NVIDIA-SMI 535.129.03             Driver Version: 535.129.03   CUDA Version: 12.2     |\n|-----------------------------------------+----------------------+----------------------+\n| GPU  Name                 Persistence-M | Bus-Id        Disp.A | Volatile Uncorr. ECC |\n| Fan  Temp   Perf          Pwr:Usage/Cap |         Memory-Usage | GPU-Util  Compute M. |\n|                                         |                      |               MIG M. |\n|=========================================+======================+======================|\n|   0  Tesla P100-PCIE-16GB           Off | 00000000:00:04.0 Off |                    0 |\n| N/A   39C    P0              31W / 250W |    982MiB / 16384MiB |      0%      Default |\n|                                         |                      |                  N/A |\n+-----------------------------------------+----------------------+----------------------+\n                                                                                         \n+---------------------------------------------------------------------------------------+\n| Processes:                                                                            |\n|  GPU   GI   CI        PID   Type   Process name                            GPU Memory |\n|        ID   ID                                                             Usage      |\n|=======================================================================================|\n+---------------------------------------------------------------------------------------+\n",
     "output_type": "stream"
    }
   ]
  },
  {
   "cell_type": "code",
   "source": [
    "stacked_encoder = StackedEncoder(num_layers, d_model, \n",
    "                                 seq_len, dropout, num_heads, d_ffn).to(device)"
   ],
   "metadata": {
    "execution": {
     "iopub.status.busy": "2024-03-10T23:07:39.403480Z",
     "iopub.execute_input": "2024-03-10T23:07:39.403844Z",
     "iopub.status.idle": "2024-03-10T23:07:39.469785Z",
     "shell.execute_reply.started": "2024-03-10T23:07:39.403750Z",
     "shell.execute_reply": "2024-03-10T23:07:39.468924Z"
    },
    "trusted": true
   },
   "execution_count": 39,
   "outputs": []
  },
  {
   "cell_type": "code",
   "source": [
    "!nvidia-smi\n",
    "#print('\\n\\n\\n\\n\\n\\n\\n\\n\\n\\n')\n",
    "#print(torch.cuda.memory_summary())"
   ],
   "metadata": {
    "execution": {
     "iopub.status.busy": "2024-03-10T23:07:39.470931Z",
     "iopub.execute_input": "2024-03-10T23:07:39.471201Z",
     "iopub.status.idle": "2024-03-10T23:07:40.575693Z",
     "shell.execute_reply.started": "2024-03-10T23:07:39.471177Z",
     "shell.execute_reply": "2024-03-10T23:07:40.574475Z"
    },
    "trusted": true
   },
   "execution_count": 40,
   "outputs": [
    {
     "name": "stdout",
     "text": "Sun Mar 10 23:07:40 2024       \n+---------------------------------------------------------------------------------------+\n| NVIDIA-SMI 535.129.03             Driver Version: 535.129.03   CUDA Version: 12.2     |\n|-----------------------------------------+----------------------+----------------------+\n| GPU  Name                 Persistence-M | Bus-Id        Disp.A | Volatile Uncorr. ECC |\n| Fan  Temp   Perf          Pwr:Usage/Cap |         Memory-Usage | GPU-Util  Compute M. |\n|                                         |                      |               MIG M. |\n|=========================================+======================+======================|\n|   0  Tesla P100-PCIE-16GB           Off | 00000000:00:04.0 Off |                    0 |\n| N/A   39C    P0              32W / 250W |    982MiB / 16384MiB |      0%      Default |\n|                                         |                      |                  N/A |\n+-----------------------------------------+----------------------+----------------------+\n                                                                                         \n+---------------------------------------------------------------------------------------+\n| Processes:                                                                            |\n|  GPU   GI   CI        PID   Type   Process name                            GPU Memory |\n|        ID   ID                                                             Usage      |\n|=======================================================================================|\n+---------------------------------------------------------------------------------------+\n",
     "output_type": "stream"
    }
   ]
  },
  {
   "cell_type": "code",
   "source": [
    "# DataLoader\n",
    "data_loader = DataLoader(dataset, batch_size = 32, shuffle = True)"
   ],
   "metadata": {
    "execution": {
     "iopub.status.busy": "2024-03-10T23:07:40.577197Z",
     "iopub.execute_input": "2024-03-10T23:07:40.577536Z",
     "iopub.status.idle": "2024-03-10T23:07:40.583537Z",
     "shell.execute_reply.started": "2024-03-10T23:07:40.577506Z",
     "shell.execute_reply": "2024-03-10T23:07:40.582504Z"
    },
    "trusted": true
   },
   "execution_count": 41,
   "outputs": []
  },
  {
   "cell_type": "code",
   "source": [
    "total_encoded_batches = []  # List to store encoded batches\n",
    "total_y_batches = []        # List to store corresponding y batches\n",
    "i = 0\n",
    "\n",
    "for x_batch, y_batch in data_loader:\n",
    "    print(f'Size of batch: {x_batch.shape}')\n",
    "    i += 1\n",
    "    print(i)\n",
    "    print(f\"Total allocated memory: {torch.cuda.memory_allocated()} bytes\")\n",
    "    \n",
    "    # Move the batch to the device\n",
    "    x_batch = x_batch.to(device)\n",
    "    y_batch = y_batch.to(device)\n",
    "    \n",
    "    # Encode the batch using the stacked_encoder\n",
    "    encoded_batch = stacked_encoder(x_batch)\n",
    "    \n",
    "    # Append the encoded batch to the list\n",
    "    total_encoded_batches.append(encoded_batch.detach().cpu())\n",
    "    total_y_batches.append(y_batch.detach().cpu())\n",
    "    \n",
    "    print(f'Current Size of Reviews: {len(total_encoded_batches)} tensors')\n",
    "    print(f'Current Size of Ratings: {len(total_y_batches)} tensors')\n",
    "\n",
    "\n",
    "# Concatenate all the encoded batches into a single tensor\n",
    "total_encoded_batch = torch.cat(total_encoded_batches, dim = 0)\n",
    "\n",
    "# Concatenate all the corresponding y batches into a single tensor\n",
    "total_y_batch = torch.cat(total_y_batches, dim = 0)\n",
    "\n",
    "print(f'Concatenated Reviews Size: {total_encoded_batch.shape}')\n",
    "print(f'Concatenated Ratings Size: {total_y_batch.shape}')"
   ],
   "metadata": {
    "execution": {
     "iopub.status.busy": "2024-03-10T23:07:40.584448Z",
     "iopub.execute_input": "2024-03-10T23:07:40.584721Z",
     "iopub.status.idle": "2024-03-10T23:07:44.215250Z",
     "shell.execute_reply.started": "2024-03-10T23:07:40.584700Z",
     "shell.execute_reply": "2024-03-10T23:07:44.214201Z"
    },
    "trusted": true
   },
   "execution_count": 42,
   "outputs": [
    {
     "name": "stdout",
     "text": "Size of batch: torch.Size([32, 100, 300])\n1\nTotal allocated memory: 713262080 bytes\nCurrent Size of Reviews: 1 tensors\nCurrent Size of Ratings: 1 tensors\nSize of batch: torch.Size([32, 100, 300])\n2\nTotal allocated memory: 1194400256 bytes\nCurrent Size of Reviews: 2 tensors\nCurrent Size of Ratings: 2 tensors\nSize of batch: torch.Size([32, 100, 300])\n3\nTotal allocated memory: 1194236416 bytes\nCurrent Size of Reviews: 3 tensors\nCurrent Size of Ratings: 3 tensors\nSize of batch: torch.Size([32, 100, 300])\n4\nTotal allocated memory: 1195784704 bytes\nCurrent Size of Reviews: 4 tensors\nCurrent Size of Ratings: 4 tensors\nSize of batch: torch.Size([32, 100, 300])\n5\nTotal allocated memory: 1195209216 bytes\nCurrent Size of Reviews: 5 tensors\nCurrent Size of Ratings: 5 tensors\nSize of batch: torch.Size([32, 100, 300])\n6\nTotal allocated memory: 1195303424 bytes\nCurrent Size of Reviews: 6 tensors\nCurrent Size of Ratings: 6 tensors\nSize of batch: torch.Size([32, 100, 300])\n7\nTotal allocated memory: 1195465216 bytes\nCurrent Size of Reviews: 7 tensors\nCurrent Size of Ratings: 7 tensors\nSize of batch: torch.Size([32, 100, 300])\n8\nTotal allocated memory: 1193355776 bytes\nCurrent Size of Reviews: 8 tensors\nCurrent Size of Ratings: 8 tensors\nSize of batch: torch.Size([32, 100, 300])\n9\nTotal allocated memory: 1195276800 bytes\nCurrent Size of Reviews: 9 tensors\nCurrent Size of Ratings: 9 tensors\nSize of batch: torch.Size([32, 100, 300])\n10\nTotal allocated memory: 1194738176 bytes\nCurrent Size of Reviews: 10 tensors\nCurrent Size of Ratings: 10 tensors\nSize of batch: torch.Size([32, 100, 300])\n11\nTotal allocated memory: 1194969600 bytes\nCurrent Size of Reviews: 11 tensors\nCurrent Size of Ratings: 11 tensors\nSize of batch: torch.Size([32, 100, 300])\n12\nTotal allocated memory: 1193941504 bytes\nCurrent Size of Reviews: 12 tensors\nCurrent Size of Ratings: 12 tensors\nSize of batch: torch.Size([32, 100, 300])\n13\nTotal allocated memory: 1194500608 bytes\nCurrent Size of Reviews: 13 tensors\nCurrent Size of Ratings: 13 tensors\nSize of batch: torch.Size([32, 100, 300])\n14\nTotal allocated memory: 1194248704 bytes\nCurrent Size of Reviews: 14 tensors\nCurrent Size of Ratings: 14 tensors\nSize of batch: torch.Size([32, 100, 300])\n15\nTotal allocated memory: 1193716224 bytes\nCurrent Size of Reviews: 15 tensors\nCurrent Size of Ratings: 15 tensors\nSize of batch: torch.Size([32, 100, 300])\n16\nTotal allocated memory: 1196196352 bytes\nCurrent Size of Reviews: 16 tensors\nCurrent Size of Ratings: 16 tensors\nSize of batch: torch.Size([32, 100, 300])\n17\nTotal allocated memory: 1194185216 bytes\nCurrent Size of Reviews: 17 tensors\nCurrent Size of Ratings: 17 tensors\nSize of batch: torch.Size([32, 100, 300])\n18\nTotal allocated memory: 1195522560 bytes\nCurrent Size of Reviews: 18 tensors\nCurrent Size of Ratings: 18 tensors\nSize of batch: torch.Size([32, 100, 300])\n19\nTotal allocated memory: 1194404352 bytes\nCurrent Size of Reviews: 19 tensors\nCurrent Size of Ratings: 19 tensors\nSize of batch: torch.Size([32, 100, 300])\n20\nTotal allocated memory: 1194637824 bytes\nCurrent Size of Reviews: 20 tensors\nCurrent Size of Ratings: 20 tensors\nSize of batch: torch.Size([32, 100, 300])\n21\nTotal allocated memory: 1192303104 bytes\nCurrent Size of Reviews: 21 tensors\nCurrent Size of Ratings: 21 tensors\nSize of batch: torch.Size([32, 100, 300])\n22\nTotal allocated memory: 1195876864 bytes\nCurrent Size of Reviews: 22 tensors\nCurrent Size of Ratings: 22 tensors\nSize of batch: torch.Size([32, 100, 300])\n23\nTotal allocated memory: 1192448512 bytes\nCurrent Size of Reviews: 23 tensors\nCurrent Size of Ratings: 23 tensors\nSize of batch: torch.Size([32, 100, 300])\n24\nTotal allocated memory: 1194529280 bytes\nCurrent Size of Reviews: 24 tensors\nCurrent Size of Ratings: 24 tensors\nSize of batch: torch.Size([32, 100, 300])\n25\nTotal allocated memory: 1192448512 bytes\nCurrent Size of Reviews: 25 tensors\nCurrent Size of Ratings: 25 tensors\nSize of batch: torch.Size([32, 100, 300])\n26\nTotal allocated memory: 1195729408 bytes\nCurrent Size of Reviews: 26 tensors\nCurrent Size of Ratings: 26 tensors\nSize of batch: torch.Size([32, 100, 300])\n27\nTotal allocated memory: 1191649792 bytes\nCurrent Size of Reviews: 27 tensors\nCurrent Size of Ratings: 27 tensors\nSize of batch: torch.Size([32, 100, 300])\n28\nTotal allocated memory: 1196712448 bytes\nCurrent Size of Reviews: 28 tensors\nCurrent Size of Ratings: 28 tensors\nSize of batch: torch.Size([32, 100, 300])\n29\nTotal allocated memory: 1191465472 bytes\nCurrent Size of Reviews: 29 tensors\nCurrent Size of Ratings: 29 tensors\nSize of batch: torch.Size([32, 100, 300])\n30\nTotal allocated memory: 1196405248 bytes\nCurrent Size of Reviews: 30 tensors\nCurrent Size of Ratings: 30 tensors\nSize of batch: torch.Size([32, 100, 300])\n31\nTotal allocated memory: 1190973952 bytes\nCurrent Size of Reviews: 31 tensors\nCurrent Size of Ratings: 31 tensors\nSize of batch: torch.Size([32, 100, 300])\n32\nTotal allocated memory: 1197275648 bytes\nCurrent Size of Reviews: 32 tensors\nCurrent Size of Ratings: 32 tensors\nSize of batch: torch.Size([32, 100, 300])\n33\nTotal allocated memory: 1191956992 bytes\nCurrent Size of Reviews: 33 tensors\nCurrent Size of Ratings: 33 tensors\nSize of batch: torch.Size([32, 100, 300])\n34\nTotal allocated memory: 1195594240 bytes\nCurrent Size of Reviews: 34 tensors\nCurrent Size of Ratings: 34 tensors\nSize of batch: torch.Size([32, 100, 300])\n35\nTotal allocated memory: 1190478336 bytes\nCurrent Size of Reviews: 35 tensors\nCurrent Size of Ratings: 35 tensors\nSize of batch: torch.Size([32, 100, 300])\n36\nTotal allocated memory: 1194048000 bytes\nCurrent Size of Reviews: 36 tensors\nCurrent Size of Ratings: 36 tensors\nSize of batch: torch.Size([32, 100, 300])\n37\nTotal allocated memory: 1190703616 bytes\nCurrent Size of Reviews: 37 tensors\nCurrent Size of Ratings: 37 tensors\nSize of batch: torch.Size([32, 100, 300])\n38\nTotal allocated memory: 1193484800 bytes\nCurrent Size of Reviews: 38 tensors\nCurrent Size of Ratings: 38 tensors\nSize of batch: torch.Size([32, 100, 300])\n39\nTotal allocated memory: 1192921600 bytes\nCurrent Size of Reviews: 39 tensors\nCurrent Size of Ratings: 39 tensors\nSize of batch: torch.Size([32, 100, 300])\n40\nTotal allocated memory: 1192307200 bytes\nCurrent Size of Reviews: 40 tensors\nCurrent Size of Ratings: 40 tensors\nSize of batch: torch.Size([32, 100, 300])\n41\nTotal allocated memory: 1192174080 bytes\nCurrent Size of Reviews: 41 tensors\nCurrent Size of Ratings: 41 tensors\nSize of batch: torch.Size([32, 100, 300])\n42\nTotal allocated memory: 1190693376 bytes\nCurrent Size of Reviews: 42 tensors\nCurrent Size of Ratings: 42 tensors\nSize of batch: torch.Size([32, 100, 300])\n43\nTotal allocated memory: 1193157120 bytes\nCurrent Size of Reviews: 43 tensors\nCurrent Size of Ratings: 43 tensors\nSize of batch: torch.Size([32, 100, 300])\n44\nTotal allocated memory: 1192378880 bytes\nCurrent Size of Reviews: 44 tensors\nCurrent Size of Ratings: 44 tensors\nSize of batch: torch.Size([32, 100, 300])\n45\nTotal allocated memory: 1193228800 bytes\nCurrent Size of Reviews: 45 tensors\nCurrent Size of Ratings: 45 tensors\nSize of batch: torch.Size([32, 100, 300])\n46\nTotal allocated memory: 1191031296 bytes\nCurrent Size of Reviews: 46 tensors\nCurrent Size of Ratings: 46 tensors\nSize of batch: torch.Size([32, 100, 300])\n47\nTotal allocated memory: 1193157120 bytes\nCurrent Size of Reviews: 47 tensors\nCurrent Size of Ratings: 47 tensors\nSize of batch: torch.Size([32, 100, 300])\n48\nTotal allocated memory: 1193167360 bytes\nCurrent Size of Reviews: 48 tensors\nCurrent Size of Ratings: 48 tensors\nSize of batch: torch.Size([32, 100, 300])\n49\nTotal allocated memory: 1194027520 bytes\nCurrent Size of Reviews: 49 tensors\nCurrent Size of Ratings: 49 tensors\nSize of batch: torch.Size([32, 100, 300])\n50\nTotal allocated memory: 1193550336 bytes\nCurrent Size of Reviews: 50 tensors\nCurrent Size of Ratings: 50 tensors\nSize of batch: torch.Size([32, 100, 300])\n51\nTotal allocated memory: 1192864256 bytes\nCurrent Size of Reviews: 51 tensors\nCurrent Size of Ratings: 51 tensors\nSize of batch: torch.Size([32, 100, 300])\n52\nTotal allocated memory: 1193216512 bytes\nCurrent Size of Reviews: 52 tensors\nCurrent Size of Ratings: 52 tensors\nSize of batch: torch.Size([32, 100, 300])\n53\nTotal allocated memory: 1193536000 bytes\nCurrent Size of Reviews: 53 tensors\nCurrent Size of Ratings: 53 tensors\nSize of batch: torch.Size([32, 100, 300])\n54\nTotal allocated memory: 1192942080 bytes\nCurrent Size of Reviews: 54 tensors\nCurrent Size of Ratings: 54 tensors\nSize of batch: torch.Size([32, 100, 300])\n55\nTotal allocated memory: 1194103296 bytes\nCurrent Size of Reviews: 55 tensors\nCurrent Size of Ratings: 55 tensors\nSize of batch: torch.Size([32, 100, 300])\n56\nTotal allocated memory: 1191703040 bytes\nCurrent Size of Reviews: 56 tensors\nCurrent Size of Ratings: 56 tensors\nSize of batch: torch.Size([32, 100, 300])\n57\nTotal allocated memory: 1193579008 bytes\nCurrent Size of Reviews: 57 tensors\nCurrent Size of Ratings: 57 tensors\nSize of batch: torch.Size([32, 100, 300])\n58\nTotal allocated memory: 1193357824 bytes\nCurrent Size of Reviews: 58 tensors\nCurrent Size of Ratings: 58 tensors\nSize of batch: torch.Size([32, 100, 300])\n59\nTotal allocated memory: 1192718848 bytes\nCurrent Size of Reviews: 59 tensors\nCurrent Size of Ratings: 59 tensors\nSize of batch: torch.Size([32, 100, 300])\n60\nTotal allocated memory: 1194217984 bytes\nCurrent Size of Reviews: 60 tensors\nCurrent Size of Ratings: 60 tensors\nSize of batch: torch.Size([32, 100, 300])\n61\nTotal allocated memory: 1192718848 bytes\nCurrent Size of Reviews: 61 tensors\nCurrent Size of Ratings: 61 tensors\nSize of batch: torch.Size([32, 100, 300])\n62\nTotal allocated memory: 1194435072 bytes\nCurrent Size of Reviews: 62 tensors\nCurrent Size of Ratings: 62 tensors\nSize of batch: torch.Size([32, 100, 300])\n63\nTotal allocated memory: 1192718848 bytes\nCurrent Size of Reviews: 63 tensors\nCurrent Size of Ratings: 63 tensors\nSize of batch: torch.Size([32, 100, 300])\n64\nTotal allocated memory: 1193871872 bytes\nCurrent Size of Reviews: 64 tensors\nCurrent Size of Ratings: 64 tensors\nSize of batch: torch.Size([32, 100, 300])\n65\nTotal allocated memory: 1191627264 bytes\nCurrent Size of Reviews: 65 tensors\nCurrent Size of Ratings: 65 tensors\nSize of batch: torch.Size([32, 100, 300])\n66\nTotal allocated memory: 1195305472 bytes\nCurrent Size of Reviews: 66 tensors\nCurrent Size of Ratings: 66 tensors\nSize of batch: torch.Size([32, 100, 300])\n67\nTotal allocated memory: 1192538624 bytes\nCurrent Size of Reviews: 67 tensors\nCurrent Size of Ratings: 67 tensors\nSize of batch: torch.Size([32, 100, 300])\n68\nTotal allocated memory: 1195452928 bytes\nCurrent Size of Reviews: 68 tensors\nCurrent Size of Ratings: 68 tensors\nSize of batch: torch.Size([32, 100, 300])\n69\nTotal allocated memory: 1190875648 bytes\nCurrent Size of Reviews: 69 tensors\nCurrent Size of Ratings: 69 tensors\nSize of batch: torch.Size([32, 100, 300])\n70\nTotal allocated memory: 1195344384 bytes\nCurrent Size of Reviews: 70 tensors\nCurrent Size of Ratings: 70 tensors\nSize of batch: torch.Size([32, 100, 300])\n71\nTotal allocated memory: 1192755712 bytes\nCurrent Size of Reviews: 71 tensors\nCurrent Size of Ratings: 71 tensors\nSize of batch: torch.Size([32, 100, 300])\n72\nTotal allocated memory: 1194852864 bytes\nCurrent Size of Reviews: 72 tensors\nCurrent Size of Ratings: 72 tensors\nSize of batch: torch.Size([32, 100, 300])\n73\nTotal allocated memory: 1193247232 bytes\nCurrent Size of Reviews: 73 tensors\nCurrent Size of Ratings: 73 tensors\nSize of batch: torch.Size([32, 100, 300])\n74\nTotal allocated memory: 1194668544 bytes\nCurrent Size of Reviews: 74 tensors\nCurrent Size of Ratings: 74 tensors\nSize of batch: torch.Size([32, 100, 300])\n75\nTotal allocated memory: 1193431552 bytes\nCurrent Size of Reviews: 75 tensors\nCurrent Size of Ratings: 75 tensors\nSize of batch: torch.Size([32, 100, 300])\n76\nTotal allocated memory: 1194375680 bytes\nCurrent Size of Reviews: 76 tensors\nCurrent Size of Ratings: 76 tensors\nSize of batch: torch.Size([32, 100, 300])\n77\nTotal allocated memory: 1193161216 bytes\nCurrent Size of Reviews: 77 tensors\nCurrent Size of Ratings: 77 tensors\nSize of batch: torch.Size([32, 100, 300])\n78\nTotal allocated memory: 1192983040 bytes\nCurrent Size of Reviews: 78 tensors\nCurrent Size of Ratings: 78 tensors\nSize of batch: torch.Size([32, 100, 300])\n79\nTotal allocated memory: 1192489472 bytes\nCurrent Size of Reviews: 79 tensors\nCurrent Size of Ratings: 79 tensors\nSize of batch: torch.Size([32, 100, 300])\n80\nTotal allocated memory: 1194023424 bytes\nCurrent Size of Reviews: 80 tensors\nCurrent Size of Ratings: 80 tensors\nSize of batch: torch.Size([32, 100, 300])\n81\nTotal allocated memory: 1192720896 bytes\nCurrent Size of Reviews: 81 tensors\nCurrent Size of Ratings: 81 tensors\nSize of batch: torch.Size([32, 100, 300])\n82\nTotal allocated memory: 1194099200 bytes\nCurrent Size of Reviews: 82 tensors\nCurrent Size of Ratings: 82 tensors\nSize of batch: torch.Size([32, 100, 300])\n83\nTotal allocated memory: 1191860736 bytes\nCurrent Size of Reviews: 83 tensors\nCurrent Size of Ratings: 83 tensors\nSize of batch: torch.Size([32, 100, 300])\n84\nTotal allocated memory: 1193792000 bytes\nCurrent Size of Reviews: 84 tensors\nCurrent Size of Ratings: 84 tensors\nSize of batch: torch.Size([32, 100, 300])\n85\nTotal allocated memory: 1194416640 bytes\nCurrent Size of Reviews: 85 tensors\nCurrent Size of Ratings: 85 tensors\nSize of batch: torch.Size([32, 100, 300])\n86\nTotal allocated memory: 1193792000 bytes\nCurrent Size of Reviews: 86 tensors\nCurrent Size of Ratings: 86 tensors\nSize of batch: torch.Size([32, 100, 300])\n87\nTotal allocated memory: 1194615296 bytes\nCurrent Size of Reviews: 87 tensors\nCurrent Size of Ratings: 87 tensors\nSize of batch: torch.Size([32, 100, 300])\n88\nTotal allocated memory: 1193976320 bytes\nCurrent Size of Reviews: 88 tensors\nCurrent Size of Ratings: 88 tensors\nSize of batch: torch.Size([32, 100, 300])\n89\nTotal allocated memory: 1193830912 bytes\nCurrent Size of Reviews: 89 tensors\nCurrent Size of Ratings: 89 tensors\nSize of batch: torch.Size([32, 100, 300])\n90\nTotal allocated memory: 1194084864 bytes\nCurrent Size of Reviews: 90 tensors\nCurrent Size of Ratings: 90 tensors\nSize of batch: torch.Size([32, 100, 300])\n91\nTotal allocated memory: 1194015232 bytes\nCurrent Size of Reviews: 91 tensors\nCurrent Size of Ratings: 91 tensors\nSize of batch: torch.Size([32, 100, 300])\n92\nTotal allocated memory: 1193716224 bytes\nCurrent Size of Reviews: 92 tensors\nCurrent Size of Ratings: 92 tensors\nSize of batch: torch.Size([32, 100, 300])\n93\nTotal allocated memory: 1194383872 bytes\nCurrent Size of Reviews: 93 tensors\nCurrent Size of Ratings: 93 tensors\nSize of batch: torch.Size([32, 100, 300])\n94\nTotal allocated memory: 1193239040 bytes\nCurrent Size of Reviews: 94 tensors\nCurrent Size of Ratings: 94 tensors\nSize of batch: torch.Size([32, 100, 300])\n95\nTotal allocated memory: 1194568192 bytes\nCurrent Size of Reviews: 95 tensors\nCurrent Size of Ratings: 95 tensors\nSize of batch: torch.Size([32, 100, 300])\n96\nTotal allocated memory: 1192851968 bytes\nCurrent Size of Reviews: 96 tensors\nCurrent Size of Ratings: 96 tensors\nSize of batch: torch.Size([32, 100, 300])\n97\nTotal allocated memory: 1193708032 bytes\nCurrent Size of Reviews: 97 tensors\nCurrent Size of Ratings: 97 tensors\nSize of batch: torch.Size([32, 100, 300])\n98\nTotal allocated memory: 1193978368 bytes\nCurrent Size of Reviews: 98 tensors\nCurrent Size of Ratings: 98 tensors\nSize of batch: torch.Size([32, 100, 300])\n99\nTotal allocated memory: 1192432128 bytes\nCurrent Size of Reviews: 99 tensors\nCurrent Size of Ratings: 99 tensors\nSize of batch: torch.Size([32, 100, 300])\n100\nTotal allocated memory: 1195708928 bytes\nCurrent Size of Reviews: 100 tensors\nCurrent Size of Ratings: 100 tensors\nSize of batch: torch.Size([32, 100, 300])\n101\nTotal allocated memory: 1194271232 bytes\nCurrent Size of Reviews: 101 tensors\nCurrent Size of Ratings: 101 tensors\nSize of batch: torch.Size([32, 100, 300])\n102\nTotal allocated memory: 1195033088 bytes\nCurrent Size of Reviews: 102 tensors\nCurrent Size of Ratings: 102 tensors\nSize of batch: torch.Size([32, 100, 300])\n103\nTotal allocated memory: 1194347008 bytes\nCurrent Size of Reviews: 103 tensors\nCurrent Size of Ratings: 103 tensors\nSize of batch: torch.Size([32, 100, 300])\n104\nTotal allocated memory: 1194848768 bytes\nCurrent Size of Reviews: 104 tensors\nCurrent Size of Ratings: 104 tensors\nSize of batch: torch.Size([32, 100, 300])\n105\nTotal allocated memory: 1194531328 bytes\nCurrent Size of Reviews: 105 tensors\nCurrent Size of Ratings: 105 tensors\nSize of batch: torch.Size([32, 100, 300])\n106\nTotal allocated memory: 1194848768 bytes\nCurrent Size of Reviews: 106 tensors\nCurrent Size of Ratings: 106 tensors\nSize of batch: torch.Size([32, 100, 300])\n107\nTotal allocated memory: 1192651264 bytes\nCurrent Size of Reviews: 107 tensors\nCurrent Size of Ratings: 107 tensors\nSize of batch: torch.Size([32, 100, 300])\n108\nTotal allocated memory: 1195448832 bytes\nCurrent Size of Reviews: 108 tensors\nCurrent Size of Ratings: 108 tensors\nSize of batch: torch.Size([32, 100, 300])\n109\nTotal allocated memory: 1194162688 bytes\nCurrent Size of Reviews: 109 tensors\nCurrent Size of Ratings: 109 tensors\nSize of batch: torch.Size([32, 100, 300])\n110\nTotal allocated memory: 1195524608 bytes\nCurrent Size of Reviews: 110 tensors\nCurrent Size of Ratings: 110 tensors\nSize of batch: torch.Size([32, 100, 300])\n111\nTotal allocated memory: 1194347008 bytes\nCurrent Size of Reviews: 111 tensors\nCurrent Size of Ratings: 111 tensors\nSize of batch: torch.Size([32, 100, 300])\n112\nTotal allocated memory: 1193865728 bytes\nCurrent Size of Reviews: 112 tensors\nCurrent Size of Ratings: 112 tensors\nSize of batch: torch.Size([32, 100, 300])\n113\nTotal allocated memory: 1194729984 bytes\nCurrent Size of Reviews: 113 tensors\nCurrent Size of Ratings: 113 tensors\nSize of batch: torch.Size([32, 100, 300])\n114\nTotal allocated memory: 1194357248 bytes\nCurrent Size of Reviews: 114 tensors\nCurrent Size of Ratings: 114 tensors\nSize of batch: torch.Size([32, 100, 300])\n115\nTotal allocated memory: 1194422784 bytes\nCurrent Size of Reviews: 115 tensors\nCurrent Size of Ratings: 115 tensors\nSize of batch: torch.Size([32, 100, 300])\n116\nTotal allocated memory: 1194848768 bytes\nCurrent Size of Reviews: 116 tensors\nCurrent Size of Ratings: 116 tensors\nSize of batch: torch.Size([32, 100, 300])\n117\nTotal allocated memory: 1194265088 bytes\nCurrent Size of Reviews: 117 tensors\nCurrent Size of Ratings: 117 tensors\nSize of batch: torch.Size([32, 100, 300])\n118\nTotal allocated memory: 1195231744 bytes\nCurrent Size of Reviews: 118 tensors\nCurrent Size of Ratings: 118 tensors\nSize of batch: torch.Size([32, 100, 300])\n119\nTotal allocated memory: 1192999424 bytes\nCurrent Size of Reviews: 119 tensors\nCurrent Size of Ratings: 119 tensors\nSize of batch: torch.Size([32, 100, 300])\n120\nTotal allocated memory: 1194916352 bytes\nCurrent Size of Reviews: 120 tensors\nCurrent Size of Ratings: 120 tensors\nSize of batch: torch.Size([32, 100, 300])\n121\nTotal allocated memory: 1192507904 bytes\nCurrent Size of Reviews: 121 tensors\nCurrent Size of Ratings: 121 tensors\nSize of batch: torch.Size([32, 100, 300])\n122\nTotal allocated memory: 1194514944 bytes\nCurrent Size of Reviews: 122 tensors\nCurrent Size of Ratings: 122 tensors\nSize of batch: torch.Size([32, 100, 300])\n123\nTotal allocated memory: 1192876544 bytes\nCurrent Size of Reviews: 123 tensors\nCurrent Size of Ratings: 123 tensors\nSize of batch: torch.Size([32, 100, 300])\n124\nTotal allocated memory: 1194146304 bytes\nCurrent Size of Reviews: 124 tensors\nCurrent Size of Ratings: 124 tensors\nSize of batch: torch.Size([32, 100, 300])\n125\nTotal allocated memory: 1193060864 bytes\nCurrent Size of Reviews: 125 tensors\nCurrent Size of Ratings: 125 tensors\nSize of batch: torch.Size([32, 100, 300])\n126\nTotal allocated memory: 1194746368 bytes\nCurrent Size of Reviews: 126 tensors\nCurrent Size of Ratings: 126 tensors\nSize of batch: torch.Size([32, 100, 300])\n127\nTotal allocated memory: 1193968128 bytes\nCurrent Size of Reviews: 127 tensors\nCurrent Size of Ratings: 127 tensors\nSize of batch: torch.Size([32, 100, 300])\n128\nTotal allocated memory: 1193947648 bytes\nCurrent Size of Reviews: 128 tensors\nCurrent Size of Ratings: 128 tensors\nSize of batch: torch.Size([32, 100, 300])\n129\nTotal allocated memory: 1192876544 bytes\nCurrent Size of Reviews: 129 tensors\nCurrent Size of Ratings: 129 tensors\nSize of batch: torch.Size([32, 100, 300])\n130\nTotal allocated memory: 1195039232 bytes\nCurrent Size of Reviews: 130 tensors\nCurrent Size of Ratings: 130 tensors\nSize of batch: torch.Size([32, 100, 300])\n131\nTotal allocated memory: 1193060864 bytes\nCurrent Size of Reviews: 131 tensors\nCurrent Size of Ratings: 131 tensors\nSize of batch: torch.Size([32, 100, 300])\n132\nTotal allocated memory: 1194547712 bytes\nCurrent Size of Reviews: 132 tensors\nCurrent Size of Ratings: 132 tensors\nSize of batch: torch.Size([32, 100, 300])\n133\nTotal allocated memory: 1194459648 bytes\nCurrent Size of Reviews: 133 tensors\nCurrent Size of Ratings: 133 tensors\nSize of batch: torch.Size([32, 100, 300])\n134\nTotal allocated memory: 1193640448 bytes\nCurrent Size of Reviews: 134 tensors\nCurrent Size of Ratings: 134 tensors\nSize of batch: torch.Size([32, 100, 300])\n135\nTotal allocated memory: 1194004992 bytes\nCurrent Size of Reviews: 135 tensors\nCurrent Size of Ratings: 135 tensors\nSize of batch: torch.Size([32, 100, 300])\n136\nTotal allocated memory: 1193640448 bytes\nCurrent Size of Reviews: 136 tensors\nCurrent Size of Ratings: 136 tensors\nSize of batch: torch.Size([32, 100, 300])\n137\nTotal allocated memory: 1193636352 bytes\nCurrent Size of Reviews: 137 tensors\nCurrent Size of Ratings: 137 tensors\nSize of batch: torch.Size([32, 100, 300])\n138\nTotal allocated memory: 1194009088 bytes\nCurrent Size of Reviews: 138 tensors\nCurrent Size of Ratings: 138 tensors\nSize of batch: torch.Size([32, 100, 300])\n139\nTotal allocated memory: 1191827968 bytes\nCurrent Size of Reviews: 139 tensors\nCurrent Size of Ratings: 139 tensors\nSize of batch: torch.Size([32, 100, 300])\n140\nTotal allocated memory: 1194500608 bytes\nCurrent Size of Reviews: 140 tensors\nCurrent Size of Ratings: 140 tensors\nSize of batch: torch.Size([32, 100, 300])\n141\nTotal allocated memory: 1193306624 bytes\nCurrent Size of Reviews: 141 tensors\nCurrent Size of Ratings: 141 tensors\nSize of batch: torch.Size([32, 100, 300])\n142\nTotal allocated memory: 1194609152 bytes\nCurrent Size of Reviews: 142 tensors\nCurrent Size of Ratings: 142 tensors\nSize of batch: torch.Size([32, 100, 300])\n143\nTotal allocated memory: 1191719424 bytes\nCurrent Size of Reviews: 143 tensors\nCurrent Size of Ratings: 143 tensors\nSize of batch: torch.Size([32, 100, 300])\n144\nTotal allocated memory: 1193933312 bytes\nCurrent Size of Reviews: 144 tensors\nCurrent Size of Ratings: 144 tensors\nSize of batch: torch.Size([32, 100, 300])\n145\nTotal allocated memory: 1192395264 bytes\nCurrent Size of Reviews: 145 tensors\nCurrent Size of Ratings: 145 tensors\nSize of batch: torch.Size([32, 100, 300])\n146\nTotal allocated memory: 1193933312 bytes\nCurrent Size of Reviews: 146 tensors\nCurrent Size of Ratings: 146 tensors\nSize of batch: torch.Size([32, 100, 300])\n147\nTotal allocated memory: 1194166784 bytes\nCurrent Size of Reviews: 147 tensors\nCurrent Size of Ratings: 147 tensors\nSize of batch: torch.Size([32, 100, 300])\n148\nTotal allocated memory: 1193748992 bytes\nCurrent Size of Reviews: 148 tensors\nCurrent Size of Ratings: 148 tensors\nSize of batch: torch.Size([32, 100, 300])\n149\nTotal allocated memory: 1194166784 bytes\nCurrent Size of Reviews: 149 tensors\nCurrent Size of Ratings: 149 tensors\nSize of batch: torch.Size([32, 100, 300])\n150\nTotal allocated memory: 1192780288 bytes\nCurrent Size of Reviews: 150 tensors\nCurrent Size of Ratings: 150 tensors\nSize of batch: torch.Size([32, 100, 300])\n151\nTotal allocated memory: 1194351104 bytes\nCurrent Size of Reviews: 151 tensors\nCurrent Size of Ratings: 151 tensors\nSize of batch: torch.Size([32, 100, 300])\n152\nTotal allocated memory: 1192964608 bytes\nCurrent Size of Reviews: 152 tensors\nCurrent Size of Ratings: 152 tensors\nSize of batch: torch.Size([32, 100, 300])\n153\nTotal allocated memory: 1195258368 bytes\nCurrent Size of Reviews: 153 tensors\nCurrent Size of Ratings: 153 tensors\nSize of batch: torch.Size([32, 100, 300])\n154\nTotal allocated memory: 1193148928 bytes\nCurrent Size of Reviews: 154 tensors\nCurrent Size of Ratings: 154 tensors\nSize of batch: torch.Size([32, 100, 300])\n155\nTotal allocated memory: 1193179648 bytes\nCurrent Size of Reviews: 155 tensors\nCurrent Size of Ratings: 155 tensors\nSize of batch: torch.Size([32, 100, 300])\n156\nTotal allocated memory: 1193640448 bytes\nCurrent Size of Reviews: 156 tensors\nCurrent Size of Ratings: 156 tensors\nSize of batch: torch.Size([8, 100, 300])\n157\nTotal allocated memory: 1191579648 bytes\nCurrent Size of Reviews: 157 tensors\nCurrent Size of Ratings: 157 tensors\nConcatenated Reviews Size: torch.Size([5000, 100, 300])\nConcatenated Ratings Size: torch.Size([5000])\n",
     "output_type": "stream"
    }
   ]
  },
  {
   "cell_type": "code",
   "source": [
    "# total_encoded_batch = []\n",
    "# total_y_batch = []\n",
    "# i = 0\n",
    "\n",
    "# for x_batch, y_batch in data_loader:  # Iterate over the training batches\n",
    "#     print(f'size of batch: {x_batch.shape}')\n",
    "#     i = i + 1\n",
    "    \n",
    "#     print(i)\n",
    "#     print(f\"Total allocated memory: {torch.cuda.memory_allocated()} bytes\")\n",
    "    \n",
    "#     !nvidia-smi\n",
    "#     print('\\n\\n')\n",
    "    \n",
    "#     x_batch_encoded = stacked_encoder(x_batch).to(device)  # Encode the reviews using the stacked encoder\n",
    "    \n",
    "#     total_encoded_batch.append(x_batch_encoded)\n",
    "#     total_y_batch.append(y_batch)\n",
    "\n",
    "# total_encoded_batch = torch.cat(total_encoded_batch, dim = 0)  # Concatenate all the encoded batches into a single tensor\n",
    "# total_y_batch = torch.cat(total_y_batch)"
   ],
   "metadata": {
    "execution": {
     "iopub.status.busy": "2024-03-10T23:07:44.216453Z",
     "iopub.execute_input": "2024-03-10T23:07:44.216773Z",
     "iopub.status.idle": "2024-03-10T23:07:44.222990Z",
     "shell.execute_reply.started": "2024-03-10T23:07:44.216728Z",
     "shell.execute_reply": "2024-03-10T23:07:44.221949Z"
    },
    "trusted": true
   },
   "execution_count": 43,
   "outputs": []
  },
  {
   "cell_type": "code",
   "source": [
    "print(total_encoded_batch.shape)  # Check the shape of the combined encoded tensor\n",
    "print(total_y_batch.shape)\n",
    "print('\\n')\n",
    "print(f\"The Encoded batch is on: {total_encoded_batch.device}\")\n",
    "print(f\"The Y batch is on: {total_y_batch.device}\")\n",
    "print('\\n')\n",
    "print(stacked_encoder)\n",
    "print('\\n')\n",
    "\n",
    "\n",
    "# size in MB\n",
    "print(f'x_batch: { total_encoded_batch.nelement() * total_encoded_batch.element_size() }')\n",
    "print(f'y_batch: { total_y_batch.nelement() * total_y_batch.element_size() }')"
   ],
   "metadata": {
    "execution": {
     "iopub.status.busy": "2024-03-10T23:07:44.224745Z",
     "iopub.execute_input": "2024-03-10T23:07:44.225138Z",
     "iopub.status.idle": "2024-03-10T23:07:44.234660Z",
     "shell.execute_reply.started": "2024-03-10T23:07:44.225109Z",
     "shell.execute_reply": "2024-03-10T23:07:44.233734Z"
    },
    "trusted": true
   },
   "execution_count": 44,
   "outputs": [
    {
     "name": "stdout",
     "text": "torch.Size([5000, 100, 300])\ntorch.Size([5000])\n\n\nThe Encoded batch is on: cpu\nThe Y batch is on: cpu\n\n\nStackedEncoder(\n  (layers): ModuleList(\n    (0-5): 6 x EncoderLayer(\n      (positional_encoding): PositionalEncoding(\n        (dropout): Dropout(p=0.1, inplace=False)\n      )\n      (multihead_attention): MultiHeadedAttention()\n      (norm1): LayerNorm()\n      (feed_forward): PositionwiseFeedForward(\n        (w_1): Linear(in_features=300, out_features=1024, bias=True)\n        (w_2): Linear(in_features=1024, out_features=300, bias=True)\n        (dropout): Dropout(p=0.1, inplace=False)\n      )\n      (norm2): LayerNorm()\n    )\n  )\n)\n\n\nx_batch: 600000000\ny_batch: 40000\n",
     "output_type": "stream"
    }
   ]
  },
  {
   "cell_type": "code",
   "source": [
    "#del dataset\n",
    "#torch.cuda.empty_cache()\n",
    "\n",
    "#!nvidia-smi\n",
    "#print(torch.cuda.memory_summary())\n",
    "\n",
    "#print(f\"Total allocated memory: {torch.cuda.memory_allocated()} bytes\")\n",
    "#print('\\n\\n\\n\\n\\n\\n\\n\\n\\n\\n')\n",
    "#print(torch.cuda.memory_summary())"
   ],
   "metadata": {
    "execution": {
     "iopub.status.busy": "2024-03-10T23:07:44.236474Z",
     "iopub.execute_input": "2024-03-10T23:07:44.236868Z",
     "iopub.status.idle": "2024-03-10T23:07:44.247627Z",
     "shell.execute_reply.started": "2024-03-10T23:07:44.236833Z",
     "shell.execute_reply": "2024-03-10T23:07:44.246631Z"
    },
    "trusted": true
   },
   "execution_count": 45,
   "outputs": []
  },
  {
   "cell_type": "code",
   "source": [
    "print(total_encoded_batch.shape)  # Check the shape of the combined encoded tensor\n",
    "print(total_y_batch.shape)\n",
    "print('\\n')\n",
    "print(f\"The Encoded batch is on: {total_encoded_batch.device}\")\n",
    "print(f\"The Y batch is on: {total_y_batch.device}\")"
   ],
   "metadata": {
    "execution": {
     "iopub.status.busy": "2024-03-10T23:07:44.249031Z",
     "iopub.execute_input": "2024-03-10T23:07:44.249386Z",
     "iopub.status.idle": "2024-03-10T23:07:44.259786Z",
     "shell.execute_reply.started": "2024-03-10T23:07:44.249351Z",
     "shell.execute_reply": "2024-03-10T23:07:44.258825Z"
    },
    "trusted": true
   },
   "execution_count": 46,
   "outputs": [
    {
     "name": "stdout",
     "text": "torch.Size([5000, 100, 300])\ntorch.Size([5000])\n\n\nThe Encoded batch is on: cpu\nThe Y batch is on: cpu\n",
     "output_type": "stream"
    }
   ]
  },
  {
   "cell_type": "markdown",
   "source": [
    "### Realized that I was spliting the data before encoding and thus the training data was only being encoded. Might also explain why the validation score was so low (along with how small the dataset is and how the large epochs are definitely overfitting)"
   ],
   "metadata": {}
  },
  {
   "cell_type": "code",
   "source": [
    "# Lengths \n",
    "train_len = int(0.8 * len(dataset))\n",
    "val_len = len(dataset) - train_len\n",
    "\n",
    "# Random split\n",
    "train_data, val_data = random_split(dataset, [train_len, val_len])\n",
    "\n",
    "print(f\"The amount of data we have to train with is {len(train_data)}\") \n",
    "print(f\"The amount of data we have to validate with is {len(val_data)}\")\n",
    "#print(f\"The amount of data we have to validate with is on {train_data.device}\")\n",
    "#print(f\"The amount of data we have to validate with is on {val_data.device}\")\n",
    "\n",
    "# DataLoader for training data\n",
    "train_loader = DataLoader(train_data, batch_size = 32, shuffle = True)  # Use shuffle for training\n",
    "\n",
    "# DataLoader for validation data\n",
    "val_loader = DataLoader(val_data, batch_size = 32, shuffle = False)  # No need to shuffle for validation"
   ],
   "metadata": {
    "execution": {
     "iopub.status.busy": "2024-03-10T23:07:44.261088Z",
     "iopub.execute_input": "2024-03-10T23:07:44.261452Z",
     "iopub.status.idle": "2024-03-10T23:07:44.272217Z",
     "shell.execute_reply.started": "2024-03-10T23:07:44.261419Z",
     "shell.execute_reply": "2024-03-10T23:07:44.271202Z"
    },
    "trusted": true
   },
   "execution_count": 47,
   "outputs": [
    {
     "name": "stdout",
     "text": "The amount of data we have to train with is 4000\nThe amount of data we have to validate with is 1000\n",
     "output_type": "stream"
    }
   ]
  },
  {
   "cell_type": "markdown",
   "source": [
    "### Moved input_size here"
   ],
   "metadata": {}
  },
  {
   "cell_type": "code",
   "source": [
    "# new dataset object post encoding\n",
    "#encoded_training_dataset = TensorDataset(total_encoded_batch, total_y_batch)\n",
    "\n",
    "# Print the sliced dataset\n",
    "#print(encoded_review_dataset[:5])\n",
    "\n",
    "# Should match the output size of your model\n",
    "#input_size = len(train_data[0])"
   ],
   "metadata": {
    "execution": {
     "iopub.status.busy": "2024-03-10T23:07:44.273524Z",
     "iopub.execute_input": "2024-03-10T23:07:44.273901Z",
     "iopub.status.idle": "2024-03-10T23:07:44.282400Z",
     "shell.execute_reply.started": "2024-03-10T23:07:44.273866Z",
     "shell.execute_reply": "2024-03-10T23:07:44.281306Z"
    },
    "trusted": true
   },
   "execution_count": 48,
   "outputs": []
  },
  {
   "cell_type": "code",
   "source": [
    "print(f\"Total allocated memory: {torch.cuda.memory_allocated()} bytes\")\n",
    "!nvidia-smi\n",
    "#print('\\n\\n\\n\\n\\n\\n\\n\\n\\n\\n')\n",
    "#print(torch.cuda.memory_summary())"
   ],
   "metadata": {
    "execution": {
     "iopub.status.busy": "2024-03-10T23:07:44.283633Z",
     "iopub.execute_input": "2024-03-10T23:07:44.284008Z",
     "iopub.status.idle": "2024-03-10T23:07:45.424784Z",
     "shell.execute_reply.started": "2024-03-10T23:07:44.283971Z",
     "shell.execute_reply": "2024-03-10T23:07:45.423679Z"
    },
    "trusted": true
   },
   "execution_count": 49,
   "outputs": [
    {
     "name": "stdout",
     "text": "Total allocated memory: 834439680 bytes\nSun Mar 10 23:07:45 2024       \n+---------------------------------------------------------------------------------------+\n| NVIDIA-SMI 535.129.03             Driver Version: 535.129.03   CUDA Version: 12.2     |\n|-----------------------------------------+----------------------+----------------------+\n| GPU  Name                 Persistence-M | Bus-Id        Disp.A | Volatile Uncorr. ECC |\n| Fan  Temp   Perf          Pwr:Usage/Cap |         Memory-Usage | GPU-Util  Compute M. |\n|                                         |                      |               MIG M. |\n|=========================================+======================+======================|\n|   0  Tesla P100-PCIE-16GB           Off | 00000000:00:04.0 Off |                    0 |\n| N/A   41C    P0              37W / 250W |   1970MiB / 16384MiB |      0%      Default |\n|                                         |                      |                  N/A |\n+-----------------------------------------+----------------------+----------------------+\n                                                                                         \n+---------------------------------------------------------------------------------------+\n| Processes:                                                                            |\n|  GPU   GI   CI        PID   Type   Process name                            GPU Memory |\n|        ID   ID                                                             Usage      |\n|=======================================================================================|\n+---------------------------------------------------------------------------------------+\n",
     "output_type": "stream"
    }
   ]
  },
  {
   "cell_type": "markdown",
   "source": [
    "## Classifier"
   ],
   "metadata": {}
  },
  {
   "cell_type": "code",
   "source": [
    "class Classifier(nn.Module):\n",
    "    def __init__(self, r_size,v_size, num_classes):\n",
    "        # r_size is the number of tokens in a review, 100.\n",
    "        # v_size is the number of values in an embedding vector, 300.\n",
    "        super(Classifier, self).__init__()\n",
    "        \n",
    "        # The input to fc will be a 2D tensor with with n rows and\n",
    "        # r_size * v_size columns, where n >= 1; and the output will be a 2D tensor\n",
    "        # with n rows and num_classes columns.\n",
    "        self.fc = nn.Linear(r_size * v_size, num_classes)\n",
    "\n",
    "    def forward(self, x1):\n",
    "        # Pass input through the linear layer\n",
    "        return self.fc(x1)"
   ],
   "metadata": {
    "execution": {
     "iopub.status.busy": "2024-03-10T23:07:45.426466Z",
     "iopub.execute_input": "2024-03-10T23:07:45.426928Z",
     "iopub.status.idle": "2024-03-10T23:07:45.434193Z",
     "shell.execute_reply.started": "2024-03-10T23:07:45.426886Z",
     "shell.execute_reply": "2024-03-10T23:07:45.433118Z"
    },
    "trusted": true
   },
   "execution_count": 50,
   "outputs": []
  },
  {
   "cell_type": "code",
   "source": [
    "class Classifier(nn.Module):\n",
    "    def __init__(self, r_size,v_size, num_classes):\n",
    "        # r_size is the number of tokens in a review, 100.\n",
    "        # v_size is the number of values in an embedding vector, 300.\n",
    "        super(Classifier, self).__init__()\n",
    "        \n",
    "        # The input to fc will be a 2D tensor with with n rows and\n",
    "        # r_size * v_size columns, where n >= 1; and the output will be a 2D tensor\n",
    "        # with n rows and num_classes columns.\n",
    "        self.fc = nn.Linear(r_size * v_size, num_classes)\n",
    "\n",
    "    def forward(self, x1):\n",
    "        # Pass input through the linear layer\n",
    "        return self.fc(x1)\n",
    "\n",
    "# Create the classifier\n",
    "classifier = Classifier(seq_len, d_model, num_classes + 1).to(device)"
   ],
   "metadata": {
    "execution": {
     "iopub.status.busy": "2024-03-10T23:07:45.435472Z",
     "iopub.execute_input": "2024-03-10T23:07:45.436106Z",
     "iopub.status.idle": "2024-03-10T23:07:45.447819Z",
     "shell.execute_reply.started": "2024-03-10T23:07:45.436064Z",
     "shell.execute_reply": "2024-03-10T23:07:45.446811Z"
    },
    "trusted": true
   },
   "execution_count": 51,
   "outputs": []
  },
  {
   "cell_type": "code",
   "source": [
    "print(f\"Total allocated memory: {torch.cuda.memory_allocated()} bytes\")\n",
    "!nvidia-smi\n",
    "#print('\\n\\n\\n\\n\\n\\n\\n\\n\\n\\n')\n",
    "#print(torch.cuda.memory_summary())"
   ],
   "metadata": {
    "execution": {
     "iopub.status.busy": "2024-03-10T23:07:45.449136Z",
     "iopub.execute_input": "2024-03-10T23:07:45.449422Z",
     "iopub.status.idle": "2024-03-10T23:07:46.575882Z",
     "shell.execute_reply.started": "2024-03-10T23:07:45.449398Z",
     "shell.execute_reply": "2024-03-10T23:07:46.574530Z"
    },
    "trusted": true
   },
   "execution_count": 52,
   "outputs": [
    {
     "name": "stdout",
     "text": "Total allocated memory: 834920448 bytes\nSun Mar 10 23:07:46 2024       \n+---------------------------------------------------------------------------------------+\n| NVIDIA-SMI 535.129.03             Driver Version: 535.129.03   CUDA Version: 12.2     |\n|-----------------------------------------+----------------------+----------------------+\n| GPU  Name                 Persistence-M | Bus-Id        Disp.A | Volatile Uncorr. ECC |\n| Fan  Temp   Perf          Pwr:Usage/Cap |         Memory-Usage | GPU-Util  Compute M. |\n|                                         |                      |               MIG M. |\n|=========================================+======================+======================|\n|   0  Tesla P100-PCIE-16GB           Off | 00000000:00:04.0 Off |                    0 |\n| N/A   41C    P0              37W / 250W |   1970MiB / 16384MiB |      0%      Default |\n|                                         |                      |                  N/A |\n+-----------------------------------------+----------------------+----------------------+\n                                                                                         \n+---------------------------------------------------------------------------------------+\n| Processes:                                                                            |\n|  GPU   GI   CI        PID   Type   Process name                            GPU Memory |\n|        ID   ID                                                             Usage      |\n|=======================================================================================|\n+---------------------------------------------------------------------------------------+\n",
     "output_type": "stream"
    }
   ]
  },
  {
   "cell_type": "markdown",
   "source": [
    "### Changing reshaping format to check on the input size. Hardcoding the reshaping dimensions as 32 was breaking the classifier (presumably due to the data not being perfectly divisible by 32)\n",
    "### Moved the hyperparameters a few cells up where the encoder's hyperparameters were since they were similar"
   ],
   "metadata": {}
  },
  {
   "cell_type": "code",
   "source": [
    "# Define Cross-Entropy loss\n",
    "criterion = nn.CrossEntropyLoss() # nn.CategoricalCrossentropy() #nn.Softmax() \n",
    "\n",
    "# Define SGD optimizer\n",
    "# Is Adam better?\n",
    "optimizer = optim.SGD(classifier.parameters(), lr=learning_rate)\n",
    "\n",
    "DEV = True\n",
    "# Training loop (adjust this to match your data and DataLoader)\n",
    "for epoch in range(epochs):\n",
    "    for inputs, targets in train_loader :  # Assuming you have a DataLoader\n",
    "        # for batch_data in train_loader:  # Assuming you have a DataLoader\n",
    "        # inputs, targets = batch_data  # Assuming your DataLoader provides input data and targets    \n",
    "    \n",
    "        #printd(f'inputs shape: {inputs.shape}')\n",
    "        #printd(f'targets shape: {targets.shape}')\n",
    "        #printd(f'targets: {targets}')\n",
    "\n",
    "        optimizer.zero_grad()\n",
    "    \n",
    "        # keep nn.linear happy by combining the last two dimensions of inputs.\n",
    "        inputs = torch.reshape(inputs, (inputs.size(0), -1)) # get current batch size\n",
    "        #inputs = torch.reshape(inputs, (32,30000))\n",
    "        \n",
    "        #printd(f'Reshaped inputs: {inputs.shape}')\n",
    "        \n",
    "        outputs = classifier(inputs)\n",
    "        #printd(f'outputs shape {outputs.shape}')\n",
    "        \n",
    "        # output is a 32 x 6 tensor of floats,\n",
    "        # targets will be a 32 x 1 tensor of ints\n",
    "        loss = criterion(outputs, targets)\n",
    "        # print(f'loss.item: {loss.item()}')\n",
    "        loss.backward(retain_graph=True)\n",
    "        optimizer.step()\n",
    "     \n",
    "    print(f'Epoch [{epoch+1}/{epochs}] Loss: {loss.item()}')\n",
    "    \n",
    "DEV = False"
   ],
   "metadata": {
    "execution": {
     "iopub.status.busy": "2024-03-10T23:17:50.884821Z",
     "iopub.execute_input": "2024-03-10T23:17:50.885283Z",
     "iopub.status.idle": "2024-03-10T23:17:51.197051Z",
     "shell.execute_reply.started": "2024-03-10T23:17:50.885248Z",
     "shell.execute_reply": "2024-03-10T23:17:51.195485Z"
    },
    "trusted": true
   },
   "execution_count": 54,
   "outputs": [
    {
     "traceback": [
      "\u001B[0;31m---------------------------------------------------------------------------\u001B[0m",
      "\u001B[0;31mRuntimeError\u001B[0m                              Traceback (most recent call last)",
      "Cell \u001B[0;32mIn[54], line 11\u001B[0m\n\u001B[1;32m      9\u001B[0m \u001B[38;5;66;03m# Training loop (adjust this to match your data and DataLoader)\u001B[39;00m\n\u001B[1;32m     10\u001B[0m \u001B[38;5;28;01mfor\u001B[39;00m epoch \u001B[38;5;129;01min\u001B[39;00m \u001B[38;5;28mrange\u001B[39m(epochs):\n\u001B[0;32m---> 11\u001B[0m     \u001B[38;5;28;01mfor\u001B[39;00m inputs, targets \u001B[38;5;129;01min\u001B[39;00m train_loader :  \u001B[38;5;66;03m# Assuming you have a DataLoader\u001B[39;00m\n\u001B[1;32m     12\u001B[0m         \u001B[38;5;66;03m# for batch_data in train_loader:  # Assuming you have a DataLoader\u001B[39;00m\n\u001B[1;32m     13\u001B[0m         \u001B[38;5;66;03m# inputs, targets = batch_data  # Assuming your DataLoader provides input data and targets    \u001B[39;00m\n\u001B[1;32m     14\u001B[0m     \n\u001B[1;32m     15\u001B[0m         \u001B[38;5;66;03m#printd(f'inputs shape: {inputs.shape}')\u001B[39;00m\n\u001B[1;32m     16\u001B[0m         \u001B[38;5;66;03m#printd(f'targets shape: {targets.shape}')\u001B[39;00m\n\u001B[1;32m     17\u001B[0m         \u001B[38;5;66;03m#printd(f'targets: {targets}')\u001B[39;00m\n\u001B[1;32m     19\u001B[0m         optimizer\u001B[38;5;241m.\u001B[39mzero_grad()\n\u001B[1;32m     21\u001B[0m         \u001B[38;5;66;03m# keep nn.linear happy by combining the last two dimensions of inputs.\u001B[39;00m\n",
      "File \u001B[0;32m/opt/conda/lib/python3.10/site-packages/torch/utils/data/dataloader.py:634\u001B[0m, in \u001B[0;36m_BaseDataLoaderIter.__next__\u001B[0;34m(self)\u001B[0m\n\u001B[1;32m    631\u001B[0m \u001B[38;5;28;01mif\u001B[39;00m \u001B[38;5;28mself\u001B[39m\u001B[38;5;241m.\u001B[39m_sampler_iter \u001B[38;5;129;01mis\u001B[39;00m \u001B[38;5;28;01mNone\u001B[39;00m:\n\u001B[1;32m    632\u001B[0m     \u001B[38;5;66;03m# TODO(https://github.com/pytorch/pytorch/issues/76750)\u001B[39;00m\n\u001B[1;32m    633\u001B[0m     \u001B[38;5;28mself\u001B[39m\u001B[38;5;241m.\u001B[39m_reset()  \u001B[38;5;66;03m# type: ignore[call-arg]\u001B[39;00m\n\u001B[0;32m--> 634\u001B[0m data \u001B[38;5;241m=\u001B[39m \u001B[38;5;28;43mself\u001B[39;49m\u001B[38;5;241;43m.\u001B[39;49m\u001B[43m_next_data\u001B[49m\u001B[43m(\u001B[49m\u001B[43m)\u001B[49m\n\u001B[1;32m    635\u001B[0m \u001B[38;5;28mself\u001B[39m\u001B[38;5;241m.\u001B[39m_num_yielded \u001B[38;5;241m+\u001B[39m\u001B[38;5;241m=\u001B[39m \u001B[38;5;241m1\u001B[39m\n\u001B[1;32m    636\u001B[0m \u001B[38;5;28;01mif\u001B[39;00m \u001B[38;5;28mself\u001B[39m\u001B[38;5;241m.\u001B[39m_dataset_kind \u001B[38;5;241m==\u001B[39m _DatasetKind\u001B[38;5;241m.\u001B[39mIterable \u001B[38;5;129;01mand\u001B[39;00m \\\n\u001B[1;32m    637\u001B[0m         \u001B[38;5;28mself\u001B[39m\u001B[38;5;241m.\u001B[39m_IterableDataset_len_called \u001B[38;5;129;01mis\u001B[39;00m \u001B[38;5;129;01mnot\u001B[39;00m \u001B[38;5;28;01mNone\u001B[39;00m \u001B[38;5;129;01mand\u001B[39;00m \\\n\u001B[1;32m    638\u001B[0m         \u001B[38;5;28mself\u001B[39m\u001B[38;5;241m.\u001B[39m_num_yielded \u001B[38;5;241m>\u001B[39m \u001B[38;5;28mself\u001B[39m\u001B[38;5;241m.\u001B[39m_IterableDataset_len_called:\n",
      "File \u001B[0;32m/opt/conda/lib/python3.10/site-packages/torch/utils/data/dataloader.py:678\u001B[0m, in \u001B[0;36m_SingleProcessDataLoaderIter._next_data\u001B[0;34m(self)\u001B[0m\n\u001B[1;32m    676\u001B[0m \u001B[38;5;28;01mdef\u001B[39;00m \u001B[38;5;21m_next_data\u001B[39m(\u001B[38;5;28mself\u001B[39m):\n\u001B[1;32m    677\u001B[0m     index \u001B[38;5;241m=\u001B[39m \u001B[38;5;28mself\u001B[39m\u001B[38;5;241m.\u001B[39m_next_index()  \u001B[38;5;66;03m# may raise StopIteration\u001B[39;00m\n\u001B[0;32m--> 678\u001B[0m     data \u001B[38;5;241m=\u001B[39m \u001B[38;5;28;43mself\u001B[39;49m\u001B[38;5;241;43m.\u001B[39;49m\u001B[43m_dataset_fetcher\u001B[49m\u001B[38;5;241;43m.\u001B[39;49m\u001B[43mfetch\u001B[49m\u001B[43m(\u001B[49m\u001B[43mindex\u001B[49m\u001B[43m)\u001B[49m  \u001B[38;5;66;03m# may raise StopIteration\u001B[39;00m\n\u001B[1;32m    679\u001B[0m     \u001B[38;5;28;01mif\u001B[39;00m \u001B[38;5;28mself\u001B[39m\u001B[38;5;241m.\u001B[39m_pin_memory:\n\u001B[1;32m    680\u001B[0m         data \u001B[38;5;241m=\u001B[39m _utils\u001B[38;5;241m.\u001B[39mpin_memory\u001B[38;5;241m.\u001B[39mpin_memory(data, \u001B[38;5;28mself\u001B[39m\u001B[38;5;241m.\u001B[39m_pin_memory_device)\n",
      "File \u001B[0;32m/opt/conda/lib/python3.10/site-packages/torch/utils/data/_utils/fetch.py:54\u001B[0m, in \u001B[0;36m_MapDatasetFetcher.fetch\u001B[0;34m(self, possibly_batched_index)\u001B[0m\n\u001B[1;32m     52\u001B[0m \u001B[38;5;28;01melse\u001B[39;00m:\n\u001B[1;32m     53\u001B[0m     data \u001B[38;5;241m=\u001B[39m \u001B[38;5;28mself\u001B[39m\u001B[38;5;241m.\u001B[39mdataset[possibly_batched_index]\n\u001B[0;32m---> 54\u001B[0m \u001B[38;5;28;01mreturn\u001B[39;00m \u001B[38;5;28;43mself\u001B[39;49m\u001B[38;5;241;43m.\u001B[39;49m\u001B[43mcollate_fn\u001B[49m\u001B[43m(\u001B[49m\u001B[43mdata\u001B[49m\u001B[43m)\u001B[49m\n",
      "File \u001B[0;32m/opt/conda/lib/python3.10/site-packages/torch/utils/data/_utils/collate.py:264\u001B[0m, in \u001B[0;36mdefault_collate\u001B[0;34m(batch)\u001B[0m\n\u001B[1;32m    203\u001B[0m \u001B[38;5;28;01mdef\u001B[39;00m \u001B[38;5;21mdefault_collate\u001B[39m(batch):\n\u001B[1;32m    204\u001B[0m \u001B[38;5;250m    \u001B[39m\u001B[38;5;124mr\u001B[39m\u001B[38;5;124;03m\"\"\"\u001B[39;00m\n\u001B[1;32m    205\u001B[0m \u001B[38;5;124;03m        Function that takes in a batch of data and puts the elements within the batch\u001B[39;00m\n\u001B[1;32m    206\u001B[0m \u001B[38;5;124;03m        into a tensor with an additional outer dimension - batch size. The exact output type can be\u001B[39;00m\n\u001B[0;32m   (...)\u001B[0m\n\u001B[1;32m    262\u001B[0m \u001B[38;5;124;03m            >>> default_collate(batch)  # Handle `CustomType` automatically\u001B[39;00m\n\u001B[1;32m    263\u001B[0m \u001B[38;5;124;03m    \"\"\"\u001B[39;00m\n\u001B[0;32m--> 264\u001B[0m     \u001B[38;5;28;01mreturn\u001B[39;00m \u001B[43mcollate\u001B[49m\u001B[43m(\u001B[49m\u001B[43mbatch\u001B[49m\u001B[43m,\u001B[49m\u001B[43m \u001B[49m\u001B[43mcollate_fn_map\u001B[49m\u001B[38;5;241;43m=\u001B[39;49m\u001B[43mdefault_collate_fn_map\u001B[49m\u001B[43m)\u001B[49m\n",
      "File \u001B[0;32m/opt/conda/lib/python3.10/site-packages/torch/utils/data/_utils/collate.py:142\u001B[0m, in \u001B[0;36mcollate\u001B[0;34m(batch, collate_fn_map)\u001B[0m\n\u001B[1;32m    139\u001B[0m transposed \u001B[38;5;241m=\u001B[39m \u001B[38;5;28mlist\u001B[39m(\u001B[38;5;28mzip\u001B[39m(\u001B[38;5;241m*\u001B[39mbatch))  \u001B[38;5;66;03m# It may be accessed twice, so we use a list.\u001B[39;00m\n\u001B[1;32m    141\u001B[0m \u001B[38;5;28;01mif\u001B[39;00m \u001B[38;5;28misinstance\u001B[39m(elem, \u001B[38;5;28mtuple\u001B[39m):\n\u001B[0;32m--> 142\u001B[0m     \u001B[38;5;28;01mreturn\u001B[39;00m [collate(samples, collate_fn_map\u001B[38;5;241m=\u001B[39mcollate_fn_map) \u001B[38;5;28;01mfor\u001B[39;00m samples \u001B[38;5;129;01min\u001B[39;00m transposed]  \u001B[38;5;66;03m# Backwards compatibility.\u001B[39;00m\n\u001B[1;32m    143\u001B[0m \u001B[38;5;28;01melse\u001B[39;00m:\n\u001B[1;32m    144\u001B[0m     \u001B[38;5;28;01mtry\u001B[39;00m:\n",
      "File \u001B[0;32m/opt/conda/lib/python3.10/site-packages/torch/utils/data/_utils/collate.py:142\u001B[0m, in \u001B[0;36m<listcomp>\u001B[0;34m(.0)\u001B[0m\n\u001B[1;32m    139\u001B[0m transposed \u001B[38;5;241m=\u001B[39m \u001B[38;5;28mlist\u001B[39m(\u001B[38;5;28mzip\u001B[39m(\u001B[38;5;241m*\u001B[39mbatch))  \u001B[38;5;66;03m# It may be accessed twice, so we use a list.\u001B[39;00m\n\u001B[1;32m    141\u001B[0m \u001B[38;5;28;01mif\u001B[39;00m \u001B[38;5;28misinstance\u001B[39m(elem, \u001B[38;5;28mtuple\u001B[39m):\n\u001B[0;32m--> 142\u001B[0m     \u001B[38;5;28;01mreturn\u001B[39;00m [\u001B[43mcollate\u001B[49m\u001B[43m(\u001B[49m\u001B[43msamples\u001B[49m\u001B[43m,\u001B[49m\u001B[43m \u001B[49m\u001B[43mcollate_fn_map\u001B[49m\u001B[38;5;241;43m=\u001B[39;49m\u001B[43mcollate_fn_map\u001B[49m\u001B[43m)\u001B[49m \u001B[38;5;28;01mfor\u001B[39;00m samples \u001B[38;5;129;01min\u001B[39;00m transposed]  \u001B[38;5;66;03m# Backwards compatibility.\u001B[39;00m\n\u001B[1;32m    143\u001B[0m \u001B[38;5;28;01melse\u001B[39;00m:\n\u001B[1;32m    144\u001B[0m     \u001B[38;5;28;01mtry\u001B[39;00m:\n",
      "File \u001B[0;32m/opt/conda/lib/python3.10/site-packages/torch/utils/data/_utils/collate.py:119\u001B[0m, in \u001B[0;36mcollate\u001B[0;34m(batch, collate_fn_map)\u001B[0m\n\u001B[1;32m    117\u001B[0m \u001B[38;5;28;01mif\u001B[39;00m collate_fn_map \u001B[38;5;129;01mis\u001B[39;00m \u001B[38;5;129;01mnot\u001B[39;00m \u001B[38;5;28;01mNone\u001B[39;00m:\n\u001B[1;32m    118\u001B[0m     \u001B[38;5;28;01mif\u001B[39;00m elem_type \u001B[38;5;129;01min\u001B[39;00m collate_fn_map:\n\u001B[0;32m--> 119\u001B[0m         \u001B[38;5;28;01mreturn\u001B[39;00m \u001B[43mcollate_fn_map\u001B[49m\u001B[43m[\u001B[49m\u001B[43melem_type\u001B[49m\u001B[43m]\u001B[49m\u001B[43m(\u001B[49m\u001B[43mbatch\u001B[49m\u001B[43m,\u001B[49m\u001B[43m \u001B[49m\u001B[43mcollate_fn_map\u001B[49m\u001B[38;5;241;43m=\u001B[39;49m\u001B[43mcollate_fn_map\u001B[49m\u001B[43m)\u001B[49m\n\u001B[1;32m    121\u001B[0m     \u001B[38;5;28;01mfor\u001B[39;00m collate_type \u001B[38;5;129;01min\u001B[39;00m collate_fn_map:\n\u001B[1;32m    122\u001B[0m         \u001B[38;5;28;01mif\u001B[39;00m \u001B[38;5;28misinstance\u001B[39m(elem, collate_type):\n",
      "File \u001B[0;32m/opt/conda/lib/python3.10/site-packages/torch/utils/data/_utils/collate.py:162\u001B[0m, in \u001B[0;36mcollate_tensor_fn\u001B[0;34m(batch, collate_fn_map)\u001B[0m\n\u001B[1;32m    160\u001B[0m     storage \u001B[38;5;241m=\u001B[39m elem\u001B[38;5;241m.\u001B[39m_typed_storage()\u001B[38;5;241m.\u001B[39m_new_shared(numel, device\u001B[38;5;241m=\u001B[39melem\u001B[38;5;241m.\u001B[39mdevice)\n\u001B[1;32m    161\u001B[0m     out \u001B[38;5;241m=\u001B[39m elem\u001B[38;5;241m.\u001B[39mnew(storage)\u001B[38;5;241m.\u001B[39mresize_(\u001B[38;5;28mlen\u001B[39m(batch), \u001B[38;5;241m*\u001B[39m\u001B[38;5;28mlist\u001B[39m(elem\u001B[38;5;241m.\u001B[39msize()))\n\u001B[0;32m--> 162\u001B[0m \u001B[38;5;28;01mreturn\u001B[39;00m \u001B[43mtorch\u001B[49m\u001B[38;5;241;43m.\u001B[39;49m\u001B[43mstack\u001B[49m\u001B[43m(\u001B[49m\u001B[43mbatch\u001B[49m\u001B[43m,\u001B[49m\u001B[43m \u001B[49m\u001B[38;5;241;43m0\u001B[39;49m\u001B[43m,\u001B[49m\u001B[43m \u001B[49m\u001B[43mout\u001B[49m\u001B[38;5;241;43m=\u001B[39;49m\u001B[43mout\u001B[49m\u001B[43m)\u001B[49m\n",
      "\u001B[0;31mRuntimeError\u001B[0m: CUDA error: device-side assert triggered\nCUDA kernel errors might be asynchronously reported at some other API call, so the stacktrace below might be incorrect.\nFor debugging consider passing CUDA_LAUNCH_BLOCKING=1.\nCompile with `TORCH_USE_CUDA_DSA` to enable device-side assertions.\n"
     ],
     "ename": "RuntimeError",
     "evalue": "CUDA error: device-side assert triggered\nCUDA kernel errors might be asynchronously reported at some other API call, so the stacktrace below might be incorrect.\nFor debugging consider passing CUDA_LAUNCH_BLOCKING=1.\nCompile with `TORCH_USE_CUDA_DSA` to enable device-side assertions.\n",
     "output_type": "error"
    }
   ]
  },
  {
   "cell_type": "code",
   "source": [
    "print(f\"Total allocated memory: {torch.cuda.memory_allocated()} bytes\")\n",
    "!nvidia-smi\n",
    "#print('\\n\\n\\n\\n\\n\\n\\n\\n\\n\\n')\n",
    "print(torch.cuda.memory_summary())"
   ],
   "metadata": {
    "execution": {
     "iopub.status.busy": "2024-03-10T23:07:46.936062Z",
     "iopub.status.idle": "2024-03-10T23:07:46.936645Z",
     "shell.execute_reply.started": "2024-03-10T23:07:46.936347Z",
     "shell.execute_reply": "2024-03-10T23:07:46.936373Z"
    },
    "trusted": true
   },
   "execution_count": null,
   "outputs": []
  },
  {
   "cell_type": "code",
   "source": [
    "# Put model in evaluation mode\n",
    "classifier.eval() \n",
    "\n",
    "# Tracking variables\n",
    "predictions = []\n",
    "actuals = []\n",
    "\n",
    "# Evaluate on validation set\n",
    "with torch.no_grad():\n",
    "    for inputs, targets in val_loader:\n",
    "        inputs = inputs.reshape(inputs.shape[0], -1)\n",
    "        \n",
    "        outputs = classifier(inputs)\n",
    "        _, predicted = torch.max(outputs, 1)\n",
    "        \n",
    "        predictions.extend(predicted.tolist())\n",
    "        actuals.extend(targets.tolist())\n",
    "        \n",
    "# Print sample outputs        \n",
    "print(\"Predicted | Actual\")\n",
    "for i in range (60):\n",
    "    print(f\"{predictions[i]} | {actuals[i]}\")\n",
    "    \n",
    "# Calculate validation accuracy\n",
    "num_correct = sum([p == a for p, a in zip(predictions, actuals)]) \n",
    "val_accuracy = num_correct / len(predictions)\n",
    "print(f'Validation Accuracy: {val_accuracy:.2f}')"
   ],
   "metadata": {
    "execution": {
     "iopub.status.busy": "2024-03-10T23:07:46.938329Z",
     "iopub.status.idle": "2024-03-10T23:07:46.938896Z",
     "shell.execute_reply.started": "2024-03-10T23:07:46.938598Z",
     "shell.execute_reply": "2024-03-10T23:07:46.938623Z"
    },
    "trusted": true
   },
   "execution_count": null,
   "outputs": []
  },
  {
   "cell_type": "code",
   "source": [
    "print(total_encoded_batch.device)\n",
    "print(total_y_batch.device)\n",
    "\n",
    "print(stacked_encoder)\n",
    "print(classifier)\n",
    "\n",
    "print(f'x_batch: { total_encoded_batch.nelement() * total_encoded_batch.element_size() }')\n",
    "print(f'y_batch: { total_y_batch.nelement() * total_y_batch.element_size() }')"
   ],
   "metadata": {
    "execution": {
     "iopub.status.busy": "2024-03-10T23:07:46.940504Z",
     "iopub.status.idle": "2024-03-10T23:07:46.940949Z",
     "shell.execute_reply.started": "2024-03-10T23:07:46.940715Z",
     "shell.execute_reply": "2024-03-10T23:07:46.940734Z"
    },
    "trusted": true
   },
   "execution_count": null,
   "outputs": []
  },
  {
   "cell_type": "code",
   "source": [
    "import sys \n",
    "\n",
    "# Stacked Encoder \n",
    "for name, param in stacked_encoder.named_parameters():\n",
    "    print(f\"{name}:\\t{sys.getsizeof(param.untyped_storage()) / 1e6:.2f} MB\")\n",
    "\n",
    "# Classifier \n",
    "for name, param in classifier.named_parameters():\n",
    "    print(f\"{name}:\\t{sys.getsizeof(param.untyped_storage()) / 1e6:.2f} MB\")\n",
    "    \n",
    "\n",
    "del dataset\n",
    "torch.cuda.empty_cache()\n",
    "\n",
    "!nvidia-smi\n",
    "print(torch.cuda.memory_summary())"
   ],
   "metadata": {
    "execution": {
     "iopub.status.busy": "2024-03-10T23:07:46.943345Z",
     "iopub.status.idle": "2024-03-10T23:07:46.943776Z",
     "shell.execute_reply.started": "2024-03-10T23:07:46.943559Z",
     "shell.execute_reply": "2024-03-10T23:07:46.943578Z"
    },
    "trusted": true
   },
   "execution_count": null,
   "outputs": []
  },
  {
   "cell_type": "markdown",
   "source": [
    "## Try and print every utilization of .to(device) to try and see what'son the gpu"
   ],
   "metadata": {}
  },
  {
   "cell_type": "code",
   "source": [
    "# attention components\n",
    "#self.attention_heads\n",
    "#print(attn_bias.device)\n",
    "\n",
    "# pre-processed input tensors\n",
    "print(text_embeddings_tensors.device)\n",
    "print(f'text_embeddings: { text_embeddings_tensors.nelement() * text_embeddings_tensors.element_size() }')\n",
    "print(rating_labels_tensors.device)\n",
    "print(f'rating_labels: { rating_labels_tensors.nelement() * rating_labels_tensors.element_size() }')\n",
    "\n",
    "#tensor object\n",
    "#print(dataset)\n",
    "\n",
    "# processed input tensor\n",
    "print(total_encoded_batch.device)\n",
    "print(f'total_encoded_batch: { total_encoded_batch.nelement() * total_encoded_batch.element_size() }')\n",
    "print(total_y_batch.device)\n",
    "print(f'y_batch: { total_y_batch.nelement() * total_y_batch.element_size() }')\n",
    "\n",
    "# moedels\n",
    "#print(stacked_encoder.device)\n",
    "#print(classifier.device)"
   ],
   "metadata": {
    "execution": {
     "iopub.status.busy": "2024-03-10T23:07:46.945219Z",
     "iopub.status.idle": "2024-03-10T23:07:46.945624Z",
     "shell.execute_reply.started": "2024-03-10T23:07:46.945422Z",
     "shell.execute_reply": "2024-03-10T23:07:46.945440Z"
    },
    "trusted": true
   },
   "execution_count": null,
   "outputs": []
  },
  {
   "cell_type": "code",
   "source": [],
   "metadata": {},
   "execution_count": null,
   "outputs": []
  },
  {
   "cell_type": "code",
   "source": [],
   "metadata": {},
   "execution_count": null,
   "outputs": []
  },
  {
   "cell_type": "code",
   "source": [],
   "metadata": {},
   "execution_count": null,
   "outputs": []
  },
  {
   "cell_type": "code",
   "source": [],
   "metadata": {},
   "execution_count": null,
   "outputs": []
  },
  {
   "cell_type": "code",
   "source": [],
   "metadata": {},
   "execution_count": null,
   "outputs": []
  },
  {
   "cell_type": "markdown",
   "source": [
    "class Classifier(nn.Module):\n",
    "    def __init__(self, r_size,v_size, num_classes):\n",
    "        # r_size is the number of tokens in a review, 100.\n",
    "        # v_size is the number of values in an embedding vector, 300.\n",
    "        super(Classifier, self).__init__()\n",
    "        \n",
    "        # The input to fc will be a 2D tensor with with n rows and\n",
    "        # r_size * v_size columns, where n >= 1; and the output will be a 2D tensor\n",
    "        # with n rows and num_classes columns.\n",
    "        self.fc = nn.Linear(r_size * v_size, num_classes)\n",
    "\n",
    "    def forward(self, x1):\n",
    "        # Pass input through the linear layer\n",
    "        return self.fc(x1)\n",
    "\n",
    "# The next two lines were an attempt to fix the obscure CUDA assert error --\n",
    "# didn't work. But there's a workaround, just run without the accelerator.\n",
    "# You can get away with that if you just have 5,000 reviews in each category.\n",
    "#\n",
    "CUDA_LAUNCH_BLOCKING=1 \n",
    "TORCH_USE_CUDA_DSA=1\n",
    "\n",
    "# Create the classifier\n",
    "classifier = Classifier(seq_len, d_model, num_classes+1)#.to(device)\n",
    "\n",
    "# Define Cross-Entropy loss\n",
    "criterion = nn.CrossEntropyLoss() # nn.CategoricalCrossentropy() #nn.Softmax() \n",
    "\n",
    "# Define SGD optimizer\n",
    "# Is Adam better?\n",
    "optimizer = optim.SGD(classifier.parameters(), lr=learning_rate)\n",
    "\n",
    "# DEV = True\n",
    "# Training loop (adjust this to match your data and DataLoader)\n",
    "for epoch in range(epochs):\n",
    "    for x_batch, y_batch in encoded_review_dataset:  # Assuming you have a DataLoader\n",
    "        inputs, targets = x_batch, y_batch  # Assuming your DataLoader provides input data and targets\n",
    "       \n",
    "        printd(f'targets shape: {targets.shape}')\n",
    "        printd(f'targets: {targets}')\n",
    "        printd(f'inputs shape: {inputs.shape}')\n",
    "        printd(f'inputs: {inputs}')\n",
    "\n",
    "        optimizer.zero_grad()\n",
    "    \n",
    "        # keep nn.linear happy by combining the last two dimensions of inputs.\n",
    "        #\n",
    "        inputs = torch.reshape(inputs, (32,30000))\n",
    "        printd(f'Reshaped inputs: {inputs.shape}')\n",
    "        \n",
    "        outputs = classifier(inputs)\n",
    "        printd(f'outputs shape {outputs.shape}')\n",
    "        \n",
    "        #dummy_output = torch.randn(32, 5, requires_grad=True).to(device)\n",
    "        # printd(f'dummy_output shape {dummy_output.shape}')\n",
    "        # printd(f'dummy_output {dummy_output}')\n",
    "        # output should be a 32 x 5 tensor of floats,\n",
    "        # targets will be a 32 x 1 tensor of ints\n",
    "        loss = criterion(outputs, targets)\n",
    "        loss.backward()\n",
    "        optimizer.step()\n",
    "    \n",
    "    print(f'Epoch [{epoch+1}/{epochs}] Loss: {loss.item()}')\n",
    "    \n",
    "DEV = False\n",
    "\n",
    "# Define the Classifier class\n",
    "class Classifier(nn.Module):\n",
    "    def __init__(self, input_size, num_classes):\n",
    "        super(Classifier, self).__init__()\n",
    "        \n",
    "        self.linear_1 = nn.Linear(input_size, num_classes)\n",
    "        self.linear_2 = nn.Linear(1, num_classes)\n",
    "        self.sigmoid = nn.Sigmoid()\n",
    "\n",
    "    def forward(self, x1):\n",
    "        \n",
    "        linear_1_output = self.linear_1(x_batch)\n",
    "        linear_2_output = self.linear_2(y_batch)\n",
    "        combined_output = linear_1_output + linear_2_output\n",
    "        output = self.sigmoid(combined_output)\n",
    "        \n",
    "        return output\n",
    "    \n",
    "# Create the classifier\n",
    "classifier = Classifier(input_size, num_classes)#.to(device)\n",
    "\n",
    "# Define Cross-Entropy loss\n",
    "criterion = nn.CrossEntropyLoss()\n",
    "\n",
    "# Define SGD optimizer for both classifier\n",
    "optimizer = optim.SGD(list(classifier.parameters()), lr = learning_rate)\n",
    "\n",
    "# Training loop (adjust this to match your data and DataLoader)\n",
    "for epoch in range(epochs):\n",
    "    for batch_data in :  # Assuming you have a DataLoader\n",
    "        inputs, targets = x_batch, y_batch  # Assuming your DataLoader provides input data and targets\n",
    "        optimizer.zero_grad()\n",
    "        \n",
    "        outputs = classifier()  \n",
    "        loss = criterion(outputs, targets)\n",
    "        \n",
    "        loss.backward()\n",
    "        optimizer.step()\n",
    "\n",
    "    print(f'Epoch [{epoch + 1}/{epochs}] Loss: {loss.item()}')"
   ],
   "metadata": {
    "execution": {
     "iopub.status.busy": "2023-12-18T04:38:14.013759Z",
     "iopub.execute_input": "2023-12-18T04:38:14.014019Z",
     "iopub.status.idle": "2023-12-18T04:38:14.553673Z",
     "shell.execute_reply.started": "2023-12-18T04:38:14.013986Z",
     "shell.execute_reply": "2023-12-18T04:38:14.552074Z"
    }
   }
  },
  {
   "cell_type": "markdown",
   "source": [
    "You can think of the loss function as the valley, with the steepest parts being where the loss is highest and the flatter parts being where the loss is lower. The hiker is the set of model parameters, which are being updated with each step (iteration). SGD is like the GPS for the hiker, helping it navigate toward the lowest point in the valley (i.e. the global minimum of the loss function) with each step. The key difference is that SGD is an iterative process that updates the parameters in small steps, rather than finding the global minimum in a single shot. The learning rate is essentially the \"speed limit\" for the hiker (the model parameters). The learning rate would be how far the GPS would tell the hiker to go before it iterates/updates. A higher learning rate means that the hiker can make larger updates to the parameters with each step, while a lower learning rate means that the updates are smaller. This is important because it determines not only how quickly the model can find the global minimum, but also how stable the descent is - if the learning rate is too high, the hiker could get lost in the valley, but if it's too low, it could take forever to reach the bottom. So, the learning rate controls the speed of the descent and helps the model find the optimal set of parameters without overshooting or taking too long.\n",
    "\n",
    "Some additional points to augment the analogy:\n",
    "\n",
    "The terrain can be rugged with many hills, valleys, and obstacles - like the high-dimensional, non-convex loss function landscape.\n",
    "\n",
    "Momentum in SGD helps the hiker build up speed in consistently downhill directions, like momentum in GD.\n",
    "\n",
    "Adaptive LR is like the GPS dynamically recommending faster or slower speeds depending on terrain.\n",
    "\n",
    "Regularization is like constraining the hiker's path to stay on trails and avoid dangerous cliffs (to prevent overfitting).\n",
    "\n",
    "Batch size is like the number of hikers traversing together (to average gradient noise).\n",
    "\n",
    "Epochs are like hiking to the bottom, then restarting from the top to repeat the descent.\n",
    "\n",
    "Early stopping is like stopping the hike once you reach a good enough point close to the valley floor.\n",
    "\n",
    "Hyperparameter tuning is like tweaking the GPS settings for optimal navigation.\n",
    "\n",
    "Vanishing gradients are like certain paths becoming too steep or hitting dead-ends.\n",
    "\n",
    "Local minima: The terrain can be rugged with many local minima, which are small valleys that are not as deep as the global minimum. SGD can get stuck in local minima, but there are various techniques that can help to avoid this, such as momentum and adaptive learning rate.\n",
    "\n",
    "Learning rate schedule: The learning rate can be adjusted over time to improve the performance of SGD. This is known as a learning rate schedule. For example, the learning rate can be decreased as the model converges to the global minimum, in order to prevent overshooting.\n",
    "\n",
    "Noise: The gradient calculation can be noisy, especially when the batch size is small. This can cause SGD to take a more erratic path towards the global minimum. However, the noise can be averaged out by using a larger batch size."
   ],
   "metadata": {}
  }
 ]
}
