{
 "cells": [
  {
   "cell_type": "code",
   "execution_count": 1,
   "id": "8d938c6f",
   "metadata": {
    "_cell_guid": "b1076dfc-b9ad-4769-8c92-a6c4dae69d19",
    "_uuid": "8f2839f25d086af736a60e9eeb907d3b93b6e0e5",
    "execution": {
     "iopub.execute_input": "2024-04-23T18:16:38.970688Z",
     "iopub.status.busy": "2024-04-23T18:16:38.970274Z",
     "iopub.status.idle": "2024-04-23T18:17:14.299349Z",
     "shell.execute_reply": "2024-04-23T18:17:14.297536Z"
    },
    "papermill": {
     "duration": 35.346721,
     "end_time": "2024-04-23T18:17:14.306458",
     "exception": false,
     "start_time": "2024-04-23T18:16:38.959737",
     "status": "completed"
    },
    "tags": []
   },
   "outputs": [
    {
     "name": "stdout",
     "output_type": "stream",
     "text": [
      "Amazon reviews file: /kaggle/input/amazon-product-reviews/Reviews.csv\n",
      "Google news word to vec file: /kaggle/input/googlenewsvectorsnegative300/GoogleNews-vectors-negative300.bin\n"
     ]
    }
   ],
   "source": [
    "#>> updated 4/1\n",
    "# For viewing and manipulating data\n",
    "import numpy as np # linear algebra\n",
    "import pandas as pd # data processing, CSV file I/O (e.g. pd.read_csv)\n",
    "\n",
    "# Importing the necessary libraries\n",
    "import re\n",
    "import math\n",
    "import nltk\n",
    "import spacy\n",
    "import string\n",
    "import torch\n",
    "import torch.nn as nn\n",
    "import torch.optim as optim\n",
    "import torch.nn.functional as F\n",
    "import gensim.downloader as api\n",
    "from gensim.models import KeyedVectors # >> alternative to gensim.downloader\n",
    "import matplotlib.pyplot as plt\n",
    "\n",
    "# Getting particular functions from these libraries\n",
    "from scipy import stats\n",
    "from torch import Tensor\n",
    "from sklearn.utils import resample\n",
    "from gensim.models import KeyedVectors\n",
    "from sklearn.model_selection import train_test_split\n",
    "from sklearn.feature_extraction.text import CountVectorizer\n",
    "from torch.utils.data import random_split, DataLoader, TensorDataset, Dataset\n",
    "\n",
    "# Using the NLTK to tokenize the text\n",
    "from nltk.corpus import stopwords\n",
    "from nltk.stem import WordNetLemmatizer\n",
    "\n",
    "# This Python 3 environment comes with many helpful analytics libraries installed\n",
    "# It is defined by the kaggle/python Docker image: https://github.com/kaggle/docker-python\n",
    "# For example, here's several helpful packages to load\n",
    "\n",
    "# Input data files are available in the read-only \"../input/\" directory\n",
    "# For example, running this (by clicking run or pressing Shift+Enter) will list all files under the input directory\n",
    "\n",
    "import os\n",
    "reviews_file = ''\n",
    "w2v_file = ''\n",
    "for dirname, _, filenames in os.walk('/kaggle/input'):\n",
    "    for filename in filenames:\n",
    "        file_name = os.path.join(dirname, filename)\n",
    "        if file_name.endswith('.csv'): \n",
    "            reviews_file = file_name\n",
    "        elif file_name.endswith('.bin') or ('.gz'):\n",
    "            w2v_file = file_name\n",
    "        else:\n",
    "            print(f'Found unexpected file: {file_name}')\n",
    "                \n",
    "print(f'Amazon reviews file: {reviews_file}')\n",
    "print(f'Google news word to vec file: {w2v_file}') #<< faster than doing api.load\n",
    "            \n",
    "\n",
    "# You can write up to 20GB to the current directory (/kaggle/working/) that gets preserved as output when you create a version using \"Save & Run All\" \n",
    "# You can also write temporary files to /kaggle/temp/, but they won't be saved outside of the current session\n",
    "VERBOSE = True\n",
    "def printv(text):\n",
    "    if VERBOSE: print('VERBOSE:', text)\n",
    "    return\n",
    "\n",
    "def showV(text):\n",
    "    '''unconditional verbose output'''\n",
    "    print('VERBOSE:', text)\n",
    "    return\n",
    "\n",
    "DEV = True\n",
    "def printd(text):\n",
    "    if DEV: print('DEV:', text)\n",
    "    return\n",
    "\n",
    "def showD(text):\n",
    "    '''unconditional DEV output'''\n",
    "    print('VERBOSE:', text)\n",
    "    return\n",
    "\n",
    "showCellCompletion = False\n",
    "def showC(text):\n",
    "    if showCellCompletion:\n",
    "        print('Cell complete:', text)\n",
    "    return\n",
    "\n",
    "import subprocess\n",
    "showNv = True\n",
    "accelerator = True\n",
    "\n",
    "def printNv():\n",
    "    if not showNv or not accelerator: return\n",
    "    mem_usage = subprocess.run(['nvidia-smi'], stdout=subprocess.PIPE)\n",
    "    print(mem_usage.stdout.decode('utf-8'))\n",
    "\n",
    "showMemoryAllocation = True\n",
    "def printM():\n",
    "    if not showMemoryAllocation: return\n",
    "    print(f\"Total allocated memory: {torch.cuda.memory_allocated()} bytes\")"
   ]
  },
  {
   "cell_type": "code",
   "execution_count": 2,
   "id": "fd43e634",
   "metadata": {
    "execution": {
     "iopub.execute_input": "2024-04-23T18:17:14.324633Z",
     "iopub.status.busy": "2024-04-23T18:17:14.323931Z",
     "iopub.status.idle": "2024-04-23T18:17:15.843756Z",
     "shell.execute_reply": "2024-04-23T18:17:15.841990Z"
    },
    "papermill": {
     "duration": 1.532318,
     "end_time": "2024-04-23T18:17:15.847146",
     "exception": false,
     "start_time": "2024-04-23T18:17:14.314828",
     "status": "completed"
    },
    "tags": []
   },
   "outputs": [
    {
     "name": "stdout",
     "output_type": "stream",
     "text": [
      "Archive:  /usr/share/nltk_data/corpora/wordnet.zip\r\n",
      "   creating: /usr/share/nltk_data/corpora/wordnet/\r\n",
      "  inflating: /usr/share/nltk_data/corpora/wordnet/lexnames  \r\n",
      "  inflating: /usr/share/nltk_data/corpora/wordnet/data.verb  \r\n",
      "  inflating: /usr/share/nltk_data/corpora/wordnet/index.adv  \r\n",
      "  inflating: /usr/share/nltk_data/corpora/wordnet/adv.exc  \r\n",
      "  inflating: /usr/share/nltk_data/corpora/wordnet/index.verb  \r\n",
      "  inflating: /usr/share/nltk_data/corpora/wordnet/cntlist.rev  \r\n",
      "  inflating: /usr/share/nltk_data/corpora/wordnet/data.adj  \r\n",
      "  inflating: /usr/share/nltk_data/corpora/wordnet/index.adj  \r\n",
      "  inflating: /usr/share/nltk_data/corpora/wordnet/LICENSE  \r\n",
      "  inflating: /usr/share/nltk_data/corpora/wordnet/citation.bib  \r\n",
      "  inflating: /usr/share/nltk_data/corpora/wordnet/noun.exc  \r\n",
      "  inflating: /usr/share/nltk_data/corpora/wordnet/verb.exc  \r\n",
      "  inflating: /usr/share/nltk_data/corpora/wordnet/README  \r\n",
      "  inflating: /usr/share/nltk_data/corpora/wordnet/index.sense  \r\n",
      "  inflating: /usr/share/nltk_data/corpora/wordnet/data.noun  \r\n",
      "  inflating: /usr/share/nltk_data/corpora/wordnet/data.adv  \r\n",
      "  inflating: /usr/share/nltk_data/corpora/wordnet/index.noun  \r\n",
      "  inflating: /usr/share/nltk_data/corpora/wordnet/adj.exc  \r\n"
     ]
    }
   ],
   "source": [
    "## Only run once\n",
    "#>> Seems to need to be rerun after every Kaggle timeout.\n",
    "!unzip /usr/share/nltk_data/corpora/wordnet.zip -d /usr/share/nltk_data/corpora/"
   ]
  },
  {
   "cell_type": "code",
   "execution_count": 3,
   "id": "af8f4b5c",
   "metadata": {
    "execution": {
     "iopub.execute_input": "2024-04-23T18:17:15.866321Z",
     "iopub.status.busy": "2024-04-23T18:17:15.865532Z",
     "iopub.status.idle": "2024-04-23T18:17:25.825515Z",
     "shell.execute_reply": "2024-04-23T18:17:25.824315Z"
    },
    "papermill": {
     "duration": 9.97346,
     "end_time": "2024-04-23T18:17:25.828884",
     "exception": false,
     "start_time": "2024-04-23T18:17:15.855424",
     "status": "completed"
    },
    "tags": []
   },
   "outputs": [
    {
     "name": "stdout",
     "output_type": "stream",
     "text": [
      "VERBOSE: Amazon reviews loaded into Panda\n",
      "VERBOSE: Number of reviews: 568454\n",
      "VERBOSE: Column names -\n",
      " Index(['Id', 'ProductId', 'UserId', 'ProfileName', 'HelpfulnessNumerator',\n",
      "       'HelpfulnessDenominator', 'Score', 'Time', 'Summary', 'Text'],\n",
      "      dtype='object')\n",
      "\n",
      "VERBOSE: First five rows -\n",
      "   Id   ProductId          UserId                      ProfileName  \\\n",
      "0   1  B001E4KFG0  A3SGXH7AUHU8GW                       delmartian   \n",
      "1   2  B00813GRG4  A1D87F6ZCVE5NK                           dll pa   \n",
      "2   3  B000LQOCH0   ABXLMWJIXXAIN  Natalia Corres \"Natalia Corres\"   \n",
      "3   4  B000UA0QIQ  A395BORC6FGVXV                             Karl   \n",
      "4   5  B006K2ZZ7K  A1UQRSCLF8GW1T    Michael D. Bigham \"M. Wassir\"   \n",
      "\n",
      "   HelpfulnessNumerator  HelpfulnessDenominator  Score        Time  \\\n",
      "0                     1                       1      5  1303862400   \n",
      "1                     0                       0      1  1346976000   \n",
      "2                     1                       1      4  1219017600   \n",
      "3                     3                       3      2  1307923200   \n",
      "4                     0                       0      5  1350777600   \n",
      "\n",
      "                 Summary                                               Text  \n",
      "0  Good Quality Dog Food  I have bought several of the Vitality canned d...  \n",
      "1      Not as Advertised  Product arrived labeled as Jumbo Salted Peanut...  \n",
      "2  \"Delight\" says it all  This is a confection that has been around a fe...  \n",
      "3         Cough Medicine  If you are looking for the secret ingredient i...  \n",
      "4            Great taffy  Great taffy at a great price.  There was a wid...  \n"
     ]
    }
   ],
   "source": [
    "# Load data from CSV\n",
    "#>>  3/13 needed to change the path as below\n",
    "# path ='/kaggle/input/Reviews.csv'#\"/kaggle/input/amazon-product-reviews/Reviews.csv\"\n",
    "data = pd.read_csv(reviews_file) # Use pandas to analyze data\n",
    "showD('Amazon reviews loaded into Panda')\n",
    "\n",
    "# print number of rows in our ratings column\n",
    "printv(f'Number of reviews: {len(data[\"Score\"])}')\n",
    "printv(f'Column names -\\n {data.columns}\\n') \n",
    "printv(f'First five rows -\\n{data.head()}')"
   ]
  },
  {
   "cell_type": "code",
   "execution_count": 4,
   "id": "fcb4c3eb",
   "metadata": {
    "execution": {
     "iopub.execute_input": "2024-04-23T18:17:25.847386Z",
     "iopub.status.busy": "2024-04-23T18:17:25.846961Z",
     "iopub.status.idle": "2024-04-23T18:17:26.187096Z",
     "shell.execute_reply": "2024-04-23T18:17:26.185389Z"
    },
    "papermill": {
     "duration": 0.353012,
     "end_time": "2024-04-23T18:17:26.190212",
     "exception": false,
     "start_time": "2024-04-23T18:17:25.837200",
     "status": "completed"
    },
    "tags": []
   },
   "outputs": [
    {
     "name": "stdout",
     "output_type": "stream",
     "text": [
      "Column 'Id' has no empty entries or missing data.\n",
      "Column 'ProductId' has no empty entries or missing data.\n",
      "Column 'UserId' has no empty entries or missing data.\n",
      "Column 'ProfileName' has empty entries or missing data.\n",
      "Column 'HelpfulnessNumerator' has no empty entries or missing data.\n",
      "Column 'HelpfulnessDenominator' has no empty entries or missing data.\n",
      "Column 'Score' has no empty entries or missing data.\n",
      "Column 'Time' has no empty entries or missing data.\n",
      "Column 'Summary' has empty entries or missing data.\n",
      "Column 'Text' has no empty entries or missing data.\n"
     ]
    }
   ],
   "source": [
    "# Check for empty entries or missing data in each column\n",
    "for column in data.columns:\n",
    "    if data[column].isnull().values.any():\n",
    "        print(f\"Column '{column}' has empty entries or missing data.\")\n",
    "    else:\n",
    "        print(f\"Column '{column}' has no empty entries or missing data.\")"
   ]
  },
  {
   "cell_type": "code",
   "execution_count": 5,
   "id": "767e6ffa",
   "metadata": {
    "execution": {
     "iopub.execute_input": "2024-04-23T18:17:26.208903Z",
     "iopub.status.busy": "2024-04-23T18:17:26.208498Z",
     "iopub.status.idle": "2024-04-23T18:17:26.579650Z",
     "shell.execute_reply": "2024-04-23T18:17:26.578107Z"
    },
    "papermill": {
     "duration": 0.383828,
     "end_time": "2024-04-23T18:17:26.582490",
     "exception": false,
     "start_time": "2024-04-23T18:17:26.198662",
     "status": "completed"
    },
    "tags": []
   },
   "outputs": [
    {
     "name": "stdout",
     "output_type": "stream",
     "text": [
      "52,268 samples from balanced data with rating 1\n",
      "\n",
      "29,769 samples from balanced data with rating 2\n",
      "\n",
      "42,640 samples from balanced data with rating 3\n",
      "\n",
      "80,655 samples from balanced data with rating 4\n",
      "\n",
      "363,122 samples from balanced data with rating 5\n",
      "\n"
     ]
    },
    {
     "data": {
      "image/png": "[encoded data removed]",
      "text/plain": [
       "<Figure size 640x480 with 1 Axes>"
      ]
     },
     "metadata": {},
     "output_type": "display_data"
    }
   ],
   "source": [
    "# Get count of ratings \n",
    "rating_counts = data['Score'].value_counts()\n",
    "\n",
    "# Sort counts by index ascending\n",
    "rating_counts = rating_counts.sort_index()  \n",
    "\n",
    "# Create bar plot\n",
    "ax = rating_counts.plot(kind = 'bar')\n",
    "\n",
    "ax.set_title(\"Ratings Distribution\")\n",
    "ax.set_xlabel(\"Rating\")\n",
    "ax.set_ylabel(\"Number of Occurrences\")\n",
    "\n",
    "# Fix x-axis tick labels\n",
    "ax.set_xticklabels(ax.get_xticklabels(), rotation = 0) \n",
    "\n",
    "for rating, count in rating_counts.items():\n",
    "        print(f\"{count:,} samples from balanced data with rating {rating}\\n\")\n",
    "\n",
    "plt.show() #<< show the rating in each of the 5 categories"
   ]
  },
  {
   "cell_type": "code",
   "execution_count": 6,
   "id": "96906ce4",
   "metadata": {
    "execution": {
     "iopub.execute_input": "2024-04-23T18:17:26.602176Z",
     "iopub.status.busy": "2024-04-23T18:17:26.601715Z",
     "iopub.status.idle": "2024-04-23T18:17:27.212882Z",
     "shell.execute_reply": "2024-04-23T18:17:27.211461Z"
    },
    "papermill": {
     "duration": 0.624562,
     "end_time": "2024-04-23T18:17:27.216038",
     "exception": false,
     "start_time": "2024-04-23T18:17:26.591476",
     "status": "completed"
    },
    "tags": []
   },
   "outputs": [
    {
     "name": "stderr",
     "output_type": "stream",
     "text": [
      "/tmp/ipykernel_18/1744783182.py:17: DeprecationWarning: DataFrameGroupBy.apply operated on the grouping columns. This behavior is deprecated, and in a future version of pandas the grouping columns will be excluded from the operation. Either pass `include_groups=False` to exclude the groupings or explicitly select the grouping columns after groupby to silence this warning.\n",
      "  balanced_data = sorted_data.groupby(sort_column).apply(lambda x: x.sample(n = balanced_data_size))\n"
     ]
    },
    {
     "name": "stdout",
     "output_type": "stream",
     "text": [
      "VERBOSE: The number of reviews equally distributed across all ratings is 5000\n",
      "1,000 samples from balanced data with rating 1\n",
      "\n",
      "1,000 samples from balanced data with rating 2\n",
      "\n",
      "1,000 samples from balanced data with rating 3\n",
      "\n",
      "1,000 samples from balanced data with rating 4\n",
      "\n",
      "1,000 samples from balanced data with rating 5\n",
      "\n"
     ]
    },
    {
     "data": {
      "image/png": "[encoded data removed]",
      "text/plain": [
       "<Figure size 640x480 with 1 Axes>"
      ]
     },
     "metadata": {},
     "output_type": "display_data"
    }
   ],
   "source": [
    "balanced_data_size = 1000 #25000<< number of reviews in each rating category, tailored for CPU capacity\n",
    "# Specify the column for sorting and balancing\n",
    "sort_column = 'Score'  # This is one the rating column\n",
    "\n",
    "# Sort the data by the rating values\n",
    "sorted_data = data.sort_values(by = sort_column)\n",
    "\n",
    "# Create a balanced dataset with 25,000 samples from each class\n",
    "#balanced_data = sorted_data.groupby(sort_column).apply(lambda x: x.sample(n=25000))\n",
    "\n",
    "#>> DeprecationWarning: DataFrameGroupBy.apply operated on the grouping columns. \n",
    "#>> This behavior is deprecated, and in a future version of pandas the grouping \n",
    "#>> columns will be excluded from the operation. \n",
    "#>> Either pass `include_groups=False` to exclude the groupings or \n",
    "#>> explicitly select the grouping columns after groupby to silence this warning.\n",
    "#\n",
    "balanced_data = sorted_data.groupby(sort_column).apply(lambda x: x.sample(n = balanced_data_size))\n",
    "\n",
    "#>> Does this mean to reset the row numbers?? ##Columns Numbers\n",
    "balanced_data.reset_index(drop = True, inplace = True)\n",
    "\n",
    "printv(f\"The number of reviews equally distributed across all ratings is {len(balanced_data['Score'])}\")\n",
    "\n",
    "# Get count of ratings\n",
    "rating_counts = balanced_data['Score'].value_counts()\n",
    "\n",
    "# Create bar plot\n",
    "ax = rating_counts.plot(kind='bar')\n",
    "\n",
    "ax.set_title(\"Ratings Distribution After Balancing\")\n",
    "ax.set_xlabel(\"Rating\")\n",
    "ax.set_ylabel(\"Number of Samples\")\n",
    "\n",
    "# Fix x-axis ticks  \n",
    "ax.set_xticklabels(ax.get_xticklabels(), rotation = 0)\n",
    "\n",
    "# Print number of reviews per rating\n",
    "\n",
    "if DEV:\n",
    "    for rating, count in rating_counts.items():\n",
    "        print(f\"{count:,} samples from balanced data with rating {rating}\\n\")\n",
    "\n",
    "plt.show()"
   ]
  },
  {
   "cell_type": "code",
   "execution_count": 7,
   "id": "702abe72",
   "metadata": {
    "execution": {
     "iopub.execute_input": "2024-04-23T18:17:27.237393Z",
     "iopub.status.busy": "2024-04-23T18:17:27.236785Z",
     "iopub.status.idle": "2024-04-23T18:18:08.922239Z",
     "shell.execute_reply": "2024-04-23T18:18:08.920580Z"
    },
    "papermill": {
     "duration": 41.699873,
     "end_time": "2024-04-23T18:18:08.925500",
     "exception": false,
     "start_time": "2024-04-23T18:17:27.225627",
     "status": "completed"
    },
    "tags": []
   },
   "outputs": [
    {
     "name": "stdout",
     "output_type": "stream",
     "text": [
      "Collecting symspellpy\r\n",
      "  Downloading symspellpy-6.7.7-py3-none-any.whl.metadata (2.5 kB)\r\n",
      "Collecting editdistpy>=0.1.3 (from symspellpy)\r\n",
      "  Downloading editdistpy-0.1.4.tar.gz (98 kB)\r\n",
      "\u001b[2K     \u001b[90m━━━━━━━━━━━━━━━━━━━━━━━━━━━━━━━━━━━━━━━━\u001b[0m \u001b[32m98.5/98.5 kB\u001b[0m \u001b[31m3.1 MB/s\u001b[0m eta \u001b[36m0:00:00\u001b[0m\r\n",
      "\u001b[?25h  Installing build dependencies ... \u001b[?25l-\b \b\\\b \b|\b \b/\b \b-\b \b\\\b \b|\b \bdone\r\n",
      "\u001b[?25h  Getting requirements to build wheel ... \u001b[?25l-\b \b\\\b \b|\b \bdone\r\n",
      "\u001b[?25h  Preparing metadata (pyproject.toml) ... \u001b[?25l-\b \b\\\b \bdone\r\n",
      "\u001b[?25hDownloading symspellpy-6.7.7-py3-none-any.whl (2.6 MB)\r\n",
      "\u001b[2K   \u001b[90m━━━━━━━━━━━━━━━━━━━━━━━━━━━━━━━━━━━━━━━━\u001b[0m \u001b[32m2.6/2.6 MB\u001b[0m \u001b[31m35.9 MB/s\u001b[0m eta \u001b[36m0:00:00\u001b[0m\r\n",
      "\u001b[?25hBuilding wheels for collected packages: editdistpy\r\n",
      "  Building wheel for editdistpy (pyproject.toml) ... \u001b[?25l-\b \b\\\b \b|\b \b/\b \b-\b \b\\\b \b|\b \b/\b \bdone\r\n",
      "\u001b[?25h  Created wheel for editdistpy: filename=editdistpy-0.1.4-cp310-cp310-linux_x86_64.whl size=50428 sha256=f7ccacd420b536b8328ccf96fad02f0da3e99a124f832086c0798ac3a86f7c91\r\n",
      "  Stored in directory: /root/.cache/pip/wheels/4c/0f/10/c20d67cd765ee5b3666d759a307241bba0663135d6ee1c0072\r\n",
      "Successfully built editdistpy\r\n",
      "Installing collected packages: editdistpy, symspellpy\r\n",
      "Successfully installed editdistpy-0.1.4 symspellpy-6.7.7\r\n"
     ]
    }
   ],
   "source": [
    "!pip install symspellpy"
   ]
  },
  {
   "cell_type": "code",
   "execution_count": 8,
   "id": "53b7ee41",
   "metadata": {
    "execution": {
     "iopub.execute_input": "2024-04-23T18:18:08.957568Z",
     "iopub.status.busy": "2024-04-23T18:18:08.956011Z",
     "iopub.status.idle": "2024-04-23T18:18:08.968832Z",
     "shell.execute_reply": "2024-04-23T18:18:08.967631Z"
    },
    "papermill": {
     "duration": 0.033425,
     "end_time": "2024-04-23T18:18:08.972099",
     "exception": false,
     "start_time": "2024-04-23T18:18:08.938674",
     "status": "completed"
    },
    "tags": []
   },
   "outputs": [],
   "source": [
    "# custom stop words to remove\n",
    "custom_stop_words =['a', 'about', 'above', 'after',  'all', 'am', 'an', 'and', 'any',\n",
    "'are', 'as', 'at', 'be', 'because', 'been', 'before', 'being', 'below',\n",
    "'between', 'both', 'but', 'by', 'can',  'd', 'did',\n",
    " 'do', 'does', 'doing', 'down',\n",
    "'during', 'each', 'for', 'from', 'further', 'had', 'has',  'have', 'having',\n",
    "'he', 'her', 'here', 'hers', 'herself', 'him', 'himself', 'his', 'how',\n",
    "'i', 'if', 'in', 'into', 'is', 'it', \"it's\", 'its',\n",
    "'itself', 'just', 'll', 'm', 'ma', 'me',  'more',\n",
    "'most', 'mustn', \"mustn't\", 'my', 'myself', 'needn', \"needn't\",\n",
    "'nor',  'now', 'o', 'of', 'off', 'on', 'once', 'only', 'or',\n",
    "'other', 'our', 'ours', 'ourselves', 'out', 'over', 'own', 're', 's',\n",
    "'same',  'she', \"she's\", 'so', 'some', 'such', 't', 'than', 'that',\n",
    "\"that'll\", 'the', 'their', 'theirs', 'them', 'themselves', 'then',\n",
    "'there', 'these', 'they', 'this', 'those', 'through', 'to', 'too',\n",
    "'under', 'until', 'up', 've', 'very', 'was', 'wasn', \"wasn't\", 'we',\n",
    "'were',  'what', 'when', 'where', 'which', 'while',\n",
    "'who', 'whom', 'why', 'will', 'with', 'y', 'you', \"you'd\", \"you'll\", \"you're\", \"you've\", 'your',\n",
    "'yours', 'yourself', 'yourselves']"
   ]
  },
  {
   "cell_type": "markdown",
   "id": "fbb4461f",
   "metadata": {
    "papermill": {
     "duration": 0.014187,
     "end_time": "2024-04-23T18:18:09.002388",
     "exception": false,
     "start_time": "2024-04-23T18:18:08.988201",
     "status": "completed"
    },
    "tags": []
   },
   "source": [
    "**Around 7 minutes for 5,000 reviews**"
   ]
  },
  {
   "cell_type": "code",
   "execution_count": 9,
   "id": "7cce6653",
   "metadata": {
    "execution": {
     "iopub.execute_input": "2024-04-23T18:18:09.033543Z",
     "iopub.status.busy": "2024-04-23T18:18:09.033092Z",
     "iopub.status.idle": "2024-04-23T18:28:24.344637Z",
     "shell.execute_reply": "2024-04-23T18:28:24.343337Z"
    },
    "papermill": {
     "duration": 615.344687,
     "end_time": "2024-04-23T18:28:24.361162",
     "exception": false,
     "start_time": "2024-04-23T18:18:09.016475",
     "status": "completed"
    },
    "tags": []
   },
   "outputs": [
    {
     "name": "stdout",
     "output_type": "stream",
     "text": [
      "Tokenizer defined, and CleanedReview column created\n"
     ]
    }
   ],
   "source": [
    "import pkg_resources\n",
    "from symspellpy import SymSpell\n",
    "\n",
    "# Load the English tokenizer model from spaCy\n",
    "nlp = spacy.load(\"en_core_web_lg\")\n",
    "\n",
    "# Compile the regular expressions for cleaning text\n",
    "html_tags = re.compile(\"<.*?>\")\n",
    "punct_and_symbols = re.compile(r'[^\\w\\s\\']+')\n",
    "\n",
    "# Initialize and load SymSpell dictionary for word segmentation\n",
    "sym_spell = SymSpell(max_dictionary_edit_distance = 0, prefix_length = 7)\n",
    "dictionary_path = pkg_resources.resource_filename(\n",
    "    \"symspellpy\", \"frequency_dictionary_en_82_765.txt\"\n",
    ")\n",
    "sym_spell.load_dictionary(dictionary_path, term_index = 0, count_index = 1)\n",
    "\n",
    "def tokenizer(text, nlp, sym_spell, custom_stop_words):\n",
    "    \"\"\"\n",
    "    Tokenizes a text string, segments run-on words, and removes stop words.\n",
    "    \n",
    "    text (str): The text string to tokenize.\n",
    "    nlp: The spaCy language model.\n",
    "    sym_spell: The SymSpell object for correcting run-on words.\n",
    "    custom_stop_words (list): A list of custom stop words to remove.\n",
    "\n",
    "    Returns:\n",
    "        list: The tokenized text string.\n",
    "    \"\"\"\n",
    "    # Clean text\n",
    "    text = text.lower()  # Convert text to lowercase\n",
    "    text = html_tags.sub(\"\", text)  # Remove HTML tags\n",
    "    # text = punct_and_symbols.sub(\"\", text)  # Replace punctuation and symbols with space\n",
    "    text = punct_and_symbols.sub(\" \", text)  # Replace punctuation and symbols with space\n",
    "\n",
    "    # Segment text using SymSpell\n",
    "    segmented = sym_spell.word_segmentation(text)\n",
    "    clean_text = segmented.corrected_string\n",
    "    \n",
    "    # Tokenize the text using spaCy\n",
    "    doc = nlp(clean_text)\n",
    "\n",
    "    # Remove stop words and punctuation tokens\n",
    "    tokens = [token.text for token in doc if not token.is_punct \n",
    "              and token.text not in custom_stop_words] \n",
    "\n",
    "    return tokens\n",
    "\n",
    "# Assuming 'balanced_data' is a pandas DataFrame with a column 'Text'\n",
    "# Apply the tokenizer function to the 'Text' column\n",
    "balanced_data['CleanedReview'] = balanced_data['Text'].apply(lambda x: tokenizer(x, nlp, sym_spell, custom_stop_words))\n",
    "\n",
    "# Indicate completion\n",
    "print('Tokenizer defined, and CleanedReview column created')"
   ]
  },
  {
   "cell_type": "code",
   "execution_count": 10,
   "id": "b7e2674e",
   "metadata": {
    "execution": {
     "iopub.execute_input": "2024-04-23T18:28:24.389908Z",
     "iopub.status.busy": "2024-04-23T18:28:24.389464Z",
     "iopub.status.idle": "2024-04-23T18:28:24.397891Z",
     "shell.execute_reply": "2024-04-23T18:28:24.396683Z"
    },
    "papermill": {
     "duration": 0.026843,
     "end_time": "2024-04-23T18:28:24.400956",
     "exception": false,
     "start_time": "2024-04-23T18:28:24.374113",
     "status": "completed"
    },
    "tags": []
   },
   "outputs": [
    {
     "name": "stdout",
     "output_type": "stream",
     "text": [
      "VERBOSE: specify the columns that will be used to train the classifier\n",
      "Boy am I disappointed! I was looking forward to trying some new flavors and I got pretty much all the flavors I have already tried! I really do NOT want 5 chocolate donut, 4 butter toffee, 4 kahlua and 3 French vanilla. The description mentions many different types of coffee k cups. Seems to me that you should be able to get one of each flavor. Terrible vendor. I should have listened to other reviews but was hoping that the company would take notice of the bad reviews and improve their service. Shame on you! \n",
      "\n",
      "['boy', 'disappointed', ' ', 'looking', 'forward', 'trying', 'new', 'flavors', 'got', 'pretty', 'much', 'flavors', 'already', 'tried', ' ', 'really', 'not', 'want', '5', 'chocolate', 'nut', ' ', '4', 'butter', 'toffee', ' ', '4', 'kahlua', '3', 'french', 'vanilla', ' ', 'description', 'mentions', 'many', 'different', 'types', 'coffee', 'k', 'cups', ' ', 'seems', 'should', 'able', 'get', 'one', 'flavor', ' ', 'terrible', 'vendor', ' ', 'should', 'listened', 'reviews', 'hoping', 'company', 'would', 'take', 'notice', 'bad', 'reviews', 'improve', 'service', ' ', 'shame'] \n",
      "\n",
      "65 \n",
      "\n",
      "(5000,)\n",
      "I have trouble believing that what is in the package is truly dried fruit.  Dried poop maybe?  These are downright awful - the smell, the texture, the smell, the taste, oh and did I mention the smell.  I have smelled outhouses and mall bathrooms that are more appealing. \n",
      "\n",
      "['trouble', 'believing', 'package', 'truly', 'dried', 'fruit', '  ', 'dried', 'poop', 'maybe', '  ', 'downright', 'awful', '  ', 'smell', ' ', 'texture', ' ', 'smell', ' ', 'taste', ' ', 'oh', 'mention', 'smell', '  ', 'smelled', 'outhouses', 'mall', 'bathrooms', 'appealing'] \n",
      "\n",
      "31 \n",
      "\n",
      "(5000,)\n",
      "oatmeal  was very very old  hard parts  bad taste  had to throw it all away  never order it again. \n",
      "\n",
      "['oatmeal', ' ', 'old', ' ', 'hard', 'parts', ' ', 'bad', 'taste', ' ', 'throw', 'away', ' ', 'never', 'order', 'again'] \n",
      "\n",
      "16 \n",
      "\n",
      "(5000,)\n",
      "Several years ago I purchased these moth traps and they were filled in a matter of days.  I received these a few weeks ago and they have remained empty with the moths flying nearby.  I suppose like everything else - they changed the formula or something.  Soooooo disappointed. \n",
      "\n",
      "['several', 'years', 'ago', 'purchased', 'moth', 'traps', 'filled', 'matter', 'days', '  ', 'received', 'few', 'weeks', 'ago', 'remained', 'empty', 'moths', 'flying', 'nearby', '  ', 'suppose', 'like', 'everything', 'else', '  ', 'changed', 'formula', 'something', '  ', 'ooooo', 'disappointed'] \n",
      "\n",
      "31 \n",
      "\n",
      "(5000,)\n",
      "all of the veterinary products made in China are potentially dangerous to your pet.  Do not buy pet products made in China.  Along with the melamine issues of a few years ago, there have been reports of Salmonella on these so called \"treats\".<br /><br />Additionally, there are no good studies showing any efficacy of glucosamine for the treatment of arthritis.<br /><br />And Amazon should make it easier to find the country of origin of all of their products. \n",
      "\n",
      "['veterinary', 'products', 'made', 'china', 'potentially', 'dangerous', 'pet', '  ', 'not', 'buy', 'pet', 'products', 'made', 'china', '  ', 'along', 'melamine', 'issues', 'few', 'years', 'ago', ' ', 'reports', 'salmonella', 'called', ' ', 'treats', 'additionally', ' ', 'no', 'good', 'studies', 'showing', 'efficacy', 'glu', 'cos', 'amine', 'treatment', 'arthritis', 'amazon', 'should', 'make', 'easier', 'find', 'country', 'origin', 'products'] \n",
      "\n",
      "47 \n",
      "\n",
      "(5000,)\n"
     ]
    }
   ],
   "source": [
    "# Store the Rating column\n",
    "rating = balanced_data['Score']  \n",
    "\n",
    "# Store the CleanedReview column\n",
    "tokenized_review = balanced_data['CleanedReview']\n",
    "showD(f'specify the columns that will be used to train the classifier')\n",
    "\n",
    "for i in range (5):\n",
    "    print(balanced_data['Text'][i],'\\n')\n",
    "    print(tokenized_review[i], '\\n')\n",
    "    print(len(tokenized_review[i]), '\\n')\n",
    "    print(tokenized_review.shape)"
   ]
  },
  {
   "cell_type": "code",
   "execution_count": 11,
   "id": "9a5da394",
   "metadata": {
    "execution": {
     "iopub.execute_input": "2024-04-23T18:28:24.429614Z",
     "iopub.status.busy": "2024-04-23T18:28:24.429167Z",
     "iopub.status.idle": "2024-04-23T18:28:24.831370Z",
     "shell.execute_reply": "2024-04-23T18:28:24.830165Z"
    },
    "papermill": {
     "duration": 0.419864,
     "end_time": "2024-04-23T18:28:24.834086",
     "exception": false,
     "start_time": "2024-04-23T18:28:24.414222",
     "status": "completed"
    },
    "tags": []
   },
   "outputs": [
    {
     "name": "stdout",
     "output_type": "stream",
     "text": [
      "Mean: 56.40\n",
      "Median: 40.00\n",
      "Mode: ModeResult(mode=18, count=119)\n"
     ]
    },
    {
     "data": {
      "image/png": "[encoded data removed]",
      "text/plain": [
       "<Figure size 800x600 with 1 Axes>"
      ]
     },
     "metadata": {},
     "output_type": "display_data"
    }
   ],
   "source": [
    "def analyze_review_tokens(reviews):\n",
    "    token_counts = [len(review) for review in reviews]\n",
    "\n",
    "    mean = np.mean(token_counts)\n",
    "    median = np.median(token_counts)\n",
    "    mode = stats.mode(token_counts)\n",
    "\n",
    "    print(f\"Mean: {mean:.2f}\")\n",
    "    print(f\"Median: {median:.2f}\")\n",
    "    print(f\"Mode: {mode}\")\n",
    "\n",
    "    plt.figure(figsize=(8, 6))\n",
    "    plt.hist(token_counts, bins=20, edgecolor='black')\n",
    "    plt.xlabel('Number of Tokens')\n",
    "    plt.ylabel('Frequency')\n",
    "    plt.title('Histogram of Token Counts per Review')\n",
    "    plt.grid(True)\n",
    "    plt.show()\n",
    "\n",
    "analyze_review_tokens(tokenized_review)"
   ]
  },
  {
   "cell_type": "code",
   "execution_count": 12,
   "id": "1930e3f2",
   "metadata": {
    "execution": {
     "iopub.execute_input": "2024-04-23T18:28:24.864394Z",
     "iopub.status.busy": "2024-04-23T18:28:24.862917Z",
     "iopub.status.idle": "2024-04-23T18:29:52.541656Z",
     "shell.execute_reply": "2024-04-23T18:29:52.540397Z"
    },
    "papermill": {
     "duration": 87.711661,
     "end_time": "2024-04-23T18:29:52.559440",
     "exception": false,
     "start_time": "2024-04-23T18:28:24.847779",
     "status": "completed"
    },
    "tags": []
   },
   "outputs": [
    {
     "name": "stdout",
     "output_type": "stream",
     "text": [
      "VERBOSE: KeyedVectors<vector_size=300, 3000000 keys> can map words onto vectors with 300 dimensions\n"
     ]
    }
   ],
   "source": [
    "# >> 3/29/24 Took less than a minute to run without the accelerator.\n",
    "# Load Word2Vec model\n",
    "#w2v = api.load('word2vec-google-news-300')\n",
    "w2v = KeyedVectors.load_word2vec_format (w2v_file, binary=True)\n",
    "\n",
    "# Define the aimum sequence length (adjust as needed)\n",
    "#>> Will increasing max_sequence_length impact performance?\n",
    "max_sequence_length = 100\n",
    "\n",
    "showD(f'{w2v} can map words onto vectors with 300 dimensions')"
   ]
  },
  {
   "cell_type": "code",
   "execution_count": 13,
   "id": "ec301153",
   "metadata": {
    "execution": {
     "iopub.execute_input": "2024-04-23T18:29:52.594302Z",
     "iopub.status.busy": "2024-04-23T18:29:52.592893Z",
     "iopub.status.idle": "2024-04-23T18:29:52.601805Z",
     "shell.execute_reply": "2024-04-23T18:29:52.600574Z"
    },
    "papermill": {
     "duration": 0.030433,
     "end_time": "2024-04-23T18:29:52.604893",
     "exception": false,
     "start_time": "2024-04-23T18:29:52.574460",
     "status": "completed"
    },
    "tags": []
   },
   "outputs": [
    {
     "name": "stdout",
     "output_type": "stream",
     "text": [
      "CUDA is not available.\n",
      "cpu\n"
     ]
    }
   ],
   "source": [
    "# Checks if a CUDA enabled GPU is available and prints out its information\n",
    "if torch.cuda.is_available():\n",
    "    print(\"CUDA is available!\")\n",
    "    for i in range(torch.cuda.device_count()):\n",
    "        print(f\"GPU {i}: {torch.cuda.get_device_name(i)}\")\n",
    "        \n",
    "    device = torch.device(\"cuda:0\")\n",
    "    accelerator = True\n",
    "\n",
    "else:\n",
    "    accelerator = False\n",
    "    print(\"CUDA is not available.\")\n",
    "    device = torch.device(\"cpu\")\n",
    "    print(device)"
   ]
  },
  {
   "cell_type": "code",
   "execution_count": 14,
   "id": "9f71f404",
   "metadata": {
    "execution": {
     "iopub.execute_input": "2024-04-23T18:29:52.637596Z",
     "iopub.status.busy": "2024-04-23T18:29:52.637158Z",
     "iopub.status.idle": "2024-04-23T18:30:00.218556Z",
     "shell.execute_reply": "2024-04-23T18:30:00.216575Z"
    },
    "papermill": {
     "duration": 7.601933,
     "end_time": "2024-04-23T18:30:00.222290",
     "exception": false,
     "start_time": "2024-04-23T18:29:52.620357",
     "status": "completed"
    },
    "tags": []
   },
   "outputs": [
    {
     "name": "stdout",
     "output_type": "stream",
     "text": [
      "VERBOSE: Lengths of 100 longest reviews: [1000, 933, 709, 671, 556, 556, 530, 493, 479, 452, 421, 413, 380, 380, 375, 374, 367, 365, 358, 356, 353, 349, 348, 347, 336, 320, 319, 315, 308, 303, 303, 302, 299, 297, 295, 295, 290, 290, 288, 285, 284, 281, 274, 269, 267, 266, 264, 263, 261, 261, 260, 259, 259, 257, 252, 249, 248, 248, 247, 247, 246, 244, 243, 243, 240, 240, 237, 237, 236, 230, 229, 227, 226, 224, 224, 223, 222, 221, 220, 219, 219, 218, 218, 216, 216, 215, 213, 212, 212, 209, 209, 209, 208, 208, 208, 208, 208, 208, 206, 206]\n",
      "VERBOSE: 197342 words found with vector representations, 44277 without\n",
      "VERBOSE: Number of unique words without vector representations: 782\n",
      "DEV: Sample of words without vector representations\n",
      "DEV:   - 29344\n",
      "DEV: 75 - 17\n",
      "DEV: 340 - 1\n",
      "DEV: cfh - 3\n",
      "DEV: nought - 1\n",
      "DEV:        - 4\n",
      "DEV: ooong - 1\n",
      "DEV: tasts - 1\n",
      "tensor([[ 0.2520, -0.0488, -0.0737,  ...,  0.0737,  0.0515,  0.1963],\n",
      "        [ 0.0442,  0.1177,  0.0166,  ..., -0.0046,  0.2754,  0.0352],\n",
      "        [ 0.2773,  0.0386, -0.0330,  ..., -0.0586,  0.1045, -0.2598],\n",
      "        ...,\n",
      "        [ 0.0000,  0.0000,  0.0000,  ...,  0.0000,  0.0000,  0.0000],\n",
      "        [ 0.0000,  0.0000,  0.0000,  ...,  0.0000,  0.0000,  0.0000],\n",
      "        [ 0.0000,  0.0000,  0.0000,  ...,  0.0000,  0.0000,  0.0000]])\n"
     ]
    }
   ],
   "source": [
    "#>> 3/29/24 Completed in less than 30 seconds using 1347 as max_sequence_length \n",
    "\n",
    "# Assume you have a list of tokenized review called tokenized_review\n",
    "# Each element in tokenized_review is a list of tokens for a single review\n",
    "\n",
    "lengths = []\n",
    "for review_tokens in tokenized_review:\n",
    "    lengths.append(len(review_tokens))\n",
    "\n",
    "lengths = sorted(lengths)\n",
    "lengths = lengths[-1:0:-1]\n",
    "showD(f'Lengths of 100 longest reviews: {lengths[0:100]}')        \n",
    "\n",
    "max_sequence_length = 100 #<< 3/29/24 1347 was the longest review length in sample\n",
    "\n",
    "# Initialize an empty tensor for padded reviews on the GPU\n",
    "padded_reviews = torch.zeros((len(tokenized_review), max_sequence_length, 300))\n",
    "\n",
    "# Initialize a mask tensor of the same shape as padded_reviews\n",
    "# Set it to False (or 0) initially, representing that all positions are padding\n",
    "# mask = torch.zeros_like(padded_reviews, dtype=torch.bool)\n",
    "\n",
    "# Initialize a mask tensor of the same shape as padded_reviews but with only sequence length\n",
    "mask = torch.zeros((len(tokenized_review), max_sequence_length), dtype=torch.bool)\n",
    "\n",
    "out_words = {}\n",
    "words_in = 0\n",
    "words_out = 0\n",
    "\n",
    "# Now, during the padding and embedding conversion loop, update the mask as well\n",
    "for i, review_tokens in enumerate(tokenized_review):\n",
    "    review_length = min(len(review_tokens), max_sequence_length)\n",
    "    for j in range(review_length):\n",
    "        word = review_tokens[j]\n",
    "        if word in w2v:\n",
    "            words_in += 1\n",
    "            # Use Word2Vec vector if available\n",
    "            padded_reviews[i, j, :] = torch.tensor(w2v[word])\n",
    "            mask[i, j] = True  # Update the mask to indicate the presence of a word\n",
    "        else:\n",
    "            words_out += 1\n",
    "            out_words[word] = out_words.get(word, 0) + 1\n",
    "        # Otherwise, the mask remains False (or 0) for padding\n",
    "\n",
    "# Now you have a mask tensor that you can use later in your processing to ignore padded values\n",
    "# For example, if you want to apply max pooling only on non-padded values, you could use:\n",
    "# review_embeddings = torch.max(padded_reviews * mask.unsqueeze(-1).float(), dim=1)[0]\n",
    "\n",
    "# Ensure the mask is treated as a float for any operations that require it\n",
    "mask = mask.float()\n",
    "\n",
    "# Now you can use this mask tensor to exclude the padding from any subsequent computations\n",
    "\n",
    "printv(f'{words_in} words found with vector representations, {words_out} without')\n",
    "printv(f'Number of unique words without vector representations: {len(out_words)}')\n",
    "printd('Sample of words without vector representations')\n",
    "kwords = list(out_words.keys())\n",
    "for idx in range(0,len(kwords)-1,100):\n",
    "    kword = kwords[idx]\n",
    "    printd(f'{kword} - {out_words[kword]}')\n",
    "# Apply max pooling to aggregate embeddings along the sequence dimension\n",
    "# review_embeddings = torch.max(padded_reviews, dim=1)[0]\n",
    "\n",
    "# Now,review_embeddings contains the aggregated Word2Vec \n",
    "# embeddings for each review on the GPU\n",
    "\n",
    "showC(f\"Created zero-padded, standard length reviews\")\n",
    "\n",
    "print(padded_reviews[1])"
   ]
  },
  {
   "cell_type": "code",
   "execution_count": 15,
   "id": "6ca0115c",
   "metadata": {
    "execution": {
     "iopub.execute_input": "2024-04-23T18:30:00.254433Z",
     "iopub.status.busy": "2024-04-23T18:30:00.253166Z",
     "iopub.status.idle": "2024-04-23T18:30:00.265405Z",
     "shell.execute_reply": "2024-04-23T18:30:00.263473Z"
    },
    "papermill": {
     "duration": 0.031787,
     "end_time": "2024-04-23T18:30:00.268408",
     "exception": false,
     "start_time": "2024-04-23T18:30:00.236621",
     "status": "completed"
    },
    "tags": []
   },
   "outputs": [
    {
     "name": "stdout",
     "output_type": "stream",
     "text": [
      "torch.Size([5000, 100, 300])\n",
      "torch.Size([5000])\n",
      "cpu\n",
      "cpu\n",
      "<torch.utils.data.dataset.TensorDataset object at 0x7c4a57761a20>\n",
      "Total allocated memory: 0 bytes\n",
      "\n",
      "\n",
      "\n",
      "\n",
      "\n",
      "\n",
      "\n",
      "\n",
      "\n",
      "\n",
      "\n"
     ]
    }
   ],
   "source": [
    "#>> padded_reviews are 100 x 300 tensors, zero padded if necessary\n",
    "#>> to get the standard lenth\n",
    "text_embeddings_tensors = padded_reviews.to(device)\n",
    "\n",
    "# Rating labels\n",
    "rating_labels_tensors = torch.tensor(rating.values).to(device)\n",
    "\n",
    "# Dataset\n",
    "dataset = TensorDataset(text_embeddings_tensors, rating_labels_tensors)\n",
    "showC(f'{dataset} defined')\n",
    "\n",
    "print(text_embeddings_tensors.shape)\n",
    "print(rating_labels_tensors.shape)\n",
    "print(text_embeddings_tensors.device)\n",
    "print(rating_labels_tensors.device)\n",
    "print(dataset)\n",
    "\n",
    "printM() # print(f\"Total allocated memory: {torch.cuda.memory_allocated()} bytes\")\n",
    "printNv() #!nvidia-smi\n",
    "print('\\n\\n\\n\\n\\n\\n\\n\\n\\n\\n')\n",
    "if accelerator and showNv:\n",
    "    print(torch.cuda.memory_summary())"
   ]
  },
  {
   "cell_type": "code",
   "execution_count": 16,
   "id": "d95615c8",
   "metadata": {
    "execution": {
     "iopub.execute_input": "2024-04-23T18:30:00.298746Z",
     "iopub.status.busy": "2024-04-23T18:30:00.298244Z",
     "iopub.status.idle": "2024-04-23T18:30:00.311391Z",
     "shell.execute_reply": "2024-04-23T18:30:00.309633Z"
    },
    "papermill": {
     "duration": 0.031608,
     "end_time": "2024-04-23T18:30:00.313918",
     "exception": false,
     "start_time": "2024-04-23T18:30:00.282310",
     "status": "completed"
    },
    "tags": []
   },
   "outputs": [
    {
     "name": "stdout",
     "output_type": "stream",
     "text": [
      "VERBOSE: The amount of data we have to train with is 4000 revieww\n",
      "VERBOSE: The amount of data we have to validate with is 1000 reviews\n"
     ]
    }
   ],
   "source": [
    "# Lengths \n",
    "train_len = int(0.8 * len(dataset))\n",
    "val_len = len(dataset) - train_len\n",
    "\n",
    "# Random split\n",
    "train_data, val_data = random_split(dataset, [train_len, val_len])\n",
    "\n",
    "printv(f\"The amount of data we have to train with is {len(train_data)} revieww\") \n",
    "printv(f\"The amount of data we have to validate with is {len(val_data)} reviews\")\n",
    "#print(f\"The amount of data we have to validate with is on {train_data.device}\")\n",
    "#print(f\"The amount of data we have to validate with is on {val_data.device}\")\n",
    "\n",
    "# DataLoader for training data\n",
    "train_loader = DataLoader(train_data, batch_size = 32, shuffle = True)  # Use shuffle for training\n",
    "\n",
    "# DataLoader for validation data\n",
    "val_loader = DataLoader(val_data, batch_size = 32, shuffle = False)  # No need to shuffle for validation"
   ]
  },
  {
   "cell_type": "code",
   "execution_count": 17,
   "id": "3aadbdd4",
   "metadata": {
    "execution": {
     "iopub.execute_input": "2024-04-23T18:30:00.344247Z",
     "iopub.status.busy": "2024-04-23T18:30:00.343798Z",
     "iopub.status.idle": "2024-04-23T18:30:03.080802Z",
     "shell.execute_reply": "2024-04-23T18:30:03.078926Z"
    },
    "papermill": {
     "duration": 2.75587,
     "end_time": "2024-04-23T18:30:03.083882",
     "exception": false,
     "start_time": "2024-04-23T18:30:00.328012",
     "status": "completed"
    },
    "tags": []
   },
   "outputs": [
    {
     "name": "stdout",
     "output_type": "stream",
     "text": [
      "VERBOSE: dataset size 5000\n",
      "VERBOSE: dataset2 size 5000\n"
     ]
    }
   ],
   "source": [
    "import pickle\n",
    "\n",
    "with open('preprocessed_dataset', 'ab') as dataset_file:\n",
    "    pickle.dump(dataset, dataset_file)\n",
    "    \n",
    "with open('preprocessed_dataset', 'rb') as dataset_file:\n",
    "    dataset2 = pickle.load(dataset_file)\n",
    "\n",
    "printv(f'dataset size {len(dataset)}')\n",
    "printv(f'dataset2 size {len(dataset2)}')\n",
    "    \n"
   ]
  }
 ],
 "metadata": {
  "kaggle": {
   "accelerator": "none",
   "dataSources": [
    {
     "datasetId": 6763,
     "sourceId": 9801,
     "sourceType": "datasetVersion"
    },
    {
     "datasetId": 1461623,
     "sourceId": 2415872,
     "sourceType": "datasetVersion"
    }
   ],
   "dockerImageVersionId": 30698,
   "isGpuEnabled": false,
   "isInternetEnabled": true,
   "language": "python",
   "sourceType": "notebook"
  },
  "kernelspec": {
   "display_name": "Python 3",
   "language": "python",
   "name": "python3"
  },
  "language_info": {
   "codemirror_mode": {
    "name": "ipython",
    "version": 3
   },
   "file_extension": ".py",
   "mimetype": "text/x-python",
   "name": "python",
   "nbconvert_exporter": "python",
   "pygments_lexer": "ipython3",
   "version": "3.10.13"
  },
  "papermill": {
   "default_parameters": {},
   "duration": 810.753896,
   "end_time": "2024-04-23T18:30:06.414846",
   "environment_variables": {},
   "exception": null,
   "input_path": "__notebook__.ipynb",
   "output_path": "__notebook__.ipynb",
   "parameters": {},
   "start_time": "2024-04-23T18:16:35.660950",
   "version": "2.5.0"
  }
 },
 "nbformat": 4,
 "nbformat_minor": 5
}
