{
 "cells": [
  {
   "cell_type": "code",
   "execution_count": 1,
   "id": "d1c945b1",
   "metadata": {
    "_cell_guid": "b1076dfc-b9ad-4769-8c92-a6c4dae69d19",
    "_uuid": "8f2839f25d086af736a60e9eeb907d3b93b6e0e5",
    "execution": {
     "iopub.execute_input": "2024-04-16T20:44:09.391796Z",
     "iopub.status.busy": "2024-04-16T20:44:09.391357Z",
     "iopub.status.idle": "2024-04-16T20:44:42.367649Z",
     "shell.execute_reply": "2024-04-16T20:44:42.366019Z"
    },
    "papermill": {
     "duration": 32.991334,
     "end_time": "2024-04-16T20:44:42.375204",
     "exception": false,
     "start_time": "2024-04-16T20:44:09.383870",
     "status": "completed"
    },
    "tags": []
   },
   "outputs": [
    {
     "name": "stdout",
     "output_type": "stream",
     "text": [
      "Found unexpected file: /kaggle/input/googlenewsvectorsnegative300/GoogleNews-vectors-negative300.bin.gz\n",
      "Amazon reviews file: /kaggle/input/amazon-product-reviews/Reviews.csv\n",
      "Google news word to vec file: /kaggle/input/googlenewsvectorsnegative300/GoogleNews-vectors-negative300.bin\n"
     ]
    }
   ],
   "source": [
    "# For viewing and manipulating data\n",
    "import numpy as np # linear algebra\n",
    "import pandas as pd # data processing, CSV file I/O (e.g. pd.read_csv)\n",
    "\n",
    "# Importing the necessary libraries\n",
    "import re\n",
    "import math\n",
    "import spacy\n",
    "import string\n",
    "import nltk\n",
    "import torch\n",
    "import torch.nn as nn\n",
    "import torch.optim as optim\n",
    "import torch.nn.functional as F\n",
    "import gensim.downloader as api\n",
    "from gensim.models import KeyedVectors # >> alternative to gensim.downloader\n",
    "import matplotlib.pyplot as plt\n",
    "\n",
    "# Getting particular functions from these libraries \n",
    "from torch import Tensor\n",
    "from sklearn.utils import resample\n",
    "from gensim.models import KeyedVectors\n",
    "from sklearn.model_selection import train_test_split\n",
    "from sklearn.feature_extraction.text import CountVectorizer\n",
    "from torch.utils.data import random_split, DataLoader, TensorDataset, Dataset\n",
    "\n",
    "# Using the NLTK to tokenize the text\n",
    "from nltk.corpus import stopwords\n",
    "from nltk.stem import WordNetLemmatizer\n",
    "\n",
    "# This Python 3 environment comes with many helpful analytics libraries installed\n",
    "# It is defined by the kaggle/python Docker image: https://github.com/kaggle/docker-python\n",
    "# For example, here's several helpful packages to load\n",
    "\n",
    "# Input data files are available in the read-only \"../input/\" directory\n",
    "# For example, running this (by clicking run or pressing Shift+Enter) will list all files under the input directory\n",
    "\n",
    "import os\n",
    "reviews_file = ''\n",
    "w2v_file = ''\n",
    "for dirname, _, filenames in os.walk('/kaggle/input'):\n",
    "    for filename in filenames:\n",
    "        file_name = os.path.join(dirname, filename)\n",
    "        if file_name.endswith('.csv'): \n",
    "            reviews_file = file_name\n",
    "        elif file_name.endswith('.bin'):\n",
    "            w2v_file = file_name\n",
    "        else:\n",
    "            print(f'Found unexpected file: {file_name}')\n",
    "                \n",
    "print(f'Amazon reviews file: {reviews_file}')\n",
    "print(f'Google news word to vec file: {w2v_file}') #<< faster than doing api.load\n",
    "            \n",
    "\n",
    "# You can write up to 20GB to the current directory (/kaggle/working/) that gets preserved as output when you create a version using \"Save & Run All\" \n",
    "# You can also write temporary files to /kaggle/temp/, but they won't be saved outside of the current session\n",
    "VERBOSE = True\n",
    "def printv(text):\n",
    "    if VERBOSE: print('VERBOSE:', text)\n",
    "    return\n",
    "\n",
    "def showV(text):\n",
    "    '''unconditional verbose output'''\n",
    "    print('VERBOSE:', text)\n",
    "    return\n",
    "\n",
    "DEV = True\n",
    "def printd(text):\n",
    "    if DEV: print('DEV:', text)\n",
    "    return\n",
    "\n",
    "def showD(text):\n",
    "    '''unconditional DEV output'''\n",
    "    print('VERBOSE:', text)\n",
    "    return\n",
    "\n",
    "showCellCompletion = False\n",
    "def showC(text):\n",
    "    if showCellCompletion:\n",
    "        print('Cell complete:', text)\n",
    "    return\n",
    "\n",
    "import subprocess\n",
    "showNv = True\n",
    "accelerator = True\n",
    "\n",
    "def printNv():\n",
    "    if not showNv or not accelerator: return\n",
    "    mem_usage = subprocess.run(['nvidia-smi'], stdout=subprocess.PIPE)\n",
    "    print(mem_usage.stdout.decode('utf-8'))\n",
    "\n",
    "showMemoryAllocation = True\n",
    "def printM():\n",
    "    if not showMemoryAllocation: return\n",
    "    print(f\"Total allocated memory: {torch.cuda.memory_allocated()} bytes\")"
   ]
  },
  {
   "cell_type": "code",
   "execution_count": 2,
   "id": "cd16e248",
   "metadata": {
    "execution": {
     "iopub.execute_input": "2024-04-16T20:44:42.387724Z",
     "iopub.status.busy": "2024-04-16T20:44:42.386497Z",
     "iopub.status.idle": "2024-04-16T20:44:42.392401Z",
     "shell.execute_reply": "2024-04-16T20:44:42.391085Z"
    },
    "papermill": {
     "duration": 0.01501,
     "end_time": "2024-04-16T20:44:42.395147",
     "exception": false,
     "start_time": "2024-04-16T20:44:42.380137",
     "status": "completed"
    },
    "tags": []
   },
   "outputs": [],
   "source": [
    "## Only run once\n",
    "#>> Seems to need to be rerun after every Kaggle timeout.\n",
    "#!unzip /usr/share/nltk_data/corpora/wordnet.zip -d /usr/share/nltk_data/corpora/"
   ]
  },
  {
   "cell_type": "code",
   "execution_count": 3,
   "id": "ee89a2b7",
   "metadata": {
    "execution": {
     "iopub.execute_input": "2024-04-16T20:44:42.407254Z",
     "iopub.status.busy": "2024-04-16T20:44:42.406485Z",
     "iopub.status.idle": "2024-04-16T20:44:50.578731Z",
     "shell.execute_reply": "2024-04-16T20:44:50.577464Z"
    },
    "papermill": {
     "duration": 8.18181,
     "end_time": "2024-04-16T20:44:50.581826",
     "exception": false,
     "start_time": "2024-04-16T20:44:42.400016",
     "status": "completed"
    },
    "tags": []
   },
   "outputs": [
    {
     "name": "stdout",
     "output_type": "stream",
     "text": [
      "VERBOSE: Amazon reviews loaded into Panda\n",
      "VERBOSE: Number of reviews: 568454\n",
      "VERBOSE: Column names -\n",
      " Index(['Id', 'ProductId', 'UserId', 'ProfileName', 'HelpfulnessNumerator',\n",
      "       'HelpfulnessDenominator', 'Score', 'Time', 'Summary', 'Text'],\n",
      "      dtype='object')\n",
      "\n",
      "VERBOSE: First five rows -\n",
      "   Id   ProductId          UserId                      ProfileName  \\\n",
      "0   1  B001E4KFG0  A3SGXH7AUHU8GW                       delmartian   \n",
      "1   2  B00813GRG4  A1D87F6ZCVE5NK                           dll pa   \n",
      "2   3  B000LQOCH0   ABXLMWJIXXAIN  Natalia Corres \"Natalia Corres\"   \n",
      "3   4  B000UA0QIQ  A395BORC6FGVXV                             Karl   \n",
      "4   5  B006K2ZZ7K  A1UQRSCLF8GW1T    Michael D. Bigham \"M. Wassir\"   \n",
      "\n",
      "   HelpfulnessNumerator  HelpfulnessDenominator  Score        Time  \\\n",
      "0                     1                       1      5  1303862400   \n",
      "1                     0                       0      1  1346976000   \n",
      "2                     1                       1      4  1219017600   \n",
      "3                     3                       3      2  1307923200   \n",
      "4                     0                       0      5  1350777600   \n",
      "\n",
      "                 Summary                                               Text  \n",
      "0  Good Quality Dog Food  I have bought several of the Vitality canned d...  \n",
      "1      Not as Advertised  Product arrived labeled as Jumbo Salted Peanut...  \n",
      "2  \"Delight\" says it all  This is a confection that has been around a fe...  \n",
      "3         Cough Medicine  If you are looking for the secret ingredient i...  \n",
      "4            Great taffy  Great taffy at a great price.  There was a wid...  \n"
     ]
    }
   ],
   "source": [
    "# Load data from CSV\n",
    "#>>  3/13 needed to change the path as below\n",
    "# path ='/kaggle/input/Reviews.csv'#\"/kaggle/input/amazon-product-reviews/Reviews.csv\"\n",
    "data = pd.read_csv(reviews_file) # Use pandas to analyze data\n",
    "showD('Amazon reviews loaded into Panda')\n",
    "\n",
    "# print number of rows in our ratings column\n",
    "printv(f'Number of reviews: {len(data[\"Score\"])}')\n",
    "printv(f'Column names -\\n {data.columns}\\n') \n",
    "printv(f'First five rows -\\n{data.head()}')"
   ]
  },
  {
   "cell_type": "code",
   "execution_count": 4,
   "id": "c8a6dc81",
   "metadata": {
    "execution": {
     "iopub.execute_input": "2024-04-16T20:44:50.594146Z",
     "iopub.status.busy": "2024-04-16T20:44:50.593341Z",
     "iopub.status.idle": "2024-04-16T20:44:50.834137Z",
     "shell.execute_reply": "2024-04-16T20:44:50.833011Z"
    },
    "papermill": {
     "duration": 0.25033,
     "end_time": "2024-04-16T20:44:50.837190",
     "exception": false,
     "start_time": "2024-04-16T20:44:50.586860",
     "status": "completed"
    },
    "tags": []
   },
   "outputs": [
    {
     "name": "stdout",
     "output_type": "stream",
     "text": [
      "Column 'Id' has no empty entries or missing data.\n",
      "Column 'ProductId' has no empty entries or missing data.\n",
      "Column 'UserId' has no empty entries or missing data.\n",
      "Column 'ProfileName' has empty entries or missing data.\n",
      "Column 'HelpfulnessNumerator' has no empty entries or missing data.\n",
      "Column 'HelpfulnessDenominator' has no empty entries or missing data.\n",
      "Column 'Score' has no empty entries or missing data.\n",
      "Column 'Time' has no empty entries or missing data.\n",
      "Column 'Summary' has empty entries or missing data.\n",
      "Column 'Text' has no empty entries or missing data.\n"
     ]
    }
   ],
   "source": [
    "# Check for empty entries or missing data in each column\n",
    "for column in data.columns:\n",
    "    if data[column].isnull().values.any():\n",
    "        print(f\"Column '{column}' has empty entries or missing data.\")\n",
    "    else:\n",
    "        print(f\"Column '{column}' has no empty entries or missing data.\")"
   ]
  },
  {
   "cell_type": "code",
   "execution_count": 5,
   "id": "7ded1af7",
   "metadata": {
    "execution": {
     "iopub.execute_input": "2024-04-16T20:44:50.849693Z",
     "iopub.status.busy": "2024-04-16T20:44:50.848657Z",
     "iopub.status.idle": "2024-04-16T20:44:51.172818Z",
     "shell.execute_reply": "2024-04-16T20:44:51.171777Z"
    },
    "papermill": {
     "duration": 0.333705,
     "end_time": "2024-04-16T20:44:51.175531",
     "exception": false,
     "start_time": "2024-04-16T20:44:50.841826",
     "status": "completed"
    },
    "tags": []
   },
   "outputs": [
    {
     "name": "stdout",
     "output_type": "stream",
     "text": [
      "52,268 samples from balanced data with rating 1\n",
      "\n",
      "29,769 samples from balanced data with rating 2\n",
      "\n",
      "42,640 samples from balanced data with rating 3\n",
      "\n",
      "80,655 samples from balanced data with rating 4\n",
      "\n",
      "363,122 samples from balanced data with rating 5\n",
      "\n"
     ]
    },
    {
     "data": {
      "image/png": "[encoded data removed]",
      "text/plain": [
       "<Figure size 640x480 with 1 Axes>"
      ]
     },
     "metadata": {},
     "output_type": "display_data"
    }
   ],
   "source": [
    "# Get count of ratings \n",
    "rating_counts = data['Score'].value_counts()\n",
    "\n",
    "# Sort counts by index ascending\n",
    "rating_counts = rating_counts.sort_index()  \n",
    "\n",
    "# Create bar plot\n",
    "ax = rating_counts.plot(kind = 'bar')\n",
    "\n",
    "ax.set_title(\"Ratings Distribution\")\n",
    "ax.set_xlabel(\"Rating\")\n",
    "ax.set_ylabel(\"Number of Occurrences\")\n",
    "\n",
    "# Fix x-axis tick labels\n",
    "ax.set_xticklabels(ax.get_xticklabels(), rotation = 0) \n",
    "\n",
    "for rating, count in rating_counts.items():\n",
    "        print(f\"{count:,} samples from balanced data with rating {rating}\\n\")\n",
    "\n",
    "plt.show() #<< show the rating in each of the 5 categories"
   ]
  },
  {
   "cell_type": "code",
   "execution_count": 6,
   "id": "befe85f1",
   "metadata": {
    "execution": {
     "iopub.execute_input": "2024-04-16T20:44:51.188140Z",
     "iopub.status.busy": "2024-04-16T20:44:51.187674Z",
     "iopub.status.idle": "2024-04-16T20:44:51.855615Z",
     "shell.execute_reply": "2024-04-16T20:44:51.854344Z"
    },
    "papermill": {
     "duration": 0.678045,
     "end_time": "2024-04-16T20:44:51.858837",
     "exception": false,
     "start_time": "2024-04-16T20:44:51.180792",
     "status": "completed"
    },
    "tags": []
   },
   "outputs": [
    {
     "name": "stderr",
     "output_type": "stream",
     "text": [
      "/tmp/ipykernel_18/2364086818.py:17: DeprecationWarning: DataFrameGroupBy.apply operated on the grouping columns. This behavior is deprecated, and in a future version of pandas the grouping columns will be excluded from the operation. Either pass `include_groups=False` to exclude the groupings or explicitly select the grouping columns after groupby to silence this warning.\n",
      "  balanced_data = sorted_data.groupby(sort_column).apply(lambda x: x.sample(n = balanced_data_size))\n"
     ]
    },
    {
     "name": "stdout",
     "output_type": "stream",
     "text": [
      "VERBOSE: The number of reviews equally distributed across all ratings is 50\n",
      "10 samples from balanced data with rating 1\n",
      "\n",
      "10 samples from balanced data with rating 2\n",
      "\n",
      "10 samples from balanced data with rating 3\n",
      "\n",
      "10 samples from balanced data with rating 4\n",
      "\n",
      "10 samples from balanced data with rating 5\n",
      "\n"
     ]
    },
    {
     "data": {
      "image/png": "[encoded data removed]",
      "text/plain": [
       "<Figure size 640x480 with 1 Axes>"
      ]
     },
     "metadata": {},
     "output_type": "display_data"
    }
   ],
   "source": [
    "balanced_data_size = 10 #25000<< number of reviews in each rating category, tailored for CPU capacity\n",
    "# Specify the column for sorting and balancing\n",
    "sort_column = 'Score'  # This is one the rating column\n",
    "\n",
    "# Sort the data by the rating values\n",
    "sorted_data = data.sort_values(by = sort_column)\n",
    "\n",
    "# Create a balanced dataset with 25,000 samples from each class\n",
    "#balanced_data = sorted_data.groupby(sort_column).apply(lambda x: x.sample(n=25000))\n",
    "\n",
    "#>> DeprecationWarning: DataFrameGroupBy.apply operated on the grouping columns. \n",
    "#>> This behavior is deprecated, and in a future version of pandas the grouping \n",
    "#>> columns will be excluded from the operation. \n",
    "#>> Either pass `include_groups=False` to exclude the groupings or \n",
    "#>> explicitly select the grouping columns after groupby to silence this warning.\n",
    "#\n",
    "balanced_data = sorted_data.groupby(sort_column).apply(lambda x: x.sample(n = balanced_data_size))\n",
    "\n",
    "#>> Does this mean to reset the row numbers?? ##Columns Numbers\n",
    "balanced_data.reset_index(drop = True, inplace = True)\n",
    "\n",
    "printv(f\"The number of reviews equally distributed across all ratings is {len(balanced_data['Score'])}\")\n",
    "\n",
    "# Get count of ratings\n",
    "rating_counts = balanced_data['Score'].value_counts()\n",
    "\n",
    "# Create bar plot\n",
    "ax = rating_counts.plot(kind='bar')\n",
    "\n",
    "ax.set_title(\"Ratings Distribution After Balancing\")\n",
    "ax.set_xlabel(\"Rating\")\n",
    "ax.set_ylabel(\"Number of Samples\")\n",
    "\n",
    "# Fix x-axis ticks  \n",
    "ax.set_xticklabels(ax.get_xticklabels(), rotation = 0)\n",
    "\n",
    "# Print number of reviews per rating\n",
    "\n",
    "if DEV:\n",
    "    for rating, count in rating_counts.items():\n",
    "        print(f\"{count:,} samples from balanced data with rating {rating}\\n\")\n",
    "\n",
    "plt.show()"
   ]
  },
  {
   "cell_type": "code",
   "execution_count": 7,
   "id": "1024e93b",
   "metadata": {
    "execution": {
     "iopub.execute_input": "2024-04-16T20:44:51.872781Z",
     "iopub.status.busy": "2024-04-16T20:44:51.872311Z",
     "iopub.status.idle": "2024-04-16T20:44:54.182483Z",
     "shell.execute_reply": "2024-04-16T20:44:54.181272Z"
    },
    "papermill": {
     "duration": 2.320342,
     "end_time": "2024-04-16T20:44:54.185064",
     "exception": false,
     "start_time": "2024-04-16T20:44:51.864722",
     "status": "completed"
    },
    "tags": []
   },
   "outputs": [
    {
     "name": "stdout",
     "output_type": "stream",
     "text": [
      "VERBOSE: specify the columns that will be used to train the classifier\n",
      "I bought this product on September 2010 and this product expires on the 27th of August 2010. I have bought alot of products with amazon and until now I had no problems. I dont understand why Amazon would send me a product that would expire two months after I received it. \n",
      "\n",
      "['i', 'bought', 'this', 'product', 'on', 'september', '2010', 'and', 'this', 'product', 'expires', 'on', 'the', '27th', 'of', 'august', '2010', 'i', 'have', 'bought', 'alot', 'of', 'products', 'with', 'amazon', 'and', 'until', 'now', 'i', 'had', 'no', 'problems', 'i', 'do', 'nt', 'understand', 'why', 'amazon', 'would', 'send', 'me', 'a', 'product', 'that', 'would', 'expire', 'two', 'months', 'after', 'i', 'received', 'it'] \n",
      "\n",
      "52 \n",
      "\n",
      "(50,)\n"
     ]
    }
   ],
   "source": [
    "# Load the English tokenizer model\n",
    "nlp = spacy.load(\"en_core_web_sm\")\n",
    "\n",
    "# Compile the regular expressions\n",
    "html_tags = re.compile(\"<.*?>\")\n",
    "punct_and_symbols = re.compile(r'[^\\w\\s\\']+')\n",
    "\n",
    "def tokenizer(text, nlp):\n",
    "    \"\"\"\n",
    "    Tokenizes a text string and removes stop words.\n",
    "    \n",
    "    text (str): The text string to tokenize.\n",
    "    nlp: The Spacy language model.\n",
    "\n",
    "    Returns:\n",
    "        list: The tokenized text string.\n",
    "    \"\"\"\n",
    "    text = text.lower()  # Convert text to lowercase\n",
    "    text = html_tags.sub(\"\", text)  # Remove HTML tags\n",
    "    text = punct_and_symbols.sub(\"\", text)  # Remove punctuation and symbols\n",
    "\n",
    "    # Tokenize the text\n",
    "    doc = nlp(text)\n",
    "\n",
    "    # Remove stop words and punctuation tokens\n",
    "    # tokens = [token.text for token in doc if not token.is_punct]# and not token.is_stop]\n",
    "    tokens = [token.text for token in doc if not token.is_punct]# and not token.is_stop]\n",
    "\n",
    "    return tokens\n",
    "\n",
    "# Assuming balanced_data is a pandas DataFrame and 'Text' is a column containing the reviews\n",
    "# Apply the function to the Text column and store it in a new column\n",
    "balanced_data['CleanedReview'] = balanced_data['Text'].apply(lambda x: tokenizer(x, nlp))\n",
    "\n",
    "# Show that cell has finished executing\n",
    "showC(f'{tokenizer} defined, and then used to create CleanedReview column')\n",
    "\n",
    "# Store the Rating column\n",
    "rating = balanced_data['Score']  \n",
    "\n",
    "# Store the CleanedReview column\n",
    "tokenized_review = balanced_data['CleanedReview']\n",
    "showD(f'specify the columns that will be used to train the classifier')\n",
    "\n",
    "print(balanced_data['Text'][0],'\\n')\n",
    "print(tokenized_review[0], '\\n')\n",
    "print(len(tokenized_review[0]), '\\n')\n",
    "print(tokenized_review.shape)"
   ]
  },
  {
   "cell_type": "code",
   "execution_count": 8,
   "id": "2b166407",
   "metadata": {
    "execution": {
     "iopub.execute_input": "2024-04-16T20:44:54.199554Z",
     "iopub.status.busy": "2024-04-16T20:44:54.198243Z",
     "iopub.status.idle": "2024-04-16T20:44:54.521642Z",
     "shell.execute_reply": "2024-04-16T20:44:54.520399Z"
    },
    "papermill": {
     "duration": 0.333048,
     "end_time": "2024-04-16T20:44:54.524010",
     "exception": false,
     "start_time": "2024-04-16T20:44:54.190962",
     "status": "completed"
    },
    "tags": []
   },
   "outputs": [
    {
     "name": "stdout",
     "output_type": "stream",
     "text": [
      "Mean: 95.54\n",
      "Median: 65.00\n",
      "Mode: ModeResult(mode=40, count=3)\n"
     ]
    },
    {
     "data": {
      "image/png": "[encoded data removed]",
      "text/plain": [
       "<Figure size 800x600 with 1 Axes>"
      ]
     },
     "metadata": {},
     "output_type": "display_data"
    }
   ],
   "source": [
    "from scipy import stats\n",
    "\n",
    "def analyze_review_tokens(reviews):\n",
    "    token_counts = [len(review) for review in reviews]\n",
    "\n",
    "    mean = np.mean(token_counts)\n",
    "    median = np.median(token_counts)\n",
    "    mode = stats.mode(token_counts)\n",
    "\n",
    "    print(f\"Mean: {mean:.2f}\")\n",
    "    print(f\"Median: {median:.2f}\")\n",
    "    print(f\"Mode: {mode}\")\n",
    "\n",
    "    plt.figure(figsize=(8, 6))\n",
    "    plt.hist(token_counts, bins=20, edgecolor='black')\n",
    "    plt.xlabel('Number of Tokens')\n",
    "    plt.ylabel('Frequency')\n",
    "    plt.title('Histogram of Token Counts per Review')\n",
    "    plt.grid(True)\n",
    "    plt.show()\n",
    "\n",
    "analyze_review_tokens(tokenized_review)"
   ]
  },
  {
   "cell_type": "code",
   "execution_count": 9,
   "id": "8d587481",
   "metadata": {
    "execution": {
     "iopub.execute_input": "2024-04-16T20:44:54.540313Z",
     "iopub.status.busy": "2024-04-16T20:44:54.538231Z",
     "iopub.status.idle": "2024-04-16T20:45:56.427837Z",
     "shell.execute_reply": "2024-04-16T20:45:56.427013Z"
    },
    "papermill": {
     "duration": 61.907382,
     "end_time": "2024-04-16T20:45:56.437649",
     "exception": false,
     "start_time": "2024-04-16T20:44:54.530267",
     "status": "completed"
    },
    "tags": []
   },
   "outputs": [
    {
     "name": "stdout",
     "output_type": "stream",
     "text": [
      "VERBOSE: KeyedVectors<vector_size=300, 3000000 keys> can map words onto vectors with 300 dimensions\n"
     ]
    }
   ],
   "source": [
    "# >> 3/29/24 Took less than a minute to run without the accelerator.\n",
    "# Load Word2Vec model\n",
    "#w2v = api.load('word2vec-google-news-300')\n",
    "w2v = KeyedVectors.load_word2vec_format (w2v_file, binary=True)\n",
    "\n",
    "# Define the aimum sequence length (adjust as needed)\n",
    "#>> Will increasing max_sequence_length impact performance?\n",
    "max_sequence_length = 100\n",
    "\n",
    "showD(f'{w2v} can map words onto vectors with 300 dimensions')"
   ]
  },
  {
   "cell_type": "code",
   "execution_count": 10,
   "id": "8f3a28af",
   "metadata": {
    "execution": {
     "iopub.execute_input": "2024-04-16T20:45:56.454520Z",
     "iopub.status.busy": "2024-04-16T20:45:56.454083Z",
     "iopub.status.idle": "2024-04-16T20:45:56.462343Z",
     "shell.execute_reply": "2024-04-16T20:45:56.460643Z"
    },
    "papermill": {
     "duration": 0.019359,
     "end_time": "2024-04-16T20:45:56.465179",
     "exception": false,
     "start_time": "2024-04-16T20:45:56.445820",
     "status": "completed"
    },
    "tags": []
   },
   "outputs": [
    {
     "name": "stdout",
     "output_type": "stream",
     "text": [
      "CUDA is not available.\n",
      "cpu\n"
     ]
    }
   ],
   "source": [
    "# Checks if a CUDA enabled GPU is available and prints out its information\n",
    "if torch.cuda.is_available():\n",
    "    print(\"CUDA is available!\")\n",
    "    for i in range(torch.cuda.device_count()):\n",
    "        print(f\"GPU {i}: {torch.cuda.get_device_name(i)}\")\n",
    "        \n",
    "    device = torch.device(\"cuda:0\")\n",
    "    accelerator = True\n",
    "\n",
    "else:\n",
    "    accelerator = False\n",
    "    print(\"CUDA is not available.\")\n",
    "    device = torch.device(\"cpu\")\n",
    "    print(device)"
   ]
  },
  {
   "cell_type": "code",
   "execution_count": 11,
   "id": "fe994b62",
   "metadata": {
    "execution": {
     "iopub.execute_input": "2024-04-16T20:45:56.482195Z",
     "iopub.status.busy": "2024-04-16T20:45:56.481704Z",
     "iopub.status.idle": "2024-04-16T20:45:56.697093Z",
     "shell.execute_reply": "2024-04-16T20:45:56.695449Z"
    },
    "papermill": {
     "duration": 0.228098,
     "end_time": "2024-04-16T20:45:56.700002",
     "exception": false,
     "start_time": "2024-04-16T20:45:56.471904",
     "status": "completed"
    },
    "tags": []
   },
   "outputs": [
    {
     "name": "stdout",
     "output_type": "stream",
     "text": [
      "VERBOSE: Lengths of 100 longest reviews: [386, 385, 366, 318, 274, 172, 165, 160, 132, 116, 107, 103, 94, 93, 89, 87, 85, 81, 79, 78, 75, 73, 72, 70, 66, 64, 62, 61, 61, 60, 52, 51, 50, 47, 45, 45, 43, 41, 40, 40, 40, 36, 35, 30, 29, 29, 25, 25, 21]\n",
      "VERBOSE: 2820 words found with vector representations, 473 without\n",
      "VERBOSE: Number of unique words without vector representations: 84\n",
      "DEV: Sample of words without vector representations\n",
      "DEV: 2010 - 2\n",
      "tensor([[ 0.0845, -0.0004,  0.0532,  ...,  0.0171,  0.0608, -0.1089],\n",
      "        [ 0.0000,  0.0000,  0.0000,  ...,  0.0000,  0.0000,  0.0000],\n",
      "        [ 0.1157, -0.1357, -0.0879,  ..., -0.0820, -0.1562,  0.0330],\n",
      "        ...,\n",
      "        [ 0.0000,  0.0000,  0.0000,  ...,  0.0000,  0.0000,  0.0000],\n",
      "        [ 0.0000,  0.0000,  0.0000,  ...,  0.0000,  0.0000,  0.0000],\n",
      "        [ 0.0000,  0.0000,  0.0000,  ...,  0.0000,  0.0000,  0.0000]])\n"
     ]
    }
   ],
   "source": [
    "#>> 3/29/24 Completed in less than 30 seconds using 1347 as max_sequence_length \n",
    "\n",
    "# Assume you have a list of tokenized review called tokenized_review\n",
    "# Each element in tokenized_review is a list of tokens for a single review\n",
    "\n",
    "lengths = []\n",
    "for review_tokens in tokenized_review:\n",
    "    lengths.append(len(review_tokens))\n",
    "\n",
    "lengths = sorted(lengths)\n",
    "lengths = lengths[-1:0:-1]\n",
    "showD(f'Lengths of 100 longest reviews: {lengths[0:100]}')        \n",
    "\n",
    "max_sequence_length = 100 #<< 3/29/24 1347 was the longest review length in sample\n",
    "\n",
    "# Initialize an empty tensor for padded reviews on the GPU\n",
    "padded_reviews = torch.zeros((len(tokenized_review), max_sequence_length, 300))\n",
    "\n",
    "# Initialize a mask tensor of the same shape as padded_reviews\n",
    "# Set it to False (or 0) initially, representing that all positions are padding\n",
    "# mask = torch.zeros_like(padded_reviews, dtype=torch.bool)\n",
    "\n",
    "# Initialize a mask tensor of the same shape as padded_reviews but with only sequence length\n",
    "mask = torch.zeros((len(tokenized_review), max_sequence_length), dtype=torch.bool)\n",
    "\n",
    "out_words = {}\n",
    "words_in = 0\n",
    "words_out = 0\n",
    "\n",
    "# Now, during the padding and embedding conversion loop, update the mask as well\n",
    "for i, review_tokens in enumerate(tokenized_review):\n",
    "    review_length = min(len(review_tokens), max_sequence_length)\n",
    "    for j in range(review_length):\n",
    "        word = review_tokens[j]\n",
    "        if word in w2v:\n",
    "            words_in += 1\n",
    "            # Use Word2Vec vector if available\n",
    "            padded_reviews[i, j, :] = torch.tensor(w2v[word])\n",
    "            mask[i, j] = True  # Update the mask to indicate the presence of a word\n",
    "        else:\n",
    "            words_out += 1\n",
    "            out_words[word] = out_words.get(word, 0) + 1\n",
    "        # Otherwise, the mask remains False (or 0) for padding\n",
    "\n",
    "# Now you have a mask tensor that you can use later in your processing to ignore padded values\n",
    "# For example, if you want to apply max pooling only on non-padded values, you could use:\n",
    "# review_embeddings = torch.max(padded_reviews * mask.unsqueeze(-1).float(), dim=1)[0]\n",
    "\n",
    "# Ensure the mask is treated as a float for any operations that require it\n",
    "mask = mask.float()\n",
    "\n",
    "# Now you can use this mask tensor to exclude the padding from any subsequent computations\n",
    "\n",
    "printv(f'{words_in} words found with vector representations, {words_out} without')\n",
    "printv(f'Number of unique words without vector representations: {len(out_words)}')\n",
    "printd('Sample of words without vector representations')\n",
    "kwords = list(out_words.keys())\n",
    "for idx in range(0,len(kwords)-1,100):\n",
    "    kword = kwords[idx]\n",
    "    printd(f'{kword} - {out_words[kword]}')\n",
    "# Apply max pooling to aggregate embeddings along the sequence dimension\n",
    "# review_embeddings = torch.max(padded_reviews, dim=1)[0]\n",
    "\n",
    "# Now,review_embeddings contains the aggregated Word2Vec \n",
    "# embeddings for each review on the GPU\n",
    "\n",
    "showC(f\"Created zero-padded, standard length reviews\")\n",
    "\n",
    "print(padded_reviews[1])"
   ]
  },
  {
   "cell_type": "code",
   "execution_count": 12,
   "id": "c4b52114",
   "metadata": {
    "execution": {
     "iopub.execute_input": "2024-04-16T20:45:56.715102Z",
     "iopub.status.busy": "2024-04-16T20:45:56.714647Z",
     "iopub.status.idle": "2024-04-16T20:45:56.723798Z",
     "shell.execute_reply": "2024-04-16T20:45:56.722378Z"
    },
    "papermill": {
     "duration": 0.019604,
     "end_time": "2024-04-16T20:45:56.726133",
     "exception": false,
     "start_time": "2024-04-16T20:45:56.706529",
     "status": "completed"
    },
    "tags": []
   },
   "outputs": [
    {
     "name": "stdout",
     "output_type": "stream",
     "text": [
      "torch.Size([50, 100, 300])\n",
      "torch.Size([50])\n",
      "cpu\n",
      "cpu\n",
      "<torch.utils.data.dataset.TensorDataset object at 0x7806765abdc0>\n",
      "Total allocated memory: 0 bytes\n",
      "\n",
      "\n",
      "\n",
      "\n",
      "\n",
      "\n",
      "\n",
      "\n",
      "\n",
      "\n",
      "\n"
     ]
    }
   ],
   "source": [
    "#>> padded_reviews are 100 x 300 tensors, zero padded if necessary\n",
    "#>> to get the standard lenth\n",
    "text_embeddings_tensors = padded_reviews.to(device)\n",
    "\n",
    "# Rating labels\n",
    "rating_labels_tensors = torch.tensor(rating.values).to(device)\n",
    "\n",
    "# Dataset\n",
    "dataset = TensorDataset(text_embeddings_tensors, rating_labels_tensors)\n",
    "showC(f'{dataset} defined')\n",
    "\n",
    "print(text_embeddings_tensors.shape)\n",
    "print(rating_labels_tensors.shape)\n",
    "print(text_embeddings_tensors.device)\n",
    "print(rating_labels_tensors.device)\n",
    "print(dataset)\n",
    "\n",
    "printM() # print(f\"Total allocated memory: {torch.cuda.memory_allocated()} bytes\")\n",
    "printNv() #!nvidia-smi\n",
    "print('\\n\\n\\n\\n\\n\\n\\n\\n\\n\\n')\n",
    "if accelerator and showNv:\n",
    "    print(torch.cuda.memory_summary())"
   ]
  },
  {
   "cell_type": "code",
   "execution_count": 13,
   "id": "43f2a253",
   "metadata": {
    "execution": {
     "iopub.execute_input": "2024-04-16T20:45:56.741453Z",
     "iopub.status.busy": "2024-04-16T20:45:56.741001Z",
     "iopub.status.idle": "2024-04-16T20:45:56.751473Z",
     "shell.execute_reply": "2024-04-16T20:45:56.750321Z"
    },
    "papermill": {
     "duration": 0.021056,
     "end_time": "2024-04-16T20:45:56.753765",
     "exception": false,
     "start_time": "2024-04-16T20:45:56.732709",
     "status": "completed"
    },
    "tags": []
   },
   "outputs": [
    {
     "name": "stdout",
     "output_type": "stream",
     "text": [
      "VERBOSE: The amount of data we have to train with is 40 revieww\n",
      "VERBOSE: The amount of data we have to validate with is 10 reviews\n"
     ]
    }
   ],
   "source": [
    "# Lengths \n",
    "train_len = int(0.8 * len(dataset))\n",
    "val_len = len(dataset) - train_len\n",
    "\n",
    "# Random split\n",
    "train_data, val_data = random_split(dataset, [train_len, val_len])\n",
    "\n",
    "printv(f\"The amount of data we have to train with is {len(train_data)} revieww\") \n",
    "printv(f\"The amount of data we have to validate with is {len(val_data)} reviews\")\n",
    "#print(f\"The amount of data we have to validate with is on {train_data.device}\")\n",
    "#print(f\"The amount of data we have to validate with is on {val_data.device}\")\n",
    "\n",
    "# DataLoader for training data\n",
    "train_loader = DataLoader(train_data, batch_size = 32, shuffle = True)  # Use shuffle for training\n",
    "\n",
    "# DataLoader for validation data\n",
    "val_loader = DataLoader(val_data, batch_size = 32, shuffle = False)  # No need to shuffle for validation"
   ]
  }
 ],
 "metadata": {
  "kaggle": {
   "accelerator": "none",
   "dataSources": [
    {
     "datasetId": 6763,
     "sourceId": 9801,
     "sourceType": "datasetVersion"
    },
    {
     "datasetId": 1461623,
     "sourceId": 2415872,
     "sourceType": "datasetVersion"
    }
   ],
   "dockerImageVersionId": 30684,
   "isGpuEnabled": false,
   "isInternetEnabled": true,
   "language": "python",
   "sourceType": "notebook"
  },
  "kernelspec": {
   "display_name": "Python 3",
   "language": "python",
   "name": "python3"
  },
  "language_info": {
   "codemirror_mode": {
    "name": "ipython",
    "version": 3
   },
   "file_extension": ".py",
   "mimetype": "text/x-python",
   "name": "python",
   "nbconvert_exporter": "python",
   "pygments_lexer": "ipython3",
   "version": "3.10.13"
  },
  "papermill": {
   "default_parameters": {},
   "duration": 112.993902,
   "end_time": "2024-04-16T20:45:59.382475",
   "environment_variables": {},
   "exception": null,
   "input_path": "__notebook__.ipynb",
   "output_path": "__notebook__.ipynb",
   "parameters": {},
   "start_time": "2024-04-16T20:44:06.388573",
   "version": "2.5.0"
  }
 },
 "nbformat": 4,
 "nbformat_minor": 5
}
