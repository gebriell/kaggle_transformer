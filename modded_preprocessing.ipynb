{
 "cells": [
  {
   "cell_type": "code",
   "execution_count": 1,
   "id": "2dacd0dc",
   "metadata": {
    "_cell_guid": "b1076dfc-b9ad-4769-8c92-a6c4dae69d19",
    "_uuid": "8f2839f25d086af736a60e9eeb907d3b93b6e0e5",
    "execution": {
     "iopub.execute_input": "2024-04-25T17:38:59.565900Z",
     "iopub.status.busy": "2024-04-25T17:38:59.565613Z",
     "iopub.status.idle": "2024-04-25T17:39:23.716461Z",
     "shell.execute_reply": "2024-04-25T17:39:23.715535Z"
    },
    "papermill": {
     "duration": 24.159228,
     "end_time": "2024-04-25T17:39:23.718742",
     "exception": false,
     "start_time": "2024-04-25T17:38:59.559514",
     "status": "completed"
    },
    "tags": []
   },
   "outputs": [
    {
     "name": "stdout",
     "output_type": "stream",
     "text": [
      "Amazon reviews file: /kaggle/input/amazon-product-reviews/Reviews.csv\n",
      "Google news word to vec file: /kaggle/input/googlenewsvectorsnegative300/GoogleNews-vectors-negative300.bin\n"
     ]
    }
   ],
   "source": [
    "#>> updated 4/1\n",
    "# For viewing and manipulating data\n",
    "import numpy as np # linear algebra\n",
    "import pandas as pd # data processing, CSV file I/O (e.g. pd.read_csv)\n",
    "\n",
    "# Importing the necessary libraries\n",
    "import re\n",
    "import math\n",
    "import nltk\n",
    "import spacy\n",
    "import string\n",
    "import torch\n",
    "import torch.nn as nn\n",
    "import torch.optim as optim\n",
    "import torch.nn.functional as F\n",
    "import gensim.downloader as api\n",
    "from gensim.models import KeyedVectors # >> alternative to gensim.downloader\n",
    "import matplotlib.pyplot as plt\n",
    "\n",
    "# Getting particular functions from these libraries\n",
    "from scipy import stats\n",
    "from torch import Tensor\n",
    "from sklearn.utils import resample\n",
    "from gensim.models import KeyedVectors\n",
    "from sklearn.model_selection import train_test_split\n",
    "from sklearn.feature_extraction.text import CountVectorizer\n",
    "from torch.utils.data import random_split, DataLoader, TensorDataset, Dataset\n",
    "\n",
    "# Using the NLTK to tokenize the text\n",
    "from nltk.corpus import stopwords\n",
    "from nltk.stem import WordNetLemmatizer\n",
    "\n",
    "# This Python 3 environment comes with many helpful analytics libraries installed\n",
    "# It is defined by the kaggle/python Docker image: https://github.com/kaggle/docker-python\n",
    "# For example, here's several helpful packages to load\n",
    "\n",
    "# Input data files are available in the read-only \"../input/\" directory\n",
    "# For example, running this (by clicking run or pressing Shift+Enter) will list all files under the input directory\n",
    "\n",
    "import os\n",
    "reviews_file = ''\n",
    "w2v_file = ''\n",
    "for dirname, _, filenames in os.walk('/kaggle/input'):\n",
    "    for filename in filenames:\n",
    "        file_name = os.path.join(dirname, filename)\n",
    "        if file_name.endswith('.csv'): \n",
    "            reviews_file = file_name\n",
    "        elif file_name.endswith('.bin') or ('.gz'):\n",
    "            w2v_file = file_name\n",
    "        else:\n",
    "            print(f'Found unexpected file: {file_name}')\n",
    "                \n",
    "print(f'Amazon reviews file: {reviews_file}')\n",
    "print(f'Google news word to vec file: {w2v_file}') #<< faster than doing api.load\n",
    "            \n",
    "\n",
    "# You can write up to 20GB to the current directory (/kaggle/working/) that gets preserved as output when you create a version using \"Save & Run All\" \n",
    "# You can also write temporary files to /kaggle/temp/, but they won't be saved outside of the current session\n",
    "VERBOSE = True\n",
    "def printv(text):\n",
    "    if VERBOSE: print('VERBOSE:', text)\n",
    "    return\n",
    "\n",
    "def showV(text):\n",
    "    '''unconditional verbose output'''\n",
    "    print('VERBOSE:', text)\n",
    "    return\n",
    "\n",
    "DEV = True\n",
    "def printd(text):\n",
    "    if DEV: print('DEV:', text)\n",
    "    return\n",
    "\n",
    "def showD(text):\n",
    "    '''unconditional DEV output'''\n",
    "    print('VERBOSE:', text)\n",
    "    return\n",
    "\n",
    "showCellCompletion = False\n",
    "def showC(text):\n",
    "    if showCellCompletion:\n",
    "        print('Cell complete:', text)\n",
    "    return\n",
    "\n",
    "import subprocess\n",
    "showNv = True\n",
    "accelerator = True\n",
    "\n",
    "def printNv():\n",
    "    if not showNv or not accelerator: return\n",
    "    mem_usage = subprocess.run(['nvidia-smi'], stdout=subprocess.PIPE)\n",
    "    print(mem_usage.stdout.decode('utf-8'))\n",
    "\n",
    "showMemoryAllocation = True\n",
    "def printM():\n",
    "    if not showMemoryAllocation: return\n",
    "    print(f\"Total allocated memory: {torch.cuda.memory_allocated()} bytes\")"
   ]
  },
  {
   "cell_type": "code",
   "execution_count": 2,
   "id": "676ab693",
   "metadata": {
    "execution": {
     "iopub.execute_input": "2024-04-25T17:39:23.729627Z",
     "iopub.status.busy": "2024-04-25T17:39:23.729076Z",
     "iopub.status.idle": "2024-04-25T17:39:24.984521Z",
     "shell.execute_reply": "2024-04-25T17:39:24.983576Z"
    },
    "papermill": {
     "duration": 1.262838,
     "end_time": "2024-04-25T17:39:24.986474",
     "exception": false,
     "start_time": "2024-04-25T17:39:23.723636",
     "status": "completed"
    },
    "tags": []
   },
   "outputs": [
    {
     "name": "stdout",
     "output_type": "stream",
     "text": [
      "Archive:  /usr/share/nltk_data/corpora/wordnet.zip\r\n",
      "   creating: /usr/share/nltk_data/corpora/wordnet/\r\n",
      "  inflating: /usr/share/nltk_data/corpora/wordnet/lexnames  \r\n",
      "  inflating: /usr/share/nltk_data/corpora/wordnet/data.verb  \r\n",
      "  inflating: /usr/share/nltk_data/corpora/wordnet/index.adv  \r\n",
      "  inflating: /usr/share/nltk_data/corpora/wordnet/adv.exc  \r\n",
      "  inflating: /usr/share/nltk_data/corpora/wordnet/index.verb  \r\n",
      "  inflating: /usr/share/nltk_data/corpora/wordnet/cntlist.rev  \r\n",
      "  inflating: /usr/share/nltk_data/corpora/wordnet/data.adj  \r\n",
      "  inflating: /usr/share/nltk_data/corpora/wordnet/index.adj  \r\n",
      "  inflating: /usr/share/nltk_data/corpora/wordnet/LICENSE  \r\n",
      "  inflating: /usr/share/nltk_data/corpora/wordnet/citation.bib  \r\n",
      "  inflating: /usr/share/nltk_data/corpora/wordnet/noun.exc  \r\n",
      "  inflating: /usr/share/nltk_data/corpora/wordnet/verb.exc  \r\n",
      "  inflating: /usr/share/nltk_data/corpora/wordnet/README  \r\n",
      "  inflating: /usr/share/nltk_data/corpora/wordnet/index.sense  \r\n",
      "  inflating: /usr/share/nltk_data/corpora/wordnet/data.noun  \r\n",
      "  inflating: /usr/share/nltk_data/corpora/wordnet/data.adv  \r\n",
      "  inflating: /usr/share/nltk_data/corpora/wordnet/index.noun  \r\n",
      "  inflating: /usr/share/nltk_data/corpora/wordnet/adj.exc  \r\n"
     ]
    }
   ],
   "source": [
    "## Only run once\n",
    "#>> Seems to need to be rerun after every Kaggle timeout.\n",
    "!unzip /usr/share/nltk_data/corpora/wordnet.zip -d /usr/share/nltk_data/corpora/"
   ]
  },
  {
   "cell_type": "code",
   "execution_count": 3,
   "id": "ee3f19a8",
   "metadata": {
    "execution": {
     "iopub.execute_input": "2024-04-25T17:39:24.998210Z",
     "iopub.status.busy": "2024-04-25T17:39:24.997915Z",
     "iopub.status.idle": "2024-04-25T17:39:32.019172Z",
     "shell.execute_reply": "2024-04-25T17:39:32.018171Z"
    },
    "papermill": {
     "duration": 7.02994,
     "end_time": "2024-04-25T17:39:32.021633",
     "exception": false,
     "start_time": "2024-04-25T17:39:24.991693",
     "status": "completed"
    },
    "tags": []
   },
   "outputs": [
    {
     "name": "stdout",
     "output_type": "stream",
     "text": [
      "VERBOSE: Amazon reviews loaded into Panda\n",
      "VERBOSE: Number of reviews: 568454\n",
      "VERBOSE: Column names -\n",
      " Index(['Id', 'ProductId', 'UserId', 'ProfileName', 'HelpfulnessNumerator',\n",
      "       'HelpfulnessDenominator', 'Score', 'Time', 'Summary', 'Text'],\n",
      "      dtype='object')\n",
      "\n",
      "VERBOSE: First five rows -\n",
      "   Id   ProductId          UserId                      ProfileName  \\\n",
      "0   1  B001E4KFG0  A3SGXH7AUHU8GW                       delmartian   \n",
      "1   2  B00813GRG4  A1D87F6ZCVE5NK                           dll pa   \n",
      "2   3  B000LQOCH0   ABXLMWJIXXAIN  Natalia Corres \"Natalia Corres\"   \n",
      "3   4  B000UA0QIQ  A395BORC6FGVXV                             Karl   \n",
      "4   5  B006K2ZZ7K  A1UQRSCLF8GW1T    Michael D. Bigham \"M. Wassir\"   \n",
      "\n",
      "   HelpfulnessNumerator  HelpfulnessDenominator  Score        Time  \\\n",
      "0                     1                       1      5  1303862400   \n",
      "1                     0                       0      1  1346976000   \n",
      "2                     1                       1      4  1219017600   \n",
      "3                     3                       3      2  1307923200   \n",
      "4                     0                       0      5  1350777600   \n",
      "\n",
      "                 Summary                                               Text  \n",
      "0  Good Quality Dog Food  I have bought several of the Vitality canned d...  \n",
      "1      Not as Advertised  Product arrived labeled as Jumbo Salted Peanut...  \n",
      "2  \"Delight\" says it all  This is a confection that has been around a fe...  \n",
      "3         Cough Medicine  If you are looking for the secret ingredient i...  \n",
      "4            Great taffy  Great taffy at a great price.  There was a wid...  \n"
     ]
    }
   ],
   "source": [
    "# Load data from CSV\n",
    "#>>  3/13 needed to change the path as below\n",
    "# path ='/kaggle/input/Reviews.csv'#\"/kaggle/input/amazon-product-reviews/Reviews.csv\"\n",
    "data = pd.read_csv(reviews_file) # Use pandas to analyze data\n",
    "showD('Amazon reviews loaded into Panda')\n",
    "\n",
    "# print number of rows in our ratings column\n",
    "printv(f'Number of reviews: {len(data[\"Score\"])}')\n",
    "printv(f'Column names -\\n {data.columns}\\n') \n",
    "printv(f'First five rows -\\n{data.head()}')"
   ]
  },
  {
   "cell_type": "code",
   "execution_count": 4,
   "id": "7826af60",
   "metadata": {
    "execution": {
     "iopub.execute_input": "2024-04-25T17:39:32.033431Z",
     "iopub.status.busy": "2024-04-25T17:39:32.033104Z",
     "iopub.status.idle": "2024-04-25T17:39:32.324468Z",
     "shell.execute_reply": "2024-04-25T17:39:32.323354Z"
    },
    "papermill": {
     "duration": 0.299844,
     "end_time": "2024-04-25T17:39:32.326870",
     "exception": false,
     "start_time": "2024-04-25T17:39:32.027026",
     "status": "completed"
    },
    "tags": []
   },
   "outputs": [
    {
     "name": "stdout",
     "output_type": "stream",
     "text": [
      "Column 'Id' has no empty entries or missing data.\n",
      "Column 'ProductId' has no empty entries or missing data.\n",
      "Column 'UserId' has no empty entries or missing data.\n",
      "Column 'ProfileName' has empty entries or missing data.\n",
      "Column 'HelpfulnessNumerator' has no empty entries or missing data.\n",
      "Column 'HelpfulnessDenominator' has no empty entries or missing data.\n",
      "Column 'Score' has no empty entries or missing data.\n",
      "Column 'Time' has no empty entries or missing data.\n",
      "Column 'Summary' has empty entries or missing data.\n",
      "Column 'Text' has no empty entries or missing data.\n"
     ]
    }
   ],
   "source": [
    "# Check for empty entries or missing data in each column\n",
    "for column in data.columns:\n",
    "    if data[column].isnull().values.any():\n",
    "        print(f\"Column '{column}' has empty entries or missing data.\")\n",
    "    else:\n",
    "        print(f\"Column '{column}' has no empty entries or missing data.\")"
   ]
  },
  {
   "cell_type": "code",
   "execution_count": 5,
   "id": "1521443f",
   "metadata": {
    "execution": {
     "iopub.execute_input": "2024-04-25T17:39:32.339301Z",
     "iopub.status.busy": "2024-04-25T17:39:32.339005Z",
     "iopub.status.idle": "2024-04-25T17:39:32.651672Z",
     "shell.execute_reply": "2024-04-25T17:39:32.650672Z"
    },
    "papermill": {
     "duration": 0.321003,
     "end_time": "2024-04-25T17:39:32.653704",
     "exception": false,
     "start_time": "2024-04-25T17:39:32.332701",
     "status": "completed"
    },
    "tags": []
   },
   "outputs": [
    {
     "name": "stdout",
     "output_type": "stream",
     "text": [
      "52,268 samples from balanced data with rating 1\n",
      "\n",
      "29,769 samples from balanced data with rating 2\n",
      "\n",
      "42,640 samples from balanced data with rating 3\n",
      "\n",
      "80,655 samples from balanced data with rating 4\n",
      "\n",
      "363,122 samples from balanced data with rating 5\n",
      "\n"
     ]
    },
    {
     "data": {
      "image/png": "[encoded data removed]",
      "text/plain": [
       "<Figure size 640x480 with 1 Axes>"
      ]
     },
     "metadata": {},
     "output_type": "display_data"
    }
   ],
   "source": [
    "# Get count of ratings \n",
    "rating_counts = data['Score'].value_counts()\n",
    "\n",
    "# Sort counts by index ascending\n",
    "rating_counts = rating_counts.sort_index()  \n",
    "\n",
    "# Create bar plot\n",
    "ax = rating_counts.plot(kind = 'bar')\n",
    "\n",
    "ax.set_title(\"Ratings Distribution\")\n",
    "ax.set_xlabel(\"Rating\")\n",
    "ax.set_ylabel(\"Number of Occurrences\")\n",
    "\n",
    "# Fix x-axis tick labels\n",
    "ax.set_xticklabels(ax.get_xticklabels(), rotation = 0) \n",
    "\n",
    "for rating, count in rating_counts.items():\n",
    "        print(f\"{count:,} samples from balanced data with rating {rating}\\n\")\n",
    "\n",
    "plt.show() #<< show the rating in each of the 5 categories"
   ]
  },
  {
   "cell_type": "code",
   "execution_count": 6,
   "id": "86725102",
   "metadata": {
    "execution": {
     "iopub.execute_input": "2024-04-25T17:39:32.667178Z",
     "iopub.status.busy": "2024-04-25T17:39:32.666886Z",
     "iopub.status.idle": "2024-04-25T17:39:33.245573Z",
     "shell.execute_reply": "2024-04-25T17:39:33.244671Z"
    },
    "papermill": {
     "duration": 0.587737,
     "end_time": "2024-04-25T17:39:33.247639",
     "exception": false,
     "start_time": "2024-04-25T17:39:32.659902",
     "status": "completed"
    },
    "tags": []
   },
   "outputs": [
    {
     "name": "stderr",
     "output_type": "stream",
     "text": [
      "/tmp/ipykernel_23/1469423797.py:17: DeprecationWarning: DataFrameGroupBy.apply operated on the grouping columns. This behavior is deprecated, and in a future version of pandas the grouping columns will be excluded from the operation. Either pass `include_groups=False` to exclude the groupings or explicitly select the grouping columns after groupby to silence this warning.\n",
      "  balanced_data = sorted_data.groupby(sort_column).apply(lambda x: x.sample(n = balanced_data_size))\n"
     ]
    },
    {
     "name": "stdout",
     "output_type": "stream",
     "text": [
      "VERBOSE: The number of reviews equally distributed across all ratings is 140000\n",
      "28,000 samples from balanced data with rating 1\n",
      "\n",
      "28,000 samples from balanced data with rating 2\n",
      "\n",
      "28,000 samples from balanced data with rating 3\n",
      "\n",
      "28,000 samples from balanced data with rating 4\n",
      "\n",
      "28,000 samples from balanced data with rating 5\n",
      "\n"
     ]
    },
    {
     "data": {
      "image/png": "[encoded data removed]",
      "text/plain": [
       "<Figure size 640x480 with 1 Axes>"
      ]
     },
     "metadata": {},
     "output_type": "display_data"
    }
   ],
   "source": [
    "balanced_data_size = 28000 #<< number of reviews in each rating category, tailored for CPU capacity\n",
    "# Specify the column for sorting and balancing\n",
    "sort_column = 'Score'  # This is one the rating column\n",
    "\n",
    "# Sort the data by the rating values\n",
    "sorted_data = data.sort_values(by = sort_column)\n",
    "\n",
    "# Create a balanced dataset with 25,000 samples from each class\n",
    "#balanced_data = sorted_data.groupby(sort_column).apply(lambda x: x.sample(n=25000))\n",
    "\n",
    "#>> DeprecationWarning: DataFrameGroupBy.apply operated on the grouping columns. \n",
    "#>> This behavior is deprecated, and in a future version of pandas the grouping \n",
    "#>> columns will be excluded from the operation. \n",
    "#>> Either pass `include_groups=False` to exclude the groupings or \n",
    "#>> explicitly select the grouping columns after groupby to silence this warning.\n",
    "#\n",
    "balanced_data = sorted_data.groupby(sort_column).apply(lambda x: x.sample(n = balanced_data_size))\n",
    "\n",
    "#>> Does this mean to reset the row numbers?? ##Columns Numbers\n",
    "balanced_data.reset_index(drop = True, inplace = True)\n",
    "\n",
    "printv(f\"The number of reviews equally distributed across all ratings is {len(balanced_data['Score'])}\")\n",
    "\n",
    "# Get count of ratings\n",
    "rating_counts = balanced_data['Score'].value_counts()\n",
    "\n",
    "# Create bar plot\n",
    "ax = rating_counts.plot(kind='bar')\n",
    "\n",
    "ax.set_title(\"Ratings Distribution After Balancing\")\n",
    "ax.set_xlabel(\"Rating\")\n",
    "ax.set_ylabel(\"Number of Samples\")\n",
    "\n",
    "# Fix x-axis ticks  \n",
    "ax.set_xticklabels(ax.get_xticklabels(), rotation = 0)\n",
    "\n",
    "# Print number of reviews per rating\n",
    "\n",
    "if DEV:\n",
    "    for rating, count in rating_counts.items():\n",
    "        print(f\"{count:,} samples from balanced data with rating {rating}\\n\")\n",
    "\n",
    "plt.show()"
   ]
  },
  {
   "cell_type": "code",
   "execution_count": 7,
   "id": "d04ba0d1",
   "metadata": {
    "execution": {
     "iopub.execute_input": "2024-04-25T17:39:33.263113Z",
     "iopub.status.busy": "2024-04-25T17:39:33.262575Z",
     "iopub.status.idle": "2024-04-25T17:40:05.589110Z",
     "shell.execute_reply": "2024-04-25T17:40:05.587956Z"
    },
    "papermill": {
     "duration": 32.336897,
     "end_time": "2024-04-25T17:40:05.591593",
     "exception": false,
     "start_time": "2024-04-25T17:39:33.254696",
     "status": "completed"
    },
    "tags": []
   },
   "outputs": [
    {
     "name": "stdout",
     "output_type": "stream",
     "text": [
      "Collecting symspellpy\r\n",
      "  Downloading symspellpy-6.7.7-py3-none-any.whl.metadata (2.5 kB)\r\n",
      "Collecting editdistpy>=0.1.3 (from symspellpy)\r\n",
      "  Downloading editdistpy-0.1.4.tar.gz (98 kB)\r\n",
      "\u001b[2K     \u001b[90m━━━━━━━━━━━━━━━━━━━━━━━━━━━━━━━━━━━━━━━━\u001b[0m \u001b[32m98.5/98.5 kB\u001b[0m \u001b[31m2.3 MB/s\u001b[0m eta \u001b[36m0:00:00\u001b[0m\r\n",
      "\u001b[?25h  Installing build dependencies ... \u001b[?25l-\b \b\\\b \b|\b \b/\b \b-\b \b\\\b \b|\b \bdone\r\n",
      "\u001b[?25h  Getting requirements to build wheel ... \u001b[?25l-\b \b\\\b \b|\b \bdone\r\n",
      "\u001b[?25h  Preparing metadata (pyproject.toml) ... \u001b[?25l-\b \b\\\b \bdone\r\n",
      "\u001b[?25hDownloading symspellpy-6.7.7-py3-none-any.whl (2.6 MB)\r\n",
      "\u001b[2K   \u001b[90m━━━━━━━━━━━━━━━━━━━━━━━━━━━━━━━━━━━━━━━━\u001b[0m \u001b[32m2.6/2.6 MB\u001b[0m \u001b[31m32.9 MB/s\u001b[0m eta \u001b[36m0:00:00\u001b[0m\r\n",
      "\u001b[?25hBuilding wheels for collected packages: editdistpy\r\n",
      "  Building wheel for editdistpy (pyproject.toml) ... \u001b[?25l-\b \b\\\b \b|\b \b/\b \b-\b \b\\\b \b|\b \bdone\r\n",
      "\u001b[?25h  Created wheel for editdistpy: filename=editdistpy-0.1.4-cp310-cp310-linux_x86_64.whl size=50428 sha256=b6d675400d48cb38049191736f34843edfca4deb121e318ed0769b730ed21553\r\n",
      "  Stored in directory: /root/.cache/pip/wheels/4c/0f/10/c20d67cd765ee5b3666d759a307241bba0663135d6ee1c0072\r\n",
      "Successfully built editdistpy\r\n",
      "Installing collected packages: editdistpy, symspellpy\r\n",
      "Successfully installed editdistpy-0.1.4 symspellpy-6.7.7\r\n"
     ]
    }
   ],
   "source": [
    "!pip install symspellpy"
   ]
  },
  {
   "cell_type": "code",
   "execution_count": 8,
   "id": "e1e7b7ac",
   "metadata": {
    "execution": {
     "iopub.execute_input": "2024-04-25T17:40:05.612744Z",
     "iopub.status.busy": "2024-04-25T17:40:05.612372Z",
     "iopub.status.idle": "2024-04-25T17:40:05.617891Z",
     "shell.execute_reply": "2024-04-25T17:40:05.617130Z"
    },
    "papermill": {
     "duration": 0.018143,
     "end_time": "2024-04-25T17:40:05.619697",
     "exception": false,
     "start_time": "2024-04-25T17:40:05.601554",
     "status": "completed"
    },
    "tags": []
   },
   "outputs": [],
   "source": [
    "custom_stop_words =['d', 'i', \"it's\", 'll', 'm', 'ma', 'most', 'mustn', \n",
    "\"mustn't\", 'needn', \"needn't\", 'o','re', 's', \"she's\", 'so', 'some', 'such',\n",
    "'t', \"that'll\", 've', 'wasn', \"wasn't\", 'y', 'you', \"you'd\", \"you'll\", \"you're\"\n",
    ", \"you've\", 'yourselves', ' ']"
   ]
  },
  {
   "cell_type": "code",
   "execution_count": 9,
   "id": "d3446391",
   "metadata": {
    "execution": {
     "iopub.execute_input": "2024-04-25T17:40:05.639425Z",
     "iopub.status.busy": "2024-04-25T17:40:05.639109Z",
     "iopub.status.idle": "2024-04-25T17:40:05.643842Z",
     "shell.execute_reply": "2024-04-25T17:40:05.643102Z"
    },
    "papermill": {
     "duration": 0.016562,
     "end_time": "2024-04-25T17:40:05.645736",
     "exception": false,
     "start_time": "2024-04-25T17:40:05.629174",
     "status": "completed"
    },
    "tags": []
   },
   "outputs": [],
   "source": [
    "# custom stop words to remove\n",
    "# custom_stop_words =['a', 'about', 'above', 'after',  'all', 'am', 'an', 'and', 'any',\n",
    "# 'are', 'as', 'at', 'be', 'because', 'been', 'before', 'being', 'below',\n",
    "# 'between', 'both', 'but', 'by', 'can',  'd', 'did',\n",
    "#  'do', 'does', 'doing', 'down',\n",
    "# 'during', 'each', 'for', 'from', 'further', 'had', 'has',  'have', 'having',\n",
    "# 'he', 'her', 'here', 'hers', 'herself', 'him', 'himself', 'his', 'how',\n",
    "# 'i', 'if', 'in', 'into', 'is', 'it', \"it's\", 'its',\n",
    "# 'itself', 'just', 'll', 'm', 'ma', 'me',  'more',\n",
    "# 'most', 'mustn', \"mustn't\", 'my', 'myself', 'needn', \"needn't\",\n",
    "# 'nor',  'now', 'o', 'of', 'off', 'on', 'once', 'only', 'or',\n",
    "# 'other', 'our', 'ours', 'ourselves', 'out', 'over', 'own', 're', 's',\n",
    "# 'same',  'she', \"she's\", 'so', 'some', 'such', 't', 'than', 'that',\n",
    "# \"that'll\", 'the', 'their', 'theirs', 'them', 'themselves', 'then',\n",
    "# 'there', 'these', 'they', 'this', 'those', 'through', 'to', 'too',\n",
    "# 'under', 'until', 'up', 've', 'very', 'was', 'wasn', \"wasn't\", 'we',\n",
    "# 'were',  'what', 'when', 'where', 'which', 'while',\n",
    "# 'who', 'whom', 'why', 'will', 'with', 'y', 'you', \"you'd\", \"you'll\", \"you're\", \"you've\", 'your',\n",
    "# 'yours', 'yourself', 'yourselves', ' ']"
   ]
  },
  {
   "cell_type": "markdown",
   "id": "71dda329",
   "metadata": {
    "papermill": {
     "duration": 0.008987,
     "end_time": "2024-04-25T17:40:05.664069",
     "exception": false,
     "start_time": "2024-04-25T17:40:05.655082",
     "status": "completed"
    },
    "tags": []
   },
   "source": [
    "**Around 7 minutes for 5,000 reviews**"
   ]
  },
  {
   "cell_type": "code",
   "execution_count": 10,
   "id": "0294d914",
   "metadata": {
    "execution": {
     "iopub.execute_input": "2024-04-25T17:40:05.683512Z",
     "iopub.status.busy": "2024-04-25T17:40:05.683209Z",
     "iopub.status.idle": "2024-04-25T21:36:45.749876Z",
     "shell.execute_reply": "2024-04-25T21:36:45.748948Z"
    },
    "papermill": {
     "duration": 14200.089065,
     "end_time": "2024-04-25T21:36:45.762204",
     "exception": false,
     "start_time": "2024-04-25T17:40:05.673139",
     "status": "completed"
    },
    "tags": []
   },
   "outputs": [
    {
     "name": "stdout",
     "output_type": "stream",
     "text": [
      "Tokenizer defined, and CleanedReview column created\n"
     ]
    }
   ],
   "source": [
    "import pkg_resources\n",
    "from symspellpy import SymSpell\n",
    "\n",
    "# Load the English tokenizer model from spaCy\n",
    "nlp = spacy.load(\"en_core_web_lg\")\n",
    "\n",
    "# Compile the regular expressions for cleaning text\n",
    "html_tags = re.compile(\"<.*?>\")\n",
    "punct_and_symbols = re.compile(r'[^\\w\\s\\']+')\n",
    "\n",
    "# Initialize and load SymSpell dictionary for word segmentation\n",
    "sym_spell = SymSpell(max_dictionary_edit_distance = 0, prefix_length = 7)\n",
    "dictionary_path = pkg_resources.resource_filename(\n",
    "    \"symspellpy\", \"frequency_dictionary_en_82_765.txt\"\n",
    ")\n",
    "sym_spell.load_dictionary(dictionary_path, term_index = 0, count_index = 1)\n",
    "\n",
    "def tokenizer(text, nlp, sym_spell, custom_stop_words):\n",
    "    \"\"\"\n",
    "    Tokenizes a text string, segments run-on words, and removes stop words.\n",
    "    \n",
    "    text (str): The text string to tokenize.\n",
    "    nlp: The spaCy language model.\n",
    "    sym_spell: The SymSpell object for correcting run-on words.\n",
    "    custom_stop_words (list): A list of custom stop words to remove.\n",
    "\n",
    "    Returns:\n",
    "        list: The tokenized text string.\n",
    "    \"\"\"\n",
    "    # Clean text\n",
    "    text = text.lower()  # Convert text to lowercase\n",
    "    text = html_tags.sub(\"\", text)  # Remove HTML tags\n",
    "    # text = punct_and_symbols.sub(\"\", text)  # Replace punctuation and symbols with space\n",
    "    text = punct_and_symbols.sub(\" \", text)  # Replace punctuation and symbols with space\n",
    "\n",
    "    # Segment text using SymSpell\n",
    "    segmented = sym_spell.word_segmentation(text)\n",
    "    clean_text = segmented.corrected_string\n",
    "    \n",
    "    # Tokenize the text using spaCy\n",
    "    doc = nlp(clean_text)\n",
    "\n",
    "    # Remove stop words and punctuation tokens\n",
    "    tokens = [token.text for token in doc if not token.is_punct \n",
    "              and token.text not in custom_stop_words] \n",
    "\n",
    "    return tokens\n",
    "\n",
    "# Assuming 'balanced_data' is a pandas DataFrame with a column 'Text'\n",
    "# Apply the tokenizer function to the 'Text' column\n",
    "balanced_data['CleanedReview'] = balanced_data['Text'].apply(lambda x: tokenizer(x, nlp, sym_spell, custom_stop_words))\n",
    "\n",
    "# Indicate completion\n",
    "print('Tokenizer defined, and CleanedReview column created')"
   ]
  },
  {
   "cell_type": "code",
   "execution_count": 11,
   "id": "50680502",
   "metadata": {
    "execution": {
     "iopub.execute_input": "2024-04-25T21:36:45.782442Z",
     "iopub.status.busy": "2024-04-25T21:36:45.782094Z",
     "iopub.status.idle": "2024-04-25T21:36:45.789345Z",
     "shell.execute_reply": "2024-04-25T21:36:45.788100Z"
    },
    "papermill": {
     "duration": 0.019596,
     "end_time": "2024-04-25T21:36:45.791415",
     "exception": false,
     "start_time": "2024-04-25T21:36:45.771819",
     "status": "completed"
    },
    "tags": []
   },
   "outputs": [
    {
     "name": "stdout",
     "output_type": "stream",
     "text": [
      "VERBOSE: specify the columns that will be used to train the classifier\n",
      "My daughter is a strawberry fiend so I thought this would be perfect for her, but she just spits every bite out pretty violently, LOL! I tried it myself in exasperation and it really tasted like a spoonful of strawberry jam. GROSS. \n",
      "\n",
      "['my', 'daughter', 'is', 'a', 'strawberry', 'fiend', 'thought', 'this', 'would', 'be', 'perfect', 'for', 'her', 'but', 'she', 'just', 'spits', 'every', 'bite', 'out', 'pretty', 'violently', 'lol', 'tried', 'it', 'myself', 'in', 'exasperation', 'and', 'it', 'really', 'tasted', 'like', 'a', 'spoonful', 'of', 'strawberry', 'jam', 'gross'] \n",
      "\n",
      "39 \n",
      "\n",
      "(140000,)\n",
      "Includes tune oil, gelatin and vitamins. I would expect organic pea pure to include just peas, but this is not the case. Enough said. Deleting my subscription. \n",
      "\n",
      "['includes', 'tune', 'oil', 'gelatin', 'and', 'vitamins', 'would', 'expect', 'organic', 'pea', 'pure', 'to', 'include', 'just', 'peas', 'but', 'this', 'is', 'not', 'the', 'case', 'enough', 'said', 'deleting', 'my', 'subscription'] \n",
      "\n",
      "26 \n",
      "\n",
      "(140000,)\n",
      "Cute concept, cute name. If you love original peeps, and you love chocolate, Peepsters sounds like a winning combination.<br /><br />Unfortunately, these do not live up to expectations. In fact, they're really not good at all. The marshmallow creme doesn't taste anything like marshmallow. It's got a heavy, thick, sticky texture and an unpleasant, artificial flavor. The chocolate is fairly good quality, but is not tempered correctly so it melts way before you can get it into your mouth. It melts so quickly it will practically slide out of your fingers between the wrapper and your mouth. The one positive note is that Peepsters are so stingy with their creme filling you can barely find any when you bite into them. Which is a good thing, since the filling is cloying and artificial. I love candy, and while I can be a bit of a chocolate snob, I will never pass up or not finish a bite-sized piece of candy. Until now. I couldn't even eat a whole Peepster, which is not even an inch in diameter.<br /><br />Personally, I really don't see Peepsters catching on. Save your easter-basket candy money for Original Peeps or other, more inspired candies. \n",
      "\n",
      "['cute', 'concept', 'cute', 'name', 'if', 'love', 'original', 'peeps', 'and', 'love', 'chocolate', 'peeps', 'ter', 'sounds', 'like', 'a', 'winning', 'combination', 'unfortunately', 'these', 'do', 'not', 'live', 'up', 'to', 'expectations', 'in', 'fact', 'they', \"'re\", 'really', 'not', 'good', 'at', 'all', 'the', 'marshmallow', 'creme', 'does', \"n't\", 'taste', 'anything', 'like', 'marshmallow', 'it', \"'s\", 'got', 'a', 'heavy', 'thick', 'sticky', 'texture', 'and', 'an', 'unpleasant', 'artificial', 'flavor', 'the', 'chocolate', 'is', 'fairly', 'good', 'quality', 'but', 'is', 'not', 'tempered', 'correctly', 'it', 'melts', 'way', 'before', 'can', 'get', 'it', 'into', 'your', 'mouth', 'it', 'melts', 'quickly', 'it', 'will', 'practically', 'slide', 'out', 'of', 'your', 'fingers', 'between', 'the', 'wrapper', 'and', 'your', 'mouth', 'the', 'one', 'positive', 'note', 'is', 'that', 'peeps', 'ter', 'are', 'stingy', 'with', 'their', 'creme', 'filling', 'can', 'barely', 'find', 'any', 'when', 'bite', 'into', 'them', 'which', 'is', 'a', 'good', 'thing', 'since', 'the', 'filling', 'is', 'cloying', 'and', 'artificial', 'love', 'candy', 'and', 'while', 'can', 'be', 'a', 'bit', 'of', 'a', 'chocolate', 'snob', 'will', 'never', 'pass', 'up', 'or', 'not', 'finish', 'a', 'bite', 'sized', 'piece', 'of', 'candy', 'until', 'now', 'could', \"n't\", 'even', 'eat', 'a', 'whole', 'peeps', 'ter', 'which', 'is', 'not', 'even', 'an', 'inch', 'in', 'diameter', 'personally', 'really', 'do', \"n't\", 'see', 'peeps', 'ter', 'scat', 'ching', 'on', 'save', 'your', 'easter', 'basket', 'candy', 'money', 'for', 'original', 'peeps', 'or', 'other', 'more', 'inspired', 'candies'] \n",
      "\n",
      "196 \n",
      "\n",
      "(140000,)\n",
      "It pisses me off seeing pirates booty coming up as a VEGAN item when its obviously not.<br />The seller needs to learn to label/tag their products correctly. \n",
      "\n",
      "['it', 'pisses', 'me', 'off', 'seeing', 'pirates', 'booty', 'coming', 'up', 'as', 'a', 'vegan', 'item', 'when', 'its', 'obviously', 'not', 'the', 'seller', 'needs', 'to', 'learn', 'to', 'label', 'tag', 'their', 'products', 'correctly'] \n",
      "\n",
      "28 \n",
      "\n",
      "(140000,)\n",
      "Cooking directions should be included with the description.  These are \"pan fry only.\"  I thought they could be baked.  I ASSUMED, which was wrong.  I'm giving these to the neighbor. \n",
      "\n",
      "['cooking', 'directions', 'should', 'be', 'included', 'with', 'the', 'description', '  ', 'these', 'are', 'pan', 'fry', 'only', '  ', 'thought', 'they', 'could', 'be', 'baked', '  ', 'assumed', 'which', 'was', 'wrong', '  ', \"'m\", 'giving', 'these', 'to', 'the', 'neigh', 'b', 'or'] \n",
      "\n",
      "34 \n",
      "\n",
      "(140000,)\n"
     ]
    }
   ],
   "source": [
    "# Store the Rating column\n",
    "rating = balanced_data['Score']  \n",
    "\n",
    "# Store the CleanedReview column\n",
    "tokenized_review = balanced_data['CleanedReview']\n",
    "showD(f'specify the columns that will be used to train the classifier')\n",
    "\n",
    "for i in range (5):\n",
    "    print(balanced_data['Text'][i],'\\n')\n",
    "    print(tokenized_review[i], '\\n')\n",
    "    print(len(tokenized_review[i]), '\\n')\n",
    "    print(tokenized_review.shape)"
   ]
  },
  {
   "cell_type": "code",
   "execution_count": 12,
   "id": "b334c611",
   "metadata": {
    "execution": {
     "iopub.execute_input": "2024-04-25T21:36:45.811637Z",
     "iopub.status.busy": "2024-04-25T21:36:45.811320Z",
     "iopub.status.idle": "2024-04-25T21:36:46.730094Z",
     "shell.execute_reply": "2024-04-25T21:36:46.729127Z"
    },
    "papermill": {
     "duration": 0.931253,
     "end_time": "2024-04-25T21:36:46.732223",
     "exception": false,
     "start_time": "2024-04-25T21:36:45.800970",
     "status": "completed"
    },
    "tags": []
   },
   "outputs": [
    {
     "name": "stdout",
     "output_type": "stream",
     "text": [
      "Mean: 88.08\n",
      "Median: 63.00\n",
      "Mode: ModeResult(mode=24, count=1981)\n"
     ]
    },
    {
     "data": {
      "image/png": "[encoded data removed]",
      "text/plain": [
       "<Figure size 800x600 with 1 Axes>"
      ]
     },
     "metadata": {},
     "output_type": "display_data"
    }
   ],
   "source": [
    "def analyze_review_tokens(reviews):\n",
    "    token_counts = [len(review) for review in reviews]\n",
    "\n",
    "    mean = np.mean(token_counts)\n",
    "    median = np.median(token_counts)\n",
    "    mode = stats.mode(token_counts)\n",
    "\n",
    "    print(f\"Mean: {mean:.2f}\")\n",
    "    print(f\"Median: {median:.2f}\")\n",
    "    print(f\"Mode: {mode}\")\n",
    "\n",
    "    plt.figure(figsize=(8, 6))\n",
    "    plt.hist(token_counts, bins=20, edgecolor='black')\n",
    "    plt.xlabel('Number of Tokens')\n",
    "    plt.ylabel('Frequency')\n",
    "    plt.title('Histogram of Token Counts per Review')\n",
    "    plt.grid(True)\n",
    "    plt.show()\n",
    "\n",
    "analyze_review_tokens(tokenized_review)"
   ]
  },
  {
   "cell_type": "code",
   "execution_count": 13,
   "id": "2b21a262",
   "metadata": {
    "execution": {
     "iopub.execute_input": "2024-04-25T21:36:46.754573Z",
     "iopub.status.busy": "2024-04-25T21:36:46.754060Z",
     "iopub.status.idle": "2024-04-25T21:37:51.449475Z",
     "shell.execute_reply": "2024-04-25T21:37:51.448516Z"
    },
    "papermill": {
     "duration": 64.719885,
     "end_time": "2024-04-25T21:37:51.462615",
     "exception": false,
     "start_time": "2024-04-25T21:36:46.742730",
     "status": "completed"
    },
    "tags": []
   },
   "outputs": [
    {
     "name": "stdout",
     "output_type": "stream",
     "text": [
      "VERBOSE: KeyedVectors<vector_size=300, 3000000 keys> can map words onto vectors with 300 dimensions\n"
     ]
    }
   ],
   "source": [
    "# >> 3/29/24 Took less than a minute to run without the accelerator.\n",
    "# Load Word2Vec model\n",
    "#w2v = api.load('word2vec-google-news-300')\n",
    "w2v = KeyedVectors.load_word2vec_format (w2v_file, binary=True)\n",
    "\n",
    "# Define the aimum sequence length (adjust as needed)\n",
    "#>> Will increasing max_sequence_length impact performance?\n",
    "max_sequence_length = 100\n",
    "\n",
    "showD(f'{w2v} can map words onto vectors with 300 dimensions')"
   ]
  },
  {
   "cell_type": "code",
   "execution_count": 14,
   "id": "4a4d668c",
   "metadata": {
    "execution": {
     "iopub.execute_input": "2024-04-25T21:37:51.486742Z",
     "iopub.status.busy": "2024-04-25T21:37:51.486441Z",
     "iopub.status.idle": "2024-04-25T21:37:51.495721Z",
     "shell.execute_reply": "2024-04-25T21:37:51.494720Z"
    },
    "papermill": {
     "duration": 0.023514,
     "end_time": "2024-04-25T21:37:51.497550",
     "exception": false,
     "start_time": "2024-04-25T21:37:51.474036",
     "status": "completed"
    },
    "tags": []
   },
   "outputs": [
    {
     "name": "stdout",
     "output_type": "stream",
     "text": [
      "CUDA is available!\n",
      "GPU 0: Tesla P100-PCIE-16GB\n"
     ]
    }
   ],
   "source": [
    "# Checks if a CUDA enabled GPU is available and prints out its information\n",
    "if torch.cuda.is_available():\n",
    "    print(\"CUDA is available!\")\n",
    "    for i in range(torch.cuda.device_count()):\n",
    "        print(f\"GPU {i}: {torch.cuda.get_device_name(i)}\")\n",
    "        \n",
    "    device = torch.device(\"cuda:0\")\n",
    "    accelerator = True\n",
    "\n",
    "else:\n",
    "    accelerator = False\n",
    "    print(\"CUDA is not available.\")\n",
    "    device = torch.device(\"cpu\")\n",
    "    print(device)"
   ]
  },
  {
   "cell_type": "code",
   "execution_count": 15,
   "id": "d5ebac10",
   "metadata": {
    "execution": {
     "iopub.execute_input": "2024-04-25T21:37:51.519816Z",
     "iopub.status.busy": "2024-04-25T21:37:51.519552Z",
     "iopub.status.idle": "2024-04-25T21:41:58.959593Z",
     "shell.execute_reply": "2024-04-25T21:41:58.958654Z"
    },
    "papermill": {
     "duration": 247.465483,
     "end_time": "2024-04-25T21:41:58.973343",
     "exception": false,
     "start_time": "2024-04-25T21:37:51.507860",
     "status": "completed"
    },
    "tags": []
   },
   "outputs": [
    {
     "name": "stdout",
     "output_type": "stream",
     "text": [
      "VERBOSE: Lengths of 100 longest reviews: [3573, 2168, 1981, 1833, 1614, 1565, 1543, 1531, 1508, 1488, 1357, 1349, 1340, 1323, 1303, 1286, 1282, 1281, 1279, 1272, 1262, 1262, 1261, 1251, 1237, 1223, 1223, 1223, 1202, 1202, 1202, 1196, 1195, 1187, 1174, 1172, 1127, 1109, 1104, 1095, 1090, 1083, 1083, 1074, 1066, 1066, 1065, 1065, 1065, 1065, 1065, 1065, 1065, 1043, 1035, 1030, 1008, 1008, 1005, 1004, 988, 971, 971, 965, 955, 946, 942, 929, 929, 927, 923, 921, 918, 916, 912, 912, 900, 897, 896, 896, 896, 894, 886, 884, 883, 879, 878, 877, 873, 871, 871, 870, 869, 867, 863, 860, 860, 860, 860, 860]\n",
      "VERBOSE: 7866329 words found with vector representations, 1197017 without\n",
      "VERBOSE: Number of unique words without vector representations: 5649\n",
      "DEV: Sample of words without vector representations\n",
      "DEV: a - 242723\n",
      "DEV: 2011 - 502\n",
      "DEV: 53 - 37\n",
      "DEV: rudolph - 1\n",
      "DEV: keebler - 77\n",
      "DEV: dnana - 2\n",
      "DEV: pizz - 36\n",
      "DEV: 118 - 3\n",
      "DEV: frigg - 11\n",
      "DEV: blum - 2\n",
      "DEV: sier - 5\n",
      "DEV: b002fbd3j2 - 1\n",
      "DEV: theol - 2\n",
      "DEV: e321 - 1\n",
      "DEV: yeowww - 1\n",
      "DEV: colombians - 4\n",
      "DEV: houji - 2\n",
      "DEV: 40ml - 1\n",
      "DEV: yugoslavia - 1\n",
      "DEV: uec - 1\n",
      "DEV: ooooved - 4\n",
      "DEV: frt - 6\n",
      "DEV: 1331447807 - 12\n",
      "DEV: juc - 1\n",
      "DEV: 1932 - 2\n",
      "DEV: lli - 6\n",
      "DEV: taza - 6\n",
      "DEV: 350f - 3\n",
      "DEV: book'c - 1\n",
      "DEV: tmj - 10\n",
      "DEV: snb - 3\n",
      "DEV: 132 - 1\n",
      "DEV: rier - 2\n",
      "DEV: celebes - 2\n",
      "DEV: cameroonian - 1\n",
      "DEV: bcv - 3\n",
      "DEV: 900ml - 2\n",
      "DEV: juu - 1\n",
      "DEV: cuased - 1\n",
      "DEV: 1940s - 3\n",
      "DEV: nery - 1\n",
      "DEV: efe - 2\n",
      "DEV: rbly - 2\n",
      "DEV: 9000 - 2\n",
      "DEV: calhoun - 2\n",
      "DEV: lmma - 1\n",
      "DEV: pemr - 1\n",
      "DEV: mix'n - 2\n",
      "DEV: sble - 1\n",
      "DEV: 71⁄2 - 1\n",
      "DEV: niç - 1\n",
      "DEV: atomics - 2\n",
      "DEV: glyci - 1\n",
      "DEV: 45fl - 1\n",
      "DEV: lunds - 2\n",
      "DEV: 79th - 1\n",
      "DEV: ulph - 1\n",
      "tensor([[-0.0830, -0.0898,  0.1611,  ..., -0.0045,  0.0820,  0.1885],\n",
      "        [ 0.1211,  0.1221,  0.0315,  ...,  0.0205,  0.1250, -0.0923],\n",
      "        [-0.1396,  0.0623, -0.2793,  ...,  0.2041,  0.2354, -0.0510],\n",
      "        ...,\n",
      "        [ 0.0000,  0.0000,  0.0000,  ...,  0.0000,  0.0000,  0.0000],\n",
      "        [ 0.0000,  0.0000,  0.0000,  ...,  0.0000,  0.0000,  0.0000],\n",
      "        [ 0.0000,  0.0000,  0.0000,  ...,  0.0000,  0.0000,  0.0000]])\n"
     ]
    }
   ],
   "source": [
    "#>> 3/29/24 Completed in less than 30 seconds using 1347 as max_sequence_length \n",
    "\n",
    "# Assume you have a list of tokenized review called tokenized_review\n",
    "# Each element in tokenized_review is a list of tokens for a single review\n",
    "\n",
    "lengths = []\n",
    "for review_tokens in tokenized_review:\n",
    "    lengths.append(len(review_tokens))\n",
    "\n",
    "lengths = sorted(lengths)\n",
    "lengths = lengths[-1:0:-1]\n",
    "showD(f'Lengths of 100 longest reviews: {lengths[0:100]}')        \n",
    "\n",
    "max_sequence_length = 100 #<< 3/29/24 1347 was the longest review length in sample\n",
    "\n",
    "# Initialize an empty tensor for padded reviews on the GPU\n",
    "padded_reviews = torch.zeros((len(tokenized_review), max_sequence_length, 300))\n",
    "\n",
    "# Initialize a mask tensor of the same shape as padded_reviews\n",
    "# Set it to False (or 0) initially, representing that all positions are padding\n",
    "# mask = torch.zeros_like(padded_reviews, dtype=torch.bool)\n",
    "\n",
    "# Initialize a mask tensor of the same shape as padded_reviews but with only sequence length\n",
    "mask = torch.zeros((len(tokenized_review), max_sequence_length), dtype=torch.bool)\n",
    "\n",
    "out_words = {}\n",
    "words_in = 0\n",
    "words_out = 0\n",
    "\n",
    "# Now, during the padding and embedding conversion loop, update the mask as well\n",
    "for i, review_tokens in enumerate(tokenized_review):\n",
    "    review_length = min(len(review_tokens), max_sequence_length)\n",
    "    for j in range(review_length):\n",
    "        word = review_tokens[j]\n",
    "        if word in w2v:\n",
    "            words_in += 1\n",
    "            # Use Word2Vec vector if available\n",
    "            padded_reviews[i, j, :] = torch.tensor(w2v[word])\n",
    "            mask[i, j] = True  # Update the mask to indicate the presence of a word\n",
    "        else:\n",
    "            words_out += 1\n",
    "            out_words[word] = out_words.get(word, 0) + 1\n",
    "        # Otherwise, the mask remains False (or 0) for padding\n",
    "\n",
    "# Now you have a mask tensor that you can use later in your processing to ignore padded values\n",
    "# For example, if you want to apply max pooling only on non-padded values, you could use:\n",
    "# review_embeddings = torch.max(padded_reviews * mask.unsqueeze(-1).float(), dim=1)[0]\n",
    "\n",
    "# Ensure the mask is treated as a float for any operations that require it\n",
    "mask = mask.float()\n",
    "\n",
    "# Now you can use this mask tensor to exclude the padding from any subsequent computations\n",
    "\n",
    "printv(f'{words_in} words found with vector representations, {words_out} without')\n",
    "printv(f'Number of unique words without vector representations: {len(out_words)}')\n",
    "printd('Sample of words without vector representations')\n",
    "kwords = list(out_words.keys())\n",
    "for idx in range(0,len(kwords)-1,100):\n",
    "    kword = kwords[idx]\n",
    "    printd(f'{kword} - {out_words[kword]}')\n",
    "# Apply max pooling to aggregate embeddings along the sequence dimension\n",
    "# review_embeddings = torch.max(padded_reviews, dim=1)[0]\n",
    "\n",
    "# Now,review_embeddings contains the aggregated Word2Vec \n",
    "# embeddings for each review on the GPU\n",
    "\n",
    "showC(f\"Created zero-padded, standard length reviews\")\n",
    "\n",
    "print(padded_reviews[1])"
   ]
  },
  {
   "cell_type": "code",
   "execution_count": 16,
   "id": "9e4e4d69",
   "metadata": {
    "execution": {
     "iopub.execute_input": "2024-04-25T21:41:58.996127Z",
     "iopub.status.busy": "2024-04-25T21:41:58.995812Z",
     "iopub.status.idle": "2024-04-25T21:43:04.527711Z",
     "shell.execute_reply": "2024-04-25T21:43:04.525712Z"
    },
    "papermill": {
     "duration": 65.54613,
     "end_time": "2024-04-25T21:43:04.530235",
     "exception": false,
     "start_time": "2024-04-25T21:41:58.984105",
     "status": "completed"
    },
    "tags": []
   },
   "outputs": [],
   "source": [
    "import h5py\n",
    "\n",
    "text_embeddings_tensors = padded_reviews\n",
    "\n",
    "# Rating labels\n",
    "rating_labels_tensors = torch.tensor(rating.values)\n",
    "\n",
    "# Open the HDF5 file in write mode ('w')\n",
    "with h5py.File('review_data.hdf5', 'w') as hf:\n",
    "\n",
    "    # Create separate datasets for text reviews and ratings within the HDF5 file\n",
    "    hf.create_dataset('text_reviews', data = text_embeddings_tensors.cpu().numpy())\n",
    "    hf.create_dataset('ratings', data = rating_labels_tensors.cpu().numpy())"
   ]
  }
 ],
 "metadata": {
  "kaggle": {
   "accelerator": "gpu",
   "dataSources": [
    {
     "datasetId": 6763,
     "sourceId": 9801,
     "sourceType": "datasetVersion"
    },
    {
     "datasetId": 1461623,
     "sourceId": 2415872,
     "sourceType": "datasetVersion"
    }
   ],
   "dockerImageVersionId": 30699,
   "isGpuEnabled": true,
   "isInternetEnabled": true,
   "language": "python",
   "sourceType": "notebook"
  },
  "kernelspec": {
   "display_name": "Python 3",
   "language": "python",
   "name": "python3"
  },
  "language_info": {
   "codemirror_mode": {
    "name": "ipython",
    "version": 3
   },
   "file_extension": ".py",
   "mimetype": "text/x-python",
   "name": "python",
   "nbconvert_exporter": "python",
   "pygments_lexer": "ipython3",
   "version": "3.10.13"
  },
  "papermill": {
   "default_parameters": {},
   "duration": 14650.444899,
   "end_time": "2024-04-25T21:43:07.305027",
   "environment_variables": {},
   "exception": null,
   "input_path": "__notebook__.ipynb",
   "output_path": "__notebook__.ipynb",
   "parameters": {},
   "start_time": "2024-04-25T17:38:56.860128",
   "version": "2.5.0"
  }
 },
 "nbformat": 4,
 "nbformat_minor": 5
}
