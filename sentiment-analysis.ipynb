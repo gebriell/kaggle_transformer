{
 "cells": [
  {
   "cell_type": "code",
   "execution_count": 1,
   "id": "af4a4d74",
   "metadata": {
    "_cell_guid": "b1076dfc-b9ad-4769-8c92-a6c4dae69d19",
    "_uuid": "8f2839f25d086af736a60e9eeb907d3b93b6e0e5",
    "execution": {
     "iopub.execute_input": "2024-04-06T01:43:16.378885Z",
     "iopub.status.busy": "2024-04-06T01:43:16.378542Z",
     "iopub.status.idle": "2024-04-06T01:43:35.212443Z",
     "shell.execute_reply": "2024-04-06T01:43:35.211419Z"
    },
    "papermill": {
     "duration": 18.843541,
     "end_time": "2024-04-06T01:43:35.214496",
     "exception": false,
     "start_time": "2024-04-06T01:43:16.370955",
     "status": "completed"
    },
    "tags": []
   },
   "outputs": [
    {
     "name": "stdout",
     "output_type": "stream",
     "text": [
      "Found unexpected file: /kaggle/input/googlenewsvectorsnegative300/GoogleNews-vectors-negative300.bin.gz\n",
      "Amazon reviews file: /kaggle/input/amazon-product-reviews/Reviews.csv\n",
      "Google news word to vec file: /kaggle/input/googlenewsvectorsnegative300/GoogleNews-vectors-negative300.bin\n"
     ]
    }
   ],
   "source": [
    "# For viewing and manipulating data\n",
    "import numpy as np # linear algebra\n",
    "import pandas as pd # data processing, CSV file I/O (e.g. pd.read_csv)\n",
    "\n",
    "# Importing the necessary libraries\n",
    "import re\n",
    "import math\n",
    "import string\n",
    "import nltk\n",
    "import torch\n",
    "import torch.nn as nn\n",
    "import torch.optim as optim\n",
    "import torch.nn.functional as F\n",
    "import gensim.downloader as api\n",
    "from gensim.models import KeyedVectors # >> alternative to gensim.downloader\n",
    "import matplotlib.pyplot as plt\n",
    "\n",
    "# Getting particular functions from these libraries \n",
    "from torch import Tensor\n",
    "from sklearn.utils import resample\n",
    "from gensim.models import KeyedVectors\n",
    "from sklearn.model_selection import train_test_split\n",
    "from sklearn.feature_extraction.text import CountVectorizer\n",
    "from torch.utils.data import random_split, DataLoader, TensorDataset, Dataset\n",
    "\n",
    "# Using the NLTK to tokenize the text\n",
    "from nltk.corpus import stopwords\n",
    "from nltk.stem import WordNetLemmatizer\n",
    "\n",
    "# This Python 3 environment comes with many helpful analytics libraries installed\n",
    "# It is defined by the kaggle/python Docker image: https://github.com/kaggle/docker-python\n",
    "# For example, here's several helpful packages to load\n",
    "\n",
    "# Input data files are available in the read-only \"../input/\" directory\n",
    "# For example, running this (by clicking run or pressing Shift+Enter) will list all files under the input directory\n",
    "\n",
    "import os\n",
    "reviews_file = ''\n",
    "w2v_file = ''\n",
    "for dirname, _, filenames in os.walk('/kaggle/input'):\n",
    "    for filename in filenames:\n",
    "        file_name = os.path.join(dirname, filename)\n",
    "        if file_name.endswith('.csv'): \n",
    "            reviews_file = file_name\n",
    "        elif file_name.endswith('.bin'):\n",
    "            w2v_file = file_name\n",
    "        else:\n",
    "            print(f'Found unexpected file: {file_name}')\n",
    "                \n",
    "print(f'Amazon reviews file: {reviews_file}')\n",
    "print(f'Google news word to vec file: {w2v_file}')\n",
    "            \n",
    "\n",
    "# You can write up to 20GB to the current directory (/kaggle/working/) that gets preserved as output when you create a version using \"Save & Run All\" \n",
    "# You can also write temporary files to /kaggle/temp/, but they won't be saved outside of the current session\n",
    "VERBOSE = True\n",
    "def printv(text):\n",
    "    if VERBOSE: print('VERBOSE:', text)\n",
    "    return\n",
    "\n",
    "def showV(text):\n",
    "    '''unconditional verbose output'''\n",
    "    print('VERBOSE:', text)\n",
    "    return\n",
    "\n",
    "DEV = True\n",
    "def printd(text):\n",
    "    if DEV: print('DEV:', text)\n",
    "    return\n",
    "\n",
    "def showD(text):\n",
    "    '''unconditional DEV output'''\n",
    "    print('VERBOSE:', text)\n",
    "    return\n",
    "\n",
    "showCellCompletion = False\n",
    "def showC(text):\n",
    "    if showCellCompletion:\n",
    "        print('Cell complete:', text)\n",
    "    return\n",
    "\n",
    "import subprocess\n",
    "showNv = True\n",
    "accelerator = True\n",
    "\n",
    "def printNv():\n",
    "    if not showNv or not accelerator: return\n",
    "    mem_usage = subprocess.run(['nvidia-smi'], stdout=subprocess.PIPE)\n",
    "    print(mem_usage.stdout.decode('utf-8'))\n",
    "\n",
    "showMemoryAllocation = True\n",
    "def printM():\n",
    "    if not showMemoryAllocation: return\n",
    "    print(f\"Total allocated memory: {torch.cuda.memory_allocated()} bytes\")"
   ]
  },
  {
   "cell_type": "code",
   "execution_count": 2,
   "id": "63002c4c",
   "metadata": {
    "execution": {
     "iopub.execute_input": "2024-04-06T01:43:35.228307Z",
     "iopub.status.busy": "2024-04-06T01:43:35.227833Z",
     "iopub.status.idle": "2024-04-06T01:43:36.480932Z",
     "shell.execute_reply": "2024-04-06T01:43:36.480038Z"
    },
    "papermill": {
     "duration": 1.262099,
     "end_time": "2024-04-06T01:43:36.482928",
     "exception": false,
     "start_time": "2024-04-06T01:43:35.220829",
     "status": "completed"
    },
    "tags": []
   },
   "outputs": [
    {
     "name": "stdout",
     "output_type": "stream",
     "text": [
      "Archive:  /usr/share/nltk_data/corpora/wordnet.zip\r\n",
      "   creating: /usr/share/nltk_data/corpora/wordnet/\r\n",
      "  inflating: /usr/share/nltk_data/corpora/wordnet/lexnames  \r\n",
      "  inflating: /usr/share/nltk_data/corpora/wordnet/data.verb  \r\n",
      "  inflating: /usr/share/nltk_data/corpora/wordnet/index.adv  \r\n",
      "  inflating: /usr/share/nltk_data/corpora/wordnet/adv.exc  \r\n",
      "  inflating: /usr/share/nltk_data/corpora/wordnet/index.verb  \r\n",
      "  inflating: /usr/share/nltk_data/corpora/wordnet/cntlist.rev  \r\n",
      "  inflating: /usr/share/nltk_data/corpora/wordnet/data.adj  \r\n",
      "  inflating: /usr/share/nltk_data/corpora/wordnet/index.adj  \r\n",
      "  inflating: /usr/share/nltk_data/corpora/wordnet/LICENSE  \r\n",
      "  inflating: /usr/share/nltk_data/corpora/wordnet/citation.bib  \r\n",
      "  inflating: /usr/share/nltk_data/corpora/wordnet/noun.exc  \r\n",
      "  inflating: /usr/share/nltk_data/corpora/wordnet/verb.exc  \r\n",
      "  inflating: /usr/share/nltk_data/corpora/wordnet/README  \r\n",
      "  inflating: /usr/share/nltk_data/corpora/wordnet/index.sense  \r\n",
      "  inflating: /usr/share/nltk_data/corpora/wordnet/data.noun  \r\n",
      "  inflating: /usr/share/nltk_data/corpora/wordnet/data.adv  \r\n",
      "  inflating: /usr/share/nltk_data/corpora/wordnet/index.noun  \r\n",
      "  inflating: /usr/share/nltk_data/corpora/wordnet/adj.exc  \r\n"
     ]
    }
   ],
   "source": [
    "## Only run once\n",
    "#>> Seems to need to be rerun after every Kaggle timeout.\n",
    "!unzip /usr/share/nltk_data/corpora/wordnet.zip -d /usr/share/nltk_data/corpora/"
   ]
  },
  {
   "cell_type": "code",
   "execution_count": 3,
   "id": "a6958df7",
   "metadata": {
    "execution": {
     "iopub.execute_input": "2024-04-06T01:43:36.497610Z",
     "iopub.status.busy": "2024-04-06T01:43:36.497304Z",
     "iopub.status.idle": "2024-04-06T01:43:43.817435Z",
     "shell.execute_reply": "2024-04-06T01:43:43.816553Z"
    },
    "papermill": {
     "duration": 7.329897,
     "end_time": "2024-04-06T01:43:43.819568",
     "exception": false,
     "start_time": "2024-04-06T01:43:36.489671",
     "status": "completed"
    },
    "tags": []
   },
   "outputs": [
    {
     "name": "stdout",
     "output_type": "stream",
     "text": [
      "VERBOSE: Amazon reviews loaded into Panda\n"
     ]
    }
   ],
   "source": [
    "# Load data from CSV\n",
    "#>>  3/13 needed to change the path as below\n",
    "# path ='/kaggle/input/Reviews.csv'#\"/kaggle/input/amazon-product-reviews/Reviews.csv\"\n",
    "data = pd.read_csv(reviews_file) # Use pandas to analyze data\n",
    "showD('Amazon reviews loaded into Panda')"
   ]
  },
  {
   "cell_type": "code",
   "execution_count": 4,
   "id": "db05a308",
   "metadata": {
    "execution": {
     "iopub.execute_input": "2024-04-06T01:43:43.834476Z",
     "iopub.status.busy": "2024-04-06T01:43:43.834177Z",
     "iopub.status.idle": "2024-04-06T01:43:43.848021Z",
     "shell.execute_reply": "2024-04-06T01:43:43.846970Z"
    },
    "papermill": {
     "duration": 0.023185,
     "end_time": "2024-04-06T01:43:43.849956",
     "exception": false,
     "start_time": "2024-04-06T01:43:43.826771",
     "status": "completed"
    },
    "tags": []
   },
   "outputs": [
    {
     "name": "stdout",
     "output_type": "stream",
     "text": [
      "VERBOSE: Number of reviews: 568454\n",
      "VERBOSE: Column names -\n",
      " Index(['Id', 'ProductId', 'UserId', 'ProfileName', 'HelpfulnessNumerator',\n",
      "       'HelpfulnessDenominator', 'Score', 'Time', 'Summary', 'Text'],\n",
      "      dtype='object')\n",
      "\n",
      "VERBOSE: First five rows -\n",
      "   Id   ProductId          UserId                      ProfileName  \\\n",
      "0   1  B001E4KFG0  A3SGXH7AUHU8GW                       delmartian   \n",
      "1   2  B00813GRG4  A1D87F6ZCVE5NK                           dll pa   \n",
      "2   3  B000LQOCH0   ABXLMWJIXXAIN  Natalia Corres \"Natalia Corres\"   \n",
      "3   4  B000UA0QIQ  A395BORC6FGVXV                             Karl   \n",
      "4   5  B006K2ZZ7K  A1UQRSCLF8GW1T    Michael D. Bigham \"M. Wassir\"   \n",
      "\n",
      "   HelpfulnessNumerator  HelpfulnessDenominator  Score        Time  \\\n",
      "0                     1                       1      5  1303862400   \n",
      "1                     0                       0      1  1346976000   \n",
      "2                     1                       1      4  1219017600   \n",
      "3                     3                       3      2  1307923200   \n",
      "4                     0                       0      5  1350777600   \n",
      "\n",
      "                 Summary                                               Text  \n",
      "0  Good Quality Dog Food  I have bought several of the Vitality canned d...  \n",
      "1      Not as Advertised  Product arrived labeled as Jumbo Salted Peanut...  \n",
      "2  \"Delight\" says it all  This is a confection that has been around a fe...  \n",
      "3         Cough Medicine  If you are looking for the secret ingredient i...  \n",
      "4            Great taffy  Great taffy at a great price.  There was a wid...  \n"
     ]
    }
   ],
   "source": [
    "# print number of rows in our ratings column\n",
    "printv(f'Number of reviews: {len(data[\"Score\"])}')\n",
    "printv(f'Column names -\\n {data.columns}\\n') \n",
    "printv(f'First five rows -\\n{data.head()}')"
   ]
  },
  {
   "cell_type": "code",
   "execution_count": 5,
   "id": "168fa0bd",
   "metadata": {
    "execution": {
     "iopub.execute_input": "2024-04-06T01:43:43.864828Z",
     "iopub.status.busy": "2024-04-06T01:43:43.864250Z",
     "iopub.status.idle": "2024-04-06T01:43:44.157481Z",
     "shell.execute_reply": "2024-04-06T01:43:44.156445Z"
    },
    "papermill": {
     "duration": 0.302787,
     "end_time": "2024-04-06T01:43:44.159451",
     "exception": false,
     "start_time": "2024-04-06T01:43:43.856664",
     "status": "completed"
    },
    "tags": []
   },
   "outputs": [
    {
     "name": "stdout",
     "output_type": "stream",
     "text": [
      "Column 'Id' has no empty entries or missing data.\n",
      "Column 'ProductId' has no empty entries or missing data.\n",
      "Column 'UserId' has no empty entries or missing data.\n",
      "Column 'ProfileName' has empty entries or missing data.\n",
      "Column 'HelpfulnessNumerator' has no empty entries or missing data.\n",
      "Column 'HelpfulnessDenominator' has no empty entries or missing data.\n",
      "Column 'Score' has no empty entries or missing data.\n",
      "Column 'Time' has no empty entries or missing data.\n",
      "Column 'Summary' has empty entries or missing data.\n",
      "Column 'Text' has no empty entries or missing data.\n"
     ]
    }
   ],
   "source": [
    "# Check for empty entries or missing data in each column\n",
    "for column in data.columns:\n",
    "    if data[column].isnull().values.any():\n",
    "        print(f\"Column '{column}' has empty entries or missing data.\")\n",
    "    else:\n",
    "        print(f\"Column '{column}' has no empty entries or missing data.\")"
   ]
  },
  {
   "cell_type": "code",
   "execution_count": 6,
   "id": "bd442252",
   "metadata": {
    "execution": {
     "iopub.execute_input": "2024-04-06T01:43:44.175414Z",
     "iopub.status.busy": "2024-04-06T01:43:44.174712Z",
     "iopub.status.idle": "2024-04-06T01:43:44.478930Z",
     "shell.execute_reply": "2024-04-06T01:43:44.478098Z"
    },
    "papermill": {
     "duration": 0.314203,
     "end_time": "2024-04-06T01:43:44.480958",
     "exception": false,
     "start_time": "2024-04-06T01:43:44.166755",
     "status": "completed"
    },
    "tags": []
   },
   "outputs": [
    {
     "name": "stdout",
     "output_type": "stream",
     "text": [
      "52,268 samples from balanced data with rating 1\n",
      "\n",
      "29,769 samples from balanced data with rating 2\n",
      "\n",
      "42,640 samples from balanced data with rating 3\n",
      "\n",
      "80,655 samples from balanced data with rating 4\n",
      "\n",
      "363,122 samples from balanced data with rating 5\n",
      "\n"
     ]
    },
    {
     "data": {
      "image/png": "[encoded data removed]",
      "text/plain": [
       "<Figure size 640x480 with 1 Axes>"
      ]
     },
     "metadata": {},
     "output_type": "display_data"
    }
   ],
   "source": [
    "# Get count of ratings \n",
    "rating_counts = data['Score'].value_counts()\n",
    "\n",
    "# Sort counts by index ascending\n",
    "rating_counts = rating_counts.sort_index()  \n",
    "\n",
    "# Create bar plot\n",
    "ax = rating_counts.plot(kind = 'bar')\n",
    "\n",
    "ax.set_title(\"Ratings Distribution\")\n",
    "ax.set_xlabel(\"Rating\")\n",
    "ax.set_ylabel(\"Number of Occurrences\")\n",
    "\n",
    "# Fix x-axis tick labels\n",
    "ax.set_xticklabels(ax.get_xticklabels(), rotation = 0) \n",
    "\n",
    "for rating, count in rating_counts.items():\n",
    "        print(f\"{count:,} samples from balanced data with rating {rating}\\n\")\n",
    "\n",
    "plt.show() #<< show the rating in each of the 5 categories"
   ]
  },
  {
   "cell_type": "code",
   "execution_count": 7,
   "id": "cf2f802c",
   "metadata": {
    "execution": {
     "iopub.execute_input": "2024-04-06T01:43:44.497585Z",
     "iopub.status.busy": "2024-04-06T01:43:44.497310Z",
     "iopub.status.idle": "2024-04-06T01:43:44.759625Z",
     "shell.execute_reply": "2024-04-06T01:43:44.758784Z"
    },
    "papermill": {
     "duration": 0.273677,
     "end_time": "2024-04-06T01:43:44.762534",
     "exception": false,
     "start_time": "2024-04-06T01:43:44.488857",
     "status": "completed"
    },
    "tags": []
   },
   "outputs": [
    {
     "name": "stdout",
     "output_type": "stream",
     "text": [
      "VERBOSE: The number of reviews equally distributed across all ratings is 10000\n"
     ]
    },
    {
     "name": "stderr",
     "output_type": "stream",
     "text": [
      "/tmp/ipykernel_25/3609735289.py:17: DeprecationWarning: DataFrameGroupBy.apply operated on the grouping columns. This behavior is deprecated, and in a future version of pandas the grouping columns will be excluded from the operation. Either pass `include_groups=False` to exclude the groupings or explicitly select the grouping columns after groupby to silence this warning.\n",
      "  balanced_data = sorted_data.groupby(sort_column).apply(lambda x: x.sample(n = balanced_data_size))\n"
     ]
    }
   ],
   "source": [
    "balanced_data_size = 2000 #25000<< number of reviews in each rating category, tailored for CPU capacity\n",
    "# Specify the column for sorting and balancing\n",
    "sort_column = 'Score'  # This is one the rating column\n",
    "\n",
    "# Sort the data by the rating values\n",
    "sorted_data = data.sort_values(by = sort_column)\n",
    "\n",
    "# Create a balanced dataset with 25,000 samples from each class\n",
    "#balanced_data = sorted_data.groupby(sort_column).apply(lambda x: x.sample(n=25000))\n",
    "\n",
    "#>> DeprecationWarning: DataFrameGroupBy.apply operated on the grouping columns. \n",
    "#>> This behavior is deprecated, and in a future version of pandas the grouping \n",
    "#>> columns will be excluded from the operation. \n",
    "#>> Either pass `include_groups=False` to exclude the groupings or \n",
    "#>> explicitly select the grouping columns after groupby to silence this warning.\n",
    "#\n",
    "balanced_data = sorted_data.groupby(sort_column).apply(lambda x: x.sample(n = balanced_data_size))\n",
    "\n",
    "#>> Does this mean to reset the row numbers?? ##Columns Numbers\n",
    "balanced_data.reset_index(drop = True, inplace = True)\n",
    "\n",
    "printv(f\"The number of reviews equally distributed across all ratings is {len(balanced_data['Score'])}\")"
   ]
  },
  {
   "cell_type": "code",
   "execution_count": 8,
   "id": "ffd33bc0",
   "metadata": {
    "execution": {
     "iopub.execute_input": "2024-04-06T01:43:44.780610Z",
     "iopub.status.busy": "2024-04-06T01:43:44.780328Z",
     "iopub.status.idle": "2024-04-06T01:43:45.040436Z",
     "shell.execute_reply": "2024-04-06T01:43:45.039578Z"
    },
    "papermill": {
     "duration": 0.271826,
     "end_time": "2024-04-06T01:43:45.042329",
     "exception": false,
     "start_time": "2024-04-06T01:43:44.770503",
     "status": "completed"
    },
    "tags": []
   },
   "outputs": [
    {
     "name": "stdout",
     "output_type": "stream",
     "text": [
      "2,000 samples from balanced data with rating 1\n",
      "\n",
      "2,000 samples from balanced data with rating 2\n",
      "\n",
      "2,000 samples from balanced data with rating 3\n",
      "\n",
      "2,000 samples from balanced data with rating 4\n",
      "\n",
      "2,000 samples from balanced data with rating 5\n",
      "\n"
     ]
    },
    {
     "data": {
      "image/png": "[encoded data removed]",
      "text/plain": [
       "<Figure size 640x480 with 1 Axes>"
      ]
     },
     "metadata": {},
     "output_type": "display_data"
    }
   ],
   "source": [
    "# Get count of ratings\n",
    "rating_counts = balanced_data['Score'].value_counts()\n",
    "\n",
    "# Create bar plot\n",
    "ax = rating_counts.plot(kind='bar')\n",
    "\n",
    "ax.set_title(\"Ratings Distribution After Balancing\")\n",
    "ax.set_xlabel(\"Rating\")\n",
    "ax.set_ylabel(\"Number of Samples\")\n",
    "\n",
    "# Fix x-axis ticks  \n",
    "ax.set_xticklabels(ax.get_xticklabels(), rotation = 0)\n",
    "\n",
    "# Print number of reviews per rating\n",
    "\n",
    "if DEV:\n",
    "    for rating, count in rating_counts.items():\n",
    "        print(f\"{count:,} samples from balanced data with rating {rating}\\n\")\n",
    "\n",
    "plt.show()"
   ]
  },
  {
   "cell_type": "code",
   "execution_count": 9,
   "id": "15176308",
   "metadata": {
    "execution": {
     "iopub.execute_input": "2024-04-06T01:43:45.060300Z",
     "iopub.status.busy": "2024-04-06T01:43:45.059940Z",
     "iopub.status.idle": "2024-04-06T01:46:29.789522Z",
     "shell.execute_reply": "2024-04-06T01:46:29.788667Z"
    },
    "papermill": {
     "duration": 164.741115,
     "end_time": "2024-04-06T01:46:29.791927",
     "exception": false,
     "start_time": "2024-04-06T01:43:45.050812",
     "status": "completed"
    },
    "tags": []
   },
   "outputs": [],
   "source": [
    "import spacy\n",
    "import re\n",
    "import pandas as pd\n",
    "\n",
    "# Load the English tokenizer model\n",
    "nlp = spacy.load(\"en_core_web_sm\")\n",
    "\n",
    "# Compile the regular expressions\n",
    "html_tags = re.compile(\"<.*?>\")\n",
    "punct_and_symbols = re.compile(r'[^\\w\\s\\']+')\n",
    "\n",
    "def tokenizer(text, nlp):\n",
    "    \"\"\"\n",
    "    Tokenizes a text string and removes stop words.\n",
    "    \n",
    "    text (str): The text string to tokenize.\n",
    "    nlp: The Spacy language model.\n",
    "\n",
    "    Returns:\n",
    "        list: The tokenized text string.\n",
    "    \"\"\"\n",
    "    text = text.lower()  # Convert text to lowercase\n",
    "    text = html_tags.sub(\"\", text)  # Remove HTML tags\n",
    "    text = punct_and_symbols.sub(\"\", text)  # Remove punctuation and symbols\n",
    "\n",
    "    # Tokenize the text\n",
    "    doc = nlp(text)\n",
    "\n",
    "    # Remove stop words and punctuation tokens\n",
    "    # tokens = [token.text for token in doc if not token.is_punct]# and not token.is_stop]\n",
    "    tokens = [token.text for token in doc if not token.is_punct and not token.is_stop]\n",
    "\n",
    "    return tokens\n",
    "\n",
    "# Assuming balanced_data is a pandas DataFrame and 'Text' is a column containing the reviews\n",
    "# Apply the function to the Text column and store it in a new column\n",
    "balanced_data['CleanedReview'] = balanced_data['Text'].apply(lambda x: tokenizer(x, nlp))\n",
    "\n",
    "# Show that cell has finished executing\n",
    "showC(f'{tokenizer} defined, and then used to create CleanedReview column')"
   ]
  },
  {
   "cell_type": "code",
   "execution_count": 10,
   "id": "a092b939",
   "metadata": {
    "execution": {
     "iopub.execute_input": "2024-04-06T01:46:29.811024Z",
     "iopub.status.busy": "2024-04-06T01:46:29.810429Z",
     "iopub.status.idle": "2024-04-06T01:46:29.816889Z",
     "shell.execute_reply": "2024-04-06T01:46:29.816072Z"
    },
    "papermill": {
     "duration": 0.01794,
     "end_time": "2024-04-06T01:46:29.818883",
     "exception": false,
     "start_time": "2024-04-06T01:46:29.800943",
     "status": "completed"
    },
    "tags": []
   },
   "outputs": [
    {
     "name": "stdout",
     "output_type": "stream",
     "text": [
      "VERBOSE: specify the columns that will be used to train the classifier\n",
      "As much as this sauce is the most definitive and delicious spicy chile paste in existence. The price on this six pack is ridiculous. I bought a 28 oz. bottle of Sriracha at the asian supermarket three weeks ago for $3.00. Weak. \n",
      "\n",
      "['sauce', 'definitive', 'delicious', 'spicy', 'chile', 'paste', 'existence', 'price', 'pack', 'ridiculous', 'bought', '28', 'oz', 'bottle', 'sriracha', 'asian', 'supermarket', 'weeks', 'ago', '300', 'weak'] \n",
      "\n",
      "21 \n",
      "\n",
      "(10000,)\n"
     ]
    }
   ],
   "source": [
    "# Store the Rating column\n",
    "rating = balanced_data['Score']  \n",
    "\n",
    "# Store the CleanedReview column\n",
    "tokenized_review = balanced_data['CleanedReview']\n",
    "showD(f'specify the columns that will be used to train the classifier')\n",
    "\n",
    "print(balanced_data['Text'][0],'\\n')\n",
    "print(tokenized_review[0], '\\n')\n",
    "print(len(tokenized_review[0]), '\\n')\n",
    "print(tokenized_review.shape)"
   ]
  },
  {
   "cell_type": "code",
   "execution_count": 11,
   "id": "ff84b896",
   "metadata": {
    "execution": {
     "iopub.execute_input": "2024-04-06T01:46:29.837488Z",
     "iopub.status.busy": "2024-04-06T01:46:29.836827Z",
     "iopub.status.idle": "2024-04-06T01:46:30.186946Z",
     "shell.execute_reply": "2024-04-06T01:46:30.186101Z"
    },
    "papermill": {
     "duration": 0.361275,
     "end_time": "2024-04-06T01:46:30.188848",
     "exception": false,
     "start_time": "2024-04-06T01:46:29.827573",
     "status": "completed"
    },
    "tags": []
   },
   "outputs": [
    {
     "name": "stdout",
     "output_type": "stream",
     "text": [
      "Mean: 39.86\n",
      "Median: 28.00\n",
      "Mode: ModeResult(mode=14, count=295)\n"
     ]
    },
    {
     "data": {
      "image/png": "[encoded data removed]",
      "text/plain": [
       "<Figure size 800x600 with 1 Axes>"
      ]
     },
     "metadata": {},
     "output_type": "display_data"
    }
   ],
   "source": [
    "from scipy import stats\n",
    "\n",
    "def analyze_review_tokens(reviews):\n",
    "    token_counts = [len(review) for review in reviews]\n",
    "\n",
    "    mean = np.mean(token_counts)\n",
    "    median = np.median(token_counts)\n",
    "    mode = stats.mode(token_counts)\n",
    "\n",
    "    print(f\"Mean: {mean:.2f}\")\n",
    "    print(f\"Median: {median:.2f}\")\n",
    "    print(f\"Mode: {mode}\")\n",
    "\n",
    "    plt.figure(figsize=(8, 6))\n",
    "    plt.hist(token_counts, bins=20, edgecolor='black')\n",
    "    plt.xlabel('Number of Tokens')\n",
    "    plt.ylabel('Frequency')\n",
    "    plt.title('Histogram of Token Counts per Review')\n",
    "    plt.grid(True)\n",
    "    plt.show()\n",
    "\n",
    "analyze_review_tokens(tokenized_review)"
   ]
  },
  {
   "cell_type": "code",
   "execution_count": 12,
   "id": "5cd4c35b",
   "metadata": {
    "execution": {
     "iopub.execute_input": "2024-04-06T01:46:30.208406Z",
     "iopub.status.busy": "2024-04-06T01:46:30.208070Z",
     "iopub.status.idle": "2024-04-06T01:47:38.690210Z",
     "shell.execute_reply": "2024-04-06T01:47:38.689244Z"
    },
    "papermill": {
     "duration": 68.502829,
     "end_time": "2024-04-06T01:47:38.701032",
     "exception": false,
     "start_time": "2024-04-06T01:46:30.198203",
     "status": "completed"
    },
    "tags": []
   },
   "outputs": [
    {
     "name": "stdout",
     "output_type": "stream",
     "text": [
      "VERBOSE: KeyedVectors<vector_size=300, 3000000 keys> can map words onto vectors with 300 dimensions\n"
     ]
    }
   ],
   "source": [
    "# >> 3/29/24 Took less than a minute to run without the accelerator.\n",
    "# Load Word2Vec model\n",
    "#w2v = api.load('word2vec-google-news-300')\n",
    "w2v = KeyedVectors.load_word2vec_format (w2v_file, binary=True)\n",
    "\n",
    "# Define the aimum sequence length (adjust as needed)\n",
    "#>> Will increasing max_sequence_length impact performance?\n",
    "max_sequence_length = 100\n",
    "\n",
    "showD(f'{w2v} can map words onto vectors with 300 dimensions')"
   ]
  },
  {
   "cell_type": "code",
   "execution_count": 13,
   "id": "9caa8835",
   "metadata": {
    "execution": {
     "iopub.execute_input": "2024-04-06T01:47:38.720998Z",
     "iopub.status.busy": "2024-04-06T01:47:38.720458Z",
     "iopub.status.idle": "2024-04-06T01:47:38.729016Z",
     "shell.execute_reply": "2024-04-06T01:47:38.728188Z"
    },
    "papermill": {
     "duration": 0.020735,
     "end_time": "2024-04-06T01:47:38.731018",
     "exception": false,
     "start_time": "2024-04-06T01:47:38.710283",
     "status": "completed"
    },
    "tags": []
   },
   "outputs": [
    {
     "name": "stdout",
     "output_type": "stream",
     "text": [
      "CUDA is available!\n",
      "GPU 0: Tesla P100-PCIE-16GB\n"
     ]
    }
   ],
   "source": [
    "# Checks if a CUDA enabled GPU is available and prints out its information\n",
    "if torch.cuda.is_available():\n",
    "    print(\"CUDA is available!\")\n",
    "    for i in range(torch.cuda.device_count()):\n",
    "        print(f\"GPU {i}: {torch.cuda.get_device_name(i)}\")\n",
    "        \n",
    "    device = torch.device(\"cuda:0\")\n",
    "    accelerator = True\n",
    "\n",
    "else:\n",
    "    accelerator = False\n",
    "    print(\"CUDA is not available.\")\n",
    "    device = torch.device(\"cpu\")\n",
    "    print(device)"
   ]
  },
  {
   "cell_type": "code",
   "execution_count": 14,
   "id": "ceebac4c",
   "metadata": {
    "execution": {
     "iopub.execute_input": "2024-04-06T01:47:38.751134Z",
     "iopub.status.busy": "2024-04-06T01:47:38.750593Z",
     "iopub.status.idle": "2024-04-06T01:47:49.120167Z",
     "shell.execute_reply": "2024-04-06T01:47:49.119152Z"
    },
    "papermill": {
     "duration": 10.382521,
     "end_time": "2024-04-06T01:47:49.122833",
     "exception": false,
     "start_time": "2024-04-06T01:47:38.740312",
     "status": "completed"
    },
    "tags": []
   },
   "outputs": [
    {
     "name": "stdout",
     "output_type": "stream",
     "text": [
      "VERBOSE: Lengths of 100 longest reviews: [707, 557, 509, 493, 415, 411, 396, 367, 344, 339, 339, 338, 336, 336, 336, 336, 336, 324, 319, 319, 315, 313, 309, 308, 295, 293, 293, 288, 282, 282, 275, 270, 266, 265, 265, 264, 263, 260, 259, 257, 255, 255, 250, 249, 247, 246, 245, 245, 241, 240, 240, 238, 238, 238, 238, 237, 236, 236, 234, 231, 231, 228, 228, 228, 226, 226, 226, 225, 225, 222, 222, 222, 220, 218, 217, 217, 215, 214, 212, 212, 212, 211, 211, 209, 209, 208, 208, 208, 207, 206, 204, 203, 200, 200, 199, 199, 199, 196, 195, 194]\n",
      "VERBOSE: 326547 words found with vector representations, 40961 without\n",
      "VERBOSE: Number of unique words without vector representations: 12192\n",
      "DEV: Sample of words without vector representations\n",
      "DEV: 28 - 22\n",
      "DEV: thiscontains - 1\n",
      "DEV: 38 - 13\n",
      "DEV: sittingtoday - 1\n",
      "DEV: 18 - 64\n",
      "DEV: wormsall - 1\n",
      "DEV: drinkeat - 1\n",
      "DEV: casbeh - 1\n",
      "DEV: sunfri - 1\n",
      "DEV: leavesjason - 1\n",
      "DEV: tresemme - 1\n",
      "DEV: glucerna - 1\n",
      "DEV: productsworse - 1\n",
      "DEV: aroundi - 1\n",
      "DEV: veterinarianupon - 1\n",
      "DEV: ovenso - 1\n",
      "DEV: crueltry - 1\n",
      "DEV: preservativeoh - 1\n",
      "DEV: 08 - 3\n",
      "DEV: porkturkey - 1\n",
      "DEV: eightybag - 1\n",
      "DEV: indon't - 1\n",
      "DEV: thissecond - 1\n",
      "DEV: treatsnote - 1\n",
      "DEV: 7ounce - 4\n",
      "DEV: plasticsecond - 1\n",
      "DEV: gynostemma - 1\n",
      "DEV: 30min - 1\n",
      "DEV: jerkies - 4\n",
      "DEV: ouncetyped - 1\n",
      "DEV: 11th - 1\n",
      "DEV: fudgenessthey - 1\n",
      "DEV: ohbefore - 1\n",
      "DEV: nonpureed - 1\n",
      "DEV: wantedsecondly - 1\n",
      "DEV: ploystarbuck - 1\n",
      "DEV: notverygood - 2\n",
      "DEV: saltvinegar - 1\n",
      "DEV: anateon - 1\n",
      "DEV: righti - 2\n",
      "DEV: asponge - 1\n",
      "DEV: africafe - 2\n",
      "DEV: sorbital - 1\n",
      "DEV: fillersi - 1\n",
      "DEV: boldsmooth - 1\n",
      "DEV: cookieswell - 1\n",
      "DEV: bebeef - 1\n",
      "DEV: giftbox - 3\n",
      "DEV: tannicky - 1\n",
      "DEV: enoughi - 1\n",
      "DEV: togethereven - 1\n",
      "DEV: costcos - 1\n",
      "DEV: stalerock - 1\n",
      "DEV: hungrierif - 1\n",
      "DEV: oili - 2\n",
      "DEV: belizian - 1\n",
      "DEV: hempshake - 1\n",
      "DEV: caramelish - 1\n",
      "DEV: yirgacheffe - 10\n",
      "DEV: tempature - 1\n",
      "DEV: fatfree - 6\n",
      "DEV: takenbottom - 1\n",
      "DEV: 640 - 1\n",
      "DEV: gingertraditionally - 1\n",
      "DEV: unfilling - 2\n",
      "DEV: 20jan11 - 1\n",
      "DEV: wouldthey - 1\n",
      "DEV: genericmy - 1\n",
      "DEV: greatmy - 2\n",
      "DEV: thoughthis - 2\n",
      "DEV: forwhile - 1\n",
      "DEV: minutesso - 1\n",
      "DEV: powderon - 1\n",
      "DEV: 210 - 1\n",
      "DEV: spicygood - 1\n",
      "DEV: sandwichin - 1\n",
      "DEV: bundleprospretty - 1\n",
      "DEV: spoton - 2\n",
      "DEV: thisehhi - 1\n",
      "DEV: homepathically - 1\n",
      "DEV: dehydratorand - 1\n",
      "DEV: keuerig - 1\n",
      "DEV: butterat - 1\n",
      "DEV: smallercomparing - 1\n",
      "DEV: 157 - 1\n",
      "DEV: tastynutrition - 1\n",
      "DEV: almondina - 6\n",
      "DEV: pouchesyou - 1\n",
      "DEV: pindi - 2\n",
      "DEV: 30ounce - 3\n",
      "DEV: triedall - 1\n",
      "DEV: ogilvie - 1\n",
      "DEV: youwater - 1\n",
      "DEV: currythe - 1\n",
      "DEV: notthough - 1\n",
      "DEV: wheatwhole - 1\n",
      "DEV: movedaround - 1\n",
      "DEV: cinniapple - 1\n",
      "DEV: fewcola - 1\n",
      "DEV: 038cup - 1\n",
      "DEV: wtropical - 1\n",
      "DEV: assembl - 1\n",
      "DEV: hyderabadi - 1\n",
      "DEV: phenibut - 2\n",
      "DEV: ferdies - 1\n",
      "DEV: i'v - 1\n",
      "DEV: havelost - 1\n",
      "DEV: cople - 1\n",
      "DEV: eveningif - 1\n",
      "DEV: collegen - 2\n",
      "DEV: thingsthey - 1\n",
      "DEV: minei've - 1\n",
      "DEV: fiberplus - 1\n",
      "DEV: myfavorites - 1\n",
      "DEV: babythe - 1\n",
      "DEV: chemicalsbetter - 1\n",
      "DEV: steakafter - 1\n",
      "DEV: eatand - 1\n",
      "DEV: chipslays - 1\n",
      "DEV: 290 - 1\n",
      "DEV: sensitivethat - 1\n",
      "DEV: additionwe - 1\n"
     ]
    }
   ],
   "source": [
    "#>> 3/29/24 Completed in less than 30 seconds using 1347 as max_sequence_length \n",
    "\n",
    "# Assume you have a list of tokenized review called tokenized_review\n",
    "# Each element in tokenized_review is a list of tokens for a single review\n",
    "\n",
    "lengths = []\n",
    "for review_tokens in tokenized_review:\n",
    "    lengths.append(len(review_tokens))\n",
    "\n",
    "lengths = sorted(lengths)\n",
    "lengths = lengths[-1:0:-1]\n",
    "showD(f'Lengths of 100 longest reviews: {lengths[0:100]}')        \n",
    "\n",
    "max_sequence_length = 100 #<< 3/29/24 1347 was the longest review length in sample\n",
    "\n",
    "# Initialize an empty tensor for padded reviews on the GPU\n",
    "padded_reviews = torch.zeros((len(tokenized_review), max_sequence_length, 300))\n",
    "\n",
    "# Initialize a mask tensor of the same shape as padded_reviews\n",
    "# Set it to False (or 0) initially, representing that all positions are padding\n",
    "# mask = torch.zeros_like(padded_reviews, dtype=torch.bool)\n",
    "\n",
    "# Initialize a mask tensor of the same shape as padded_reviews but with only sequence length\n",
    "mask = torch.zeros((len(tokenized_review), max_sequence_length), dtype=torch.bool)\n",
    "\n",
    "out_words = {}\n",
    "words_in = 0\n",
    "words_out = 0\n",
    "\n",
    "# Now, during the padding and embedding conversion loop, update the mask as well\n",
    "for i, review_tokens in enumerate(tokenized_review):\n",
    "    review_length = min(len(review_tokens), max_sequence_length)\n",
    "    for j in range(review_length):\n",
    "        word = review_tokens[j]\n",
    "        if word in w2v:\n",
    "            words_in += 1\n",
    "            # Use Word2Vec vector if available\n",
    "            padded_reviews[i, j, :] = torch.tensor(w2v[word])\n",
    "            mask[i, j] = True  # Update the mask to indicate the presence of a word\n",
    "        else:\n",
    "            words_out += 1\n",
    "            out_words[word] = out_words.get(word, 0) + 1\n",
    "        # Otherwise, the mask remains False (or 0) for padding\n",
    "\n",
    "# Now you have a mask tensor that you can use later in your processing to ignore padded values\n",
    "# For example, if you want to apply max pooling only on non-padded values, you could use:\n",
    "# review_embeddings = torch.max(padded_reviews * mask.unsqueeze(-1).float(), dim=1)[0]\n",
    "\n",
    "# Ensure the mask is treated as a float for any operations that require it\n",
    "mask = mask.float()\n",
    "\n",
    "# Now you can use this mask tensor to exclude the padding from any subsequent computations\n",
    "\n",
    "printv(f'{words_in} words found with vector representations, {words_out} without')\n",
    "printv(f'Number of unique words without vector representations: {len(out_words)}')\n",
    "printd('Sample of words without vector representations')\n",
    "kwords = list(out_words.keys())\n",
    "for idx in range(0,len(kwords)-1,100):\n",
    "    kword = kwords[idx]\n",
    "    printd(f'{kword} - {out_words[kword]}')\n",
    "# Apply max pooling to aggregate embeddings along the sequence dimension\n",
    "# review_embeddings = torch.max(padded_reviews, dim=1)[0]\n",
    "\n",
    "# Now,review_embeddings contains the aggregated Word2Vec \n",
    "# embeddings for each review on the GPU\n",
    "\n",
    "showC(f\"Created zero-padded, standard length reviews\")"
   ]
  },
  {
   "cell_type": "code",
   "execution_count": 15,
   "id": "119973af",
   "metadata": {
    "execution": {
     "iopub.execute_input": "2024-04-06T01:47:49.144563Z",
     "iopub.status.busy": "2024-04-06T01:47:49.144001Z",
     "iopub.status.idle": "2024-04-06T01:47:49.190259Z",
     "shell.execute_reply": "2024-04-06T01:47:49.189214Z"
    },
    "papermill": {
     "duration": 0.05879,
     "end_time": "2024-04-06T01:47:49.192377",
     "exception": false,
     "start_time": "2024-04-06T01:47:49.133587",
     "status": "completed"
    },
    "tags": []
   },
   "outputs": [
    {
     "name": "stdout",
     "output_type": "stream",
     "text": [
      "tensor([[-0.1680, -0.0488,  0.3164,  ..., -0.1709,  0.0117,  0.3965],\n",
      "        [-0.3652,  0.0413, -0.0625,  ..., -0.0344,  0.0613,  0.1719],\n",
      "        [-0.1367, -0.2773,  0.0474,  ..., -0.0223,  0.1177, -0.0669],\n",
      "        ...,\n",
      "        [ 0.0000,  0.0000,  0.0000,  ...,  0.0000,  0.0000,  0.0000],\n",
      "        [ 0.0000,  0.0000,  0.0000,  ...,  0.0000,  0.0000,  0.0000],\n",
      "        [ 0.0000,  0.0000,  0.0000,  ...,  0.0000,  0.0000,  0.0000]])\n"
     ]
    }
   ],
   "source": [
    "print(padded_reviews[1])"
   ]
  },
  {
   "cell_type": "code",
   "execution_count": 16,
   "id": "cc5157c8",
   "metadata": {
    "execution": {
     "iopub.execute_input": "2024-04-06T01:47:49.213522Z",
     "iopub.status.busy": "2024-04-06T01:47:49.212790Z",
     "iopub.status.idle": "2024-04-06T01:47:49.628624Z",
     "shell.execute_reply": "2024-04-06T01:47:49.627598Z"
    },
    "papermill": {
     "duration": 0.428863,
     "end_time": "2024-04-06T01:47:49.631030",
     "exception": false,
     "start_time": "2024-04-06T01:47:49.202167",
     "status": "completed"
    },
    "tags": []
   },
   "outputs": [
    {
     "name": "stdout",
     "output_type": "stream",
     "text": [
      "Total allocated memory: 1200080384 bytes\n",
      "Sat Apr  6 01:47:49 2024       \n",
      "+---------------------------------------------------------------------------------------+\n",
      "| NVIDIA-SMI 535.129.03             Driver Version: 535.129.03   CUDA Version: 12.2     |\n",
      "|-----------------------------------------+----------------------+----------------------+\n",
      "| GPU  Name                 Persistence-M | Bus-Id        Disp.A | Volatile Uncorr. ECC |\n",
      "| Fan  Temp   Perf          Pwr:Usage/Cap |         Memory-Usage | GPU-Util  Compute M. |\n",
      "|                                         |                      |               MIG M. |\n",
      "|=========================================+======================+======================|\n",
      "|   0  Tesla P100-PCIE-16GB           Off | 00000000:00:04.0 Off |                    0 |\n",
      "| N/A   31C    P0              32W / 250W |   1404MiB / 16384MiB |     41%      Default |\n",
      "|                                         |                      |                  N/A |\n",
      "+-----------------------------------------+----------------------+----------------------+\n",
      "                                                                                         \n",
      "+---------------------------------------------------------------------------------------+\n",
      "| Processes:                                                                            |\n",
      "|  GPU   GI   CI        PID   Type   Process name                            GPU Memory |\n",
      "|        ID   ID                                                             Usage      |\n",
      "|=======================================================================================|\n",
      "+---------------------------------------------------------------------------------------+\n",
      "\n",
      "\n",
      "\n",
      "\n",
      "\n",
      "\n",
      "\n",
      "\n",
      "\n",
      "\n",
      "\n",
      "\n",
      "|===========================================================================|\n",
      "|                  PyTorch CUDA memory summary, device ID 0                 |\n",
      "|---------------------------------------------------------------------------|\n",
      "|            CUDA OOMs: 0            |        cudaMalloc retries: 0         |\n",
      "|===========================================================================|\n",
      "|        Metric         | Cur Usage  | Peak Usage | Tot Alloc  | Tot Freed  |\n",
      "|---------------------------------------------------------------------------|\n",
      "| Allocated memory      |   1144 MiB |   1144 MiB |   1144 MiB |      0 B   |\n",
      "|       from large pool |   1144 MiB |   1144 MiB |   1144 MiB |      0 B   |\n",
      "|       from small pool |      0 MiB |      0 MiB |      0 MiB |      0 B   |\n",
      "|---------------------------------------------------------------------------|\n",
      "| Active memory         |   1144 MiB |   1144 MiB |   1144 MiB |      0 B   |\n",
      "|       from large pool |   1144 MiB |   1144 MiB |   1144 MiB |      0 B   |\n",
      "|       from small pool |      0 MiB |      0 MiB |      0 MiB |      0 B   |\n",
      "|---------------------------------------------------------------------------|\n",
      "| Requested memory      |   1144 MiB |   1144 MiB |   1144 MiB |      0 B   |\n",
      "|       from large pool |   1144 MiB |   1144 MiB |   1144 MiB |      0 B   |\n",
      "|       from small pool |      0 MiB |      0 MiB |      0 MiB |      0 B   |\n",
      "|---------------------------------------------------------------------------|\n",
      "| GPU reserved memory   |   1148 MiB |   1148 MiB |   1148 MiB |      0 B   |\n",
      "|       from large pool |   1146 MiB |   1146 MiB |   1146 MiB |      0 B   |\n",
      "|       from small pool |      2 MiB |      2 MiB |      2 MiB |      0 B   |\n",
      "|---------------------------------------------------------------------------|\n",
      "| Non-releasable memory |   3598 KiB |   3598 KiB |   3598 KiB |      0 B   |\n",
      "|       from large pool |   1629 KiB |   1629 KiB |   1629 KiB |      0 B   |\n",
      "|       from small pool |   1969 KiB |   1969 KiB |   1969 KiB |      0 B   |\n",
      "|---------------------------------------------------------------------------|\n",
      "| Allocations           |       2    |       2    |       2    |       0    |\n",
      "|       from large pool |       1    |       1    |       1    |       0    |\n",
      "|       from small pool |       1    |       1    |       1    |       0    |\n",
      "|---------------------------------------------------------------------------|\n",
      "| Active allocs         |       2    |       2    |       2    |       0    |\n",
      "|       from large pool |       1    |       1    |       1    |       0    |\n",
      "|       from small pool |       1    |       1    |       1    |       0    |\n",
      "|---------------------------------------------------------------------------|\n",
      "| GPU reserved segments |       2    |       2    |       2    |       0    |\n",
      "|       from large pool |       1    |       1    |       1    |       0    |\n",
      "|       from small pool |       1    |       1    |       1    |       0    |\n",
      "|---------------------------------------------------------------------------|\n",
      "| Non-releasable allocs |       2    |       2    |       2    |       0    |\n",
      "|       from large pool |       1    |       1    |       1    |       0    |\n",
      "|       from small pool |       1    |       1    |       1    |       0    |\n",
      "|---------------------------------------------------------------------------|\n",
      "| Oversize allocations  |       0    |       0    |       0    |       0    |\n",
      "|---------------------------------------------------------------------------|\n",
      "| Oversize GPU segments |       0    |       0    |       0    |       0    |\n",
      "|===========================================================================|\n",
      "\n"
     ]
    }
   ],
   "source": [
    "#>> padded_reviews are 100 x 300 tensors, zero padded if necessary\n",
    "#>> to get the standard lenth\n",
    "text_embeddings_tensors = padded_reviews.to(device)\n",
    "\n",
    "# Rating labels\n",
    "rating_labels_tensors = torch.tensor(rating.values).to(device)\n",
    "\n",
    "# Dataset\n",
    "dataset = TensorDataset(text_embeddings_tensors, rating_labels_tensors)\n",
    "showC(f'{dataset} defined')\n",
    "\n",
    "printM() # print(f\"Total allocated memory: {torch.cuda.memory_allocated()} bytes\")\n",
    "printNv() #!nvidia-smi\n",
    "print('\\n\\n\\n\\n\\n\\n\\n\\n\\n\\n')\n",
    "if accelerator and showNv:\n",
    "    print(torch.cuda.memory_summary())"
   ]
  },
  {
   "cell_type": "markdown",
   "id": "fcabf77c",
   "metadata": {
    "papermill": {
     "duration": 0.009889,
     "end_time": "2024-04-06T01:47:49.651374",
     "exception": false,
     "start_time": "2024-04-06T01:47:49.641485",
     "status": "completed"
    },
    "tags": []
   },
   "source": [
    "Dataset with missing reviews - done\n",
    "\n",
    "Improved tokenizer - done\n",
    "\n",
    "Mask 0-padded values in embedding tensor - done \n",
    "\n",
    "Max sequence of 1300. Max length of 500?\n",
    "\n",
    "Encoder dropout to 0\n",
    "\n",
    "Review token histogram for sequence length - done "
   ]
  },
  {
   "cell_type": "code",
   "execution_count": 17,
   "id": "3eba44e6",
   "metadata": {
    "execution": {
     "iopub.execute_input": "2024-04-06T01:47:49.672609Z",
     "iopub.status.busy": "2024-04-06T01:47:49.672112Z",
     "iopub.status.idle": "2024-04-06T01:47:49.927306Z",
     "shell.execute_reply": "2024-04-06T01:47:49.926395Z"
    },
    "papermill": {
     "duration": 0.268052,
     "end_time": "2024-04-06T01:47:49.929429",
     "exception": false,
     "start_time": "2024-04-06T01:47:49.661377",
     "status": "completed"
    },
    "tags": []
   },
   "outputs": [],
   "source": [
    "#>> padded_reviews are 100 x 300 tensors, zero padded if necessary\n",
    "#>> to get the standard lenth\n",
    "text_embeddings_tensors = padded_reviews.to(device)\n",
    "\n",
    "# Rating labels\n",
    "rating_labels_tensors = torch.tensor(rating.values).to(device)\n",
    "\n",
    "# Dataset\n",
    "dataset = TensorDataset(text_embeddings_tensors, rating_labels_tensors)\n",
    "showC(f'{dataset} defined')"
   ]
  },
  {
   "cell_type": "code",
   "execution_count": 18,
   "id": "2e9e0e29",
   "metadata": {
    "execution": {
     "iopub.execute_input": "2024-04-06T01:47:49.951417Z",
     "iopub.status.busy": "2024-04-06T01:47:49.950881Z",
     "iopub.status.idle": "2024-04-06T01:47:49.955806Z",
     "shell.execute_reply": "2024-04-06T01:47:49.954972Z"
    },
    "papermill": {
     "duration": 0.017812,
     "end_time": "2024-04-06T01:47:49.957758",
     "exception": false,
     "start_time": "2024-04-06T01:47:49.939946",
     "status": "completed"
    },
    "tags": []
   },
   "outputs": [
    {
     "name": "stdout",
     "output_type": "stream",
     "text": [
      "torch.Size([10000, 100, 300])\n",
      "torch.Size([10000])\n",
      "cuda:0\n",
      "cuda:0\n",
      "<torch.utils.data.dataset.TensorDataset object at 0x7da2ab975f90>\n"
     ]
    }
   ],
   "source": [
    "print(text_embeddings_tensors.shape)\n",
    "print(rating_labels_tensors.shape)\n",
    "print(text_embeddings_tensors.device)\n",
    "print(rating_labels_tensors.device)\n",
    "print(dataset)"
   ]
  },
  {
   "cell_type": "code",
   "execution_count": 19,
   "id": "ba430542",
   "metadata": {
    "execution": {
     "iopub.execute_input": "2024-04-06T01:47:49.979503Z",
     "iopub.status.busy": "2024-04-06T01:47:49.978801Z",
     "iopub.status.idle": "2024-04-06T01:47:49.987095Z",
     "shell.execute_reply": "2024-04-06T01:47:49.986271Z"
    },
    "papermill": {
     "duration": 0.020908,
     "end_time": "2024-04-06T01:47:49.988844",
     "exception": false,
     "start_time": "2024-04-06T01:47:49.967936",
     "status": "completed"
    },
    "tags": []
   },
   "outputs": [
    {
     "name": "stdout",
     "output_type": "stream",
     "text": [
      "VERBOSE: The amount of data we have to train with is 8000 revieww\n",
      "VERBOSE: The amount of data we have to validate with is 2000 reviews\n"
     ]
    }
   ],
   "source": [
    "# Lengths \n",
    "train_len = int(0.8 * len(dataset))\n",
    "val_len = len(dataset) - train_len\n",
    "\n",
    "# Random split\n",
    "train_data, val_data = random_split(dataset, [train_len, val_len])\n",
    "\n",
    "printv(f\"The amount of data we have to train with is {len(train_data)} revieww\") \n",
    "printv(f\"The amount of data we have to validate with is {len(val_data)} reviews\")\n",
    "#print(f\"The amount of data we have to validate with is on {train_data.device}\")\n",
    "#print(f\"The amount of data we have to validate with is on {val_data.device}\")\n",
    "\n",
    "# DataLoader for training data\n",
    "train_loader = DataLoader(train_data, batch_size = 32, shuffle = True)  # Use shuffle for training\n",
    "\n",
    "# DataLoader for validation data\n",
    "val_loader = DataLoader(val_data, batch_size = 32, shuffle = False)  # No need to shuffle for validation"
   ]
  },
  {
   "cell_type": "code",
   "execution_count": 20,
   "id": "4bc890e8",
   "metadata": {
    "execution": {
     "iopub.execute_input": "2024-04-06T01:47:50.011087Z",
     "iopub.status.busy": "2024-04-06T01:47:50.010594Z",
     "iopub.status.idle": "2024-04-06T01:47:50.015420Z",
     "shell.execute_reply": "2024-04-06T01:47:50.014636Z"
    },
    "papermill": {
     "duration": 0.018182,
     "end_time": "2024-04-06T01:47:50.017170",
     "exception": false,
     "start_time": "2024-04-06T01:47:49.998988",
     "status": "completed"
    },
    "tags": []
   },
   "outputs": [],
   "source": [
    "# HyperParameters for the module\n",
    "d_model = 300  # Should match the embedding dimension of your word embeddings\n",
    "seq_len = 100  # Maximum sequence length\n",
    "dropout = 0.1  # Adjust the dropout if needed\n",
    "\n",
    "d_ffn   = 1024 # dimension of the feedforward layer\n",
    "eps     = 1e-6 # epsilon value to prevent the standard deviation from becoming zero\n",
    "num_classes = 5  # Replace with your number of classes\n",
    "epochs = 200\n",
    "learning_rate = 0.01\n",
    "num_layers = 6\n",
    "\n",
    "input_size = d_model  # Adjust this based on the output size of your feed-forward network\n",
    "# input_size = len(train_data[0])  # Adjust based on your input size (should match the output size of your model)\n",
    "showC('Hyperparameters defined')"
   ]
  },
  {
   "cell_type": "code",
   "execution_count": 21,
   "id": "5bae5cf9",
   "metadata": {
    "execution": {
     "iopub.execute_input": "2024-04-06T01:47:50.038954Z",
     "iopub.status.busy": "2024-04-06T01:47:50.038454Z",
     "iopub.status.idle": "2024-04-06T01:47:50.043730Z",
     "shell.execute_reply": "2024-04-06T01:47:50.043014Z"
    },
    "papermill": {
     "duration": 0.017944,
     "end_time": "2024-04-06T01:47:50.045463",
     "exception": false,
     "start_time": "2024-04-06T01:47:50.027519",
     "status": "completed"
    },
    "tags": []
   },
   "outputs": [],
   "source": [
    "class Classifier(nn.Module):\n",
    "    def __init__(self, r_size,v_size, num_classes):\n",
    "        # r_size is the number of tokens in a review, 100.\n",
    "        # v_size is the number of values in an embedding vector, 300.\n",
    "        super(Classifier, self).__init__()\n",
    "        \n",
    "        # The input to fc will be a 2D tensor with with n rows and\n",
    "        # r_size * v_size columns, where n >= 1; and the output will be a 2D tensor\n",
    "        # with n rows and num_classes columns.\n",
    "        self.fc = nn.Linear(r_size * v_size, num_classes)\n",
    "\n",
    "    def forward(self, x1):\n",
    "        # Pass input through the linear layer\n",
    "        return self.fc(x1)\n",
    "    \n",
    "showC(f'{Classifier} defined')"
   ]
  },
  {
   "cell_type": "code",
   "execution_count": 22,
   "id": "116d1aa0",
   "metadata": {
    "execution": {
     "iopub.execute_input": "2024-04-06T01:47:50.067342Z",
     "iopub.status.busy": "2024-04-06T01:47:50.066831Z",
     "iopub.status.idle": "2024-04-06T01:47:50.079649Z",
     "shell.execute_reply": "2024-04-06T01:47:50.079015Z"
    },
    "papermill": {
     "duration": 0.025686,
     "end_time": "2024-04-06T01:47:50.081429",
     "exception": false,
     "start_time": "2024-04-06T01:47:50.055743",
     "status": "completed"
    },
    "tags": []
   },
   "outputs": [],
   "source": [
    "#>> why define classifier twice?\n",
    "class Classifier(nn.Module):\n",
    "    def __init__(self, r_size,v_size, num_classes):\n",
    "        # r_size is the number of tokens in a review, 100.\n",
    "        # v_size is the number of values in an embedding vector, 300.\n",
    "        super(Classifier, self).__init__()\n",
    "        \n",
    "        # The input to fc will be a 2D tensor with with n rows and\n",
    "        # r_size * v_size columns, where n >= 1; and the output will be a 2D tensor\n",
    "        # with n rows and num_classes columns.\n",
    "        self.fc = nn.Linear(r_size * v_size, num_classes)\n",
    "\n",
    "    def forward(self, x1):\n",
    "        # Pass input through the linear layer\n",
    "        return self.fc(x1)\n",
    "\n",
    "# Create the classifier\n",
    "classifier = Classifier(seq_len, d_model, num_classes + 1).to(device)\n",
    "\n",
    "showC(f'{Classifier} defined')"
   ]
  },
  {
   "cell_type": "code",
   "execution_count": 23,
   "id": "9018a412",
   "metadata": {
    "execution": {
     "iopub.execute_input": "2024-04-06T01:47:50.103781Z",
     "iopub.status.busy": "2024-04-06T01:47:50.103275Z",
     "iopub.status.idle": "2024-04-06T01:48:42.615713Z",
     "shell.execute_reply": "2024-04-06T01:48:42.614585Z"
    },
    "papermill": {
     "duration": 52.525634,
     "end_time": "2024-04-06T01:48:42.617745",
     "exception": false,
     "start_time": "2024-04-06T01:47:50.092111",
     "status": "completed"
    },
    "tags": []
   },
   "outputs": [
    {
     "name": "stdout",
     "output_type": "stream",
     "text": [
      "Epoch [1/200] Loss: 1.5576204061508179\n",
      "Epoch [2/200] Loss: 1.4549928903579712\n",
      "Epoch [3/200] Loss: 1.3724886178970337\n",
      "Epoch [4/200] Loss: 1.3587287664413452\n",
      "Epoch [5/200] Loss: 1.2877269983291626\n",
      "Epoch [6/200] Loss: 1.2857502698898315\n",
      "Epoch [7/200] Loss: 1.1474213600158691\n",
      "Epoch [8/200] Loss: 1.195489525794983\n",
      "Epoch [9/200] Loss: 1.0720276832580566\n",
      "Epoch [10/200] Loss: 1.0973329544067383\n",
      "Epoch [11/200] Loss: 1.1244465112686157\n",
      "Epoch [12/200] Loss: 1.1144872903823853\n",
      "Epoch [13/200] Loss: 1.0853641033172607\n",
      "Epoch [14/200] Loss: 0.9022042751312256\n",
      "Epoch [15/200] Loss: 0.8824939131736755\n",
      "Epoch [16/200] Loss: 0.9910079836845398\n",
      "Epoch [17/200] Loss: 0.9204370975494385\n",
      "Epoch [18/200] Loss: 1.1315094232559204\n",
      "Epoch [19/200] Loss: 0.8346904516220093\n",
      "Epoch [20/200] Loss: 0.8744989037513733\n",
      "Epoch [21/200] Loss: 0.8389313220977783\n",
      "Epoch [22/200] Loss: 0.7607688903808594\n",
      "Epoch [23/200] Loss: 0.7416907548904419\n",
      "Epoch [24/200] Loss: 0.8084499835968018\n",
      "Epoch [25/200] Loss: 0.8142027854919434\n",
      "Epoch [26/200] Loss: 0.7589254379272461\n",
      "Epoch [27/200] Loss: 0.5926856994628906\n",
      "Epoch [28/200] Loss: 0.5955035090446472\n",
      "Epoch [29/200] Loss: 0.7510913610458374\n",
      "Epoch [30/200] Loss: 0.8389869928359985\n",
      "Epoch [31/200] Loss: 0.6754850149154663\n",
      "Epoch [32/200] Loss: 0.7549337148666382\n",
      "Epoch [33/200] Loss: 0.6552597880363464\n",
      "Epoch [34/200] Loss: 0.7014161348342896\n",
      "Epoch [35/200] Loss: 0.6318533420562744\n",
      "Epoch [36/200] Loss: 0.6578114032745361\n",
      "Epoch [37/200] Loss: 0.6284199953079224\n",
      "Epoch [38/200] Loss: 0.7499600052833557\n",
      "Epoch [39/200] Loss: 0.7751619815826416\n",
      "Epoch [40/200] Loss: 0.6338487863540649\n",
      "Epoch [41/200] Loss: 0.7737284898757935\n",
      "Epoch [42/200] Loss: 0.7513942718505859\n",
      "Epoch [43/200] Loss: 0.7372245788574219\n",
      "Epoch [44/200] Loss: 0.6767429113388062\n",
      "Epoch [45/200] Loss: 0.5608809590339661\n",
      "Epoch [46/200] Loss: 0.610629677772522\n",
      "Epoch [47/200] Loss: 0.6065990924835205\n",
      "Epoch [48/200] Loss: 0.5750724077224731\n",
      "Epoch [49/200] Loss: 0.5630515813827515\n",
      "Epoch [50/200] Loss: 0.553150475025177\n",
      "Epoch [51/200] Loss: 0.41039320826530457\n",
      "Epoch [52/200] Loss: 0.536149799823761\n",
      "Epoch [53/200] Loss: 0.6150951385498047\n",
      "Epoch [54/200] Loss: 0.46025899052619934\n",
      "Epoch [55/200] Loss: 0.541140615940094\n",
      "Epoch [56/200] Loss: 0.6464778184890747\n",
      "Epoch [57/200] Loss: 0.36736369132995605\n",
      "Epoch [58/200] Loss: 0.6693270802497864\n",
      "Epoch [59/200] Loss: 0.47792738676071167\n",
      "Epoch [60/200] Loss: 0.40077587962150574\n",
      "Epoch [61/200] Loss: 0.615963876247406\n",
      "Epoch [62/200] Loss: 0.6291278004646301\n",
      "Epoch [63/200] Loss: 0.641048789024353\n",
      "Epoch [64/200] Loss: 0.46580854058265686\n",
      "Epoch [65/200] Loss: 0.54661625623703\n",
      "Epoch [66/200] Loss: 0.4579380750656128\n",
      "Epoch [67/200] Loss: 0.45878398418426514\n",
      "Epoch [68/200] Loss: 0.5361997485160828\n",
      "Epoch [69/200] Loss: 0.5295255184173584\n",
      "Epoch [70/200] Loss: 0.4591979384422302\n",
      "Epoch [71/200] Loss: 0.44471776485443115\n",
      "Epoch [72/200] Loss: 0.3518286347389221\n",
      "Epoch [73/200] Loss: 0.48992592096328735\n",
      "Epoch [74/200] Loss: 0.6005467176437378\n",
      "Epoch [75/200] Loss: 0.46669265627861023\n",
      "Epoch [76/200] Loss: 0.3651096224784851\n",
      "Epoch [77/200] Loss: 0.5178951621055603\n",
      "Epoch [78/200] Loss: 0.3806813955307007\n",
      "Epoch [79/200] Loss: 0.4404236674308777\n",
      "Epoch [80/200] Loss: 0.4453409016132355\n",
      "Epoch [81/200] Loss: 0.3662507236003876\n",
      "Epoch [82/200] Loss: 0.5250781774520874\n",
      "Epoch [83/200] Loss: 0.3991958796977997\n",
      "Epoch [84/200] Loss: 0.3194541335105896\n",
      "Epoch [85/200] Loss: 0.3309839367866516\n",
      "Epoch [86/200] Loss: 0.527858555316925\n",
      "Epoch [87/200] Loss: 0.42278188467025757\n",
      "Epoch [88/200] Loss: 0.37837016582489014\n",
      "Epoch [89/200] Loss: 0.46995455026626587\n",
      "Epoch [90/200] Loss: 0.35558801889419556\n",
      "Epoch [91/200] Loss: 0.33437928557395935\n",
      "Epoch [92/200] Loss: 0.354125052690506\n",
      "Epoch [93/200] Loss: 0.32859379053115845\n",
      "Epoch [94/200] Loss: 0.3676932454109192\n",
      "Epoch [95/200] Loss: 0.39284712076187134\n",
      "Epoch [96/200] Loss: 0.36315739154815674\n",
      "Epoch [97/200] Loss: 0.4575958251953125\n",
      "Epoch [98/200] Loss: 0.35537126660346985\n",
      "Epoch [99/200] Loss: 0.3437117338180542\n",
      "Epoch [100/200] Loss: 0.4012157618999481\n",
      "Epoch [101/200] Loss: 0.31818702816963196\n",
      "Epoch [102/200] Loss: 0.41620558500289917\n",
      "Epoch [103/200] Loss: 0.3531806170940399\n",
      "Epoch [104/200] Loss: 0.44023397564888\n",
      "Epoch [105/200] Loss: 0.35436826944351196\n",
      "Epoch [106/200] Loss: 0.355803519487381\n",
      "Epoch [107/200] Loss: 0.335625559091568\n",
      "Epoch [108/200] Loss: 0.5294764637947083\n",
      "Epoch [109/200] Loss: 0.2772226333618164\n",
      "Epoch [110/200] Loss: 0.2688412666320801\n",
      "Epoch [111/200] Loss: 0.3614789843559265\n",
      "Epoch [112/200] Loss: 0.3016349971294403\n",
      "Epoch [113/200] Loss: 0.4598645269870758\n",
      "Epoch [114/200] Loss: 0.2974065840244293\n",
      "Epoch [115/200] Loss: 0.3283301591873169\n",
      "Epoch [116/200] Loss: 0.3270215094089508\n",
      "Epoch [117/200] Loss: 0.38664793968200684\n",
      "Epoch [118/200] Loss: 0.2949172556400299\n",
      "Epoch [119/200] Loss: 0.39325907826423645\n",
      "Epoch [120/200] Loss: 0.22114944458007812\n",
      "Epoch [121/200] Loss: 0.3577110171318054\n",
      "Epoch [122/200] Loss: 0.2755592465400696\n",
      "Epoch [123/200] Loss: 0.2563784718513489\n",
      "Epoch [124/200] Loss: 0.34425318241119385\n",
      "Epoch [125/200] Loss: 0.37647533416748047\n",
      "Epoch [126/200] Loss: 0.25658467411994934\n",
      "Epoch [127/200] Loss: 0.38112714886665344\n",
      "Epoch [128/200] Loss: 0.2899613082408905\n",
      "Epoch [129/200] Loss: 0.3676775395870209\n",
      "Epoch [130/200] Loss: 0.48476704955101013\n",
      "Epoch [131/200] Loss: 0.22788576781749725\n",
      "Epoch [132/200] Loss: 0.44288170337677\n",
      "Epoch [133/200] Loss: 0.4065939486026764\n",
      "Epoch [134/200] Loss: 0.37160158157348633\n",
      "Epoch [135/200] Loss: 0.2858740985393524\n",
      "Epoch [136/200] Loss: 0.3962421715259552\n",
      "Epoch [137/200] Loss: 0.34409841895103455\n",
      "Epoch [138/200] Loss: 0.24975019693374634\n",
      "Epoch [139/200] Loss: 0.36780884861946106\n",
      "Epoch [140/200] Loss: 0.3089725971221924\n",
      "Epoch [141/200] Loss: 0.43460845947265625\n",
      "Epoch [142/200] Loss: 0.332252562046051\n",
      "Epoch [143/200] Loss: 0.21102622151374817\n",
      "Epoch [144/200] Loss: 0.34472745656967163\n",
      "Epoch [145/200] Loss: 0.30385279655456543\n",
      "Epoch [146/200] Loss: 0.35744979977607727\n",
      "Epoch [147/200] Loss: 0.21168667078018188\n",
      "Epoch [148/200] Loss: 0.21984975039958954\n",
      "Epoch [149/200] Loss: 0.27291345596313477\n",
      "Epoch [150/200] Loss: 0.34062838554382324\n",
      "Epoch [151/200] Loss: 0.3371290862560272\n",
      "Epoch [152/200] Loss: 0.2516079246997833\n",
      "Epoch [153/200] Loss: 0.3487842381000519\n",
      "Epoch [154/200] Loss: 0.2307538539171219\n",
      "Epoch [155/200] Loss: 0.23685964941978455\n",
      "Epoch [156/200] Loss: 0.2588652968406677\n",
      "Epoch [157/200] Loss: 0.33589649200439453\n",
      "Epoch [158/200] Loss: 0.3454403281211853\n",
      "Epoch [159/200] Loss: 0.3159530460834503\n",
      "Epoch [160/200] Loss: 0.30110058188438416\n",
      "Epoch [161/200] Loss: 0.33067283034324646\n",
      "Epoch [162/200] Loss: 0.24345703423023224\n",
      "Epoch [163/200] Loss: 0.26334744691848755\n",
      "Epoch [164/200] Loss: 0.3142557442188263\n",
      "Epoch [165/200] Loss: 0.2249089777469635\n",
      "Epoch [166/200] Loss: 0.26471781730651855\n",
      "Epoch [167/200] Loss: 0.2539990246295929\n",
      "Epoch [168/200] Loss: 0.26197993755340576\n",
      "Epoch [169/200] Loss: 0.27500149607658386\n",
      "Epoch [170/200] Loss: 0.2593238353729248\n",
      "Epoch [171/200] Loss: 0.30231109261512756\n",
      "Epoch [172/200] Loss: 0.2206045389175415\n",
      "Epoch [173/200] Loss: 0.33494311571121216\n",
      "Epoch [174/200] Loss: 0.18972863256931305\n",
      "Epoch [175/200] Loss: 0.20931053161621094\n",
      "Epoch [176/200] Loss: 0.3081047534942627\n",
      "Epoch [177/200] Loss: 0.43226757645606995\n",
      "Epoch [178/200] Loss: 0.2676137685775757\n",
      "Epoch [179/200] Loss: 0.29326677322387695\n",
      "Epoch [180/200] Loss: 0.24988678097724915\n",
      "Epoch [181/200] Loss: 0.1813134104013443\n",
      "Epoch [182/200] Loss: 0.2893594801425934\n",
      "Epoch [183/200] Loss: 0.1863827407360077\n",
      "Epoch [184/200] Loss: 0.30262067914009094\n",
      "Epoch [185/200] Loss: 0.2664833962917328\n",
      "Epoch [186/200] Loss: 0.3053963780403137\n",
      "Epoch [187/200] Loss: 0.25602832436561584\n",
      "Epoch [188/200] Loss: 0.257416307926178\n",
      "Epoch [189/200] Loss: 0.34349924325942993\n",
      "Epoch [190/200] Loss: 0.29376354813575745\n",
      "Epoch [191/200] Loss: 0.22925375401973724\n",
      "Epoch [192/200] Loss: 0.28968989849090576\n",
      "Epoch [193/200] Loss: 0.28477632999420166\n",
      "Epoch [194/200] Loss: 0.1902233511209488\n",
      "Epoch [195/200] Loss: 0.2344842553138733\n",
      "Epoch [196/200] Loss: 0.20116989314556122\n",
      "Epoch [197/200] Loss: 0.19162088632583618\n",
      "Epoch [198/200] Loss: 0.2645792067050934\n",
      "Epoch [199/200] Loss: 0.26663264632225037\n",
      "Epoch [200/200] Loss: 0.23208093643188477\n"
     ]
    }
   ],
   "source": [
    "# Define Cross-Entropy loss\n",
    "criterion = nn.CrossEntropyLoss() # nn.CategoricalCrossentropy() #nn.Softmax() \n",
    "\n",
    "# Define SGD optimizer\n",
    "# Is Adam better?\n",
    "optimizer = optim.SGD(classifier.parameters(), lr=learning_rate)\n",
    "\n",
    "DEV = True\n",
    "# Training loop (adjust this to match your data and DataLoader)\n",
    "for epoch in range(epochs):\n",
    "    for inputs, targets in train_loader :  # Assuming you have a DataLoader\n",
    "        # for batch_data in train_loader:  # Assuming you have a DataLoader\n",
    "        # inputs, targets = batch_data  # Assuming your DataLoader provides input data and targets    \n",
    "    \n",
    "        #printd(f'inputs shape: {inputs.shape}')\n",
    "        #printd(f'targets shape: {targets.shape}')\n",
    "        #printd(f'targets: {targets}')\n",
    "\n",
    "        optimizer.zero_grad()\n",
    "    \n",
    "        # keep nn.linear happy by combining the last two dimensions of inputs.\n",
    "        inputs = torch.reshape(inputs, (inputs.size(0), -1)) # get current batch size\n",
    "        #inputs = torch.reshape(inputs, (32,30000))\n",
    "        \n",
    "        #printd(f'Reshaped inputs: {inputs.shape}')\n",
    "        \n",
    "        outputs = classifier(inputs)\n",
    "        #printd(f'outputs shape {outputs.shape}')\n",
    "        \n",
    "        # output is a 32 x 6 tensor of floats,\n",
    "        # targets will be a 32 x 1 tensor of ints\n",
    "        loss = criterion(outputs, targets)\n",
    "        # print(f'loss.item: {loss.item()}')\n",
    "        loss.backward(retain_graph=True)\n",
    "        optimizer.step()\n",
    "     \n",
    "    print(f'Epoch [{epoch+1}/{epochs}] Loss: {loss.item()}')\n",
    "    \n",
    "showC(f'training complete')"
   ]
  },
  {
   "cell_type": "code",
   "execution_count": 24,
   "id": "d80d5286",
   "metadata": {
    "execution": {
     "iopub.execute_input": "2024-04-06T01:48:42.670341Z",
     "iopub.status.busy": "2024-04-06T01:48:42.669779Z",
     "iopub.status.idle": "2024-04-06T01:48:42.755962Z",
     "shell.execute_reply": "2024-04-06T01:48:42.754790Z"
    },
    "papermill": {
     "duration": 0.11456,
     "end_time": "2024-04-06T01:48:42.757973",
     "exception": false,
     "start_time": "2024-04-06T01:48:42.643413",
     "status": "completed"
    },
    "tags": []
   },
   "outputs": [
    {
     "name": "stdout",
     "output_type": "stream",
     "text": [
      "Predicted | Actual\n",
      "1 | 1\n",
      "2 | 4\n",
      "1 | 1\n",
      "1 | 1\n",
      "3 | 1\n",
      "3 | 2\n",
      "3 | 2\n",
      "3 | 4\n",
      "2 | 2\n",
      "2 | 4\n",
      "5 | 5\n",
      "3 | 4\n",
      "4 | 2\n",
      "2 | 4\n",
      "2 | 3\n",
      "4 | 5\n",
      "2 | 4\n",
      "4 | 2\n",
      "4 | 3\n",
      "4 | 5\n",
      "4 | 5\n",
      "3 | 2\n",
      "2 | 2\n",
      "1 | 1\n",
      "1 | 1\n",
      "5 | 1\n",
      "1 | 2\n",
      "2 | 5\n",
      "4 | 3\n",
      "2 | 4\n",
      "5 | 3\n",
      "4 | 4\n",
      "4 | 5\n",
      "3 | 2\n",
      "2 | 4\n",
      "1 | 4\n",
      "1 | 2\n",
      "2 | 1\n",
      "2 | 2\n",
      "2 | 2\n",
      "3 | 5\n",
      "3 | 2\n",
      "4 | 3\n",
      "3 | 5\n",
      "3 | 1\n",
      "1 | 5\n",
      "5 | 5\n",
      "2 | 2\n",
      "4 | 4\n",
      "2 | 4\n",
      "1 | 3\n",
      "1 | 2\n",
      "4 | 4\n",
      "1 | 2\n",
      "4 | 3\n",
      "2 | 5\n",
      "3 | 3\n",
      "5 | 5\n",
      "5 | 5\n",
      "4 | 3\n",
      "Validation Accuracy: 0.38\n"
     ]
    }
   ],
   "source": [
    "# Put model in evaluation mode\n",
    "classifier.eval() \n",
    "\n",
    "# Tracking variables\n",
    "predictions = []\n",
    "actuals = []\n",
    "\n",
    "# Evaluate on validation set\n",
    "with torch.no_grad():\n",
    "    for inputs, targets in val_loader:\n",
    "        inputs = inputs.reshape(inputs.shape[0], -1)\n",
    "        \n",
    "        outputs = classifier(inputs)\n",
    "        _, predicted = torch.max(outputs, 1)\n",
    "        \n",
    "        predictions.extend(predicted.tolist())\n",
    "        actuals.extend(targets.tolist())\n",
    "        \n",
    "# Print sample outputs        \n",
    "print(\"Predicted | Actual\")\n",
    "for i in range (60):\n",
    "    print(f\"{predictions[i]} | {actuals[i]}\")\n",
    "    \n",
    "# Calculate validation accuracy\n",
    "num_correct = sum([p == a for p, a in zip(predictions, actuals)]) \n",
    "val_accuracy = num_correct / len(predictions)\n",
    "print(f'Validation Accuracy: {val_accuracy:.2f}')\n",
    "\n",
    "showC('validate')"
   ]
  }
 ],
 "metadata": {
  "kaggle": {
   "accelerator": "gpu",
   "dataSources": [
    {
     "datasetId": 6763,
     "sourceId": 9801,
     "sourceType": "datasetVersion"
    },
    {
     "datasetId": 1461623,
     "sourceId": 2415872,
     "sourceType": "datasetVersion"
    }
   ],
   "dockerImageVersionId": 30673,
   "isGpuEnabled": true,
   "isInternetEnabled": true,
   "language": "python",
   "sourceType": "notebook"
  },
  "kernelspec": {
   "display_name": "Python 3",
   "language": "python",
   "name": "python3"
  },
  "language_info": {
   "codemirror_mode": {
    "name": "ipython",
    "version": 3
   },
   "file_extension": ".py",
   "mimetype": "text/x-python",
   "name": "python",
   "nbconvert_exporter": "python",
   "pygments_lexer": "ipython3",
   "version": "3.10.13"
  },
  "papermill": {
   "default_parameters": {},
   "duration": 332.277419,
   "end_time": "2024-04-06T01:48:45.959063",
   "environment_variables": {},
   "exception": null,
   "input_path": "__notebook__.ipynb",
   "output_path": "__notebook__.ipynb",
   "parameters": {},
   "start_time": "2024-04-06T01:43:13.681644",
   "version": "2.5.0"
  }
 },
 "nbformat": 4,
 "nbformat_minor": 5
}
