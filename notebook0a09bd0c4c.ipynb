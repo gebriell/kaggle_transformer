{
 "cells": [
  {
   "cell_type": "code",
   "execution_count": 1,
   "id": "e574949b",
   "metadata": {
    "_cell_guid": "b1076dfc-b9ad-4769-8c92-a6c4dae69d19",
    "_uuid": "8f2839f25d086af736a60e9eeb907d3b93b6e0e5",
    "execution": {
     "iopub.execute_input": "2024-04-14T06:52:52.961427Z",
     "iopub.status.busy": "2024-04-14T06:52:52.961077Z",
     "iopub.status.idle": "2024-04-14T06:53:13.249700Z",
     "shell.execute_reply": "2024-04-14T06:53:13.248707Z"
    },
    "papermill": {
     "duration": 20.301111,
     "end_time": "2024-04-14T06:53:13.252284",
     "exception": false,
     "start_time": "2024-04-14T06:52:52.951173",
     "status": "completed"
    },
    "tags": []
   },
   "outputs": [
    {
     "name": "stdout",
     "output_type": "stream",
     "text": [
      "Found unexpected file: /kaggle/input/googlenewsvectorsnegative300/GoogleNews-vectors-negative300.bin.gz\n",
      "Amazon reviews file: /kaggle/input/amazon-product-reviews/Reviews.csv\n",
      "Google news word to vec file: /kaggle/input/googlenewsvectorsnegative300/GoogleNews-vectors-negative300.bin\n"
     ]
    }
   ],
   "source": [
    "# For viewing and manipulating data\n",
    "import numpy as np # linear algebra\n",
    "import pandas as pd # data processing, CSV file I/O (e.g. pd.read_csv)\n",
    "\n",
    "# Importing the necessary libraries\n",
    "import re\n",
    "import math\n",
    "import string\n",
    "import nltk\n",
    "import torch\n",
    "import torch.nn as nn\n",
    "import torch.optim as optim\n",
    "import torch.nn.functional as F\n",
    "import gensim.downloader as api\n",
    "from gensim.models import KeyedVectors # >> alternative to gensim.downloader\n",
    "import matplotlib.pyplot as plt\n",
    "\n",
    "# Getting particular functions from these libraries \n",
    "from torch import Tensor\n",
    "from sklearn.utils import resample\n",
    "from gensim.models import KeyedVectors\n",
    "from sklearn.model_selection import train_test_split\n",
    "from sklearn.feature_extraction.text import CountVectorizer\n",
    "from torch.utils.data import random_split, DataLoader, TensorDataset, Dataset\n",
    "\n",
    "# Using the NLTK to tokenize the text\n",
    "from nltk.corpus import stopwords\n",
    "from nltk.stem import WordNetLemmatizer\n",
    "\n",
    "# This Python 3 environment comes with many helpful analytics libraries installed\n",
    "# It is defined by the kaggle/python Docker image: https://github.com/kaggle/docker-python\n",
    "# For example, here's several helpful packages to load\n",
    "\n",
    "# Input data files are available in the read-only \"../input/\" directory\n",
    "# For example, running this (by clicking run or pressing Shift+Enter) will list all files under the input directory\n",
    "\n",
    "import os\n",
    "reviews_file = ''\n",
    "w2v_file = ''\n",
    "for dirname, _, filenames in os.walk('/kaggle/input'):\n",
    "    for filename in filenames:\n",
    "        file_name = os.path.join(dirname, filename)\n",
    "        if file_name.endswith('.csv'): \n",
    "            reviews_file = file_name\n",
    "        elif file_name.endswith('.bin'):\n",
    "            w2v_file = file_name\n",
    "        else:\n",
    "            print(f'Found unexpected file: {file_name}')\n",
    "                \n",
    "print(f'Amazon reviews file: {reviews_file}')\n",
    "print(f'Google news word to vec file: {w2v_file}') #<< faster than doing api.load\n",
    "            \n",
    "\n",
    "# You can write up to 20GB to the current directory (/kaggle/working/) that gets preserved as output when you create a version using \"Save & Run All\" \n",
    "# You can also write temporary files to /kaggle/temp/, but they won't be saved outside of the current session\n",
    "VERBOSE = True\n",
    "def printv(text):\n",
    "    if VERBOSE: print('VERBOSE:', text)\n",
    "    return\n",
    "\n",
    "def showV(text):\n",
    "    '''unconditional verbose output'''\n",
    "    print('VERBOSE:', text)\n",
    "    return\n",
    "\n",
    "DEV = False\n",
    "def printd(text):\n",
    "    if DEV: print('DEV:', text)\n",
    "    return\n",
    "\n",
    "def showD(text):\n",
    "    '''unconditional DEV output'''\n",
    "    print('DEV:', text)  #<< 4/12/24 changed \"VERBOSE\" to \"DEV\"\n",
    "    return\n",
    "\n",
    "showCellCompletion = True  #<< 4/12/24 set default to True\n",
    "def showC(text):\n",
    "    if showCellCompletion:\n",
    "        print('Cell complete:', text)\n",
    "    return\n",
    "\n",
    "import subprocess\n",
    "showNv = True\n",
    "accelerator = True\n",
    "\n",
    "def printNv():\n",
    "    if not showNv or not accelerator: return\n",
    "    mem_usage = subprocess.run(['nvidia-smi'], stdout=subprocess.PIPE)\n",
    "    print(mem_usage.stdout.decode('utf-8'))\n",
    "\n",
    "showMemoryAllocation = True\n",
    "def printM():\n",
    "    if not showMemoryAllocation: return\n",
    "    print(f\"Total allocated memory: {torch.cuda.memory_allocated()} bytes\")"
   ]
  },
  {
   "cell_type": "code",
   "execution_count": 2,
   "id": "4585d498",
   "metadata": {
    "execution": {
     "iopub.execute_input": "2024-04-14T06:53:13.270290Z",
     "iopub.status.busy": "2024-04-14T06:53:13.269812Z",
     "iopub.status.idle": "2024-04-14T06:53:14.638479Z",
     "shell.execute_reply": "2024-04-14T06:53:14.637265Z"
    },
    "papermill": {
     "duration": 1.380493,
     "end_time": "2024-04-14T06:53:14.641239",
     "exception": false,
     "start_time": "2024-04-14T06:53:13.260746",
     "status": "completed"
    },
    "tags": []
   },
   "outputs": [
    {
     "name": "stdout",
     "output_type": "stream",
     "text": [
      "Archive:  /usr/share/nltk_data/corpora/wordnet.zip\r\n",
      "   creating: /usr/share/nltk_data/corpora/wordnet/\r\n",
      "  inflating: /usr/share/nltk_data/corpora/wordnet/lexnames  \r\n",
      "  inflating: /usr/share/nltk_data/corpora/wordnet/data.verb  \r\n",
      "  inflating: /usr/share/nltk_data/corpora/wordnet/index.adv  \r\n",
      "  inflating: /usr/share/nltk_data/corpora/wordnet/adv.exc  \r\n",
      "  inflating: /usr/share/nltk_data/corpora/wordnet/index.verb  \r\n",
      "  inflating: /usr/share/nltk_data/corpora/wordnet/cntlist.rev  \r\n",
      "  inflating: /usr/share/nltk_data/corpora/wordnet/data.adj  \r\n",
      "  inflating: /usr/share/nltk_data/corpora/wordnet/index.adj  \r\n",
      "  inflating: /usr/share/nltk_data/corpora/wordnet/LICENSE  \r\n",
      "  inflating: /usr/share/nltk_data/corpora/wordnet/citation.bib  \r\n",
      "  inflating: /usr/share/nltk_data/corpora/wordnet/noun.exc  \r\n",
      "  inflating: /usr/share/nltk_data/corpora/wordnet/verb.exc  \r\n",
      "  inflating: /usr/share/nltk_data/corpora/wordnet/README  \r\n",
      "  inflating: /usr/share/nltk_data/corpora/wordnet/index.sense  \r\n",
      "  inflating: /usr/share/nltk_data/corpora/wordnet/data.noun  \r\n",
      "  inflating: /usr/share/nltk_data/corpora/wordnet/data.adv  \r\n",
      "  inflating: /usr/share/nltk_data/corpora/wordnet/index.noun  \r\n",
      "  inflating: /usr/share/nltk_data/corpora/wordnet/adj.exc  \r\n"
     ]
    }
   ],
   "source": [
    "## Only run once\n",
    "#>> Seems to need to be rerun after every Kaggle timeout.\n",
    "!unzip /usr/share/nltk_data/corpora/wordnet.zip -d /usr/share/nltk_data/corpora/"
   ]
  },
  {
   "cell_type": "code",
   "execution_count": 3,
   "id": "6f9e5097",
   "metadata": {
    "execution": {
     "iopub.execute_input": "2024-04-14T06:53:14.660180Z",
     "iopub.status.busy": "2024-04-14T06:53:14.659292Z",
     "iopub.status.idle": "2024-04-14T06:53:22.228413Z",
     "shell.execute_reply": "2024-04-14T06:53:22.227261Z"
    },
    "papermill": {
     "duration": 7.581006,
     "end_time": "2024-04-14T06:53:22.230948",
     "exception": false,
     "start_time": "2024-04-14T06:53:14.649942",
     "status": "completed"
    },
    "tags": []
   },
   "outputs": [
    {
     "name": "stdout",
     "output_type": "stream",
     "text": [
      "DEV: Amazon reviews loaded into Panda\n"
     ]
    }
   ],
   "source": [
    "# Load data from CSV\n",
    "#>>  3/13 needed to change the path as below\n",
    "# path ='/kaggle/input/Reviews.csv'#\"/kaggle/input/amazon-product-reviews/Reviews.csv\"\n",
    "data = pd.read_csv(reviews_file) # Use pandas to analyze data\n",
    "showD('Amazon reviews loaded into Panda')"
   ]
  },
  {
   "cell_type": "code",
   "execution_count": 4,
   "id": "dfedeb2c",
   "metadata": {
    "execution": {
     "iopub.execute_input": "2024-04-14T06:53:22.250247Z",
     "iopub.status.busy": "2024-04-14T06:53:22.249869Z",
     "iopub.status.idle": "2024-04-14T06:53:22.265374Z",
     "shell.execute_reply": "2024-04-14T06:53:22.264274Z"
    },
    "papermill": {
     "duration": 0.027789,
     "end_time": "2024-04-14T06:53:22.267784",
     "exception": false,
     "start_time": "2024-04-14T06:53:22.239995",
     "status": "completed"
    },
    "tags": []
   },
   "outputs": [
    {
     "name": "stdout",
     "output_type": "stream",
     "text": [
      "VERBOSE: Number of reviews: 568454\n",
      "VERBOSE: Column names -\n",
      " Index(['Id', 'ProductId', 'UserId', 'ProfileName', 'HelpfulnessNumerator',\n",
      "       'HelpfulnessDenominator', 'Score', 'Time', 'Summary', 'Text'],\n",
      "      dtype='object')\n",
      "\n",
      "VERBOSE: First five rows -\n",
      "   Id   ProductId          UserId                      ProfileName  \\\n",
      "0   1  B001E4KFG0  A3SGXH7AUHU8GW                       delmartian   \n",
      "1   2  B00813GRG4  A1D87F6ZCVE5NK                           dll pa   \n",
      "2   3  B000LQOCH0   ABXLMWJIXXAIN  Natalia Corres \"Natalia Corres\"   \n",
      "3   4  B000UA0QIQ  A395BORC6FGVXV                             Karl   \n",
      "4   5  B006K2ZZ7K  A1UQRSCLF8GW1T    Michael D. Bigham \"M. Wassir\"   \n",
      "\n",
      "   HelpfulnessNumerator  HelpfulnessDenominator  Score        Time  \\\n",
      "0                     1                       1      5  1303862400   \n",
      "1                     0                       0      1  1346976000   \n",
      "2                     1                       1      4  1219017600   \n",
      "3                     3                       3      2  1307923200   \n",
      "4                     0                       0      5  1350777600   \n",
      "\n",
      "                 Summary                                               Text  \n",
      "0  Good Quality Dog Food  I have bought several of the Vitality canned d...  \n",
      "1      Not as Advertised  Product arrived labeled as Jumbo Salted Peanut...  \n",
      "2  \"Delight\" says it all  This is a confection that has been around a fe...  \n",
      "3         Cough Medicine  If you are looking for the secret ingredient i...  \n",
      "4            Great taffy  Great taffy at a great price.  There was a wid...  \n"
     ]
    }
   ],
   "source": [
    "# print number of rows in our ratings column\n",
    "printv(f'Number of reviews: {len(data[\"Score\"])}')\n",
    "printv(f'Column names -\\n {data.columns}\\n') \n",
    "printv(f'First five rows -\\n{data.head()}')"
   ]
  },
  {
   "cell_type": "code",
   "execution_count": 5,
   "id": "17fbd8cb",
   "metadata": {
    "execution": {
     "iopub.execute_input": "2024-04-14T06:53:22.287291Z",
     "iopub.status.busy": "2024-04-14T06:53:22.286907Z",
     "iopub.status.idle": "2024-04-14T06:53:22.611439Z",
     "shell.execute_reply": "2024-04-14T06:53:22.610131Z"
    },
    "papermill": {
     "duration": 0.336974,
     "end_time": "2024-04-14T06:53:22.613907",
     "exception": false,
     "start_time": "2024-04-14T06:53:22.276933",
     "status": "completed"
    },
    "tags": []
   },
   "outputs": [
    {
     "name": "stdout",
     "output_type": "stream",
     "text": [
      "Column 'Id' has no empty entries or missing data.\n",
      "Column 'ProductId' has no empty entries or missing data.\n",
      "Column 'UserId' has no empty entries or missing data.\n",
      "Column 'ProfileName' has empty entries or missing data.\n",
      "Column 'HelpfulnessNumerator' has no empty entries or missing data.\n",
      "Column 'HelpfulnessDenominator' has no empty entries or missing data.\n",
      "Column 'Score' has no empty entries or missing data.\n",
      "Column 'Time' has no empty entries or missing data.\n",
      "Column 'Summary' has empty entries or missing data.\n",
      "Column 'Text' has no empty entries or missing data.\n"
     ]
    }
   ],
   "source": [
    "# Check for empty entries or missing data in each column\n",
    "for column in data.columns:\n",
    "    if data[column].isnull().values.any():\n",
    "        print(f\"Column '{column}' has empty entries or missing data.\")\n",
    "    else:\n",
    "        print(f\"Column '{column}' has no empty entries or missing data.\")"
   ]
  },
  {
   "cell_type": "code",
   "execution_count": 6,
   "id": "9751d6ae",
   "metadata": {
    "execution": {
     "iopub.execute_input": "2024-04-14T06:53:22.635289Z",
     "iopub.status.busy": "2024-04-14T06:53:22.634434Z",
     "iopub.status.idle": "2024-04-14T06:53:22.992867Z",
     "shell.execute_reply": "2024-04-14T06:53:22.991790Z"
    },
    "papermill": {
     "duration": 0.371305,
     "end_time": "2024-04-14T06:53:22.995037",
     "exception": false,
     "start_time": "2024-04-14T06:53:22.623732",
     "status": "completed"
    },
    "tags": []
   },
   "outputs": [
    {
     "data": {
      "image/png": "[encoded data removed]",
      "text/plain": [
       "<Figure size 640x480 with 1 Axes>"
      ]
     },
     "metadata": {},
     "output_type": "display_data"
    }
   ],
   "source": [
    "# Get count of ratings \n",
    "rating_counts = data['Score'].value_counts()\n",
    "\n",
    "# Sort counts by index ascending\n",
    "rating_counts = rating_counts.sort_index()  \n",
    "\n",
    "# Create bar plot\n",
    "ax = rating_counts.plot(kind = 'bar')\n",
    "\n",
    "ax.set_title(\"Ratings Distribution\")\n",
    "ax.set_xlabel(\"Rating\")\n",
    "ax.set_ylabel(\"Number of Occurrences\")\n",
    "\n",
    "# Fix x-axis tick labels\n",
    "ax.set_xticklabels(ax.get_xticklabels(), rotation = 0) \n",
    "\n",
    "for rating, count in rating_counts.items():\n",
    "        printd(f\"{count:,} samples from balanced data with rating {rating}\\n\")\n",
    "\n",
    "plt.show() #<< show the rating in each of the 5 categories"
   ]
  },
  {
   "cell_type": "code",
   "execution_count": 7,
   "id": "11954b52",
   "metadata": {
    "execution": {
     "iopub.execute_input": "2024-04-14T06:53:23.014982Z",
     "iopub.status.busy": "2024-04-14T06:53:23.014346Z",
     "iopub.status.idle": "2024-04-14T06:53:23.302219Z",
     "shell.execute_reply": "2024-04-14T06:53:23.301205Z"
    },
    "papermill": {
     "duration": 0.301205,
     "end_time": "2024-04-14T06:53:23.305630",
     "exception": false,
     "start_time": "2024-04-14T06:53:23.004425",
     "status": "completed"
    },
    "tags": []
   },
   "outputs": [
    {
     "name": "stdout",
     "output_type": "stream",
     "text": [
      "VERBOSE: The number of reviews equally distributed across all ratings is 10000\n"
     ]
    },
    {
     "name": "stderr",
     "output_type": "stream",
     "text": [
      "/tmp/ipykernel_24/1593203213.py:17: DeprecationWarning: DataFrameGroupBy.apply operated on the grouping columns. This behavior is deprecated, and in a future version of pandas the grouping columns will be excluded from the operation. Either pass `include_groups=False` to exclude the groupings or explicitly select the grouping columns after groupby to silence this warning.\n",
      "  balanced_data = sorted_data.groupby(sort_column).apply(lambda x: x.sample(n = balanced_data_size))\n"
     ]
    }
   ],
   "source": [
    "balanced_data_size = 2000 #4/12 spacy tokenizer hanging ...10000 #25000<< number of reviews in each rating category, tailored for CPU capacity\n",
    "# Specify the column for sorting and balancing\n",
    "sort_column = 'Score'  # This is one the rating column\n",
    "\n",
    "# Sort the data by the rating values\n",
    "sorted_data = data.sort_values(by = sort_column)\n",
    "\n",
    "# Create a balanced dataset with 25,000 samples from each class\n",
    "#balanced_data = sorted_data.groupby(sort_column).apply(lambda x: x.sample(n=25000))\n",
    "\n",
    "#>> DeprecationWarning: DataFrameGroupBy.apply operated on the grouping columns. \n",
    "#>> This behavior is deprecated, and in a future version of pandas the grouping \n",
    "#>> columns will be excluded from the operation. \n",
    "#>> Either pass `include_groups=False` to exclude the groupings or \n",
    "#>> explicitly select the grouping columns after groupby to silence this warning.\n",
    "#\n",
    "balanced_data = sorted_data.groupby(sort_column).apply(lambda x: x.sample(n = balanced_data_size))\n",
    "\n",
    "#>> Does this mean to reset the row numbers?? ##Columns Numbers\n",
    "balanced_data.reset_index(drop = True, inplace = True)\n",
    "\n",
    "printv(f\"The number of reviews equally distributed across all ratings is {len(balanced_data['Score'])}\")"
   ]
  },
  {
   "cell_type": "code",
   "execution_count": 8,
   "id": "bc2813f7",
   "metadata": {
    "execution": {
     "iopub.execute_input": "2024-04-14T06:53:23.327128Z",
     "iopub.status.busy": "2024-04-14T06:53:23.326845Z",
     "iopub.status.idle": "2024-04-14T06:53:23.567358Z",
     "shell.execute_reply": "2024-04-14T06:53:23.566406Z"
    },
    "papermill": {
     "duration": 0.25337,
     "end_time": "2024-04-14T06:53:23.569761",
     "exception": false,
     "start_time": "2024-04-14T06:53:23.316391",
     "status": "completed"
    },
    "tags": []
   },
   "outputs": [
    {
     "data": {
      "image/png": "[encoded data removed]",
      "text/plain": [
       "<Figure size 640x480 with 1 Axes>"
      ]
     },
     "metadata": {},
     "output_type": "display_data"
    }
   ],
   "source": [
    "# Get count of ratings\n",
    "rating_counts = balanced_data['Score'].value_counts()\n",
    "\n",
    "# Create bar plot\n",
    "ax = rating_counts.plot(kind='bar')\n",
    "\n",
    "ax.set_title(\"Ratings Distribution After Balancing\")\n",
    "ax.set_xlabel(\"Rating\")\n",
    "ax.set_ylabel(\"Number of Samples\")\n",
    "\n",
    "# Fix x-axis ticks  \n",
    "ax.set_xticklabels(ax.get_xticklabels(), rotation = 0)\n",
    "\n",
    "# Print number of reviews per rating\n",
    "\n",
    "if DEV:\n",
    "    for rating, count in rating_counts.items():\n",
    "        print(f\"{count:,} samples from balanced data with rating {rating}\\n\")\n",
    "\n",
    "plt.show()"
   ]
  },
  {
   "cell_type": "code",
   "execution_count": 9,
   "id": "17984286",
   "metadata": {
    "execution": {
     "iopub.execute_input": "2024-04-14T06:53:23.592676Z",
     "iopub.status.busy": "2024-04-14T06:53:23.592289Z",
     "iopub.status.idle": "2024-04-14T06:56:53.324212Z",
     "shell.execute_reply": "2024-04-14T06:56:53.323162Z"
    },
    "papermill": {
     "duration": 209.755611,
     "end_time": "2024-04-14T06:56:53.336668",
     "exception": false,
     "start_time": "2024-04-14T06:53:23.581057",
     "status": "completed"
    },
    "tags": []
   },
   "outputs": [
    {
     "name": "stdout",
     "output_type": "stream",
     "text": [
      "DEV: Loading spacy ...\n",
      "DEV: Applying tokenizer ...\n",
      "Cell complete: <function tokenizer at 0x7efa1868db40> defined, and then used to create CleanedReview column\n"
     ]
    }
   ],
   "source": [
    "import spacy\n",
    "import re\n",
    "import pandas as pd\n",
    "\n",
    "showD('Loading spacy ...')\n",
    "# Load the English tokenizer model\n",
    "nlp = spacy.load(\"en_core_web_sm\")\n",
    "\n",
    "# Compile the regular expressions\n",
    "html_tags = re.compile(\"<.*?>\")\n",
    "punct_and_symbols = re.compile(r'[^\\w\\s\\']+')\n",
    "\n",
    "def tokenizer(text, nlp):\n",
    "    \"\"\"\n",
    "    Tokenizes a text string and removes stop words.\n",
    "    \n",
    "    text (str): The text string to tokenize.\n",
    "    nlp: The Spacy language model.\n",
    "\n",
    "    Returns:\n",
    "        list: The tokenized text string.\n",
    "    \"\"\"\n",
    "    text = text.lower()  # Convert text to lowercase\n",
    "    text = html_tags.sub(\"\", text)  # Remove HTML tags\n",
    "    text = punct_and_symbols.sub(\"\", text)  # Remove punctuation and symbols\n",
    "\n",
    "    # Tokenize the text\n",
    "    doc = nlp(text)\n",
    "\n",
    "    # Remove stop words and punctuation tokens\n",
    "    # tokens = [token.text for token in doc if not token.is_punct]# and not token.is_stop]\n",
    "    #>> Can we modify the spacy stop words\n",
    "    tokens = [token.text for token in doc if not token.is_punct]# \n",
    "\n",
    "    return tokens\n",
    "\n",
    "# Assuming balanced_data is a pandas DataFrame and 'Text' is a column containing the reviews\n",
    "# Apply the function to the Text column and store it in a new column\n",
    "showD('Applying tokenizer ...')\n",
    "\n",
    "#>> 4/12/24 takes 4 minutes to process 1K reviews!\n",
    "balanced_data['CleanedReview'] = balanced_data['Text'].apply(lambda x: tokenizer(x, nlp))\n",
    "\n",
    "# Show that cell has finished executing\n",
    "showC(f'{tokenizer} defined, and then used to create CleanedReview column')"
   ]
  },
  {
   "cell_type": "code",
   "execution_count": 10,
   "id": "f7bdede2",
   "metadata": {
    "execution": {
     "iopub.execute_input": "2024-04-14T06:56:53.358193Z",
     "iopub.status.busy": "2024-04-14T06:56:53.357613Z",
     "iopub.status.idle": "2024-04-14T06:56:53.364615Z",
     "shell.execute_reply": "2024-04-14T06:56:53.363772Z"
    },
    "papermill": {
     "duration": 0.020533,
     "end_time": "2024-04-14T06:56:53.366959",
     "exception": false,
     "start_time": "2024-04-14T06:56:53.346426",
     "status": "completed"
    },
    "tags": []
   },
   "outputs": [
    {
     "name": "stdout",
     "output_type": "stream",
     "text": [
      "VERBOSE: Looking into product reviews\n",
      "VERBOSE: First balanced data review: I have been an avid Canidae supporter for about a year and a half.  My breeder recommended it and I was VERY impressed with how my dog responded.  However, a few months back they changed their formula, (they also lessened the bags from 40 to 35lbs AND raised the price!!!!) and it is terrible!!!!  I went through 2 bags and couldn't understand why my dog was consistently producing loose stools, when she never had before.  Randomly, I found 1 bag of the old formula left at my local dealer so I bought it.  Immediately her stools firmed up.  Now I am again on a bag of the new formula, and again my dog is sick.  I am done, I will no longer support Canidae.  Do not buy it!  Do your research, at this kind of money there are A LOT of better dog foods out there.\n",
      "VERBOSE: First balanced data tokenized review: ['i', 'have', 'been', 'an', 'avid', 'canidae', 'supporter', 'for', 'about', 'a', 'year', 'and', 'a', 'half', ' ', 'my', 'breeder', 'recommended', 'it', 'and', 'i', 'was', 'very', 'impressed', 'with', 'how', 'my', 'dog', 'responded', ' ', 'however', 'a', 'few', 'months', 'back', 'they', 'changed', 'their', 'formula', 'they', 'also', 'lessened', 'the', 'bags', 'from', '40', 'to', '35lbs', 'and', 'raised', 'the', 'price', 'and', 'it', 'is', 'terrible', ' ', 'i', 'went', 'through', '2', 'bags', 'and', 'could', \"n't\", 'understand', 'why', 'my', 'dog', 'was', 'consistently', 'producing', 'loose', 'stools', 'when', 'she', 'never', 'had', 'before', ' ', 'randomly', 'i', 'found', '1', 'bag', 'of', 'the', 'old', 'formula', 'left', 'at', 'my', 'local', 'dealer', 'so', 'i', 'bought', 'it', ' ', 'immediately', 'her', 'stools', 'firmed', 'up', ' ', 'now', 'i', 'am', 'again', 'on', 'a', 'bag', 'of', 'the', 'new', 'formula', 'and', 'again', 'my', 'dog', 'is', 'sick', ' ', 'i', 'am', 'done', 'i', 'will', 'no', 'longer', 'support', 'canidae', ' ', 'do', 'not', 'buy', 'it', ' ', 'do', 'your', 'research', 'at', 'this', 'kind', 'of', 'money', 'there', 'are', 'a', 'lot', 'of', 'better', 'dog', 'foods', 'out', 'there']\n",
      "VERBOSE: First balanced data tokenized review length: 156\n",
      "VERBOSE: tokenized_review shape: (10000,)\n"
     ]
    }
   ],
   "source": [
    "# Store the Rating column\n",
    "rating = balanced_data['Score']  \n",
    "\n",
    "# Store the CleanedReview column\n",
    "tokenized_review = balanced_data['CleanedReview']\n",
    "\n",
    "#>> 4/12/24 tried to make output more descriptive\n",
    "printv(f'Looking into product reviews')\n",
    "\n",
    "printv(f\"First balanced data review: {balanced_data['Text'][0]}\")\n",
    "printv(f\"First balanced data tokenized review: {tokenized_review[0]}\")\n",
    "printv(f\"First balanced data tokenized review length: {len(tokenized_review[0])}\")\n",
    "printv(f\"tokenized_review shape: {tokenized_review.shape}\")"
   ]
  },
  {
   "cell_type": "code",
   "execution_count": 11,
   "id": "126f291a",
   "metadata": {
    "execution": {
     "iopub.execute_input": "2024-04-14T06:56:53.388437Z",
     "iopub.status.busy": "2024-04-14T06:56:53.387890Z",
     "iopub.status.idle": "2024-04-14T06:56:53.697834Z",
     "shell.execute_reply": "2024-04-14T06:56:53.696779Z"
    },
    "papermill": {
     "duration": 0.322656,
     "end_time": "2024-04-14T06:56:53.699949",
     "exception": false,
     "start_time": "2024-04-14T06:56:53.377293",
     "status": "completed"
    },
    "tags": []
   },
   "outputs": [
    {
     "name": "stdout",
     "output_type": "stream",
     "text": [
      "Mean: 90.87\n",
      "Median: 66.00\n",
      "Mode: ModeResult(mode=33, count=142)\n"
     ]
    },
    {
     "data": {
      "image/png": "[encoded data removed]",
      "text/plain": [
       "<Figure size 800x600 with 1 Axes>"
      ]
     },
     "metadata": {},
     "output_type": "display_data"
    }
   ],
   "source": [
    "from scipy import stats\n",
    "\n",
    "def analyze_review_tokens(reviews):\n",
    "    token_counts = [len(review) for review in reviews]\n",
    "\n",
    "    mean = np.mean(token_counts)\n",
    "    median = np.median(token_counts)\n",
    "    mode = stats.mode(token_counts)\n",
    "\n",
    "    print(f\"Mean: {mean:.2f}\")\n",
    "    print(f\"Median: {median:.2f}\")\n",
    "    print(f\"Mode: {mode}\")\n",
    "\n",
    "    plt.figure(figsize=(8, 6))\n",
    "    plt.hist(token_counts, bins=20, edgecolor='black')\n",
    "    plt.xlabel('Number of Tokens')\n",
    "    plt.ylabel('Frequency')\n",
    "    plt.title('Histogram of Token Counts per Review')\n",
    "    plt.grid(True)\n",
    "    plt.show()\n",
    "\n",
    "analyze_review_tokens(tokenized_review)"
   ]
  },
  {
   "cell_type": "code",
   "execution_count": 12,
   "id": "86e74039",
   "metadata": {
    "execution": {
     "iopub.execute_input": "2024-04-14T06:56:53.723374Z",
     "iopub.status.busy": "2024-04-14T06:56:53.723030Z",
     "iopub.status.idle": "2024-04-14T06:58:08.736333Z",
     "shell.execute_reply": "2024-04-14T06:58:08.735382Z"
    },
    "papermill": {
     "duration": 75.038466,
     "end_time": "2024-04-14T06:58:08.749271",
     "exception": false,
     "start_time": "2024-04-14T06:56:53.710805",
     "status": "completed"
    },
    "tags": []
   },
   "outputs": [
    {
     "name": "stdout",
     "output_type": "stream",
     "text": [
      "DEV: KeyedVectors<vector_size=300, 3000000 keys> can map words onto vectors with 300 dimensions\n"
     ]
    }
   ],
   "source": [
    "# >> 3/29/24 Took less than a minute to run without the accelerator.\n",
    "# Load Word2Vec model\n",
    "#w2v = api.load('word2vec-google-news-300')\n",
    "w2v = KeyedVectors.load_word2vec_format (w2v_file, binary=True)\n",
    "\n",
    "# Define the aimum sequence length (adjust as needed)\n",
    "#>> Will increasing max_sequence_length impact performance?\n",
    "max_sequence_length = 100\n",
    "\n",
    "showD(f'{w2v} can map words onto vectors with 300 dimensions')"
   ]
  },
  {
   "cell_type": "code",
   "execution_count": 13,
   "id": "9da0e28c",
   "metadata": {
    "execution": {
     "iopub.execute_input": "2024-04-14T06:58:08.772830Z",
     "iopub.status.busy": "2024-04-14T06:58:08.772080Z",
     "iopub.status.idle": "2024-04-14T06:58:08.781670Z",
     "shell.execute_reply": "2024-04-14T06:58:08.780616Z"
    },
    "papermill": {
     "duration": 0.02407,
     "end_time": "2024-04-14T06:58:08.784166",
     "exception": false,
     "start_time": "2024-04-14T06:58:08.760096",
     "status": "completed"
    },
    "tags": []
   },
   "outputs": [
    {
     "name": "stdout",
     "output_type": "stream",
     "text": [
      "CUDA is available!\n",
      "GPU 0: Tesla P100-PCIE-16GB\n"
     ]
    }
   ],
   "source": [
    "# Checks if a CUDA enabled GPU is available and prints out its information\n",
    "if torch.cuda.is_available():\n",
    "    print(\"CUDA is available!\")\n",
    "    for i in range(torch.cuda.device_count()):\n",
    "        print(f\"GPU {i}: {torch.cuda.get_device_name(i)}\")\n",
    "        \n",
    "    device = torch.device(\"cuda:0\")\n",
    "    accelerator = True\n",
    "\n",
    "else:\n",
    "    accelerator = False\n",
    "    print(\"CUDA is not available.\")\n",
    "    device = torch.device(\"cpu\")\n",
    "    print(device)"
   ]
  },
  {
   "cell_type": "code",
   "execution_count": 14,
   "id": "c28d15bc",
   "metadata": {
    "execution": {
     "iopub.execute_input": "2024-04-14T06:58:08.808492Z",
     "iopub.status.busy": "2024-04-14T06:58:08.807931Z",
     "iopub.status.idle": "2024-04-14T06:58:35.410844Z",
     "shell.execute_reply": "2024-04-14T06:58:35.409794Z"
    },
    "papermill": {
     "duration": 26.617536,
     "end_time": "2024-04-14T06:58:35.413292",
     "exception": false,
     "start_time": "2024-04-14T06:58:08.795756",
     "status": "completed"
    },
    "tags": []
   },
   "outputs": [
    {
     "name": "stdout",
     "output_type": "stream",
     "text": [
      "DEV: Lengths of 100 longest reviews: [1099, 917, 913, 861, 861, 861, 861, 861, 861, 861, 861, 831, 805, 737, 733, 691, 690, 675, 675, 658, 637, 619, 618, 606, 593, 590, 580, 580, 576, 571, 569, 563, 563, 556, 552, 550, 535, 528, 527, 527, 526, 520, 520, 518, 513, 512, 508, 502, 500, 499, 496, 496, 494, 494, 490, 488, 487, 486, 486, 482, 481, 472, 470, 468, 467, 467, 465, 464, 463, 463, 457, 456, 455, 455, 452, 451, 448, 446, 446, 445, 440, 438, 438, 435, 435, 432, 432, 432, 429, 428, 428, 426, 426, 422, 421, 421, 421, 420, 419, 419]\n",
      "VERBOSE: 706000 words found with vector representations, 119250 without\n",
      "VERBOSE: Number of unique words without vector representations: 11866\n",
      "Cell complete: Created zero-padded, standard length reviews\n"
     ]
    }
   ],
   "source": [
    "#>> 3/29/24 Completed in less than 30 seconds using 1347 as max_sequence_length \n",
    "\n",
    "# Assume you have a list of tokenized review called tokenized_review\n",
    "# Each element in tokenized_review is a list of tokens for a single review\n",
    "\n",
    "lengths = []\n",
    "for review_tokens in tokenized_review:\n",
    "    lengths.append(len(review_tokens))\n",
    "\n",
    "lengths = sorted(lengths)\n",
    "lengths = lengths[-1:0:-1]\n",
    "showD(f'Lengths of 100 longest reviews: {lengths[0:100]}')        \n",
    "\n",
    "max_sequence_length = 200 #<< 4/13/24 1347 was the longest review length in sample\n",
    "\n",
    "# Initialize an empty tensor for padded reviews on the GPU\n",
    "padded_reviews = torch.zeros((len(tokenized_review), max_sequence_length, 300))\n",
    "\n",
    "# Initialize a mask tensor of the same shape as padded_reviews\n",
    "# Set it to False (or 0) initially, representing that all positions are padding\n",
    "# mask = torch.zeros_like(padded_reviews, dtype=torch.bool)\n",
    "\n",
    "# Initialize a mask tensor of the same shape as padded_reviews but with only sequence length\n",
    "mask = torch.zeros((len(tokenized_review), max_sequence_length), dtype=torch.bool)\n",
    "\n",
    "out_words = {}\n",
    "words_in = 0\n",
    "words_out = 0\n",
    "\n",
    "# Now, during the padding and embedding conversion loop, update the mask as well\n",
    "for i, review_tokens in enumerate(tokenized_review):\n",
    "    review_length = min(len(review_tokens), max_sequence_length)\n",
    "    for j in range(review_length):\n",
    "        word = review_tokens[j]\n",
    "        if word in w2v:\n",
    "            words_in += 1\n",
    "            # Use Word2Vec vector if available\n",
    "            padded_reviews[i, j, :] = torch.tensor(w2v[word])\n",
    "            mask[i, j] = True  # Update the mask to indicate the presence of a word\n",
    "        else:\n",
    "            words_out += 1\n",
    "            out_words[word] = out_words.get(word, 0) + 1\n",
    "        # Otherwise, the mask remains False (or 0) for padding\n",
    "\n",
    "# Now you have a mask tensor that you can use later in your processing to ignore padded values\n",
    "# For example, if you want to apply max pooling only on non-padded values, you could use:\n",
    "# review_embeddings = torch.max(padded_reviews * mask.unsqueeze(-1).float(), dim=1)[0]\n",
    "\n",
    "# Ensure the mask is treated as a float for any operations that require it\n",
    "mask = mask.float()\n",
    "\n",
    "# Now you can use this mask tensor to exclude the padding from any subsequent computations\n",
    "\n",
    "printv(f'{words_in} words found with vector representations, {words_out} without')\n",
    "printv(f'Number of unique words without vector representations: {len(out_words)}')\n",
    "printd('Sample of words without vector representations')\n",
    "kwords = list(out_words.keys())\n",
    "for idx in range(0,len(kwords)-1,100):\n",
    "    kword = kwords[idx]\n",
    "    printd(f'{kword} - {out_words[kword]}')\n",
    "# Apply max pooling to aggregate embeddings along the sequence dimension\n",
    "# review_embeddings = torch.max(padded_reviews, dim=1)[0]\n",
    "\n",
    "# Now,review_embeddings contains the aggregated Word2Vec \n",
    "# embeddings for each review on the GPU\n",
    "\n",
    "showC(f\"Created zero-padded, standard length reviews\")"
   ]
  },
  {
   "cell_type": "code",
   "execution_count": 15,
   "id": "205b07af",
   "metadata": {
    "execution": {
     "iopub.execute_input": "2024-04-14T06:58:35.436945Z",
     "iopub.status.busy": "2024-04-14T06:58:35.436634Z",
     "iopub.status.idle": "2024-04-14T06:58:35.482744Z",
     "shell.execute_reply": "2024-04-14T06:58:35.481578Z"
    },
    "papermill": {
     "duration": 0.060131,
     "end_time": "2024-04-14T06:58:35.484874",
     "exception": false,
     "start_time": "2024-04-14T06:58:35.424743",
     "status": "completed"
    },
    "tags": []
   },
   "outputs": [
    {
     "name": "stdout",
     "output_type": "stream",
     "text": [
      "tensor([[ 0.0801,  0.1050,  0.0498,  ...,  0.0037,  0.0476, -0.0688],\n",
      "        [-0.0962, -0.0376, -0.3340,  ..., -0.0859, -0.2656, -0.1006],\n",
      "        [ 0.1260,  0.1279,  0.1963,  ..., -0.1484,  0.1904, -0.0391],\n",
      "        ...,\n",
      "        [ 0.0000,  0.0000,  0.0000,  ...,  0.0000,  0.0000,  0.0000],\n",
      "        [ 0.0000,  0.0000,  0.0000,  ...,  0.0000,  0.0000,  0.0000],\n",
      "        [ 0.0000,  0.0000,  0.0000,  ...,  0.0000,  0.0000,  0.0000]])\n"
     ]
    }
   ],
   "source": [
    "print(padded_reviews[1])"
   ]
  },
  {
   "cell_type": "code",
   "execution_count": 16,
   "id": "a20e7d2f",
   "metadata": {
    "execution": {
     "iopub.execute_input": "2024-04-14T06:58:35.507613Z",
     "iopub.status.busy": "2024-04-14T06:58:35.507300Z",
     "iopub.status.idle": "2024-04-14T06:58:36.200541Z",
     "shell.execute_reply": "2024-04-14T06:58:36.199561Z"
    },
    "papermill": {
     "duration": 0.707558,
     "end_time": "2024-04-14T06:58:36.203110",
     "exception": false,
     "start_time": "2024-04-14T06:58:35.495552",
     "status": "completed"
    },
    "tags": []
   },
   "outputs": [
    {
     "name": "stdout",
     "output_type": "stream",
     "text": [
      "Cell complete: <torch.utils.data.dataset.TensorDataset object at 0x7efaf75e89d0> defined\n",
      "Total allocated memory: 2400080384 bytes\n",
      "Sun Apr 14 06:58:36 2024       \n",
      "+---------------------------------------------------------------------------------------+\n",
      "| NVIDIA-SMI 535.129.03             Driver Version: 535.129.03   CUDA Version: 12.2     |\n",
      "|-----------------------------------------+----------------------+----------------------+\n",
      "| GPU  Name                 Persistence-M | Bus-Id        Disp.A | Volatile Uncorr. ECC |\n",
      "| Fan  Temp   Perf          Pwr:Usage/Cap |         Memory-Usage | GPU-Util  Compute M. |\n",
      "|                                         |                      |               MIG M. |\n",
      "|=========================================+======================+======================|\n",
      "|   0  Tesla P100-PCIE-16GB           Off | 00000000:00:04.0 Off |                    0 |\n",
      "| N/A   38C    P0              32W / 250W |   2548MiB / 16384MiB |     34%      Default |\n",
      "|                                         |                      |                  N/A |\n",
      "+-----------------------------------------+----------------------+----------------------+\n",
      "                                                                                         \n",
      "+---------------------------------------------------------------------------------------+\n",
      "| Processes:                                                                            |\n",
      "|  GPU   GI   CI        PID   Type   Process name                            GPU Memory |\n",
      "|        ID   ID                                                             Usage      |\n",
      "|=======================================================================================|\n",
      "+---------------------------------------------------------------------------------------+\n",
      "\n",
      "\n",
      "\n",
      "\n",
      "\n",
      "\n",
      "\n",
      "\n",
      "\n",
      "\n",
      "\n",
      "\n",
      "|===========================================================================|\n",
      "|                  PyTorch CUDA memory summary, device ID 0                 |\n",
      "|---------------------------------------------------------------------------|\n",
      "|            CUDA OOMs: 0            |        cudaMalloc retries: 0         |\n",
      "|===========================================================================|\n",
      "|        Metric         | Cur Usage  | Peak Usage | Tot Alloc  | Tot Freed  |\n",
      "|---------------------------------------------------------------------------|\n",
      "| Allocated memory      |   2288 MiB |   2288 MiB |   2288 MiB |      0 B   |\n",
      "|       from large pool |   2288 MiB |   2288 MiB |   2288 MiB |      0 B   |\n",
      "|       from small pool |      0 MiB |      0 MiB |      0 MiB |      0 B   |\n",
      "|---------------------------------------------------------------------------|\n",
      "| Active memory         |   2288 MiB |   2288 MiB |   2288 MiB |      0 B   |\n",
      "|       from large pool |   2288 MiB |   2288 MiB |   2288 MiB |      0 B   |\n",
      "|       from small pool |      0 MiB |      0 MiB |      0 MiB |      0 B   |\n",
      "|---------------------------------------------------------------------------|\n",
      "| Requested memory      |   2288 MiB |   2288 MiB |   2288 MiB |      0 B   |\n",
      "|       from large pool |   2288 MiB |   2288 MiB |   2288 MiB |      0 B   |\n",
      "|       from small pool |      0 MiB |      0 MiB |      0 MiB |      0 B   |\n",
      "|---------------------------------------------------------------------------|\n",
      "| GPU reserved memory   |   2292 MiB |   2292 MiB |   2292 MiB |      0 B   |\n",
      "|       from large pool |   2290 MiB |   2290 MiB |   2290 MiB |      0 B   |\n",
      "|       from small pool |      2 MiB |      2 MiB |      2 MiB |      0 B   |\n",
      "|---------------------------------------------------------------------------|\n",
      "| Non-releasable memory |   3179 KiB |   3179 KiB |   3179 KiB |      0 B   |\n",
      "|       from large pool |   1210 KiB |   1210 KiB |   1210 KiB |      0 B   |\n",
      "|       from small pool |   1969 KiB |   1969 KiB |   1969 KiB |      0 B   |\n",
      "|---------------------------------------------------------------------------|\n",
      "| Allocations           |       2    |       2    |       2    |       0    |\n",
      "|       from large pool |       1    |       1    |       1    |       0    |\n",
      "|       from small pool |       1    |       1    |       1    |       0    |\n",
      "|---------------------------------------------------------------------------|\n",
      "| Active allocs         |       2    |       2    |       2    |       0    |\n",
      "|       from large pool |       1    |       1    |       1    |       0    |\n",
      "|       from small pool |       1    |       1    |       1    |       0    |\n",
      "|---------------------------------------------------------------------------|\n",
      "| GPU reserved segments |       2    |       2    |       2    |       0    |\n",
      "|       from large pool |       1    |       1    |       1    |       0    |\n",
      "|       from small pool |       1    |       1    |       1    |       0    |\n",
      "|---------------------------------------------------------------------------|\n",
      "| Non-releasable allocs |       2    |       2    |       2    |       0    |\n",
      "|       from large pool |       1    |       1    |       1    |       0    |\n",
      "|       from small pool |       1    |       1    |       1    |       0    |\n",
      "|---------------------------------------------------------------------------|\n",
      "| Oversize allocations  |       0    |       0    |       0    |       0    |\n",
      "|---------------------------------------------------------------------------|\n",
      "| Oversize GPU segments |       0    |       0    |       0    |       0    |\n",
      "|===========================================================================|\n",
      "\n"
     ]
    }
   ],
   "source": [
    "#>> padded_reviews are 100 x 300 tensors, zero padded if necessary\n",
    "#>> to get the standard lenth\n",
    "text_embeddings_tensors = padded_reviews.to(device)\n",
    "\n",
    "# Rating labels\n",
    "rating_labels_tensors = torch.tensor(rating.values).to(device)\n",
    "\n",
    "# Dataset\n",
    "dataset = TensorDataset(text_embeddings_tensors, rating_labels_tensors)\n",
    "showC(f'{dataset} defined')\n",
    "\n",
    "printM() # print(f\"Total allocated memory: {torch.cuda.memory_allocated()} bytes\")\n",
    "printNv() #!nvidia-smi\n",
    "print('\\n\\n\\n\\n\\n\\n\\n\\n\\n\\n')\n",
    "if accelerator and showNv:\n",
    "    print(torch.cuda.memory_summary())"
   ]
  },
  {
   "cell_type": "markdown",
   "id": "73aac8bc",
   "metadata": {
    "papermill": {
     "duration": 0.010978,
     "end_time": "2024-04-14T06:58:36.225729",
     "exception": false,
     "start_time": "2024-04-14T06:58:36.214751",
     "status": "completed"
    },
    "tags": []
   },
   "source": [
    "Dataset with missing reviews - done\n",
    "\n",
    "Improved tokenizer - done\n",
    "\n",
    "Mask 0-padded values in embedding tensor - done \n",
    "\n",
    "Max sequence of 1300. Max length of 500?\n",
    "\n",
    "Encoder dropout to 0\n",
    "\n",
    "Review token histogram for sequence length - done "
   ]
  },
  {
   "cell_type": "code",
   "execution_count": 17,
   "id": "4a10deb6",
   "metadata": {
    "execution": {
     "iopub.execute_input": "2024-04-14T06:58:36.249555Z",
     "iopub.status.busy": "2024-04-14T06:58:36.248891Z",
     "iopub.status.idle": "2024-04-14T06:58:36.776930Z",
     "shell.execute_reply": "2024-04-14T06:58:36.775729Z"
    },
    "papermill": {
     "duration": 0.542334,
     "end_time": "2024-04-14T06:58:36.779346",
     "exception": false,
     "start_time": "2024-04-14T06:58:36.237012",
     "status": "completed"
    },
    "tags": []
   },
   "outputs": [
    {
     "name": "stdout",
     "output_type": "stream",
     "text": [
      "Cell complete: <torch.utils.data.dataset.TensorDataset object at 0x7efaf75ea4d0> defined\n"
     ]
    }
   ],
   "source": [
    "#>> padded_reviews are 100 x 300 tensors, zero padded if necessary\n",
    "#>> to get the standard lenth\n",
    "text_embeddings_tensors = padded_reviews.to(device)\n",
    "\n",
    "# Rating labels\n",
    "rating_labels_tensors = torch.tensor(rating.values).to(device)\n",
    "\n",
    "# Dataset\n",
    "dataset = TensorDataset(text_embeddings_tensors, rating_labels_tensors)\n",
    "showC(f'{dataset} defined')"
   ]
  },
  {
   "cell_type": "code",
   "execution_count": 18,
   "id": "51e089fc",
   "metadata": {
    "execution": {
     "iopub.execute_input": "2024-04-14T06:58:36.803703Z",
     "iopub.status.busy": "2024-04-14T06:58:36.803342Z",
     "iopub.status.idle": "2024-04-14T06:58:36.808927Z",
     "shell.execute_reply": "2024-04-14T06:58:36.807985Z"
    },
    "papermill": {
     "duration": 0.019901,
     "end_time": "2024-04-14T06:58:36.810973",
     "exception": false,
     "start_time": "2024-04-14T06:58:36.791072",
     "status": "completed"
    },
    "tags": []
   },
   "outputs": [
    {
     "name": "stdout",
     "output_type": "stream",
     "text": [
      "torch.Size([10000, 200, 300])\n",
      "torch.Size([10000])\n",
      "cuda:0\n",
      "cuda:0\n",
      "<torch.utils.data.dataset.TensorDataset object at 0x7efaf75ea4d0>\n"
     ]
    }
   ],
   "source": [
    "print(text_embeddings_tensors.shape)\n",
    "print(rating_labels_tensors.shape)\n",
    "print(text_embeddings_tensors.device)\n",
    "print(rating_labels_tensors.device)\n",
    "print(dataset)"
   ]
  },
  {
   "cell_type": "code",
   "execution_count": 19,
   "id": "b7c1e0c6",
   "metadata": {
    "execution": {
     "iopub.execute_input": "2024-04-14T06:58:36.834343Z",
     "iopub.status.busy": "2024-04-14T06:58:36.834056Z",
     "iopub.status.idle": "2024-04-14T06:58:36.842632Z",
     "shell.execute_reply": "2024-04-14T06:58:36.841739Z"
    },
    "papermill": {
     "duration": 0.022172,
     "end_time": "2024-04-14T06:58:36.844495",
     "exception": false,
     "start_time": "2024-04-14T06:58:36.822323",
     "status": "completed"
    },
    "tags": []
   },
   "outputs": [
    {
     "name": "stdout",
     "output_type": "stream",
     "text": [
      "VERBOSE: The amount of data we have to train with is 8000 reviews\n",
      "VERBOSE: The amount of data we have to validate with is 2000 reviews\n"
     ]
    }
   ],
   "source": [
    "# Lengths \n",
    "train_len = int(0.8 * len(dataset))\n",
    "val_len = len(dataset) - train_len\n",
    "\n",
    "# Random split\n",
    "train_data, val_data = random_split(dataset, [train_len, val_len])\n",
    "\n",
    "printv(f\"The amount of data we have to train with is {len(train_data)} reviews\") \n",
    "printv(f\"The amount of data we have to validate with is {len(val_data)} reviews\")\n",
    "#print(f\"The amount of data we have to validate with is on {train_data.device}\")\n",
    "#print(f\"The amount of data we have to validate with is on {val_data.device}\")\n",
    "\n",
    "# DataLoader for training data\n",
    "train_loader = DataLoader(train_data, batch_size = 32, shuffle = True)  # Use shuffle for training\n",
    "\n",
    "# DataLoader for validation data\n",
    "val_loader = DataLoader(val_data, batch_size = 32, shuffle = False)  # No need to shuffle for validation"
   ]
  },
  {
   "cell_type": "code",
   "execution_count": 20,
   "id": "a3e7a40b",
   "metadata": {
    "execution": {
     "iopub.execute_input": "2024-04-14T06:58:36.868273Z",
     "iopub.status.busy": "2024-04-14T06:58:36.868025Z",
     "iopub.status.idle": "2024-04-14T06:58:36.873479Z",
     "shell.execute_reply": "2024-04-14T06:58:36.872595Z"
    },
    "papermill": {
     "duration": 0.02035,
     "end_time": "2024-04-14T06:58:36.875755",
     "exception": false,
     "start_time": "2024-04-14T06:58:36.855405",
     "status": "completed"
    },
    "tags": []
   },
   "outputs": [
    {
     "name": "stdout",
     "output_type": "stream",
     "text": [
      "Cell complete: Hyperparameters defined\n"
     ]
    }
   ],
   "source": [
    "# HyperParameters for the module\n",
    "d_model = 300  # Should match the embedding dimension of your word embeddings\n",
    "seq_len = max_sequence_length #<< 4/13/24 100  # Maximum sequence length\n",
    "dropout = 0.1  # Adjust the dropout if needed\n",
    "\n",
    "eps     = 1e-6 # epsilon value to prevent the standard deviation from becoming zero\n",
    "num_classes = 5  # Replace with your number of classes\n",
    "epochs = 1000\n",
    "learning_rate = 0.01\n",
    "num_layers = 6\n",
    "\n",
    "input_size = d_model  # Adjust this based on the output size of your feed-forward network\n",
    "# input_size = len(train_data[0])  # Adjust based on your input size (should match the output size of your model)\n",
    "showC('Hyperparameters defined')"
   ]
  },
  {
   "cell_type": "code",
   "execution_count": 21,
   "id": "b53379a1",
   "metadata": {
    "execution": {
     "iopub.execute_input": "2024-04-14T06:58:36.900488Z",
     "iopub.status.busy": "2024-04-14T06:58:36.899901Z",
     "iopub.status.idle": "2024-04-14T06:58:36.915595Z",
     "shell.execute_reply": "2024-04-14T06:58:36.914604Z"
    },
    "papermill": {
     "duration": 0.030469,
     "end_time": "2024-04-14T06:58:36.917658",
     "exception": false,
     "start_time": "2024-04-14T06:58:36.887189",
     "status": "completed"
    },
    "tags": []
   },
   "outputs": [
    {
     "name": "stdout",
     "output_type": "stream",
     "text": [
      "Cell complete: <class '__main__.Classifier'> defined\n"
     ]
    }
   ],
   "source": [
    "class Classifier(nn.Module):\n",
    "    def __init__(self, r_size,v_size, num_classes):\n",
    "        # r_size is the number of tokens in a review, 100.\n",
    "        # v_size is the number of values in an embedding vector, 300.\n",
    "        super(Classifier, self).__init__()\n",
    "        \n",
    "        # The input to fc will be a 2D tensor with with n rows and\n",
    "        # r_size * v_size columns, where n >= 1; and the output will be a 2D tensor\n",
    "        # with n rows and num_classes columns.\n",
    "        self.fc = nn.Linear(r_size * v_size, num_classes)\n",
    "\n",
    "    def forward(self, x1):\n",
    "        # Pass input through the linear layer\n",
    "        return self.fc(x1)\n",
    "\n",
    "# Create the classifier\n",
    "classifier = Classifier(seq_len, d_model, num_classes + 1).to(device)\n",
    "\n",
    "showC(f'{Classifier} defined')"
   ]
  },
  {
   "cell_type": "code",
   "execution_count": 22,
   "id": "91b45134",
   "metadata": {
    "execution": {
     "iopub.execute_input": "2024-04-14T06:58:36.942347Z",
     "iopub.status.busy": "2024-04-14T06:58:36.942074Z",
     "iopub.status.idle": "2024-04-14T07:03:32.948950Z",
     "shell.execute_reply": "2024-04-14T07:03:32.947872Z"
    },
    "papermill": {
     "duration": 296.036427,
     "end_time": "2024-04-14T07:03:32.965422",
     "exception": false,
     "start_time": "2024-04-14T06:58:36.928995",
     "status": "completed"
    },
    "tags": []
   },
   "outputs": [
    {
     "name": "stdout",
     "output_type": "stream",
     "text": [
      "VERBOSE: Epoch [1/1000] Loss: 1.6170984506607056\n",
      "VERBOSE: Epoch [51/1000] Loss: 0.4104320704936981\n",
      "VERBOSE: Epoch [101/1000] Loss: 0.2236892729997635\n",
      "VERBOSE: Epoch [151/1000] Loss: 0.1964653581380844\n",
      "VERBOSE: Epoch [201/1000] Loss: 0.10566337406635284\n",
      "VERBOSE: Epoch [251/1000] Loss: 0.09553041309118271\n",
      "VERBOSE: Epoch [301/1000] Loss: 0.07720506936311722\n",
      "VERBOSE: Epoch [351/1000] Loss: 0.06993035972118378\n",
      "VERBOSE: Epoch [401/1000] Loss: 0.044630248099565506\n",
      "VERBOSE: Epoch [451/1000] Loss: 0.041502006351947784\n",
      "VERBOSE: Epoch [501/1000] Loss: 0.05874370038509369\n",
      "VERBOSE: Epoch [551/1000] Loss: 0.031212426722049713\n",
      "VERBOSE: Epoch [601/1000] Loss: 0.029408512637019157\n",
      "VERBOSE: Epoch [651/1000] Loss: 0.036788903176784515\n",
      "VERBOSE: Epoch [701/1000] Loss: 0.025317085906863213\n",
      "VERBOSE: Epoch [751/1000] Loss: 0.019377728924155235\n",
      "VERBOSE: Epoch [801/1000] Loss: 0.030220456421375275\n",
      "VERBOSE: Epoch [851/1000] Loss: 0.03258536010980606\n",
      "VERBOSE: Epoch [901/1000] Loss: 0.02128232829272747\n",
      "VERBOSE: Epoch [951/1000] Loss: 0.016476891934871674\n",
      "VERBOSE: Last loss: Epoch [1000/1000] Loss: 0.02332126535475254\n",
      "VERBOSE: Smallest losses\n",
      "VERBOSE:     Loss: 0.01305906381458044, epoch = 976\n",
      "VERBOSE:     Loss: 0.013523166999220848, epoch = 824\n",
      "VERBOSE:     Loss: 0.014367303811013699, epoch = 967\n",
      "VERBOSE:     Loss: 0.015205868519842625, epoch = 973\n",
      "VERBOSE:     Loss: 0.015308092348277569, epoch = 789\n",
      "VERBOSE:     Loss: 0.015426171012222767, epoch = 922\n",
      "VERBOSE:     Loss: 0.01590365171432495, epoch = 870\n",
      "VERBOSE:     Loss: 0.015994377434253693, epoch = 952\n",
      "VERBOSE:     Loss: 0.01624441146850586, epoch = 998\n",
      "VERBOSE:     Loss: 0.016476891934871674, epoch = 951\n",
      "Cell complete: training complete\n"
     ]
    }
   ],
   "source": [
    "# Define Cross-Entropy loss\n",
    "criterion = nn.CrossEntropyLoss() # nn.CategoricalCrossentropy() #nn.Softmax() \n",
    "\n",
    "# Define SGD optimizer\n",
    "# Is Adam better?\n",
    "optimizer = optim.SGD(classifier.parameters(), lr=learning_rate)\n",
    "\n",
    "DEV = True\n",
    "# Training loop (adjust this to match your data and DataLoader)\n",
    "losses = {} #<< track losses\n",
    "for epoch in range(epochs):\n",
    "    for inputs, targets in train_loader :  # Assuming you have a DataLoader\n",
    "        # for batch_data in train_loader:  # Assuming you have a DataLoader\n",
    "        # inputs, targets = batch_data  # Assuming your DataLoader provides input data and targets    \n",
    "    \n",
    "        #printd(f'inputs shape: {inputs.shape}')\n",
    "        #printd(f'targets shape: {targets.shape}')\n",
    "        #printd(f'targets: {targets}')\n",
    "\n",
    "        optimizer.zero_grad()\n",
    "    \n",
    "        # keep nn.linear happy by combining the last two dimensions of inputs.\n",
    "        inputs = torch.reshape(inputs, (inputs.size(0), -1)) # get current batch size\n",
    "        #inputs = torch.reshape(inputs, (32,30000))\n",
    "        \n",
    "        #printd(f'Reshaped inputs: {inputs.shape}')\n",
    "        \n",
    "        outputs = classifier(inputs)\n",
    "        #printd(f'outputs shape {outputs.shape}')\n",
    "        \n",
    "        # output is a 32 x 6 tensor of floats,\n",
    "        # targets will be a 32 x 1 tensor of ints\n",
    "        loss = criterion(outputs, targets)\n",
    "        # print(f'loss.item: {loss.item()}')\n",
    "        loss.backward(retain_graph=True)\n",
    "        optimizer.step()\n",
    "     \n",
    "    \n",
    "    losses[loss.item()] = epoch+1\n",
    "    if epoch % 50 == 0:\n",
    "        printv(f'Epoch [{epoch+1}/{epochs}] Loss: {loss.item()}')\n",
    " \n",
    "if VERBOSE:\n",
    "    printv(f'Last loss: Epoch [{epoch+1}/{epochs}] Loss: {loss.item()}')\n",
    "    smallest_losses = sorted(list(losses.keys()))\n",
    "    printv('Smallest losses')\n",
    "    for idx in range(10):\n",
    "        l = smallest_losses[idx]\n",
    "        printv(f'    Loss: {l}, epoch = {losses[l]}')\n",
    "showC(f'training complete')"
   ]
  },
  {
   "cell_type": "code",
   "execution_count": 23,
   "id": "13dd01d7",
   "metadata": {
    "execution": {
     "iopub.execute_input": "2024-04-14T07:03:32.996227Z",
     "iopub.status.busy": "2024-04-14T07:03:32.995508Z",
     "iopub.status.idle": "2024-04-14T07:03:33.095760Z",
     "shell.execute_reply": "2024-04-14T07:03:33.094622Z"
    },
    "papermill": {
     "duration": 0.118348,
     "end_time": "2024-04-14T07:03:33.098194",
     "exception": false,
     "start_time": "2024-04-14T07:03:32.979846",
     "status": "completed"
    },
    "tags": []
   },
   "outputs": [
    {
     "name": "stdout",
     "output_type": "stream",
     "text": [
      "VERBOSE: Categrory 1 predictions actual results: 1. 184; 2. 98; 3. 46; 4. 41; 5. 45\n",
      "VERBOSE: Categrory 2 predictions actual results: 1. 98; 2. 143; 3. 66; 4. 50; 5. 37\n",
      "VERBOSE: Categrory 3 predictions actual results: 1. 69; 2. 88; 3. 112; 4. 76; 5. 67\n",
      "VERBOSE: Categrory 4 predictions actual results: 1. 41; 2. 54; 3. 93; 4. 110; 5. 100\n",
      "VERBOSE: Categrory 5 predictions actual results: 1. 28; 2. 39; 3. 41; 4. 93; 5. 181\n",
      "Validation Accuracy: 0.36\n"
     ]
    }
   ],
   "source": [
    "# Put model in evaluation mode\n",
    "classifier.eval() \n",
    "\n",
    "# Tracking variables\n",
    "predictions = []\n",
    "actuals = []\n",
    "\n",
    "\n",
    "# Evaluate on validation set\n",
    "with torch.no_grad():\n",
    "    for inputs, targets in val_loader:\n",
    "        inputs = inputs.reshape(inputs.shape[0], -1)\n",
    "\n",
    "        outputs = classifier(inputs)\n",
    "        _, predicted = torch.max(outputs, 1)\n",
    "\n",
    "        predictions.extend(predicted.tolist())\n",
    "        actuals.extend(targets.tolist())\n",
    "\n",
    "\n",
    "# Print predicted and actual values for all samples\n",
    "#>> print(\"Predicted | Actual\")\n",
    "#>>for pred, actual in zip(predictions, actuals):\n",
    "#>>    pass #printd(f\"{pred} | {actual}\")\n",
    "\n",
    "# Calculate validation accuracy\n",
    "#>> 4/12/24 Maybe it would help to see how close we came in each category?\n",
    "#>> For example, for category 5 predictions, show the actual results in each \n",
    "#>> category. And where's there's a large disrepancy, show  the reviews.\n",
    "r_by_category = [0,0,0,0,0]\n",
    "r = list('12345')\n",
    "\n",
    "for idx in range(5):\n",
    "    r[idx] = r_by_category[:]\n",
    "       \n",
    "for p,a in zip(predictions, actuals):\n",
    "    r[p-1][a-1] += 1 # Record the actual results for each category prediction\n",
    "\n",
    "num_correct = 0\n",
    "for idx in range (5):\n",
    "    printv(f'Categrory {idx+1} predictions actual results: ' +\\\n",
    "           f'1. {r[idx][0]}; 2. {r[idx][1]}; 3. {r[idx][2]}; 4. {r[idx][3]}; 5. {r[idx][4]}')\n",
    "    num_correct += r[idx][idx]\n",
    "# num_correct = sum([p == a for p, a in zip(predictions, actuals)]) \n",
    "val_accuracy = num_correct / len(predictions)\n",
    "print(f'Validation Accuracy: {val_accuracy:.2f}')"
   ]
  }
 ],
 "metadata": {
  "kaggle": {
   "accelerator": "gpu",
   "dataSources": [
    {
     "datasetId": 6763,
     "sourceId": 9801,
     "sourceType": "datasetVersion"
    },
    {
     "datasetId": 1461623,
     "sourceId": 2415872,
     "sourceType": "datasetVersion"
    }
   ],
   "dockerImageVersionId": 30683,
   "isGpuEnabled": true,
   "isInternetEnabled": true,
   "language": "python",
   "sourceType": "notebook"
  },
  "kernelspec": {
   "display_name": "Python 3",
   "language": "python",
   "name": "python3"
  },
  "language_info": {
   "codemirror_mode": {
    "name": "ipython",
    "version": 3
   },
   "file_extension": ".py",
   "mimetype": "text/x-python",
   "name": "python",
   "nbconvert_exporter": "python",
   "pygments_lexer": "ipython3",
   "version": "3.10.13"
  },
  "papermill": {
   "default_parameters": {},
   "duration": 646.592519,
   "end_time": "2024-04-14T07:03:36.555484",
   "environment_variables": {},
   "exception": null,
   "input_path": "__notebook__.ipynb",
   "output_path": "__notebook__.ipynb",
   "parameters": {},
   "start_time": "2024-04-14T06:52:49.962965",
   "version": "2.5.0"
  }
 },
 "nbformat": 4,
 "nbformat_minor": 5
}
